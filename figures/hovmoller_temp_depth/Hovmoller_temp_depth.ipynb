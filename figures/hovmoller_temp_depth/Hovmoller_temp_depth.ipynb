{
 "cells": [
  {
   "cell_type": "code",
   "execution_count": 1,
   "metadata": {},
   "outputs": [
    {
     "name": "stdout",
     "output_type": "stream",
     "text": [
      "netcdf_index loaded.\n"
     ]
    },
    {
     "name": "stderr",
     "output_type": "stream",
     "text": [
      "/home/157/amh157/.local/lib/python3.6/site-packages/cmocean/tools.py:76: MatplotlibDeprecationWarning: The is_string_like function was deprecated in version 2.1.\n",
      "  if not mpl.cbook.is_string_like(rgbin[0]):\n"
     ]
    },
    {
     "name": "stdout",
     "output_type": "stream",
     "text": [
      "Available exptdata keys:  ['1deg', '025deg', '01deg']\n"
     ]
    }
   ],
   "source": [
    "%matplotlib inline\n",
    "\n",
    "import cosima_cookbook as cc\n",
    "import matplotlib.pyplot as plt\n",
    "import xarray as xr\n",
    "import numpy as np\n",
    "import IPython.display\n",
    "import cmocean as cm\n",
    "\n",
    "import sys, os\n",
    "sys.path.append(os.path.join(os.getcwd(), '..'))  # so we can import ../exptdata\n",
    "import exptdata\n",
    "print('Available exptdata keys: ', [k for k in exptdata.exptdict.keys()])"
   ]
  },
  {
   "cell_type": "code",
   "execution_count": 2,
   "metadata": {},
   "outputs": [],
   "source": [
    "figdir = ''\n",
    "def savefigure(fname):\n",
    "    plt.savefig(os.path.join(figdir, fname+'.png'),dpi=300, bbox_inches=\"tight\")  # comment out to disable saving\n",
    "    plt.savefig(os.path.join(figdir, fname+'.pdf'),dpi=300, bbox_inches=\"tight\")  # comment out to disable saving\n",
    "    return"
   ]
  },
  {
   "cell_type": "code",
   "execution_count": 3,
   "metadata": {},
   "outputs": [
    {
     "name": "stdout",
     "output_type": "stream",
     "text": [
      "If the link to the dashboard below doesn't work, run this command on a local terminal to set up a SSH tunnel:\n",
      "\n",
      "  ssh -N -L 42221:127.0.0.1:42221 vdi-n1.nci.org.au -l amh157\n"
     ]
    },
    {
     "data": {
      "text/html": [
       "<table style=\"border: 2px solid white;\">\n",
       "<tr>\n",
       "<td style=\"vertical-align: top; border: 0px solid white\">\n",
       "<h3>Client</h3>\n",
       "<ul>\n",
       "  <li><b>Scheduler: </b>tcp://127.0.0.1:39821\n",
       "  <li><b>Dashboard: </b><a href='http://127.0.0.1:42221/status' target='_blank'>http://127.0.0.1:42221/status</a>\n",
       "</ul>\n",
       "</td>\n",
       "<td style=\"vertical-align: top; border: 0px solid white\">\n",
       "<h3>Cluster</h3>\n",
       "<ul>\n",
       "  <li><b>Workers: </b>4</li>\n",
       "  <li><b>Cores: </b>8</li>\n",
       "  <li><b>Memory: </b>24.00 GB</li>\n",
       "</ul>\n",
       "</td>\n",
       "</tr>\n",
       "</table>"
      ],
      "text/plain": [
       "<Client: scheduler='tcp://127.0.0.1:39821' processes=4 cores=8>"
      ]
     },
     "execution_count": 3,
     "metadata": {},
     "output_type": "execute_result"
    }
   ],
   "source": [
    "cc.start_cluster()"
   ]
  },
  {
   "cell_type": "code",
   "execution_count": 4,
   "metadata": {},
   "outputs": [],
   "source": [
    "ekey='1deg'\n",
    "expt = exptdata.exptdict[ekey]['expt']\n",
    "n_files = exptdata.exptdict[ekey]['n_files']\n",
    "time_units = exptdata.exptdict[ekey]['time_units']\n",
    "offset = exptdata.exptdict[ekey]['offset']\n",
    "temp = cc.get_nc_variable(expt, 'ocean.nc', 'temp',\n",
    "                        chunks={'st_ocean': None}, n=n_files,\n",
    "                        time_units=time_units, offset=offset)\n",
    "temp_WOA13 = cc.get_nc_variable('woa13/10', 'woa13_ts_??_mom10.nc', 'temp').mean('time').compute()\n",
    "#temp_WOA13 = cc.get_nc_variable('woa13/025', 'woa13_ts_??_mom025.nc', 'temp').mean('time').compute()\n",
    "temp_anom = temp - temp_WOA13.values - 273.15\n",
    "\n",
    "area_t = cc.get_nc_variable(expt,'ocean_grid.nc','area_t',n=1).mean('time')\n",
    "mask = temp.isel(time=0).copy()\n",
    "mask = mask/mask                 ## This seems pretty dodgy to me, but it works!!\n",
    "area = mask*area_t\n",
    "area_sum = area.sum('xt_ocean').sum('yt_ocean')\n",
    "\n",
    "var =area_t*temp_anom\n",
    "temp_hov = var.sum('xt_ocean').sum('yt_ocean').load()\n",
    "temp_hov_1deg = temp_hov/area_sum\n",
    "\n",
    "IPython.display.clear_output()"
   ]
  },
  {
   "cell_type": "code",
   "execution_count": 5,
   "metadata": {
    "scrolled": false
   },
   "outputs": [],
   "source": [
    "ekey='025deg'\n",
    "expt = exptdata.exptdict[ekey]['expt']\n",
    "n_files = exptdata.exptdict[ekey]['n_files']\n",
    "time_units = exptdata.exptdict[ekey]['time_units']\n",
    "offset = exptdata.exptdict[ekey]['offset']\n",
    "temp = cc.get_nc_variable(expt, 'ocean.nc', 'temp',\n",
    "                        chunks={'st_ocean': None}, n=n_files,\n",
    "                        time_units=time_units, offset=offset)\n",
    "temp_WOA13 = cc.get_nc_variable('woa13/025', 'woa13_ts_??_mom025.nc', 'temp').mean('time').compute()\n",
    "temp_anom = temp - temp_WOA13.values - 273.15\n",
    "\n",
    "area_t = cc.get_nc_variable(expt,'ocean_grid.nc','area_t',n=1).mean('time')\n",
    "mask = temp.isel(time=0).copy()\n",
    "mask = mask/mask                 ## This seems pretty dodgy to me, but it works!!\n",
    "area = mask*area_t\n",
    "area_sum = area.sum('xt_ocean').sum('yt_ocean')\n",
    "\n",
    "var =area_t*temp_anom\n",
    "temp_hov = var.sum('xt_ocean').sum('yt_ocean').load()\n",
    "temp_hov_025deg = temp_hov/area_sum\n",
    "\n",
    "IPython.display.clear_output()"
   ]
  },
  {
   "cell_type": "code",
   "execution_count": null,
   "metadata": {},
   "outputs": [
    {
     "name": "stdout",
     "output_type": "stream",
     "text": [
      "Using database sqlite:////g/data3/hh5/tmp/cosima/cosima-cookbook/cosima-cookbook.db\n"
     ]
    },
    {
     "data": {
      "application/vnd.jupyter.widget-view+json": {
       "model_id": "45a18a83efaa4efe8b66902102ed63e6",
       "version_major": 2,
       "version_minor": 0
      },
      "text/plain": [
       "HBox(children=(IntProgress(value=0, description='get_nc_variable:: ', max=50), HTML(value='')))"
      ]
     },
     "metadata": {},
     "output_type": "display_data"
    },
    {
     "name": "stdout",
     "output_type": "stream",
     "text": [
      "\r",
      "Using database sqlite:////g/data3/hh5/tmp/cosima/cosima-cookbook/cosima-cookbook.db\n"
     ]
    },
    {
     "data": {
      "application/vnd.jupyter.widget-view+json": {
       "model_id": "3c8b6486eef44c0ea5a64f922c773414",
       "version_major": 2,
       "version_minor": 0
      },
      "text/plain": [
       "HBox(children=(IntProgress(value=0, description='get_nc_variable:: ', max=12), HTML(value='')))"
      ]
     },
     "metadata": {},
     "output_type": "display_data"
    },
    {
     "name": "stdout",
     "output_type": "stream",
     "text": [
      "Using database sqlite:////g/data3/hh5/tmp/cosima/cosima-cookbook/cosima-cookbook.db\n"
     ]
    },
    {
     "data": {
      "application/vnd.jupyter.widget-view+json": {
       "model_id": "34f166f95f3c4a8bb28d4cb587c10625",
       "version_major": 2,
       "version_minor": 0
      },
      "text/plain": [
       "HBox(children=(IntProgress(value=0, description='get_nc_variable:: ', max=1), HTML(value='')))"
      ]
     },
     "metadata": {},
     "output_type": "display_data"
    },
    {
     "name": "stdout",
     "output_type": "stream",
     "text": [
      "\r"
     ]
    },
    {
     "name": "stderr",
     "output_type": "stream",
     "text": [
      "distributed.nanny - WARNING - Worker exceeded 95% memory budget.  Restarting\n",
      "distributed.nanny - WARNING - Worker process 23948 was killed by unknown signal\n",
      "distributed.nanny - WARNING - Restarting worker\n"
     ]
    }
   ],
   "source": [
    "ekey='01deg'\n",
    "expt = exptdata.exptdict[ekey]['expt']\n",
    "n_files = exptdata.exptdict[ekey]['n_files']\n",
    "time_units = exptdata.exptdict[ekey]['time_units']\n",
    "offset = exptdata.exptdict[ekey]['offset']\n",
    "temp = cc.get_nc_variable(expt, 'ocean.nc', 'temp',\n",
    "                        chunks={'st_ocean': None}, n=-50,\n",
    "                        time_units=time_units, offset=offset)\n",
    "temp_WOA13 = cc.get_nc_variable('woa13/01', 'woa13_ts_??_mom01.nc', 'temp').mean('time')\n",
    "temp_anom = temp - temp_WOA13.values - 273.15\n",
    "\n",
    "area_t = cc.get_nc_variable(expt,'ocean_grid.nc','area_t',n=1).mean('time')\n",
    "mask = temp.isel(time=0).copy()\n",
    "mask = mask/mask                 ## This seems pretty dodgy to me, but it works!!\n",
    "area = mask*area_t\n",
    "area_sum = area.sum('xt_ocean').sum('yt_ocean')\n",
    "\n",
    "var =area_t*temp_anom\n",
    "temp_hov = var.sum('xt_ocean').sum('yt_ocean').load()\n",
    "temp_hov_01deg = temp_hov/area_sum\n",
    "\n",
    "IPython.display.clear_output()"
   ]
  },
  {
   "cell_type": "code",
   "execution_count": 6,
   "metadata": {},
   "outputs": [
    {
     "data": {
      "image/png": "[encoded data removed]",
      "text/plain": [
       "<Figure size 1008x432 with 7 Axes>"
      ]
     },
     "metadata": {},
     "output_type": "display_data"
    }
   ],
   "source": [
    "fig,ax = plt.subplots(2,3,sharex=True,figsize=(14,6))\n",
    "plt.subplots_adjust(hspace=0)\n",
    "levs = np.arange(-2.5,2.5,0.1)\n",
    "\n",
    "# 1deg\n",
    "t_up = temp_hov_1deg.sel(st_ocean=slice(0,1000))\n",
    "t_lo = temp_hov_1deg.sel(st_ocean=slice(1000,6000))\n",
    "\n",
    "axx=ax[0,0]\n",
    "t_up.T.plot.contourf(ax=axx,levels=levs,cmap = cm.cm.balance,yincrease=False,add_colorbar=False)\n",
    "axx.set_ylabel('')\n",
    "axx.set_title('(a) ACCESS-OM2')\n",
    "axx=ax[1,0]\n",
    "p1=t_lo.T.plot.contourf(ax=axx,levels=levs,cmap = cm.cm.balance,yincrease=False,add_colorbar=False)\n",
    "axx.set_ylabel('Depth (m)')\n",
    "axx.set_xlabel('Year')\n",
    "\n",
    "# 025deg\n",
    "t_up = temp_hov_025deg.sel(st_ocean=slice(0,1000))\n",
    "t_lo = temp_hov_025deg.sel(st_ocean=slice(1000,6000))\n",
    "\n",
    "axx=ax[0,1]\n",
    "t_up.T.plot.contourf(ax=axx,levels=levs,cmap = cm.cm.balance,yincrease=False,add_colorbar=False)\n",
    "axx.set_ylabel('')\n",
    "axx.set_xlabel('')\n",
    "axx.set_title('(b) ACCESS-OM2-025')\n",
    "axx=ax[1,1]\n",
    "p1=t_lo.T.plot.contourf(ax=axx,levels=levs,cmap = cm.cm.balance,yincrease=False,add_colorbar=False)\n",
    "axx.set_ylabel('')\n",
    "axx.set_xlabel('Year')\n",
    "\n",
    "# 01deg\n",
    "#t_up = temp_hov_01deg.sel(st_ocean=slice(0,1000))\n",
    "#t_lo = temp_hov_01deg.sel(st_ocean=slice(1000,6000))\n",
    "\n",
    "axx=ax[0,2]\n",
    "#t_up.T.plot.contourf(ax=axx,levels=levs,cmap = cm.cm.balance,yincrease=False,add_colorbar=False)\n",
    "axx.set_ylabel('')\n",
    "axx.set_xlabel('')\n",
    "#plt.xlim([pd.datetime(1958,1,1),pd.datetime(2017,12,31)])\n",
    "axx.set_title('(c) ACCESS-OM2-01')\n",
    "axx=ax[1,2]\n",
    "#p1=t_lo.T.plot.contourf(ax=axx,levels=levs,cmap = cm.cm.balance,yincrease=False,add_colorbar=False)\n",
    "axx.set_ylabel('')\n",
    "axx.set_xlabel('Year')\n",
    "#plt.xlim([pd.datetime(1958,1,1),pd.datetime(2017,12,31)])\n",
    "\n",
    "ax1 = plt.axes([0.92,0.25,0.015,0.5])\n",
    "cb = plt.colorbar(p1,cax=ax1,orientation='vertical')\n",
    "ax1.xaxis.set_label_position(\"top\")\n",
    "cb.ax.set_xlabel('°C')\n",
    "\n",
    "savefigure('tz_hovmoller')"
   ]
  },
  {
   "cell_type": "code",
   "execution_count": null,
   "metadata": {},
   "outputs": [],
   "source": []
  }
 ],
 "metadata": {
  "kernelspec": {
   "display_name": "Python [conda env:analysis3-18.04]",
   "language": "python",
   "name": "conda-env-analysis3-18.04-py"
  },
  "language_info": {
   "codemirror_mode": {
    "name": "ipython",
    "version": 3
   },
   "file_extension": ".py",
   "mimetype": "text/x-python",
   "name": "python",
   "nbconvert_exporter": "python",
   "pygments_lexer": "ipython3",
   "version": "3.6.5"
  }
 },
 "nbformat": 4,
 "nbformat_minor": 2
}
