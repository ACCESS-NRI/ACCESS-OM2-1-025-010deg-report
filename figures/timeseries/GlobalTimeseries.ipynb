{
 "cells": [
  {
   "cell_type": "code",
   "execution_count": 1,
   "metadata": {},
   "outputs": [
    {
     "name": "stdout",
     "output_type": "stream",
     "text": [
      "netcdf_index loaded.\n",
      "Available exptdata keys:  ['1deg', '025deg', '01deg']\n"
     ]
    }
   ],
   "source": [
    "%matplotlib inline\n",
    "\n",
    "import cosima_cookbook as cc\n",
    "import matplotlib.pyplot as plt\n",
    "from mpl_toolkits.basemap import Basemap, shiftgrid\n",
    "import numpy as np\n",
    "import netCDF4 as nc\n",
    "import xarray as xr\n",
    "import cmocean as cm\n",
    "import cartopy\n",
    "import cartopy.crs as ccrs\n",
    "import pandas as pd\n",
    "import copy\n",
    "import math\n",
    "from collections import OrderedDict\n",
    "# import seaborn as sns\n",
    "\n",
    "from dask.distributed import Client\n",
    "\n",
    "import sys, os\n",
    "sys.path.append(os.path.join(os.getcwd(), '..'))  # so we can import ../exptdata\n",
    "import exptdata\n",
    "print('Available exptdata keys: ', [k for k in exptdata.exptdict.keys()])"
   ]
  },
  {
   "cell_type": "code",
   "execution_count": 2,
   "metadata": {},
   "outputs": [
    {
     "data": {
      "text/html": [
       "<table style=\"border: 2px solid white;\">\n",
       "<tr>\n",
       "<td style=\"vertical-align: top; border: 0px solid white\">\n",
       "<h3>Client</h3>\n",
       "<ul>\n",
       "  <li><b>Scheduler: </b>tcp://10.0.64.12:8786\n",
       "  <li><b>Dashboard: </b><a href='http://10.0.64.12:8787/status' target='_blank'>http://10.0.64.12:8787/status</a>\n",
       "</ul>\n",
       "</td>\n",
       "<td style=\"vertical-align: top; border: 0px solid white\">\n",
       "<h3>Cluster</h3>\n",
       "<ul>\n",
       "  <li><b>Workers: </b>6</li>\n",
       "  <li><b>Cores: </b>6</li>\n",
       "  <li><b>Memory: </b>24.00 GB</li>\n",
       "</ul>\n",
       "</td>\n",
       "</tr>\n",
       "</table>"
      ],
      "text/plain": [
       "<Client: scheduler='tcp://10.0.64.12:8786' processes=6 cores=6>"
      ]
     },
     "execution_count": 2,
     "metadata": {},
     "output_type": "execute_result"
    }
   ],
   "source": [
    "client=Client('tcp://10.0.64.12:8786', local_dir='/local/g40/amh157')\n",
    "client"
   ]
  },
  {
   "cell_type": "code",
   "execution_count": 3,
   "metadata": {},
   "outputs": [],
   "source": [
    "figdir = ''\n",
    "def savefigure(fname):\n",
    "    plt.savefig(os.path.join(figdir, fname+'.png'),dpi=300, bbox_inches=\"tight\")  # comment out to disable saving\n",
    "    plt.savefig(os.path.join(figdir, fname+'.pdf'),dpi=300, bbox_inches=\"tight\")  # comment out to disable saving\n",
    "    return"
   ]
  },
  {
   "cell_type": "code",
   "execution_count": 4,
   "metadata": {},
   "outputs": [],
   "source": [
    "def global_scalar(variable):\n",
    "    for ekey in exptdata.exptdict.keys():\n",
    "        expt = exptdata.exptdict[ekey]['expt']\n",
    "        time_units = exptdata.exptdict[ekey]['time_units']\n",
    "        offset = exptdata.exptdict[ekey]['offset']\n",
    "        darray = cc.get_nc_variable(expt,'ocean_scalar.nc',\n",
    "                                    variable,\n",
    "                                    time_units=time_units,offset=offset)\n",
    "        annual_average = darray.resample(time='A').mean()\n",
    "        annual_average.plot(label=exptdata.exptdict[ekey]['desc'])\n",
    "\n",
    "    plt.gca().autoscale()"
   ]
  },
  {
   "cell_type": "code",
   "execution_count": 5,
   "metadata": {},
   "outputs": [],
   "source": [
    "def add_cycles():\n",
    "    cycle_dates = [1718, 1778, 1838, 1898, 1958, 2018]\n",
    "    ylims=plt.gca().get_ylim()\n",
    "    for cd in cycle_dates:\n",
    "        plt.plot([pd.datetime(cd,1,1),pd.datetime(cd,1,1)],ylims,'k--',linewidth=0.8)\n",
    "    plt.gca().set_ylim(ylims)"
   ]
  },
  {
   "cell_type": "code",
   "execution_count": null,
   "metadata": {
    "scrolled": false
   },
   "outputs": [],
   "source": [
    "%%time\n",
    "plt.figure(figsize=(12,8))\n",
    "plt.subplot(221)\n",
    "global_scalar('temp_global_ave')\n",
    "add_cycles()\n",
    "\n",
    "plt.legend()\n",
    "plt.xlabel('')\n",
    "plt.gca().axes.xaxis.set_ticklabels([])\n",
    "plt.ylabel('Temp (°C)')\n",
    "plt.title('(a) Global average temperature')\n",
    "\n",
    "\n",
    "plt.subplot(222)\n",
    "global_scalar('temp_surface_ave')\n",
    "add_cycles()\n",
    "\n",
    "plt.xlabel('')\n",
    "plt.gca().axes.xaxis.set_ticklabels([])\n",
    "plt.ylabel('Temp (°C)')\n",
    "plt.title('(b) Global average surface temperature')\n",
    "\n",
    "plt.subplot(223)\n",
    "global_scalar('salt_surface_ave')\n",
    "add_cycles()\n",
    "\n",
    "plt.xlabel('')\n",
    "plt.gca().axes.xaxis.set_ticklabels([])\n",
    "plt.ylabel('Salinity (g/kg)')\n",
    "plt.title('(c) Global average surface salinity')\n",
    "\n",
    "#plt.subplot(223)\n",
    "#global_scalar('eta_global')\n",
    "#add_cycles()\n",
    "\n",
    "#plt.xlabel('Year')\n",
    "#plt.ylabel('SSH (m)')\n",
    "#plt.title('(c) Global average sea surface height')\n",
    "\n",
    "plt.subplot(224)\n",
    "global_scalar('ke_tot')\n",
    "add_cycles()\n",
    "\n",
    "plt.xlabel('Year')\n",
    "plt.ylabel('KE ($m^2/s^2$)')\n",
    "plt.title('(d) Global average kinetic energy')\n",
    "\n",
    "savefigure('GlobalTimeseries')"
   ]
  },
  {
   "cell_type": "markdown",
   "metadata": {},
   "source": [
    "### Other posible scalar timeseries metrics include:"
   ]
  },
  {
   "cell_type": "code",
   "execution_count": null,
   "metadata": {},
   "outputs": [],
   "source": [
    "global_scalar('temp_surface_ave')\n",
    "plt.legend()"
   ]
  },
  {
   "cell_type": "code",
   "execution_count": null,
   "metadata": {},
   "outputs": [],
   "source": [
    "global_scalar('pe_tot')\n",
    "plt.legend()"
   ]
  },
  {
   "cell_type": "code",
   "execution_count": null,
   "metadata": {},
   "outputs": [],
   "source": []
  }
 ],
 "metadata": {
  "kernelspec": {
   "display_name": "Python [conda env:analysis3-18.10]",
   "language": "python",
   "name": "conda-env-analysis3-18.10-py"
  },
  "language_info": {
   "codemirror_mode": {
    "name": "ipython",
    "version": 3
   },
   "file_extension": ".py",
   "mimetype": "text/x-python",
   "name": "python",
   "nbconvert_exporter": "python",
   "pygments_lexer": "ipython3",
   "version": "3.6.7"
  }
 },
 "nbformat": 4,
 "nbformat_minor": 2
}
