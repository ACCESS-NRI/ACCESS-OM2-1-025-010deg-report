{
 "cells": [
  {
   "cell_type": "markdown",
   "metadata": {
    "ein.tags": "worksheet-0",
    "slideshow": {
     "slide_type": "-"
    }
   },
   "source": [
    "# Calculate and plot meridional heat transport"
   ]
  },
  {
   "cell_type": "markdown",
   "metadata": {
    "ein.tags": "worksheet-0",
    "slideshow": {
     "slide_type": "-"
    }
   },
   "source": [
    "## Uses two methods because of diagnostics available:\n",
    "- From surface heat flux assuming steady state\n",
    "- From temp_yflux_adv diagnostic (so does not include submeso or gm/diffusion if they are on)"
   ]
  },
  {
   "cell_type": "code",
   "execution_count": 1,
   "metadata": {
    "autoscroll": false,
    "ein.tags": "worksheet-0",
    "slideshow": {
     "slide_type": "-"
    }
   },
   "outputs": [
    {
     "name": "stdout",
     "output_type": "stream",
     "text": [
      "netcdf_index loaded.\n",
      "Available exptdata keys:  ['1deg', '025deg', '01deg']\n"
     ]
    }
   ],
   "source": [
    "%matplotlib inline\n",
    "\n",
    "import cosima_cookbook as cc\n",
    "import matplotlib.pyplot as plt\n",
    "import matplotlib\n",
    "import xarray as xr\n",
    "import numpy as np\n",
    "import pandas as pd\n",
    "import IPython.display\n",
    "import cmocean as c\n",
    "from dask.distributed import Client\n",
    "\n",
    "\n",
    "import sys, os\n",
    "sys.path.append(os.path.join(os.getcwd(), '..'))  # so we can import ../exptdata\n",
    "import exptdata\n",
    "\n",
    "print('Available exptdata keys: ', [k for k in exptdata.exptdict.keys()])"
   ]
  },
  {
   "cell_type": "code",
   "execution_count": 2,
   "metadata": {
    "autoscroll": false,
    "ein.tags": "worksheet-0",
    "slideshow": {
     "slide_type": "-"
    }
   },
   "outputs": [],
   "source": [
    "# Set 1-degree data to be different for MHT diagnostics:\n",
    "exptdata.exptdict['1deg']['exptdir'] = '/g/data3/hh5/tmp/cosima/access-om2/1deg_jra55v13_iaf_spinup1_B1_lastcycle'\n",
    "exptdata.exptdict['1deg']['expt'] = '1deg_jra55v13_iaf_spinup1_B1_lastcycle'"
   ]
  },
  {
   "cell_type": "code",
   "execution_count": 3,
   "metadata": {
    "autoscroll": false,
    "ein.tags": "worksheet-0",
    "slideshow": {
     "slide_type": "-"
    }
   },
   "outputs": [],
   "source": [
    "figdir = ''\n",
    "def savefigure(fname):\n",
    "    plt.savefig(os.path.join(figdir, fname+'.png'),dpi=300, bbox_inches=\"tight\")  # comment out to disable saving\n",
    "    plt.savefig(os.path.join(figdir, fname+'.pdf'),dpi=300, bbox_inches=\"tight\")  # comment out to disable saving\n",
    "    return"
   ]
  },
  {
   "cell_type": "code",
   "execution_count": 4,
   "metadata": {
    "autoscroll": false,
    "ein.tags": "worksheet-0",
    "slideshow": {
     "slide_type": "-"
    }
   },
   "outputs": [
    {
     "name": "stdout",
     "output_type": "stream",
     "text": [
      "If the link to the dashboard below doesn't work, run this command on a local terminal to set up a SSH tunnel:\n",
      "\n",
      "  ssh -N -L 36612:127.0.0.1:36612 vdi-n19.nci.org.au -l rmh561\n"
     ]
    },
    {
     "data": {
      "text/plain": [
       "<Client: scheduler='tcp://127.0.0.1:42975' processes=4 cores=8>"
      ]
     },
     "execution_count": 4,
     "metadata": {},
     "output_type": "execute_result"
    }
   ],
   "source": [
    "cc.start_cluster()\n",
    "#client = Client('tcp://10.0.64.2:8786', local_dir='/local/e14/rmh561')\n",
    "#client"
   ]
  },
  {
   "cell_type": "code",
   "execution_count": 5,
   "metadata": {
    "autoscroll": false,
    "ein.tags": "worksheet-0",
    "slideshow": {
     "slide_type": "-"
    }
   },
   "outputs": [],
   "source": [
    "# use int_z MHT diagnostics:\n",
    "def find_MHF_intz(ekey):\n",
    "    expt = exptdata.exptdict[ekey]['expt']\n",
    "    n_files = exptdata.exptdict[ekey]['n_files']\n",
    "    # n_files = 1\n",
    "    time_units = exptdata.exptdict[ekey]['time_units']\n",
    "    offset = exptdata.exptdict[ekey]['offset']\n",
    "\n",
    "    temp_yflux_adv = cc.get_nc_variable(expt, 'ocean_month.nc', 'temp_yflux_adv_int_z',\n",
    "                                        n=n_files, time_units = time_units, offset=offset, use_cache=True)\n",
    "    temp_yflux_submeso = cc.get_nc_variable(expt, 'ocean_month.nc', 'temp_yflux_submeso_int_z',\n",
    "                                            n=n_files, time_units = time_units, offset=offset)\n",
    "    MHF = (temp_yflux_adv.mean('time').sum('xt_ocean')+temp_yflux_submeso.mean('time').sum('xt_ocean')).load()\n",
    "    if (ekey != '01deg'):\n",
    "        temp_yflux_gm = cc.get_nc_variable(expt, 'ocean_month.nc', 'temp_yflux_gm_int_z',\n",
    "                                           n=n_files, time_units = time_units, offset=offset)\n",
    "        temp_yflux_ndiffuse = cc.get_nc_variable(expt, 'ocean_month.nc', 'temp_yflux_ndiffuse_int_z',\n",
    "                                           n=n_files, time_units = time_units, offset=offset)\n",
    "        MHF = MHF + (temp_yflux_gm.mean('time').sum('xt_ocean')+temp_yflux_ndiffuse.mean('time').sum('xt_ocean')).load()\n",
    "\n",
    "    latv = cc.get_nc_variable(expt, 'ocean_grid.nc','yu_ocean',n=1).load()\n",
    "    return latv, MHF"
   ]
  },
  {
   "cell_type": "code",
   "execution_count": 6,
   "metadata": {
    "autoscroll": false,
    "ein.tags": "worksheet-0",
    "slideshow": {
     "slide_type": "-"
    }
   },
   "outputs": [
    {
     "data": {
      "text/plain": [
       "(-2, 2.5)"
      ]
     },
     "execution_count": 6,
     "metadata": {},
     "output_type": "execute_result"
    },
    {
     "data": {
      "image/png": "[encoded data removed]",
      "text/plain": [
       "<Figure size 432x288 with 1 Axes>"
      ]
     },
     "metadata": {},
     "output_type": "display_data"
    }
   ],
   "source": [
    "# Read in observed meridional heat transport from Trenberth and Caron (http://www.cgd.ucar.edu/cas/catalog/ocean/ohts/rean_ohts.html)\n",
    "df=pd.read_csv('ANNUAL_TRANSPORTS_1985_1989.ascii.txt', sep=' ',skiprows=1,skipinitialspace=True)\n",
    "obs_lat = df.values[:,0]/100.\n",
    "obs_ncep = df.values[:,6]/100.\n",
    "obs_ecmwf = df.values[:,14]/100.\n",
    "plt.plot(obs_lat,obs_ncep,'xk')\n",
    "plt.plot(obs_lat,obs_ecmwf,'ok')\n",
    "plt.ylim([-2, 2.5])\n",
    "\n",
    "# Read in observed MHT from Ganachaud and Wunsch 2000 (\n",
    "df=pd.read_csv('GW2000_GlobalMHT.txt', sep=' ',skiprows=0,skipinitialspace=True)\n",
    "obsGW2000_lat = df.values[:,0]\n",
    "obsGW2000_mht = df.values[:,1]\n",
    "obsGW2000_mhte = df.values[:,2]\n",
    "plt.errorbar(obsGW2000_lat,obsGW2000_mht,yerr=obsGW2000_mhte,fmt='dr',capsize=5)\n",
    "plt.ylim([-2, 2.5])"
   ]
  },
  {
   "cell_type": "code",
   "execution_count": 8,
   "metadata": {
    "autoscroll": false,
    "ein.tags": "worksheet-0",
    "slideshow": {
     "slide_type": "-"
    }
   },
   "outputs": [
    {
     "name": "stdout",
     "output_type": "stream",
     "text": [
      "Reading from cache file cache_get_nc_variable_1deg_jra55v13_iaf_spinup1_B1_lastcycle_ocean_month.nc_temp_yflux_adv_int_z_-12_days-since-1718-01-01_-87658_False.pkl\n",
      "Using database sqlite:////g/data3/hh5/tmp/cosima/cosima-cookbook/cosima-cookbook.db\n"
     ]
    },
    {
     "name": "stderr",
     "output_type": "stream",
     "text": [
      "ERROR:sqlalchemy.pool.StaticPool:Exception during reset or similar\n",
      "Traceback (most recent call last):\n",
      "  File \"/g/data3/hh5/public/apps/miniconda3/envs/analysis3-18.10/lib/python3.6/site-packages/sqlalchemy/pool.py\", line 709, in _finalize_fairy\n",
      "    fairy._reset(pool)\n",
      "  File \"/g/data3/hh5/public/apps/miniconda3/envs/analysis3-18.10/lib/python3.6/site-packages/sqlalchemy/pool.py\", line 880, in _reset\n",
      "    pool._dialect.do_rollback(self)\n",
      "  File \"/g/data3/hh5/public/apps/miniconda3/envs/analysis3-18.10/lib/python3.6/site-packages/sqlalchemy/engine/default.py\", line 459, in do_rollback\n",
      "    dbapi_connection.rollback()\n",
      "sqlite3.ProgrammingError: SQLite objects created in a thread can only be used in that same thread. The object was created in thread id 140011541133056 and this is thread id 140009829230336.\n",
      "ERROR:sqlalchemy.pool.StaticPool:Exception closing connection <sqlite3.Connection object at 0x7f567551a8f0>\n",
      "Traceback (most recent call last):\n",
      "  File \"/g/data3/hh5/public/apps/miniconda3/envs/analysis3-18.10/lib/python3.6/site-packages/sqlalchemy/pool.py\", line 709, in _finalize_fairy\n",
      "    fairy._reset(pool)\n",
      "  File \"/g/data3/hh5/public/apps/miniconda3/envs/analysis3-18.10/lib/python3.6/site-packages/sqlalchemy/pool.py\", line 880, in _reset\n",
      "    pool._dialect.do_rollback(self)\n",
      "  File \"/g/data3/hh5/public/apps/miniconda3/envs/analysis3-18.10/lib/python3.6/site-packages/sqlalchemy/engine/default.py\", line 459, in do_rollback\n",
      "    dbapi_connection.rollback()\n",
      "sqlite3.ProgrammingError: SQLite objects created in a thread can only be used in that same thread. The object was created in thread id 140011541133056 and this is thread id 140009829230336.\n",
      "\n",
      "During handling of the above exception, another exception occurred:\n",
      "\n",
      "Traceback (most recent call last):\n",
      "  File \"/g/data3/hh5/public/apps/miniconda3/envs/analysis3-18.10/lib/python3.6/site-packages/sqlalchemy/pool.py\", line 314, in _close_connection\n",
      "    self._dialect.do_close(connection)\n",
      "  File \"/g/data3/hh5/public/apps/miniconda3/envs/analysis3-18.10/lib/python3.6/site-packages/sqlalchemy/engine/default.py\", line 465, in do_close\n",
      "    dbapi_connection.close()\n",
      "sqlite3.ProgrammingError: SQLite objects created in a thread can only be used in that same thread. The object was created in thread id 140011541133056 and this is thread id 140009829230336.\n"
     ]
    },
    {
     "name": "stdout",
     "output_type": "stream",
     "text": [
      "Using database sqlite:////g/data3/hh5/tmp/cosima/cosima-cookbook/cosima-cookbook.db\n",
      "Using database sqlite:////g/data3/hh5/tmp/cosima/cosima-cookbook/cosima-cookbook.db\n",
      "Using database sqlite:////g/data3/hh5/tmp/cosima/cosima-cookbook/cosima-cookbook.db\n"
     ]
    },
    {
     "name": "stderr",
     "output_type": "stream",
     "text": [
      "ERROR:sqlalchemy.pool.StaticPool:Exception during reset or similar\n",
      "Traceback (most recent call last):\n",
      "  File \"/g/data3/hh5/public/apps/miniconda3/envs/analysis3-18.10/lib/python3.6/site-packages/sqlalchemy/pool.py\", line 709, in _finalize_fairy\n",
      "    fairy._reset(pool)\n",
      "  File \"/g/data3/hh5/public/apps/miniconda3/envs/analysis3-18.10/lib/python3.6/site-packages/sqlalchemy/pool.py\", line 880, in _reset\n",
      "    pool._dialect.do_rollback(self)\n",
      "  File \"/g/data3/hh5/public/apps/miniconda3/envs/analysis3-18.10/lib/python3.6/site-packages/sqlalchemy/engine/default.py\", line 459, in do_rollback\n",
      "    dbapi_connection.rollback()\n",
      "sqlite3.ProgrammingError: SQLite objects created in a thread can only be used in that same thread. The object was created in thread id 140011541133056 and this is thread id 140009829230336.\n",
      "ERROR:sqlalchemy.pool.StaticPool:Exception closing connection <sqlite3.Connection object at 0x7f566a5742d0>\n",
      "Traceback (most recent call last):\n",
      "  File \"/g/data3/hh5/public/apps/miniconda3/envs/analysis3-18.10/lib/python3.6/site-packages/sqlalchemy/pool.py\", line 709, in _finalize_fairy\n",
      "    fairy._reset(pool)\n",
      "  File \"/g/data3/hh5/public/apps/miniconda3/envs/analysis3-18.10/lib/python3.6/site-packages/sqlalchemy/pool.py\", line 880, in _reset\n",
      "    pool._dialect.do_rollback(self)\n",
      "  File \"/g/data3/hh5/public/apps/miniconda3/envs/analysis3-18.10/lib/python3.6/site-packages/sqlalchemy/engine/default.py\", line 459, in do_rollback\n",
      "    dbapi_connection.rollback()\n",
      "sqlite3.ProgrammingError: SQLite objects created in a thread can only be used in that same thread. The object was created in thread id 140011541133056 and this is thread id 140009829230336.\n",
      "\n",
      "During handling of the above exception, another exception occurred:\n",
      "\n",
      "Traceback (most recent call last):\n",
      "  File \"/g/data3/hh5/public/apps/miniconda3/envs/analysis3-18.10/lib/python3.6/site-packages/sqlalchemy/pool.py\", line 314, in _close_connection\n",
      "    self._dialect.do_close(connection)\n",
      "  File \"/g/data3/hh5/public/apps/miniconda3/envs/analysis3-18.10/lib/python3.6/site-packages/sqlalchemy/engine/default.py\", line 465, in do_close\n",
      "    dbapi_connection.close()\n",
      "sqlite3.ProgrammingError: SQLite objects created in a thread can only be used in that same thread. The object was created in thread id 140011541133056 and this is thread id 140009829230336.\n"
     ]
    },
    {
     "name": "stdout",
     "output_type": "stream",
     "text": [
      "Reading from cache file cache_get_nc_variable_025deg_jra55v13_iaf_gmredi6_ocean_month.nc_temp_yflux_adv_int_z_-34_days-since-1718-01-01_-87658_False.pkl\n",
      "Using database sqlite:////g/data3/hh5/tmp/cosima/cosima-cookbook/cosima-cookbook.db\n",
      "Using database sqlite:////g/data3/hh5/tmp/cosima/cosima-cookbook/cosima-cookbook.db\n"
     ]
    },
    {
     "name": "stderr",
     "output_type": "stream",
     "text": [
      "ERROR:sqlalchemy.pool.StaticPool:Exception during reset or similar\n",
      "Traceback (most recent call last):\n",
      "  File \"/g/data3/hh5/public/apps/miniconda3/envs/analysis3-18.10/lib/python3.6/site-packages/sqlalchemy/pool.py\", line 709, in _finalize_fairy\n",
      "    fairy._reset(pool)\n",
      "  File \"/g/data3/hh5/public/apps/miniconda3/envs/analysis3-18.10/lib/python3.6/site-packages/sqlalchemy/pool.py\", line 880, in _reset\n",
      "    pool._dialect.do_rollback(self)\n",
      "  File \"/g/data3/hh5/public/apps/miniconda3/envs/analysis3-18.10/lib/python3.6/site-packages/sqlalchemy/engine/default.py\", line 459, in do_rollback\n",
      "    dbapi_connection.rollback()\n",
      "sqlite3.ProgrammingError: SQLite objects created in a thread can only be used in that same thread. The object was created in thread id 140011541133056 and this is thread id 140009829230336.\n",
      "ERROR:sqlalchemy.pool.StaticPool:Exception closing connection <sqlite3.Connection object at 0x7f56946c7c70>\n",
      "Traceback (most recent call last):\n",
      "  File \"/g/data3/hh5/public/apps/miniconda3/envs/analysis3-18.10/lib/python3.6/site-packages/sqlalchemy/pool.py\", line 709, in _finalize_fairy\n",
      "    fairy._reset(pool)\n",
      "  File \"/g/data3/hh5/public/apps/miniconda3/envs/analysis3-18.10/lib/python3.6/site-packages/sqlalchemy/pool.py\", line 880, in _reset\n",
      "    pool._dialect.do_rollback(self)\n",
      "  File \"/g/data3/hh5/public/apps/miniconda3/envs/analysis3-18.10/lib/python3.6/site-packages/sqlalchemy/engine/default.py\", line 459, in do_rollback\n",
      "    dbapi_connection.rollback()\n",
      "sqlite3.ProgrammingError: SQLite objects created in a thread can only be used in that same thread. The object was created in thread id 140011541133056 and this is thread id 140009829230336.\n",
      "\n",
      "During handling of the above exception, another exception occurred:\n",
      "\n",
      "Traceback (most recent call last):\n",
      "  File \"/g/data3/hh5/public/apps/miniconda3/envs/analysis3-18.10/lib/python3.6/site-packages/sqlalchemy/pool.py\", line 314, in _close_connection\n",
      "    self._dialect.do_close(connection)\n",
      "  File \"/g/data3/hh5/public/apps/miniconda3/envs/analysis3-18.10/lib/python3.6/site-packages/sqlalchemy/engine/default.py\", line 465, in do_close\n",
      "    dbapi_connection.close()\n",
      "sqlite3.ProgrammingError: SQLite objects created in a thread can only be used in that same thread. The object was created in thread id 140011541133056 and this is thread id 140009829230336.\n"
     ]
    },
    {
     "name": "stdout",
     "output_type": "stream",
     "text": [
      "Using database sqlite:////g/data3/hh5/tmp/cosima/cosima-cookbook/cosima-cookbook.db\n",
      "Using database sqlite:////g/data3/hh5/tmp/cosima/cosima-cookbook/cosima-cookbook.db\n"
     ]
    },
    {
     "name": "stderr",
     "output_type": "stream",
     "text": [
      "ERROR:sqlalchemy.pool.StaticPool:Exception during reset or similar\n",
      "Traceback (most recent call last):\n",
      "  File \"/g/data3/hh5/public/apps/miniconda3/envs/analysis3-18.10/lib/python3.6/site-packages/sqlalchemy/pool.py\", line 709, in _finalize_fairy\n",
      "    fairy._reset(pool)\n",
      "  File \"/g/data3/hh5/public/apps/miniconda3/envs/analysis3-18.10/lib/python3.6/site-packages/sqlalchemy/pool.py\", line 880, in _reset\n",
      "    pool._dialect.do_rollback(self)\n",
      "  File \"/g/data3/hh5/public/apps/miniconda3/envs/analysis3-18.10/lib/python3.6/site-packages/sqlalchemy/engine/default.py\", line 459, in do_rollback\n",
      "    dbapi_connection.rollback()\n",
      "sqlite3.ProgrammingError: SQLite objects created in a thread can only be used in that same thread. The object was created in thread id 140011541133056 and this is thread id 140009829230336.\n",
      "ERROR:sqlalchemy.pool.StaticPool:Exception closing connection <sqlite3.Connection object at 0x7f5675402d50>\n",
      "Traceback (most recent call last):\n",
      "  File \"/g/data3/hh5/public/apps/miniconda3/envs/analysis3-18.10/lib/python3.6/site-packages/sqlalchemy/pool.py\", line 709, in _finalize_fairy\n",
      "    fairy._reset(pool)\n",
      "  File \"/g/data3/hh5/public/apps/miniconda3/envs/analysis3-18.10/lib/python3.6/site-packages/sqlalchemy/pool.py\", line 880, in _reset\n",
      "    pool._dialect.do_rollback(self)\n",
      "  File \"/g/data3/hh5/public/apps/miniconda3/envs/analysis3-18.10/lib/python3.6/site-packages/sqlalchemy/engine/default.py\", line 459, in do_rollback\n",
      "    dbapi_connection.rollback()\n",
      "sqlite3.ProgrammingError: SQLite objects created in a thread can only be used in that same thread. The object was created in thread id 140011541133056 and this is thread id 140009829230336.\n",
      "\n",
      "During handling of the above exception, another exception occurred:\n",
      "\n",
      "Traceback (most recent call last):\n",
      "  File \"/g/data3/hh5/public/apps/miniconda3/envs/analysis3-18.10/lib/python3.6/site-packages/sqlalchemy/pool.py\", line 314, in _close_connection\n",
      "    self._dialect.do_close(connection)\n",
      "  File \"/g/data3/hh5/public/apps/miniconda3/envs/analysis3-18.10/lib/python3.6/site-packages/sqlalchemy/engine/default.py\", line 465, in do_close\n",
      "    dbapi_connection.close()\n",
      "sqlite3.ProgrammingError: SQLite objects created in a thread can only be used in that same thread. The object was created in thread id 140011541133056 and this is thread id 140009829230336.\n"
     ]
    },
    {
     "name": "stdout",
     "output_type": "stream",
     "text": [
      "Reading from cache file cache_get_nc_variable_01deg_jra55v13_iaf_ocean_month.nc_temp_yflux_adv_int_z_None_days-since-0001-01-01_None_False.pkl\n",
      "Using database sqlite:////g/data3/hh5/tmp/cosima/cosima-cookbook/cosima-cookbook.db\n"
     ]
    },
    {
     "name": "stderr",
     "output_type": "stream",
     "text": [
      "ERROR:sqlalchemy.pool.StaticPool:Exception during reset or similar\n",
      "Traceback (most recent call last):\n",
      "  File \"/g/data3/hh5/public/apps/miniconda3/envs/analysis3-18.10/lib/python3.6/site-packages/sqlalchemy/pool.py\", line 709, in _finalize_fairy\n",
      "    fairy._reset(pool)\n",
      "  File \"/g/data3/hh5/public/apps/miniconda3/envs/analysis3-18.10/lib/python3.6/site-packages/sqlalchemy/pool.py\", line 880, in _reset\n",
      "    pool._dialect.do_rollback(self)\n",
      "  File \"/g/data3/hh5/public/apps/miniconda3/envs/analysis3-18.10/lib/python3.6/site-packages/sqlalchemy/engine/default.py\", line 459, in do_rollback\n",
      "    dbapi_connection.rollback()\n",
      "sqlite3.ProgrammingError: SQLite objects created in a thread can only be used in that same thread. The object was created in thread id 140011541133056 and this is thread id 140009829230336.\n",
      "ERROR:sqlalchemy.pool.StaticPool:Exception closing connection <sqlite3.Connection object at 0x7f565eeb0d50>\n",
      "Traceback (most recent call last):\n",
      "  File \"/g/data3/hh5/public/apps/miniconda3/envs/analysis3-18.10/lib/python3.6/site-packages/sqlalchemy/pool.py\", line 709, in _finalize_fairy\n",
      "    fairy._reset(pool)\n",
      "  File \"/g/data3/hh5/public/apps/miniconda3/envs/analysis3-18.10/lib/python3.6/site-packages/sqlalchemy/pool.py\", line 880, in _reset\n",
      "    pool._dialect.do_rollback(self)\n",
      "  File \"/g/data3/hh5/public/apps/miniconda3/envs/analysis3-18.10/lib/python3.6/site-packages/sqlalchemy/engine/default.py\", line 459, in do_rollback\n",
      "    dbapi_connection.rollback()\n",
      "sqlite3.ProgrammingError: SQLite objects created in a thread can only be used in that same thread. The object was created in thread id 140011541133056 and this is thread id 140009829230336.\n",
      "\n",
      "During handling of the above exception, another exception occurred:\n",
      "\n",
      "Traceback (most recent call last):\n",
      "  File \"/g/data3/hh5/public/apps/miniconda3/envs/analysis3-18.10/lib/python3.6/site-packages/sqlalchemy/pool.py\", line 314, in _close_connection\n",
      "    self._dialect.do_close(connection)\n",
      "  File \"/g/data3/hh5/public/apps/miniconda3/envs/analysis3-18.10/lib/python3.6/site-packages/sqlalchemy/engine/default.py\", line 465, in do_close\n",
      "    dbapi_connection.close()\n",
      "sqlite3.ProgrammingError: SQLite objects created in a thread can only be used in that same thread. The object was created in thread id 140011541133056 and this is thread id 140009829230336.\n"
     ]
    },
    {
     "name": "stdout",
     "output_type": "stream",
     "text": [
      "Using database sqlite:////g/data3/hh5/tmp/cosima/cosima-cookbook/cosima-cookbook.db\n"
     ]
    },
    {
     "name": "stderr",
     "output_type": "stream",
     "text": [
      "ERROR:sqlalchemy.pool.StaticPool:Exception during reset or similar\n",
      "Traceback (most recent call last):\n",
      "  File \"/g/data3/hh5/public/apps/miniconda3/envs/analysis3-18.10/lib/python3.6/site-packages/sqlalchemy/pool.py\", line 709, in _finalize_fairy\n",
      "    fairy._reset(pool)\n",
      "  File \"/g/data3/hh5/public/apps/miniconda3/envs/analysis3-18.10/lib/python3.6/site-packages/sqlalchemy/pool.py\", line 880, in _reset\n",
      "    pool._dialect.do_rollback(self)\n",
      "  File \"/g/data3/hh5/public/apps/miniconda3/envs/analysis3-18.10/lib/python3.6/site-packages/sqlalchemy/engine/default.py\", line 459, in do_rollback\n",
      "    dbapi_connection.rollback()\n",
      "sqlite3.ProgrammingError: SQLite objects created in a thread can only be used in that same thread. The object was created in thread id 140011541133056 and this is thread id 140009829230336.\n",
      "ERROR:sqlalchemy.pool.StaticPool:Exception closing connection <sqlite3.Connection object at 0x7f566b1ff2d0>\n",
      "Traceback (most recent call last):\n",
      "  File \"/g/data3/hh5/public/apps/miniconda3/envs/analysis3-18.10/lib/python3.6/site-packages/sqlalchemy/pool.py\", line 709, in _finalize_fairy\n",
      "    fairy._reset(pool)\n",
      "  File \"/g/data3/hh5/public/apps/miniconda3/envs/analysis3-18.10/lib/python3.6/site-packages/sqlalchemy/pool.py\", line 880, in _reset\n",
      "    pool._dialect.do_rollback(self)\n",
      "  File \"/g/data3/hh5/public/apps/miniconda3/envs/analysis3-18.10/lib/python3.6/site-packages/sqlalchemy/engine/default.py\", line 459, in do_rollback\n",
      "    dbapi_connection.rollback()\n",
      "sqlite3.ProgrammingError: SQLite objects created in a thread can only be used in that same thread. The object was created in thread id 140011541133056 and this is thread id 140009829230336.\n",
      "\n",
      "During handling of the above exception, another exception occurred:\n",
      "\n",
      "Traceback (most recent call last):\n",
      "  File \"/g/data3/hh5/public/apps/miniconda3/envs/analysis3-18.10/lib/python3.6/site-packages/sqlalchemy/pool.py\", line 314, in _close_connection\n",
      "    self._dialect.do_close(connection)\n",
      "  File \"/g/data3/hh5/public/apps/miniconda3/envs/analysis3-18.10/lib/python3.6/site-packages/sqlalchemy/engine/default.py\", line 465, in do_close\n",
      "    dbapi_connection.close()\n",
      "sqlite3.ProgrammingError: SQLite objects created in a thread can only be used in that same thread. The object was created in thread id 140011541133056 and this is thread id 140009829230336.\n"
     ]
    },
    {
     "data": {
      "image/png": "[encoded data removed]",
      "text/plain": [
       "<Figure size 576x432 with 1 Axes>"
      ]
     },
     "metadata": {},
     "output_type": "display_data"
    }
   ],
   "source": [
    "# plot both surface heat flux, temp_yflux_adv methods and observations:\n",
    "fig = plt.figure(figsize=(8,6))\n",
    "plt.xlabel('Latitude $(^\\circ N)$')\n",
    "plt.ylabel('Meridional Heat Flux (PW)')\n",
    "for i, ekey in enumerate(exptdata.exptdict.keys()):\n",
    "    latv, MHF = find_MHF_intz(ekey)\n",
    "\n",
    "    hand = plt.plot(latv,MHF/1.e15,linewidth=2, label=exptdata.exptdict[ekey]['desc'])\n",
    "\n",
    "plt.plot(obs_lat,obs_ncep,'xk',label='NCEP', markersize=6)\n",
    "plt.plot(obs_lat,obs_ecmwf,'ok',label='ECMWF', markersize=3)\n",
    "plt.errorbar(obsGW2000_lat,obsGW2000_mht,yerr=obsGW2000_mhte,fmt='dk',capsize=5,label='GW2000')\n",
    "plt.plot([-90, 90],[0,0],'k-',linewidth=0.75)\n",
    "plt.legend(loc=2)\n",
    "plt.xlim([-90.,90.])\n",
    "plt.ylim([-2, 2.5])\n",
    "\n",
    "savefigure('meridional_heat_transport_intz_withobs')"
   ]
  },
  {
   "cell_type": "code",
   "execution_count": 8,
   "metadata": {
    "autoscroll": false,
    "ein.tags": "worksheet-0",
    "slideshow": {
     "slide_type": "-"
    }
   },
   "outputs": [
    {
     "data": {
      "text/plain": [
       "['iceh.\\\\d+-\\\\d+.nc',\n",
       " 'o2i.nc',\n",
       " 'ocean_month.nc',\n",
       " 'ocean.nc',\n",
       " 'ocean_grid.nc',\n",
       " 'ocean_scalar.nc',\n",
       " 'ocean_snapshot.nc',\n",
       " 'ocean_daily.nc']"
      ]
     },
     "execution_count": 8,
     "metadata": {},
     "output_type": "execute_result"
    }
   ],
   "source": [
    "cc.get_ncfiles(exptdata.exptdict['1deg']['expt'])"
   ]
  },
  {
   "cell_type": "code",
   "execution_count": 18,
   "metadata": {
    "autoscroll": false,
    "ein.tags": "worksheet-0",
    "slideshow": {
     "slide_type": "-"
    }
   },
   "outputs": [
    {
     "data": {
      "text/plain": [
       "['xu_ocean',\n",
       " 'yu_ocean',\n",
       " 'st_ocean',\n",
       " 'st_edges_ocean',\n",
       " 'time',\n",
       " 'nv',\n",
       " 'xt_ocean',\n",
       " 'yt_ocean',\n",
       " 'u',\n",
       " 'v',\n",
       " 'temp',\n",
       " 'pot_temp',\n",
       " 'salt',\n",
       " 'temp_vdiffuse_impl',\n",
       " 'temp_tendency',\n",
       " 'temp_tendency_expl',\n",
       " 'temp_submeso',\n",
       " 'temp_advection',\n",
       " 'temp_nonlocal_KPP',\n",
       " 'temp_eta_smooth',\n",
       " 'neutral_gm_temp',\n",
       " 'neutral_diffusion_temp',\n",
       " 'temp_vdiffuse_diff_cbt',\n",
       " 'temp_vdiffuse_diff_cbt_conv',\n",
       " 'temp_vdiffuse_k33',\n",
       " 'temp_vdiffuse_sbc',\n",
       " 'temp_rivermix',\n",
       " 'temp_sigma_diff',\n",
       " 'mixdownslope_temp',\n",
       " 'sea_level',\n",
       " 'eta_t',\n",
       " 'sea_levelsq',\n",
       " 'mld',\n",
       " 'surface_temp',\n",
       " 'surface_salt',\n",
       " 'pme_river',\n",
       " 'river',\n",
       " 'runoff',\n",
       " 'evap',\n",
       " 'melt',\n",
       " 'sfc_salt_flux_restore',\n",
       " 'sfc_salt_flux_ice',\n",
       " 'sfc_salt_flux_coupler',\n",
       " 'net_sfc_heating',\n",
       " 'tau_x',\n",
       " 'tau_y',\n",
       " 'bmf_u',\n",
       " 'bmf_v',\n",
       " 'tx_trans_int_z',\n",
       " 'ty_trans_int_z',\n",
       " 'aredi',\n",
       " 'agm',\n",
       " 'frazil_3d',\n",
       " 'swflx',\n",
       " 'sw_heat',\n",
       " 'sfc_hflux_from_runoff',\n",
       " 'sfc_hflux_coupler',\n",
       " 'sfc_hflux_pme',\n",
       " 'temp_yflux_adv_int_z',\n",
       " 'temp_yflux_submeso_int_z',\n",
       " 'temp_yflux_ndiffuse_int_z',\n",
       " 'temp_yflux_gm_int_z',\n",
       " 'temp_xflux_adv_int_z',\n",
       " 'temp_xflux_submeso_int_z',\n",
       " 'temp_xflux_ndiffuse_int_z',\n",
       " 'temp_xflux_gm_int_z',\n",
       " 'average_T1',\n",
       " 'average_T2',\n",
       " 'average_DT',\n",
       " 'time_bounds']"
      ]
     },
     "execution_count": 18,
     "metadata": {},
     "output_type": "execute_result"
    }
   ],
   "source": [
    "cc.get_variables(exptdata.exptdict['1deg']['expt'],'ocean_month.nc')"
   ]
  },
  {
   "cell_type": "code",
   "execution_count": null,
   "metadata": {
    "autoscroll": false,
    "ein.tags": "worksheet-0",
    "slideshow": {
     "slide_type": "-"
    }
   },
   "outputs": [],
   "source": [
    "# Infer from surface heat flux:\n",
    "def find_MHF(ekey):\n",
    "    \n",
    "    expt = exptdata.exptdict[ekey]['expt']\n",
    "    n_files = exptdata.exptdict[ekey]['n_files']\n",
    "    #n_files = 1\n",
    "    time_units = exptdata.exptdict[ekey]['time_units']\n",
    "    offset = exptdata.exptdict[ekey]['offset']\n",
    "\n",
    "    shflux = cc.get_nc_variable(expt, 'ocean_month.nc', 'net_sfc_heating',\n",
    "                          n=n_files, time_units = time_units, offset=offset, use_cache=True)\n",
    "    shflux_am = shflux.mean('time').load()\n",
    "    area = cc.get_nc_variable(expt, 'ocean_grid.nc','area_t',n=1).load()\n",
    "    lat = cc.get_nc_variable(expt, 'ocean_grid.nc','geolat_t',n=1).load()\n",
    "    latv = cc.get_nc_variable(expt, 'ocean_grid.nc','yt_ocean',n=1).load()\n",
    "    MHF = np.zeros_like(latv)\n",
    "    for i in range(len(latv)):\n",
    "        inds = lat < latv[i]\n",
    "        MHF[i] = np.sum(area.where(lat < latv[i])*shflux_am.where(lat < latv[i]))\n",
    "\n",
    "    MHF = MHF + (MHF[0]-MHF[-1])/2\n",
    "    \n",
    "    return latv, MHF"
   ]
  },
  {
   "cell_type": "code",
   "execution_count": null,
   "metadata": {
    "autoscroll": false,
    "ein.tags": "worksheet-0",
    "slideshow": {
     "slide_type": "-"
    }
   },
   "outputs": [],
   "source": [
    "# Plot just surface heat flux inferred method:\n",
    "fig = plt.figure(figsize=(8,5))\n",
    "plt.xlabel('Latitude $(^\\circ N)$')\n",
    "plt.ylabel('Meridional Heat Flux (PW)')\n",
    "for i, ekey in enumerate(exptdata.exptdict.keys()):\n",
    "    latv, MHF = find_MHF(ekey)\n",
    "\n",
    "    plt.plot(latv,MHF/1.e15,linewidth=2, label=exptdata.exptdict[ekey]['desc'])\n",
    "\n",
    "plt.legend()\n",
    "savefigure('meridional_heat_transport')"
   ]
  }
 ],
 "metadata": {
  "kernelspec": {
   "display_name": "Python [conda env:analysis3-18.10]",
   "language": "python",
   "name": "conda-env-analysis3-18.10-py"
  },
  "language_info": {
   "codemirror_mode": {
    "name": "ipython",
    "version": 3
   },
   "file_extension": ".py",
   "mimetype": "text/x-python",
   "name": "python",
   "nbconvert_exporter": "python",
   "pygments_lexer": "ipython3",
   "version": "3.6.7"
  },
  "name": "Meridional_Heat_Transport.ipynb"
 },
 "nbformat": 4,
 "nbformat_minor": 2
}
