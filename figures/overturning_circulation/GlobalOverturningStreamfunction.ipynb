{
 "cells": [
  {
   "cell_type": "markdown",
   "metadata": {},
   "source": [
    "# Global Overturning Streamfunction\n",
    "\n",
    "This scipt plots the global overturning streamfunction in density space for 3 ACCESS-OM2 simulations at different resolutions.\n",
    "\n",
    "It also serves as a sample for how to compute and display diagnostics for the ACCESS-OM2 model evaluation paper."
   ]
  },
  {
   "cell_type": "code",
   "execution_count": 1,
   "metadata": {},
   "outputs": [
    {
     "name": "stdout",
     "output_type": "stream",
     "text": [
      "netcdf_index loaded.\n"
     ]
    },
    {
     "name": "stderr",
     "output_type": "stream",
     "text": [
      "/g/data3/hh5/public/apps/miniconda3/envs/analysis3-19.01/lib/python3.6/site-packages/dask/config.py:168: YAMLLoadWarning: calling yaml.load() without Loader=... is deprecated, as the default Loader is unsafe. Please read https://msg.pyyaml.org/load for full details.\n",
      "  data = yaml.load(f.read()) or {}\n",
      "/g/data3/hh5/public/apps/miniconda3/envs/analysis3-19.01/lib/python3.6/site-packages/distributed/config.py:20: YAMLLoadWarning: calling yaml.load() without Loader=... is deprecated, as the default Loader is unsafe. Please read https://msg.pyyaml.org/load for full details.\n",
      "  defaults = yaml.load(f)\n"
     ]
    },
    {
     "name": "stdout",
     "output_type": "stream",
     "text": [
      "Available exptdata keys:  ['1deg', '025deg', '01deg']\n"
     ]
    }
   ],
   "source": [
    "%matplotlib inline\n",
    "\n",
    "import cosima_cookbook as cc\n",
    "import matplotlib.pyplot as plt\n",
    "import xarray as xr\n",
    "import numpy as np\n",
    "import pandas as pd\n",
    "import IPython.display\n",
    "import cmocean as cm\n",
    "\n",
    "from dask.distributed import Client\n",
    "\n",
    "import sys, os\n",
    "sys.path.append(os.path.join(os.getcwd(), '..'))  # so we can import ../exptdata\n",
    "import exptdata\n",
    "print('Available exptdata keys: ', [k for k in exptdata.exptdict.keys()])"
   ]
  },
  {
   "cell_type": "code",
   "execution_count": 2,
   "metadata": {},
   "outputs": [],
   "source": [
    "figdir = ''\n",
    "def savefigure(fname):\n",
    "    plt.savefig(os.path.join(figdir, fname+'.png'),dpi=300, bbox_inches=\"tight\")  # comment out to disable saving\n",
    "    plt.savefig(os.path.join(figdir, fname+'.pdf'),dpi=300, bbox_inches=\"tight\")  # comment out to disable saving\n",
    "    return"
   ]
  },
  {
   "cell_type": "markdown",
   "metadata": {},
   "source": [
    "## To deal with memory issues:\n",
    "* This version was run in an 8-cpu expressbw job with 128Gb RAM, running on raijin.\n",
    "* In a terminal, run: `dask-scheduler`\n",
    "* This should output the scheduler address, like `tcp://10.9.69.70:8786`. \n",
    "* Now, in another terminal (ensuring that the default conda module has cosima_cookbook installed, as all workers will need access to that), run:\n",
    "`dask-worker tcp://10.9.69.70:8786 --memory-limit 16e9 --nprocs 6 --nthreads 1`\n",
    "* Then, make sure the following cell matches the scheduler address."
   ]
  },
  {
   "cell_type": "code",
   "execution_count": 3,
   "metadata": {},
   "outputs": [
    {
     "data": {
      "text/html": [
       "<table style=\"border: 2px solid white;\">\n",
       "<tr>\n",
       "<td style=\"vertical-align: top; border: 0px solid white\">\n",
       "<h3>Client</h3>\n",
       "<ul>\n",
       "  <li><b>Scheduler: </b>tcp://10.9.72.71:8786\n",
       "  <li><b>Dashboard: </b><a href='http://10.9.72.71:8787/status' target='_blank'>http://10.9.72.71:8787/status</a>\n",
       "</ul>\n",
       "</td>\n",
       "<td style=\"vertical-align: top; border: 0px solid white\">\n",
       "<h3>Cluster</h3>\n",
       "<ul>\n",
       "  <li><b>Workers: </b>6</li>\n",
       "  <li><b>Cores: </b>6</li>\n",
       "  <li><b>Memory: </b>96.00 GB</li>\n",
       "</ul>\n",
       "</td>\n",
       "</tr>\n",
       "</table>"
      ],
      "text/plain": [
       "<Client: scheduler='tcp://10.9.72.71:8786' processes=6 cores=6>"
      ]
     },
     "execution_count": 3,
     "metadata": {},
     "output_type": "execute_result"
    }
   ],
   "source": [
    "client = Client('tcp://10.9.72.71:8786')\n",
    "client"
   ]
  },
  {
   "cell_type": "markdown",
   "metadata": {},
   "source": [
    "**For starters**, list the three experiments you want to use. For now, we will use RYF sample runs - in the future we hope to be using the full interannual forcing simulations. This script assumes that there are 3 experiments, and that they are ordered as 1°, 0.25° then 0.1°."
   ]
  },
  {
   "cell_type": "markdown",
   "metadata": {},
   "source": [
    "This function computes the overturning from ty_trans_rho (and ty_trans_rho_gm if the variable is present). It loads data from the last IAF cycle (specified as n_files in exptdata) and then averages over the default period (1993-2017 inc.)."
   ]
  },
  {
   "cell_type": "code",
   "execution_count": 4,
   "metadata": {},
   "outputs": [],
   "source": [
    "def calc_psi_avg(ekey):\n",
    "    \n",
    "    \n",
    "    expt = exptdata.exptdict[ekey]['expt']\n",
    "    n_files = exptdata.exptdict[ekey]['n_files']\n",
    "    time_units = exptdata.exptdict[ekey]['time_units']\n",
    "    offset = exptdata.exptdict[ekey]['offset']\n",
    "    \n",
    "    ## Load overturning from ocean.nc file\n",
    "    psi = cc.get_nc_variable(expt, 'ocean.nc', 'ty_trans_rho',\n",
    "                          chunks={'potrho': None}, n=n_files,\n",
    "                          time_units=time_units, offset=offset)\n",
    "    psi = psi.sel(time=slice(exptdata.clim_tstart,exptdata.clim_tend)).mean('time').sum('grid_xt_ocean')*1.0e-9\n",
    "    \n",
    "    ## If GM overturning is output, load that too\n",
    "    varlist = cc.get_variables(expt, 'ocean.nc')\n",
    "    if 'ty_trans_rho_gm' in varlist:\n",
    "        GM = True\n",
    "        psiGM = cc.get_nc_variable(expt, 'ocean.nc', 'ty_trans_rho_gm',\n",
    "                              chunks={'potrho': None}, n=n_files,\n",
    "                              time_units=time_units, offset=offset)\n",
    "        psiGM = psiGM.sel(time=slice(exptdata.clim_tstart,exptdata.clim_tend)).mean('time').sum('grid_xt_ocean')*1.0e-9\n",
    "    else:\n",
    "        GM = False\n",
    "        \n",
    "    psi_avg = psi.cumsum('potrho') -  psi.sum('potrho')\n",
    "    if GM:\n",
    "        psi_avg = psi_avg + psiGM\n",
    "    \n",
    "    ## This function basically splits the calculation up to save on memory:\n",
    "    #psi_avg = cc.compute_by_block(psi_avg)\n",
    "    psi_avg = psi_avg.load()\n",
    "    \n",
    "    return psi_avg"
   ]
  },
  {
   "cell_type": "markdown",
   "metadata": {},
   "source": [
    "This function plots the streamfunction."
   ]
  },
  {
   "cell_type": "code",
   "execution_count": 5,
   "metadata": {},
   "outputs": [],
   "source": [
    "def plot_psi(psi_avg, clev=np.arange(-25,25,2)):\n",
    "    dens0=1020\n",
    "    y_axis = (psi_avg.potrho-dens0)**9\n",
    "    #np.exp((psi_avg.potrho-dens0))\n",
    "    p1 = plt.contourf(psi_avg.grid_yu_ocean, \n",
    "                 y_axis, \n",
    "                 psi_avg, \n",
    "                 cmap=cm.cm.delta,levels=clev,extend='both')\n",
    "    plt.contour(psi_avg.grid_yu_ocean, \n",
    "                y_axis, \n",
    "                psi_avg, levels=clev, colors='k', linewidths=0.25)\n",
    "    plt.contour(psi_avg.grid_yu_ocean,\n",
    "                y_axis, psi_avg,\n",
    "                levels=[0.0,], colors='k', linewidths=0.5)\n",
    "    plt.gca().invert_yaxis()\n",
    "    \n",
    "    ticklabels = [1037.25, 1037, 1036.5, 1036, 1035, 1034, 1033, 1030]\n",
    "    ticks = (np.array(ticklabels)-dens0)**9 #np.exp(ticklabels-dens0)\n",
    "    plt.ylim((1037.25-dens0)**9)#(np.exp(1037.3-dens0),0))\n",
    "    plt.yticks(ticks)\n",
    "    plt.gca().set_yticklabels(ticklabels)\n",
    "    plt.ylabel('Potential Density (kg m$^{-3}$)')\n",
    "    plt.xlabel('Latitude ($^\\circ$N)')\n",
    "    plt.xlim([-75,85])\n",
    "    \n",
    "    return p1"
   ]
  },
  {
   "cell_type": "markdown",
   "metadata": {},
   "source": [
    "And here is the code to make the actual figure."
   ]
  },
  {
   "cell_type": "code",
   "execution_count": 6,
   "metadata": {},
   "outputs": [
    {
     "name": "stdout",
     "output_type": "stream",
     "text": [
      "Using database sqlite:////g/data3/hh5/tmp/cosima/cosima-cookbook/cosima-cookbook.db\n",
      "Using database sqlite:////g/data3/hh5/tmp/cosima/cosima-cookbook/cosima-cookbook.db\n"
     ]
    },
    {
     "data": {
      "image/png": "[encoded data removed]",
      "text/plain": [
       "<Figure size 432x288 with 1 Axes>"
      ]
     },
     "metadata": {
      "needs_background": "light"
     },
     "output_type": "display_data"
    }
   ],
   "source": [
    "# for testing\n",
    "clev=np.arange(-26,26.01,2)\n",
    "ekey = '1deg'\n",
    "psi_avg = calc_psi_avg(ekey)\n",
    "p1=plot_psi(psi_avg,clev)"
   ]
  },
  {
   "cell_type": "code",
   "execution_count": null,
   "metadata": {},
   "outputs": [
    {
     "name": "stdout",
     "output_type": "stream",
     "text": [
      "Using database sqlite:////g/data3/hh5/tmp/cosima/cosima-cookbook/cosima-cookbook.db\n",
      "Using database sqlite:////g/data3/hh5/tmp/cosima/cosima-cookbook/cosima-cookbook.db\n",
      "Using database sqlite:////g/data3/hh5/tmp/cosima/cosima-cookbook/cosima-cookbook.db\n",
      "Using database sqlite:////g/data3/hh5/tmp/cosima/cosima-cookbook/cosima-cookbook.db\n",
      "Using database sqlite:////g/data3/hh5/tmp/cosima/cosima-cookbook/cosima-cookbook.db\n"
     ]
    }
   ],
   "source": [
    "%%time\n",
    "plt.figure(figsize=(12,8))\n",
    "clev=np.arange(-26,26.01,2)\n",
    "\n",
    "labels=['(a) ', '(b) ', '(c) ']\n",
    "for i, ekey in enumerate(exptdata.exptdict.keys()):\n",
    "    desc = exptdata.exptdict[ekey]['desc']\n",
    "    ax = plt.subplot(2,2,i+1)\n",
    "    psi_avg = calc_psi_avg(ekey)\n",
    "    p1=plot_psi(psi_avg,clev)\n",
    "    plt.title(labels[i]+desc)\n",
    "    if (i==1):\n",
    "        plt.ylabel('')\n",
    "\n",
    "plt.subplots_adjust(left=0.08,right=0.92)\n",
    "tmp = ax.get_position(original=True)\n",
    "tmp.x0 = tmp.x0 + 0.23\n",
    "tmp.x1 = tmp.x1 + 0.23\n",
    "print(tmp)\n",
    "ax.set_position(tmp)\n",
    "\n",
    "ax1 = plt.axes([0.94,0.3,0.01,0.4])\n",
    "cb = plt.colorbar(p1,cax=ax1,orientation='vertical')\n",
    "ax1.xaxis.set_label_position(\"top\")\n",
    "cb.ax.set_xlabel('Sv')\n",
    "\n",
    "savefigure('mean_overturning')"
   ]
  },
  {
   "cell_type": "markdown",
   "metadata": {},
   "source": [
    "### Now compute timeseries overturning cells"
   ]
  },
  {
   "cell_type": "code",
   "execution_count": null,
   "metadata": {},
   "outputs": [],
   "source": [
    "%%time\n",
    "plt.figure(figsize=(12,5))\n",
    "plt.subplot(122)\n",
    "for ekey in exptdata.exptdict.keys():\n",
    "    expt = exptdata.exptdict[ekey]['expt']\n",
    "    n_files = exptdata.exptdict[ekey]['n_files']\n",
    "    time_units = exptdata.exptdict[ekey]['time_units']\n",
    "    offset = exptdata.exptdict[ekey]['offset']\n",
    "    print(expt)\n",
    "    \n",
    "    psi = cc.get_nc_variable(expt, 'ocean.nc', 'ty_trans_rho',\n",
    "                            chunks={'potrho': None},n=n_files,\n",
    "                            time_units = time_units, offset=offset)\n",
    "    psi = psi.sum('grid_xt_ocean').sel(method='Nearest',grid_yu_ocean=-40)*1.0e-9\n",
    "    psi_sum = psi.cumsum('potrho') - psi.sum('potrho')\n",
    "    \n",
    "    ## If GM overturning is output, load that too\n",
    "    varlist = cc.get_variables(expt, 'ocean.nc')\n",
    "    if 'ty_trans_rho_gm' in varlist:\n",
    "        psiGM = cc.get_nc_variable(expt, 'ocean.nc', 'ty_trans_rho_gm',\n",
    "                            chunks={'potrho': None},n=n_files,\n",
    "                            time_units = time_units, offset=offset)\n",
    "        psiGM = psiGM.sum('grid_xt_ocean').sel(method='Nearest',grid_yu_ocean=-40)*1.0e-9\n",
    "        psi_sum = psi_sum + psiGM\n",
    "\n",
    "    psi_aabw = -psi_sum.sel(potrho=slice(1036,None))\\\n",
    "                .min('potrho').resample(time='A').mean('time')\n",
    "    psi_aabw.plot(label=exptdata.exptdict[ekey]['desc'])\n",
    "    \n",
    "plt.gca().autoscale()\n",
    "plt.ylabel('')\n",
    "plt.xlim([pd.datetime(1958,1,1),pd.datetime(2017,12,31)])\n",
    "plt.xlabel('Year')\n",
    "plt.title('(b) Abyssal overturning at 40°S')\n",
    "\n",
    "plt.subplot(121)\n",
    "for ekey in exptdata.exptdict.keys():\n",
    "    expt = exptdata.exptdict[ekey]['expt']\n",
    "    n_files = exptdata.exptdict[ekey]['n_files']\n",
    "    time_units = exptdata.exptdict[ekey]['time_units']\n",
    "    offset = exptdata.exptdict[ekey]['offset']\n",
    "    print(expt)\n",
    "    \n",
    "    psi = cc.get_nc_variable(expt, 'ocean.nc', 'ty_trans_rho',\n",
    "                          chunks={'potrho': None},n=n_files,\n",
    "                          time_units = time_units, offset=offset)\n",
    "    psi = psi.sel(grid_xt_ocean=slice(-103,-5)).sum('grid_xt_ocean').sel(method='Nearest',grid_yu_ocean=26)*1.0e-9\n",
    "    psi_sum = psi.cumsum('potrho') - psi.sum('potrho')\n",
    "    \n",
    "    ## If GM overturning is output, load that too\n",
    "    varlist = cc.get_variables(expt, 'ocean.nc')\n",
    "    if 'ty_trans_rho_gm' in varlist:\n",
    "        psiGM = cc.get_nc_variable(expt, 'ocean.nc', 'ty_trans_rho_gm',\n",
    "                              chunks={'potrho': None},n=n_files,\n",
    "                            time_units = time_units, offset=offset)\n",
    "        psiGM = psiGM.sel(grid_xt_ocean=slice(-103,-5)).sum('grid_xt_ocean').sel(method='Nearest',grid_yu_ocean=26)*1.0e-9\n",
    "        psi_sum = psi_sum + psiGM\n",
    "\n",
    "    psi_amoc = psi_sum.sel(potrho=slice(1035.5,None))\\\n",
    "                .max('potrho').resample(time='A').mean('time')\n",
    "    psi_amoc.plot(label=exptdata.exptdict[ekey]['desc'])\n",
    "\n",
    "# From McCarthy et al. (2015):\n",
    "# The AMOC has a strength of 17.2 Sv ... over the 8.5 years from April 2004 to October 2012\n",
    "plt.plot([pd.datetime(1958,1,1),pd.datetime(2017,12,31)],[17.2, 17.2],'k--',label=\"McCarthy et al. (2015)\")\n",
    "\n",
    "plt.gca().autoscale()\n",
    "plt.legend()\n",
    "plt.xlabel('Year')\n",
    "plt.xlim([pd.datetime(1958,1,1),pd.datetime(2017,12,31)])\n",
    "plt.ylabel('Overturning (Sv)')\n",
    "plt.title('(a) AMOC at 26°N')\n",
    "\n",
    "savefigure('overturning_timeseries')"
   ]
  },
  {
   "cell_type": "code",
   "execution_count": null,
   "metadata": {},
   "outputs": [],
   "source": [
    "# testing remapping onto depth coords - NOT THERE YET!\n",
    "\n",
    "ekey='1deg'\n",
    "\n",
    "expt = exptdata.exptdict[ekey]['expt']\n",
    "n_files = exptdata.exptdict[ekey]['n_files']\n",
    "time_units = exptdata.exptdict[ekey]['time_units']\n",
    "offset = exptdata.exptdict[ekey]['offset']\n",
    "    \n",
    "## Load overturning from ocean.nc file\n",
    "psi = cc.get_nc_variable(expt, 'ocean.nc', 'ty_trans_rho',\n",
    "                          chunks={'potrho': None}, n=n_files,\n",
    "                          time_units=time_units, offset=offset)\n",
    "psi = psi.sel(time=slice(pd.datetime(2008,1,1),None)).mean('time').sum('grid_xt_ocean')*1.0e-9\n",
    "    \n",
    "## If GM overturning is output, load that too\n",
    "varlist = cc.get_variables(expt, 'ocean.nc')\n",
    "if 'ty_trans_rho_gm' in varlist:\n",
    "    GM = True\n",
    "    psiGM = cc.get_nc_variable(expt, 'ocean.nc', 'ty_trans_rho_gm',\n",
    "                              chunks={'potrho': None}, n=n_files,\n",
    "                              time_units=time_units, offset=offset)\n",
    "    psiGM = psiGM.sel(time=slice(pd.datetime(2008,1,1),None)).mean('time').sum('grid_xt_ocean')*1.0e-9\n",
    "else:\n",
    "    GM = False\n",
    "        \n",
    "psi_avg = psi.cumsum('potrho') -  psi.sum('potrho')\n",
    "if GM:\n",
    "    psi_avg = psi_avg + psiGM\n",
    "    \n",
    "## This function basically splits the calculation up to save on memory:\n",
    "psi_avg = cc.compute_by_block(psi_avg)\n"
   ]
  },
  {
   "cell_type": "code",
   "execution_count": null,
   "metadata": {},
   "outputs": [],
   "source": [
    "plt.figure(figsize=(6,4))\n",
    "clev=np.arange(-26,26.01,2)\n",
    "\n",
    "p1 = plt.contourf(psi_avg.grid_yu_ocean, \n",
    "                 psi_avg.potrho, \n",
    "                 psi_avg, \n",
    "                 cmap=cm.cm.delta,levels=clev,extend='both')\n",
    "plt.contour(psi_avg.grid_yu_ocean, \n",
    "                psi_avg.potrho, \n",
    "                psi_avg, levels=clev, colors='k', linewidths=0.25)\n",
    "plt.contour(psi_avg.grid_yu_ocean,\n",
    "                psi_avg.potrho, psi_avg,\n",
    "                levels=[0.0,], colors='k', linewidths=0.5)\n",
    "plt.gca().invert_yaxis()\n",
    "    \n",
    "plt.ylim((1037.5,1034))\n",
    "plt.ylabel('Potential Density (kg m$^{-3}$)')\n",
    "plt.xlabel('Latitude ($^\\circ$N)')\n",
    "plt.xlim([-75,85])"
   ]
  },
  {
   "cell_type": "code",
   "execution_count": null,
   "metadata": {},
   "outputs": [],
   "source": [
    "pot_rho_2 = cc.get_nc_variable(expt, 'ocean.nc', 'pot_rho_2',\n",
    "                          n=n_files,time_units=time_units, offset=offset)\n",
    "pot_rho_2 = pot_rho_2.sel(time=slice(pd.datetime(2008,1,1),None)).mean('time').mean('xt_ocean')\n",
    "pot_rho_2"
   ]
  },
  {
   "cell_type": "code",
   "execution_count": null,
   "metadata": {},
   "outputs": [],
   "source": [
    "potrho_edges = cc.get_nc_variable(expt, 'ocean.nc', 'potrho_edges',n=-1).values\n",
    "potrho_edges"
   ]
  },
  {
   "cell_type": "code",
   "execution_count": null,
   "metadata": {},
   "outputs": [],
   "source": [
    "p1=pot_rho_2.plot.contour(levels=potrho_edges,yincrease=False)"
   ]
  },
  {
   "cell_type": "code",
   "execution_count": null,
   "metadata": {},
   "outputs": [],
   "source": [
    "pot_rho_2.plot(yincrease=False)"
   ]
  },
  {
   "cell_type": "code",
   "execution_count": null,
   "metadata": {},
   "outputs": [],
   "source": [
    "psi_avg.potrho\n"
   ]
  },
  {
   "cell_type": "code",
   "execution_count": null,
   "metadata": {},
   "outputs": [],
   "source": [
    "pr2 = pot_rho_2.isel(yt_ocean=140).dropna('st_ocean')\n",
    "pr2\n",
    "\n",
    "zz = xr.DataArray(pr2.st_ocean.values,[('pr2',pr2.values)])\n",
    "zz"
   ]
  },
  {
   "cell_type": "code",
   "execution_count": null,
   "metadata": {},
   "outputs": [],
   "source": [
    "zz.pr2"
   ]
  },
  {
   "cell_type": "code",
   "execution_count": null,
   "metadata": {},
   "outputs": [],
   "source": []
  },
  {
   "cell_type": "code",
   "execution_count": null,
   "metadata": {},
   "outputs": [],
   "source": [
    "zz2 = zz.interp(pr2 = psi_avg.potrho)\n",
    "zz2"
   ]
  },
  {
   "cell_type": "code",
   "execution_count": null,
   "metadata": {},
   "outputs": [],
   "source": [
    "zz.plot(yincrease=False,linestyle='-',marker='o')\n",
    "zz2.plot(yincrease=False,linestyle='-',marker='.')"
   ]
  },
  {
   "cell_type": "code",
   "execution_count": null,
   "metadata": {},
   "outputs": [],
   "source": [
    "## need to make a matrix which has dimensions pot_rho_2, and values of isopycnal height.\n",
    "(nrho, ny) = psi_avg.shape\n",
    "tmp = np.empty([nrho,ny])\n",
    "tmp[:] = np.nan\n",
    "zz = xr.DataArray(tmp,[('potrho',psi_avg.potrho.values),('yt_ocean',pot_rho_2.yt_ocean.values)])\n",
    "## That is, h(potrho,grid_yu_ocean) \n",
    "## note that this array is actually half a gridpoint off psi_avg ... oh well.\n",
    "## also need to make a matrix for latitude.\n",
    "\n",
    "for i in range(ny):\n",
    "    pr2 = pot_rho_2.isel(yt_ocean=i).dropna('st_ocean')\n",
    "    (jj,) = pr2.shape\n",
    "    if jj>0:\n",
    "        \n",
    "        ## note fudges to make sure this variable is monotonic!!\n",
    "        prdim = pr2.sortby(pr2).values \n",
    "        tmp = np.where(np.diff(prdim)==0.0)[0]\n",
    "        for kk in range(tmp.shape[0]):\n",
    "            print(i, jj, kk)\n",
    "            prdim[tmp[kk]+1]=prdim[tmp[kk]] + 0.0001\n",
    "            if (tmp[kk]<jj-2):\n",
    "                if (prdim[tmp[kk]+2]==prdim[tmp[kk]+1]):\n",
    "                    prdim[tmp[kk]+2]=prdim[tmp[kk]+1] + 0.0001\n",
    "            \n",
    "        ztmp = xr.DataArray(pr2.st_ocean.values,[('pr2',prdim)]) \n",
    "        ztmp2 = ztmp.interp(pr2 = psi_avg.potrho.values)\n",
    "        zz[:,i] = ztmp2    ## There is a better way to do this??"
   ]
  },
  {
   "cell_type": "code",
   "execution_count": null,
   "metadata": {},
   "outputs": [],
   "source": [
    "# This is how it looks. \n",
    "zz.plot()\n",
    "\n",
    "# It's the right sort of thing .. but we need to make it go full depth and I think data is not well conditioned."
   ]
  },
  {
   "cell_type": "code",
   "execution_count": null,
   "metadata": {},
   "outputs": [],
   "source": [
    "## make y axis\n",
    "yy = xr.DataArray(np.empty([nrho,ny]),[('potrho',psi_avg.potrho.values),('yt_ocean',pot_rho_2.yt_ocean.values)])\n",
    "for i in range(80):\n",
    "    yy[i,:] = pot_rho_2.yt_ocean.values\n",
    "yy.plot()\n"
   ]
  },
  {
   "cell_type": "code",
   "execution_count": null,
   "metadata": {},
   "outputs": [],
   "source": [
    "zz"
   ]
  },
  {
   "cell_type": "code",
   "execution_count": null,
   "metadata": {},
   "outputs": [],
   "source": [
    "pr2.sortby(pr2).values"
   ]
  },
  {
   "cell_type": "code",
   "execution_count": null,
   "metadata": {},
   "outputs": [],
   "source": [
    "prdim = pr2.sortby(pr2).values ## note fudges to make sure it is monotonic!!\n",
    "tmp = np.where(np.diff(prdim)==0)[0][0]+1\n",
    "prdim[tmp]=prdim[tmp] + 0.0001"
   ]
  },
  {
   "cell_type": "code",
   "execution_count": null,
   "metadata": {},
   "outputs": [],
   "source": [
    "pot_rho_2.plot(vmin=1037.05,vmax=1037.2)"
   ]
  },
  {
   "cell_type": "code",
   "execution_count": null,
   "metadata": {},
   "outputs": [],
   "source": []
  }
 ],
 "metadata": {
  "kernelspec": {
   "display_name": "Python [conda env:analysis3-19.01] *",
   "language": "python",
   "name": "conda-env-analysis3-19.01-py"
  },
  "language_info": {
   "codemirror_mode": {
    "name": "ipython",
    "version": 3
   },
   "file_extension": ".py",
   "mimetype": "text/x-python",
   "name": "python",
   "nbconvert_exporter": "python",
   "pygments_lexer": "ipython3",
   "version": "3.6.7"
  }
 },
 "nbformat": 4,
 "nbformat_minor": 4
}
