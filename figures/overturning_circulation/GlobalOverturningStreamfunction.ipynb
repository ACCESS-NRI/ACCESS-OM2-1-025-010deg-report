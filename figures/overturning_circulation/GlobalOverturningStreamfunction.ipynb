{
 "cells": [
  {
   "cell_type": "markdown",
   "metadata": {},
   "source": [
    "# Global Overturning Streamfunction\n",
    "\n",
    "This scipt plots the global overturning streamfunction in density space for 3 ACCESS-OM2 simulations at different resolutions.\n",
    "\n",
    "It also serves as a sample for how to compute and display diagnostics for the ACCESS-OM2 model evaluation paper."
   ]
  },
  {
   "cell_type": "code",
   "execution_count": 1,
   "metadata": {},
   "outputs": [
    {
     "name": "stdout",
     "output_type": "stream",
     "text": [
      "netcdf_index loaded.\n"
     ]
    },
    {
     "name": "stderr",
     "output_type": "stream",
     "text": [
      "/home/157/amh157/.local/lib/python3.6/site-packages/cmocean/tools.py:76: MatplotlibDeprecationWarning: The is_string_like function was deprecated in version 2.1.\n",
      "  if not mpl.cbook.is_string_like(rgbin[0]):\n"
     ]
    },
    {
     "name": "stdout",
     "output_type": "stream",
     "text": [
      "Available exptdata keys:  ['1deg', '025deg', '01deg']\n"
     ]
    }
   ],
   "source": [
    "%matplotlib inline\n",
    "\n",
    "import cosima_cookbook as cc\n",
    "import matplotlib.pyplot as plt\n",
    "import xarray as xr\n",
    "import numpy as np\n",
    "import IPython.display\n",
    "import cmocean as cm\n",
    "\n",
    "import sys, os\n",
    "sys.path.append(os.path.join(os.getcwd(), '..'))  # so we can import ../exptdata\n",
    "import exptdata\n",
    "print('Available exptdata keys: ', [k for k in exptdata.exptdict.keys()])"
   ]
  },
  {
   "cell_type": "code",
   "execution_count": 2,
   "metadata": {},
   "outputs": [
    {
     "name": "stdout",
     "output_type": "stream",
     "text": [
      "If the link to the dashboard below doesn't work, run this command on a local terminal to set up a SSH tunnel:\n",
      "\n",
      "  ssh -N -L 43149:127.0.0.1:43149 vdi-n22.nci.org.au -l amh157\n"
     ]
    },
    {
     "data": {
      "text/html": [
       "<table style=\"border: 2px solid white;\">\n",
       "<tr>\n",
       "<td style=\"vertical-align: top; border: 0px solid white\">\n",
       "<h3>Client</h3>\n",
       "<ul>\n",
       "  <li><b>Scheduler: </b>tcp://127.0.0.1:44927\n",
       "  <li><b>Dashboard: </b><a href='http://127.0.0.1:43149' target='_blank'>http://127.0.0.1:43149</a>\n",
       "</ul>\n",
       "</td>\n",
       "<td style=\"vertical-align: top; border: 0px solid white\">\n",
       "<h3>Cluster</h3>\n",
       "<ul>\n",
       "  <li><b>Workers: </b>4</li>\n",
       "  <li><b>Cores: </b>8</li>\n",
       "  <li><b>Memory: </b>24.00 GB</li>\n",
       "</ul>\n",
       "</td>\n",
       "</tr>\n",
       "</table>"
      ],
      "text/plain": [
       "<Client: scheduler='tcp://127.0.0.1:44927' processes=4 cores=8>"
      ]
     },
     "execution_count": 2,
     "metadata": {},
     "output_type": "execute_result"
    }
   ],
   "source": [
    "cc.start_cluster()"
   ]
  },
  {
   "cell_type": "markdown",
   "metadata": {},
   "source": [
    "**For starters**, list the three experiments you want to use. For now, we will use RYF sample runs - in the future we hope to be using the full interannual forcing simulations. This script assumes that there are 3 experiments, and that they are ordered as 1°, 0.25° then 0.1°."
   ]
  },
  {
   "cell_type": "markdown",
   "metadata": {},
   "source": [
    "This function computes the overturning from ty_trans_rho. \n",
    "\n",
    "**TO DO:** \n",
    "* Alter this to compute over a specific date range."
   ]
  },
  {
   "cell_type": "code",
   "execution_count": 3,
   "metadata": {},
   "outputs": [],
   "source": [
    "def calc_psi_avg(expt, n=4):\n",
    "    \n",
    "    ## Load overturning from ocean.nc file\n",
    "    psi = cc.get_nc_variable(expt, 'ocean.nc', 'ty_trans_rho',\n",
    "                          chunks={'potrho': None}, n=n,\n",
    "                          time_units = 'days since 1700-01-01')\n",
    "    psi = psi.mean('time').sum('grid_xt_ocean')*1.0e-9\n",
    "    \n",
    "    ## If GM overturning is output, load that too\n",
    "    varlist = cc.get_variables(expt, 'ocean.nc')\n",
    "    if 'ty_trans_rho_gm' in varlist:\n",
    "        GM = True\n",
    "        psiGM = cc.get_nc_variable(expt, 'ocean.nc', 'ty_trans_rho_gm',\n",
    "                              chunks={'potrho': None}, n=n,\n",
    "                              time_units = 'days since 1700-01-01')\n",
    "        psiGM = psiGM.sum('grid_xt_ocean')*1.0e-9\n",
    "    else:\n",
    "        GM = False\n",
    "        \n",
    "    psi_avg = psi.cumsum('potrho') -  psi.sum('potrho')\n",
    "    if GM:\n",
    "        psi_avg = psi_avg + psiGM.mean('time')\n",
    "    \n",
    "    ## This function basically splits the calculation up to save on memory:\n",
    "    psi_avg = cc.compute_by_block(psi_avg)\n",
    "    #psi_avg = psi_avg.compute()\n",
    "    \n",
    "    return psi_avg"
   ]
  },
  {
   "cell_type": "markdown",
   "metadata": {},
   "source": [
    "Compute average overturning for each of the three simulations"
   ]
  },
  {
   "cell_type": "code",
   "execution_count": 22,
   "metadata": {},
   "outputs": [],
   "source": [
    "# 1° resolution \n",
    "ekey = '1deg'\n",
    "expt = exptdata.exptdict[ekey]['expt']\n",
    "print(expt)\n",
    "psi_avg_1 = calc_psi_avg(expt,1)\n",
    "IPython.display.clear_output()"
   ]
  },
  {
   "cell_type": "code",
   "execution_count": 20,
   "metadata": {},
   "outputs": [],
   "source": [
    "# 0.25° resolution - 20 years\n",
    "ekey = '025deg'\n",
    "expt = exptdata.exptdict[ekey]['expt']\n",
    "print(expt)\n",
    "psi_avg_025 = calc_psi_avg(expt,10)\n",
    "IPython.display.clear_output()"
   ]
  },
  {
   "cell_type": "code",
   "execution_count": null,
   "metadata": {},
   "outputs": [
    {
     "name": "stdout",
     "output_type": "stream",
     "text": [
      "01deg_jra55v13_ryf8485_spinup6\n"
     ]
    },
    {
     "data": {
      "application/vnd.jupyter.widget-view+json": {
       "model_id": "eb5adafc7d674d4497709ede9cf4b8fd",
       "version_major": 2,
       "version_minor": 0
      },
      "text/html": [
       "<p>Failed to display Jupyter Widget of type <code>HBox</code>.</p>\n",
       "<p>\n",
       "  If you're reading this message in the Jupyter Notebook or JupyterLab Notebook, it may mean\n",
       "  that the widgets JavaScript is still loading. If this message persists, it\n",
       "  likely means that the widgets JavaScript library is either not installed or\n",
       "  not enabled. See the <a href=\"https://ipywidgets.readthedocs.io/en/stable/user_install.html\">Jupyter\n",
       "  Widgets Documentation</a> for setup instructions.\n",
       "</p>\n",
       "<p>\n",
       "  If you're reading this message in another frontend (for example, a static\n",
       "  rendering on GitHub or <a href=\"https://nbviewer.jupyter.org/\">NBViewer</a>),\n",
       "  it may mean that your frontend doesn't currently support widgets.\n",
       "</p>\n"
      ],
      "text/plain": [
       "HBox(children=(IntProgress(value=0, description='get_nc_variable:: ', max=12), HTML(value='')))"
      ]
     },
     "metadata": {},
     "output_type": "display_data"
    },
    {
     "data": {
      "application/vnd.jupyter.widget-view+json": {
       "model_id": "35536bc12a02435ea2269040978e9630",
       "version_major": 2,
       "version_minor": 0
      },
      "text/html": [
       "<p>Failed to display Jupyter Widget of type <code>HBox</code>.</p>\n",
       "<p>\n",
       "  If you're reading this message in the Jupyter Notebook or JupyterLab Notebook, it may mean\n",
       "  that the widgets JavaScript is still loading. If this message persists, it\n",
       "  likely means that the widgets JavaScript library is either not installed or\n",
       "  not enabled. See the <a href=\"https://ipywidgets.readthedocs.io/en/stable/user_install.html\">Jupyter\n",
       "  Widgets Documentation</a> for setup instructions.\n",
       "</p>\n",
       "<p>\n",
       "  If you're reading this message in another frontend (for example, a static\n",
       "  rendering on GitHub or <a href=\"https://nbviewer.jupyter.org/\">NBViewer</a>),\n",
       "  it may mean that your frontend doesn't currently support widgets.\n",
       "</p>\n"
      ],
      "text/plain": [
       "HBox(children=(IntProgress(value=0, max=10), HTML(value='')))"
      ]
     },
     "metadata": {},
     "output_type": "display_data"
    },
    {
     "name": "stdout",
     "output_type": "stream",
     "text": [
      "\r"
     ]
    }
   ],
   "source": [
    "# 0.1° resolution\n",
    "# just 1 year for now, or it runs out of memory\n",
    "ekey = '01deg'\n",
    "expt = exptdata.exptdict[ekey]['expt']\n",
    "print(expt)\n",
    "psi_avg_01 = calc_psi_avg(expt,12)\n",
    "IPython.display.clear_output()"
   ]
  },
  {
   "cell_type": "markdown",
   "metadata": {},
   "source": [
    "This function plots the streamfunction."
   ]
  },
  {
   "cell_type": "code",
   "execution_count": 8,
   "metadata": {},
   "outputs": [],
   "source": [
    "def plot_psi(psi_avg, clev=np.arange(-25,25,2)):\n",
    "\n",
    "    p1 = plt.contourf(psi_avg.grid_yu_ocean, \n",
    "                 psi_avg.potrho, \n",
    "                 psi_avg, \n",
    "                 cmap=cm.cm.curl,levels=clev,extend='both')\n",
    "    plt.contour(psi_avg.grid_yu_ocean, \n",
    "                psi_avg.potrho, \n",
    "                psi_avg, levels=clev, colors='k', linewidths=0.25)\n",
    "    plt.contour(psi_avg.grid_yu_ocean,\n",
    "                psi_avg.potrho, psi_avg,\n",
    "                levels=[0.0,], colors='k', linewidths=0.5)\n",
    "    plt.gca().invert_yaxis()\n",
    "    \n",
    "    plt.ylim((1037.5,1034))\n",
    "    plt.ylabel('Potential Density (kg m$^{-3}$)')\n",
    "    plt.xlabel('Latitude ($^\\circ$N)')\n",
    "    plt.xlim([-75,85])\n",
    "    \n",
    "    return p1"
   ]
  },
  {
   "cell_type": "markdown",
   "metadata": {},
   "source": [
    "And here is the code to make the actual figure."
   ]
  },
  {
   "cell_type": "code",
   "execution_count": null,
   "metadata": {},
   "outputs": [],
   "source": [
    "plt.figure(figsize=(13,4.5))\n",
    "clev=np.arange(-25,25,2)\n",
    "plt.subplot(131)\n",
    "plot_psi(psi_avg_1,clev)\n",
    "plt.title('(a) ACCESS-OM2')\n",
    "plt.subplot(132)\n",
    "p1 = plot_psi(psi_avg_025,clev)\n",
    "plt.ylabel('')\n",
    "plt.title('(b) ACCESS-OM2-025')\n",
    "plt.subplot(133)\n",
    "p1 = plot_psi(psi_avg_01,clev)\n",
    "plt.ylabel('')\n",
    "plt.title('(c) ACCESS-OM2-01')\n",
    "\n",
    "plt.subplots_adjust(left=0.08,right=0.92)\n",
    "\n",
    "ax1 = plt.axes([0.94,0.3,0.008,0.4])\n",
    "cb = plt.colorbar(p1,cax=ax1,orientation='vertical')\n",
    "ax1.xaxis.set_label_position(\"top\")\n",
    "cb.ax.set_xlabel('Sv')\n",
    "\n",
    "plt.savefig('mean_overturning.pdf')"
   ]
  },
  {
   "cell_type": "code",
   "execution_count": null,
   "metadata": {},
   "outputs": [],
   "source": []
  }
 ],
 "metadata": {
  "kernelspec": {
   "display_name": "Python [conda env:analysis3]",
   "language": "python",
   "name": "conda-env-analysis3-py"
  },
  "language_info": {
   "codemirror_mode": {
    "name": "ipython",
    "version": 3
   },
   "file_extension": ".py",
   "mimetype": "text/x-python",
   "name": "python",
   "nbconvert_exporter": "python",
   "pygments_lexer": "ipython3",
   "version": "3.6.4"
  }
 },
 "nbformat": 4,
 "nbformat_minor": 2
}
