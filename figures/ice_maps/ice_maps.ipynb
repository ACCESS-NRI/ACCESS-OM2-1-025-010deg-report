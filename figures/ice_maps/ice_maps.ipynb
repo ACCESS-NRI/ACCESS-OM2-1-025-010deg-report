{
 "cells": [
  {
   "cell_type": "markdown",
   "metadata": {},
   "source": [
    "# Sea ice maps for ACCESS-OM2_01\n",
    "TODO: compare thickness with cryosat data\n",
    "\n",
    "TODO: code (much) more elegantly"
   ]
  },
  {
   "cell_type": "code",
   "execution_count": 1,
   "metadata": {},
   "outputs": [
    {
     "name": "stdout",
     "output_type": "stream",
     "text": [
      "netcdf_index loaded.\n",
      "Available exptdata keys:  ['1deg', '025deg', '01deg']\n"
     ]
    }
   ],
   "source": [
    "%matplotlib inline\n",
    "import cosima_cookbook as cc\n",
    "from dask.distributed import Client\n",
    "from glob import glob\n",
    "import os,sys\n",
    "import matplotlib.pyplot as plt\n",
    "import matplotlib.colors as colors\n",
    "import numpy as np\n",
    "import xarray as xr\n",
    "import netCDF4 as nc\n",
    "from tqdm import tqdm_notebook\n",
    "from mpl_toolkits.basemap import Basemap\n",
    "from calendar import month_abbr\n",
    "import cmocean as cm\n",
    "import pandas as pd\n",
    "import calendar\n",
    "from datetime import timedelta\n",
    "from datetime import datetime\n",
    "import copy\n",
    "# import cartopy.crs as ccrs\n",
    "# import cartopy.feature as cft\n",
    "\n",
    "import sys, os\n",
    "sys.path.append(os.path.join(os.getcwd(), '..'))  # so we can import ../exptdata\n",
    "import exptdata\n",
    "print('Available exptdata keys: ', [k for k in exptdata.exptdict.keys()])\n",
    "\n",
    "# set up time units and offset to suit CICE \n",
    "# see https://github.com/OceansAus/ACCESS-OM2-1-025-010deg-report/commit/ce3b6331bc4f304d2c5f957ccd2a0ae9ca5d6970#commitcomment-31646163\n",
    "# for e in exptdata.exptdict.keys():\n",
    "#     exptdata.exptdict[e]['time_units'] = None\n",
    "\n",
    "# Set up time_units to suit CICE \n",
    "# Only retain netcdf time_units for 0.1 deg.\n",
    "# We need to change time_units of 1deg and 0.25 deg \n",
    "# to shift the time so the last cycle starts in 1958.\n",
    "# But we don't need offset because CICE time starts at beginning of run, \n",
    "# unlike MOM which starts in year 0001.\n",
    "exptdata.exptdict['01deg']['time_units'] = \"days since 1985-01-01\"  # don't use None - it leaves the time as cftime"
   ]
  },
  {
   "cell_type": "code",
   "execution_count": 2,
   "metadata": {},
   "outputs": [
    {
     "data": {
      "text/plain": [
       "OrderedDict([('1deg',\n",
       "              {'model': 'access-om2',\n",
       "               'expt': '1deg_jra55v13_iaf_spinup1_B1',\n",
       "               'desc': 'ACCESS-OM2',\n",
       "               'n_files': -12,\n",
       "               'time_units': 'days since 1718-01-01',\n",
       "               'offset': -87658,\n",
       "               'exptdir': '/g/data3/hh5/tmp/cosima/access-om2/1deg_jra55v13_iaf_spinup1_B1'}),\n",
       "             ('025deg',\n",
       "              {'model': 'access-om2-025',\n",
       "               'expt': '025deg_jra55v13_iaf_gmredi6',\n",
       "               'desc': 'ACCESS-OM2-025',\n",
       "               'n_files': -34,\n",
       "               'time_units': 'days since 1718-01-01',\n",
       "               'offset': -87658,\n",
       "               'exptdir': '/g/data3/hh5/tmp/cosima/access-om2-025/025deg_jra55v13_iaf_gmredi6'}),\n",
       "             ('01deg',\n",
       "              {'model': 'access-om2-01',\n",
       "               'expt': '01deg_jra55v13_iaf',\n",
       "               'desc': 'ACCESS-OM2-01',\n",
       "               'n_files': None,\n",
       "               'time_units': 'days since 1985-01-01',\n",
       "               'offset': None,\n",
       "               'exptdir': '/g/data3/hh5/tmp/cosima/access-om2-01/01deg_jra55v13_iaf'})])"
      ]
     },
     "execution_count": 2,
     "metadata": {},
     "output_type": "execute_result"
    }
   ],
   "source": [
    "exptdata.exptdict"
   ]
  },
  {
   "cell_type": "markdown",
   "metadata": {},
   "source": [
    "## To deal with memory issues (if needed):\n",
    "* In a terminal on VDI (either over VNC or through SSH and inside screen/tmux), run:\n",
    "`dask-scheduler`\n",
    "* This should output the scheduler address, like `tcp://10.0.64.11:8786`. \n",
    "* Now, in another terminal (ensuring that the default conda module has cosima_cookbook installed, as all workers will need access to that), run:\n",
    "`dask-worker tcp://10.0.64.11:8786 --memory-limit 4e9 --nprocs 6 --nthreads 1 --local-directory /local/g40/aek156`\n",
    "* Then, make sure the following cell matches the scheduler address."
   ]
  },
  {
   "cell_type": "raw",
   "metadata": {},
   "source": [
    "client=Client('tcp://10.0.64.11:8786', local_dir='/local/g40/aek156')\n",
    "client"
   ]
  },
  {
   "cell_type": "code",
   "execution_count": 3,
   "metadata": {},
   "outputs": [],
   "source": [
    "# cc.start_cluster()  # use Client instead?"
   ]
  },
  {
   "cell_type": "markdown",
   "metadata": {},
   "source": [
    "## Data loading definitions"
   ]
  },
  {
   "cell_type": "code",
   "execution_count": 4,
   "metadata": {},
   "outputs": [],
   "source": [
    "# cc.build_index(careful=True)\n",
    "# cc.build_index()"
   ]
  },
  {
   "cell_type": "code",
   "execution_count": 5,
   "metadata": {},
   "outputs": [],
   "source": [
    "def fixcicetime(da):\n",
    "    '''\n",
    "    Correct the time coordinate in DataArray from CICE netcdf file.\n",
    "    \n",
    "    CICE netcdf files unhelpfully have a time coordinate which is just after the end of the averaging period, \n",
    "    e.g. the time stamp for a January average is 1 February, which messes up groupby month etc.\n",
    "    \n",
    "    This function just subtracts 12 hours to put it in the correct month (and day, for daily means).\n",
    "    \n",
    "    PR 109 gives an option to fix this:\n",
    "    https://github.com/OceansAus/cosima-cookbook/pull/109\n",
    "    \n",
    "    '''\n",
    "    try:\n",
    "        da['time'] = da.time - np.timedelta64(12, 'h')\n",
    "    except:\n",
    "        da['time'] = da.time - timedelta(hours=12)  # for 01deg which for some reason uses cftime\n",
    "    return da\n",
    "\n",
    "# use this for DataSet: replaces the bad time dimension with the average of time_bounds.\n",
    "#     The time type is also changed to datetime64[ns]\n",
    "#     ds['time'] = ds.time_bounds.astype('int64').mean(axis=1).astype('datetime64[ns]')\n",
    "    "
   ]
  },
  {
   "cell_type": "raw",
   "metadata": {},
   "source": [
    "# TESTING CICE DATES\n",
    "use_cache=True\n",
    "for ekey in exptdata.exptdict.keys():\n",
    "    print(ekey)\n",
    "#     ekey = '01deg'\n",
    "#     vvv = cc.get_nc_variable(exptdata.exptdict[ekey]['expt'], 'iceh.????-??.nc', 'vicen_m', time_units=exptdata.exptdict[ekey]['time_units'], use_cache=use_cache, n=-500)\n",
    "    vvv = cc.get_nc_variable(exptdata.exptdict[ekey]['expt'], 'iceh.????-??.nc', 'vicen_m', time_units=None, use_cache=use_cache)\n",
    "    # vvv = cc.get_nc_variable(exptdata.exptdict[ekey]['expt'], 'iceh.????-??.nc', 'vicen_m', time_units='days since 1985-01-01', use_cache=use_cache, n=-500)\n",
    "    print(vvv['time'].data[0])\n",
    "    print(vvv['time'].data[-1])\n",
    "    vvv = cc.get_nc_variable(exptdata.exptdict[ekey]['expt'], 'iceh.????-??.nc', 'vicen_m', time_units=exptdata.exptdict[ekey]['time_units'], use_cache=use_cache)\n",
    "    # vvv = cc.get_nc_variable(exptdata.exptdict[ekey]['expt'], 'iceh.????-??.nc', 'vicen_m', time_units='days since 1985-01-01', use_cache=use_cache, n=-500)\n",
    "    print(vvv['time'].data[0])\n",
    "    print(vvv['time'].data[-1])"
   ]
  },
  {
   "cell_type": "raw",
   "metadata": {},
   "source": [
    "# TESTING MOM DATES\n",
    "use_cache=True\n",
    "for ekey in exptdata.exptdict.keys():\n",
    "    print(ekey)\n",
    "    vvv = cc.get_nc_variable(exptdata.exptdict[ekey]['expt'], 'ocean_month.nc', 'eta_t', time_units=None, use_cache=use_cache)\n",
    "    print(vvv['time'].data[0])\n",
    "    print(vvv['time'].data[-1])\n",
    "\n",
    "    vvv = cc.get_nc_variable(exptdata.exptdict[ekey]['expt'], 'ocean_month.nc', 'eta_t', time_units=None, use_cache=use_cache, offset=0)\n",
    "    print(vvv['time'].data[0])\n",
    "    print(vvv['time'].data[-1])\n",
    "\n",
    "    vvv = cc.get_nc_variable(exptdata.exptdict[ekey]['expt'], 'ocean_month.nc', 'eta_t', time_units=exptdata.exptdict[ekey]['time_units'], use_cache=use_cache)\n",
    "    print(vvv['time'].data[0])\n",
    "    print(vvv['time'].data[-1])\n",
    "    vvv = cc.get_nc_variable(exptdata.exptdict[ekey]['expt'], 'ocean_month.nc', 'eta_t', time_units=exptdata.exptdict[ekey]['time_units'], use_cache=use_cache, offset=exptdata.exptdict[ekey]['offset'])\n",
    "    print(vvv['time'].data[0])\n",
    "    print(vvv['time'].data[-1])\n",
    "    vvv = cc.get_nc_variable(exptdata.exptdict[ekey]['expt'], 'ocean_month.nc', 'eta_t', time_units=exptdata.exptdict[ekey]['time_units'], use_cache=use_cache, offset=0)\n",
    "    print(vvv['time'].data[0])\n",
    "    print(vvv['time'].data[-1])\n",
    "    vvv = cc.get_nc_variable(exptdata.exptdict[ekey]['expt'], 'ocean_month.nc', 'eta_t', time_units=None, use_cache=use_cache, offset=exptdata.exptdict[ekey]['offset'])\n",
    "    print(vvv['time'].data[0])\n",
    "    print(vvv['time'].data[-1])\n",
    "    vvv = cc.get_nc_variable(exptdata.exptdict[ekey]['expt'], 'ocean_month.nc', 'eta_t', time_units='days since 1618-01-01', use_cache=use_cache, offset=exptdata.exptdict[ekey]['offset'])\n",
    "    print(vvv['time'].data[0])\n",
    "    print(vvv['time'].data[-1])\n",
    "    break"
   ]
  },
  {
   "cell_type": "code",
   "execution_count": 6,
   "metadata": {},
   "outputs": [],
   "source": [
    "# use common start and end dates for all runs\n",
    "tstart = exptdata.clim_tstart\n",
    "tend = exptdata.clim_tend"
   ]
  },
  {
   "cell_type": "code",
   "execution_count": 7,
   "metadata": {},
   "outputs": [
    {
     "name": "stdout",
     "output_type": "stream",
     "text": [
      "1993-2017\n",
      "tstart =  1993-01-01 00:00:00\n",
      "tend =  2018-01-01 00:00:00\n"
     ]
    }
   ],
   "source": [
    "firstyear = pd.to_datetime(tstart).year  # assumes tstart is 1 January!\n",
    "lastyear = pd.to_datetime(tend).year-1  # assumes tend is 1 January!\n",
    "yearrange = str(firstyear)+'-'+str(lastyear)\n",
    "print(yearrange)\n",
    "print('tstart = ', tstart)\n",
    "print('tend = ', tend)"
   ]
  },
  {
   "cell_type": "code",
   "execution_count": 8,
   "metadata": {},
   "outputs": [],
   "source": [
    "def loaddata(ekey, varnames = ['aice_m', 'hi_m', 'hs_m', 'vicen_m']):\n",
    "# load model data\n",
    "#   NB: varnames must be t-grid variables\n",
    "    global ice_data\n",
    "    try:\n",
    "        ice_data\n",
    "    except NameError:\n",
    "        ice_data = copy.deepcopy(exptdata.exptdict)  # to store ice fields under the same keys as exptdata.exptdict\n",
    "    ide = ice_data[ekey]\n",
    "    expt = ide['expt']\n",
    "    exptdir = ide['exptdir']\n",
    "    time_units = ide['time_units']\n",
    "    \n",
    "    if 'area_t' not in ide.keys():\n",
    "        # get model grid data from MOM outputs since CICE ones have nans on land\n",
    "        gridFileList = glob(os.path.join(exptdir, 'output*/ocean/ocean_grid.nc'))\n",
    "        gridFileList.sort()\n",
    "        gridfile = xr.open_dataset(gridFileList[0])\n",
    "        ide['xt_ocean'] = gridfile.xt_ocean.values\n",
    "        ide['yt_ocean'] = gridfile.yt_ocean.values\n",
    "\n",
    "        varname = 'area_t'\n",
    "        var = gridfile[varname]\n",
    "        ide[varname] = var\n",
    "        ide[varname+'_NH'] = var.sel(yt_ocean=slice(0, 90))\n",
    "        ide[varname+'_SH'] = var.sel(yt_ocean=slice(-90,0))\n",
    "\n",
    "        varname = 'lon_t'\n",
    "        var = exptdata.joinseams(gridfile.geolon_t, tripole_flip=True, lon=True)\n",
    "        ide[varname] = var\n",
    "        ide[varname+'_NH'] = var.sel(yt_ocean=slice(0, 90))\n",
    "        ide[varname+'_SH'] = var.sel(yt_ocean=slice(-90,0))\n",
    "\n",
    "        varname = 'lat_t'\n",
    "        var = exptdata.joinseams(gridfile.geolat_t, tripole_flip=True)\n",
    "        ide[varname] = var\n",
    "        ide[varname+'_NH'] = var.sel(yt_ocean=slice(0, 90))\n",
    "        ide[varname+'_SH'] = var.sel(yt_ocean=slice(-90,0))\n",
    "\n",
    "    for varname in varnames:\n",
    "        print(varname)\n",
    "        if varname not in ide.keys():\n",
    "            if ekey=='01deg':\n",
    "                # work around bug: https://github.com/OceansAus/cosima-cookbook/issues/118\n",
    "                nfiles = len(glob(os.path.join(exptdir, 'output*/ice/OUTPUT/iceh.????-??.nc')))\n",
    "                tmp1 = cc.get_nc_variable(expt, 'iceh.????-??.nc', varname, time_units=time_units, \n",
    "                                     use_cache=use_cache, n=nfiles-200)\n",
    "                tmp2 = cc.get_nc_variable(expt, 'iceh.????-??.nc', varname, time_units=time_units, \n",
    "                                     use_cache=use_cache, n=-200)\n",
    "                var = fixcicetime(xr.concat([tmp1, tmp2], dim='time'))\n",
    "            else:\n",
    "                var = fixcicetime(cc.get_nc_variable(expt, 'iceh.????-??.nc', varname, time_units=time_units, \n",
    "                                     use_cache=use_cache, n=-500))\n",
    "            # use physical coords instead of indices - ASSUMES VARIABLES ARE ON T GRID!\n",
    "            var.coords['ni'] = ide['xt_ocean']\n",
    "            var.coords['nj'] = ide['yt_ocean']\n",
    "            var = var.rename(({'ni':'xt_ocean', 'nj':'yt_ocean'}))\n",
    "            var = exptdata.joinseams(var)  # NB!\n",
    "            ide[varname] = var\n",
    "            ide[varname+'_NH'] = var.sel(yt_ocean=slice(0, 90))\n",
    "            ide[varname+'_SH'] = var.sel(yt_ocean=slice(-90,0))\n",
    "            varmm = var.sel(time=slice(tstart,tend)).groupby('time.month').mean('time', skipna=True)\n",
    "            ide[varname+'_monthly_mean'] = varmm\n",
    "            ide[varname+'_monthly_mean_NH'] = varmm.sel(yt_ocean=slice(0, 90))\n",
    "            ide[varname+'_monthly_mean_SH'] = varmm.sel(yt_ocean=slice(-90,0))"
   ]
  },
  {
   "cell_type": "code",
   "execution_count": 9,
   "metadata": {},
   "outputs": [],
   "source": [
    "# Specify paths to observational data\n",
    "\n",
    "# ObsDir = '/g/data1a/v45/aek156/data/NOAA/G02202_V3'  # from http://nsidc.org/data/G02202\n",
    "# ObsDirExt = '/g/data1a/v45/aek156/data/NOAA/G02135'  # from http://nsidc.org/data/g02135\n",
    "ObsDir = '/g/data3/hh5/tmp/cosima/observations/NOAA/G02202_V3'  # from http://nsidc.org/data/G02202\n",
    "# ObsDirExt = '/g/data3/hh5/tmp/cosima/observations/NOAA/G02135'  # from http://nsidc.org/data/g02135\n",
    "obsNHFileList = glob(os.path.join(ObsDir, 'north/monthly/*.nc'))\n",
    "obsSHFileList = glob(os.path.join(ObsDir, 'south/monthly/*.nc'))\n",
    "# obsExtNHFileList = glob(os.path.join(ObsDirExt, 'north/monthly/data/*.csv'))\n",
    "# obsExtSHFileList = glob(os.path.join(ObsDirExt, 'south/monthly/data/*.csv'))\n",
    "obsNHFileList.sort()\n",
    "obsSHFileList.sort()\n",
    "# obsExtNHFileList.sort()\n",
    "# obsExtSHFileList.sort()"
   ]
  },
  {
   "cell_type": "code",
   "execution_count": 10,
   "metadata": {},
   "outputs": [],
   "source": [
    "def get_obs(obsFileList, years, months, variable='goddard_merged_seaice_conc_monthly'): # seaice_conc_monthly_cdr'): # \n",
    "    '''\n",
    "    Return a dataarray from the nc files in obsFileList.\n",
    "    Based on get_nc_variable.\n",
    "                                TODO: fix bug: land mask has white outline - -----------\n",
    "    '''\n",
    "    dataarrays = []\n",
    "    for year in tqdm_notebook(years, leave=False, desc='year'):\n",
    "        for month in tqdm_notebook(months, leave=False, desc='month'):\n",
    "            obs_fname = [IceFile for IceFile in obsFileList if IceFile[-16:-10]==str(year)+str(month).zfill(2)][0]\n",
    "            dataarray = xr.open_dataset(obs_fname,\n",
    "                                        decode_times=False,\n",
    "                                        autoclose=True)[variable]\n",
    "            dataarrays.append(dataarray)\n",
    "    dataarray = xr.concat(dataarrays, dim='time', coords='all')\n",
    "    if 'time' in dataarray.coords:\n",
    "        time_units = dataarray.time.units\n",
    "        decoded_time = xr.conventions.times.decode_cf_datetime(dataarray.time, time_units)\n",
    "        dataarray.coords['time'] = ('time', decoded_time,\n",
    "                                    {'long_name': 'time', 'decoded_using': time_units }\n",
    "                                   )\n",
    "    # replace values outside valid range with nan\n",
    "    dataarray = dataarray.where(xr.ufuncs.logical_and(dataarray>=0,\n",
    "                                                      dataarray<=1), \n",
    "                                np.nan)\n",
    "# this doesn't work because valid_range is wrong...\n",
    "#     dataarray = dataarray.where(xr.ufuncs.logical_and(dataarray>=dataarray.valid_range[0],\n",
    "#                                                       dataarray<=dataarray.valid_range[1]), \n",
    "#                                 np.nan)\n",
    "\n",
    "#     # use lon/lat coords instead of indices - DOESN'T WORK since lon,lat are 2d (actually 3d)\n",
    "#     dataarray.coords['xgrid'] = dataarray.coords['longitude']\n",
    "#     dataarray.coords['ygrid'] = dataarray.coords['latitude']\n",
    "#     dataarray = dataarray.rename(({'xgrid':'xt_ocean', 'ygrid':'yt_ocean'}))\n",
    "\n",
    "    return dataarray"
   ]
  },
  {
   "cell_type": "markdown",
   "metadata": {},
   "source": [
    "## Load data"
   ]
  },
  {
   "cell_type": "code",
   "execution_count": 11,
   "metadata": {},
   "outputs": [],
   "source": [
    "use_cache = True"
   ]
  },
  {
   "cell_type": "code",
   "execution_count": 12,
   "metadata": {
    "scrolled": true
   },
   "outputs": [
    {
     "name": "stdout",
     "output_type": "stream",
     "text": [
      "aice_m\n",
      "Reading from cache file cache_get_nc_variable_1deg_jra55v13_iaf_spinup1_B1_iceh.????-??.nc_aice_m_-500_days-since-1718-01-01_None_False.pkl\n",
      "hi_m\n",
      "Reading from cache file cache_get_nc_variable_1deg_jra55v13_iaf_spinup1_B1_iceh.????-??.nc_hi_m_-500_days-since-1718-01-01_None_False.pkl\n",
      "hs_m\n",
      "Reading from cache file cache_get_nc_variable_1deg_jra55v13_iaf_spinup1_B1_iceh.????-??.nc_hs_m_-500_days-since-1718-01-01_None_False.pkl\n",
      "vicen_m\n",
      "Reading from cache file cache_get_nc_variable_1deg_jra55v13_iaf_spinup1_B1_iceh.????-??.nc_vicen_m_-500_days-since-1718-01-01_None_False.pkl\n",
      "aice_m\n",
      "Reading from cache file cache_get_nc_variable_025deg_jra55v13_iaf_gmredi6_iceh.????-??.nc_aice_m_-500_days-since-1718-01-01_None_False.pkl\n",
      "hi_m\n",
      "Reading from cache file cache_get_nc_variable_025deg_jra55v13_iaf_gmredi6_iceh.????-??.nc_hi_m_-500_days-since-1718-01-01_None_False.pkl\n",
      "hs_m\n",
      "Reading from cache file cache_get_nc_variable_025deg_jra55v13_iaf_gmredi6_iceh.????-??.nc_hs_m_-500_days-since-1718-01-01_None_False.pkl\n",
      "vicen_m\n",
      "Reading from cache file cache_get_nc_variable_025deg_jra55v13_iaf_gmredi6_iceh.????-??.nc_vicen_m_-500_days-since-1718-01-01_None_False.pkl\n",
      "aice_m\n",
      "Reading from cache file cache_get_nc_variable_01deg_jra55v13_iaf_iceh.????-??.nc_aice_m_196_days-since-1985-01-01_None_False.pkl\n",
      "Reading from cache file cache_get_nc_variable_01deg_jra55v13_iaf_iceh.????-??.nc_aice_m_-200_days-since-1985-01-01_None_False.pkl\n",
      "hi_m\n",
      "Reading from cache file cache_get_nc_variable_01deg_jra55v13_iaf_iceh.????-??.nc_hi_m_196_days-since-1985-01-01_None_False.pkl\n",
      "Reading from cache file cache_get_nc_variable_01deg_jra55v13_iaf_iceh.????-??.nc_hi_m_-200_days-since-1985-01-01_None_False.pkl\n",
      "hs_m\n",
      "Reading from cache file cache_get_nc_variable_01deg_jra55v13_iaf_iceh.????-??.nc_hs_m_196_days-since-1985-01-01_None_False.pkl\n",
      "Reading from cache file cache_get_nc_variable_01deg_jra55v13_iaf_iceh.????-??.nc_hs_m_-200_days-since-1985-01-01_None_False.pkl\n",
      "vicen_m\n",
      "Reading from cache file cache_get_nc_variable_01deg_jra55v13_iaf_iceh.????-??.nc_vicen_m_196_days-since-1985-01-01_None_False.pkl\n",
      "Reading from cache file cache_get_nc_variable_01deg_jra55v13_iaf_iceh.????-??.nc_vicen_m_-200_days-since-1985-01-01_None_False.pkl\n"
     ]
    }
   ],
   "source": [
    "# save concentration for all resolutions to do extent contours\n",
    "try:\n",
    "    ice_data\n",
    "except NameError:\n",
    "    ice_data = copy.deepcopy(exptdata.exptdict)  # to store ice fields under the same keys as exptdata.exptdict\n",
    "for ekey in ice_data.keys():\n",
    "    loaddata(ekey)"
   ]
  },
  {
   "cell_type": "code",
   "execution_count": 13,
   "metadata": {},
   "outputs": [
    {
     "data": {
      "application/vnd.jupyter.widget-view+json": {
       "model_id": "",
       "version_major": 2,
       "version_minor": 0
      },
      "text/plain": [
       "HBox(children=(IntProgress(value=0, description='year', max=25, style=ProgressStyle(description_width='initial…"
      ]
     },
     "metadata": {},
     "output_type": "display_data"
    },
    {
     "data": {
      "application/vnd.jupyter.widget-view+json": {
       "model_id": "",
       "version_major": 2,
       "version_minor": 0
      },
      "text/plain": [
       "HBox(children=(IntProgress(value=0, description='month', max=12, style=ProgressStyle(description_width='initia…"
      ]
     },
     "metadata": {},
     "output_type": "display_data"
    },
    {
     "name": "stderr",
     "output_type": "stream",
     "text": [
      "/g/data3/hh5/public/apps/miniconda3/envs/analysis3-18.10/lib/python3.6/site-packages/ipykernel/__main__.py:13: FutureWarning: The autoclose argument is no longer used by xarray.open_dataset() and is now ignored; it will be removed in xarray v0.12. If necessary, you can control the maximum number of simultaneous open files with xarray.set_options(file_cache_maxsize=...).\n",
      "/g/data3/hh5/public/apps/miniconda3/envs/analysis3-18.10/lib/python3.6/site-packages/xarray/conventions.py:394: SerializationWarning: variable 'melt_onset_day_seaice_conc_monthly_cdr' has multiple fill values {-1, 65535}, decoding all values to NaN.\n",
      "  stack_char_dim=stack_char_dim)\n"
     ]
    },
    {
     "data": {
      "application/vnd.jupyter.widget-view+json": {
       "model_id": "",
       "version_major": 2,
       "version_minor": 0
      },
      "text/plain": [
       "HBox(children=(IntProgress(value=0, description='month', max=12, style=ProgressStyle(description_width='initia…"
      ]
     },
     "metadata": {},
     "output_type": "display_data"
    },
    {
     "data": {
      "application/vnd.jupyter.widget-view+json": {
       "model_id": "",
       "version_major": 2,
       "version_minor": 0
      },
      "text/plain": [
       "HBox(children=(IntProgress(value=0, description='month', max=12, style=ProgressStyle(description_width='initia…"
      ]
     },
     "metadata": {},
     "output_type": "display_data"
    },
    {
     "data": {
      "application/vnd.jupyter.widget-view+json": {
       "model_id": "",
       "version_major": 2,
       "version_minor": 0
      },
      "text/plain": [
       "HBox(children=(IntProgress(value=0, description='month', max=12, style=ProgressStyle(description_width='initia…"
      ]
     },
     "metadata": {},
     "output_type": "display_data"
    },
    {
     "data": {
      "application/vnd.jupyter.widget-view+json": {
       "model_id": "",
       "version_major": 2,
       "version_minor": 0
      },
      "text/plain": [
       "HBox(children=(IntProgress(value=0, description='month', max=12, style=ProgressStyle(description_width='initia…"
      ]
     },
     "metadata": {},
     "output_type": "display_data"
    },
    {
     "data": {
      "application/vnd.jupyter.widget-view+json": {
       "model_id": "",
       "version_major": 2,
       "version_minor": 0
      },
      "text/plain": [
       "HBox(children=(IntProgress(value=0, description='month', max=12, style=ProgressStyle(description_width='initia…"
      ]
     },
     "metadata": {},
     "output_type": "display_data"
    },
    {
     "data": {
      "application/vnd.jupyter.widget-view+json": {
       "model_id": "",
       "version_major": 2,
       "version_minor": 0
      },
      "text/plain": [
       "HBox(children=(IntProgress(value=0, description='month', max=12, style=ProgressStyle(description_width='initia…"
      ]
     },
     "metadata": {},
     "output_type": "display_data"
    },
    {
     "data": {
      "application/vnd.jupyter.widget-view+json": {
       "model_id": "",
       "version_major": 2,
       "version_minor": 0
      },
      "text/plain": [
       "HBox(children=(IntProgress(value=0, description='month', max=12, style=ProgressStyle(description_width='initia…"
      ]
     },
     "metadata": {},
     "output_type": "display_data"
    },
    {
     "data": {
      "application/vnd.jupyter.widget-view+json": {
       "model_id": "",
       "version_major": 2,
       "version_minor": 0
      },
      "text/plain": [
       "HBox(children=(IntProgress(value=0, description='month', max=12, style=ProgressStyle(description_width='initia…"
      ]
     },
     "metadata": {},
     "output_type": "display_data"
    },
    {
     "data": {
      "application/vnd.jupyter.widget-view+json": {
       "model_id": "",
       "version_major": 2,
       "version_minor": 0
      },
      "text/plain": [
       "HBox(children=(IntProgress(value=0, description='month', max=12, style=ProgressStyle(description_width='initia…"
      ]
     },
     "metadata": {},
     "output_type": "display_data"
    },
    {
     "data": {
      "application/vnd.jupyter.widget-view+json": {
       "model_id": "",
       "version_major": 2,
       "version_minor": 0
      },
      "text/plain": [
       "HBox(children=(IntProgress(value=0, description='month', max=12, style=ProgressStyle(description_width='initia…"
      ]
     },
     "metadata": {},
     "output_type": "display_data"
    },
    {
     "data": {
      "application/vnd.jupyter.widget-view+json": {
       "model_id": "",
       "version_major": 2,
       "version_minor": 0
      },
      "text/plain": [
       "HBox(children=(IntProgress(value=0, description='month', max=12, style=ProgressStyle(description_width='initia…"
      ]
     },
     "metadata": {},
     "output_type": "display_data"
    },
    {
     "data": {
      "application/vnd.jupyter.widget-view+json": {
       "model_id": "",
       "version_major": 2,
       "version_minor": 0
      },
      "text/plain": [
       "HBox(children=(IntProgress(value=0, description='month', max=12, style=ProgressStyle(description_width='initia…"
      ]
     },
     "metadata": {},
     "output_type": "display_data"
    },
    {
     "data": {
      "application/vnd.jupyter.widget-view+json": {
       "model_id": "",
       "version_major": 2,
       "version_minor": 0
      },
      "text/plain": [
       "HBox(children=(IntProgress(value=0, description='month', max=12, style=ProgressStyle(description_width='initia…"
      ]
     },
     "metadata": {},
     "output_type": "display_data"
    },
    {
     "data": {
      "application/vnd.jupyter.widget-view+json": {
       "model_id": "",
       "version_major": 2,
       "version_minor": 0
      },
      "text/plain": [
       "HBox(children=(IntProgress(value=0, description='month', max=12, style=ProgressStyle(description_width='initia…"
      ]
     },
     "metadata": {},
     "output_type": "display_data"
    },
    {
     "data": {
      "application/vnd.jupyter.widget-view+json": {
       "model_id": "",
       "version_major": 2,
       "version_minor": 0
      },
      "text/plain": [
       "HBox(children=(IntProgress(value=0, description='month', max=12, style=ProgressStyle(description_width='initia…"
      ]
     },
     "metadata": {},
     "output_type": "display_data"
    },
    {
     "data": {
      "application/vnd.jupyter.widget-view+json": {
       "model_id": "",
       "version_major": 2,
       "version_minor": 0
      },
      "text/plain": [
       "HBox(children=(IntProgress(value=0, description='month', max=12, style=ProgressStyle(description_width='initia…"
      ]
     },
     "metadata": {},
     "output_type": "display_data"
    },
    {
     "data": {
      "application/vnd.jupyter.widget-view+json": {
       "model_id": "",
       "version_major": 2,
       "version_minor": 0
      },
      "text/plain": [
       "HBox(children=(IntProgress(value=0, description='month', max=12, style=ProgressStyle(description_width='initia…"
      ]
     },
     "metadata": {},
     "output_type": "display_data"
    },
    {
     "data": {
      "application/vnd.jupyter.widget-view+json": {
       "model_id": "",
       "version_major": 2,
       "version_minor": 0
      },
      "text/plain": [
       "HBox(children=(IntProgress(value=0, description='month', max=12, style=ProgressStyle(description_width='initia…"
      ]
     },
     "metadata": {},
     "output_type": "display_data"
    },
    {
     "data": {
      "application/vnd.jupyter.widget-view+json": {
       "model_id": "",
       "version_major": 2,
       "version_minor": 0
      },
      "text/plain": [
       "HBox(children=(IntProgress(value=0, description='month', max=12, style=ProgressStyle(description_width='initia…"
      ]
     },
     "metadata": {},
     "output_type": "display_data"
    },
    {
     "data": {
      "application/vnd.jupyter.widget-view+json": {
       "model_id": "",
       "version_major": 2,
       "version_minor": 0
      },
      "text/plain": [
       "HBox(children=(IntProgress(value=0, description='month', max=12, style=ProgressStyle(description_width='initia…"
      ]
     },
     "metadata": {},
     "output_type": "display_data"
    },
    {
     "data": {
      "application/vnd.jupyter.widget-view+json": {
       "model_id": "",
       "version_major": 2,
       "version_minor": 0
      },
      "text/plain": [
       "HBox(children=(IntProgress(value=0, description='month', max=12, style=ProgressStyle(description_width='initia…"
      ]
     },
     "metadata": {},
     "output_type": "display_data"
    },
    {
     "data": {
      "application/vnd.jupyter.widget-view+json": {
       "model_id": "",
       "version_major": 2,
       "version_minor": 0
      },
      "text/plain": [
       "HBox(children=(IntProgress(value=0, description='month', max=12, style=ProgressStyle(description_width='initia…"
      ]
     },
     "metadata": {},
     "output_type": "display_data"
    },
    {
     "data": {
      "application/vnd.jupyter.widget-view+json": {
       "model_id": "",
       "version_major": 2,
       "version_minor": 0
      },
      "text/plain": [
       "HBox(children=(IntProgress(value=0, description='month', max=12, style=ProgressStyle(description_width='initia…"
      ]
     },
     "metadata": {},
     "output_type": "display_data"
    },
    {
     "data": {
      "application/vnd.jupyter.widget-view+json": {
       "model_id": "",
       "version_major": 2,
       "version_minor": 0
      },
      "text/plain": [
       "HBox(children=(IntProgress(value=0, description='month', max=12, style=ProgressStyle(description_width='initia…"
      ]
     },
     "metadata": {},
     "output_type": "display_data"
    },
    {
     "name": "stdout",
     "output_type": "stream",
     "text": [
      "\r"
     ]
    },
    {
     "data": {
      "application/vnd.jupyter.widget-view+json": {
       "model_id": "",
       "version_major": 2,
       "version_minor": 0
      },
      "text/plain": [
       "HBox(children=(IntProgress(value=0, description='year', max=25, style=ProgressStyle(description_width='initial…"
      ]
     },
     "metadata": {},
     "output_type": "display_data"
    },
    {
     "data": {
      "application/vnd.jupyter.widget-view+json": {
       "model_id": "",
       "version_major": 2,
       "version_minor": 0
      },
      "text/plain": [
       "HBox(children=(IntProgress(value=0, description='month', max=12, style=ProgressStyle(description_width='initia…"
      ]
     },
     "metadata": {},
     "output_type": "display_data"
    },
    {
     "name": "stderr",
     "output_type": "stream",
     "text": [
      "/g/data3/hh5/public/apps/miniconda3/envs/analysis3-18.10/lib/python3.6/site-packages/ipykernel/__main__.py:13: FutureWarning: The autoclose argument is no longer used by xarray.open_dataset() and is now ignored; it will be removed in xarray v0.12. If necessary, you can control the maximum number of simultaneous open files with xarray.set_options(file_cache_maxsize=...).\n",
      "/g/data3/hh5/public/apps/miniconda3/envs/analysis3-18.10/lib/python3.6/site-packages/xarray/conventions.py:394: SerializationWarning: variable 'melt_onset_day_seaice_conc_monthly_cdr' has multiple fill values {-1, 65535}, decoding all values to NaN.\n",
      "  stack_char_dim=stack_char_dim)\n"
     ]
    },
    {
     "data": {
      "application/vnd.jupyter.widget-view+json": {
       "model_id": "",
       "version_major": 2,
       "version_minor": 0
      },
      "text/plain": [
       "HBox(children=(IntProgress(value=0, description='month', max=12, style=ProgressStyle(description_width='initia…"
      ]
     },
     "metadata": {},
     "output_type": "display_data"
    },
    {
     "data": {
      "application/vnd.jupyter.widget-view+json": {
       "model_id": "",
       "version_major": 2,
       "version_minor": 0
      },
      "text/plain": [
       "HBox(children=(IntProgress(value=0, description='month', max=12, style=ProgressStyle(description_width='initia…"
      ]
     },
     "metadata": {},
     "output_type": "display_data"
    },
    {
     "data": {
      "application/vnd.jupyter.widget-view+json": {
       "model_id": "",
       "version_major": 2,
       "version_minor": 0
      },
      "text/plain": [
       "HBox(children=(IntProgress(value=0, description='month', max=12, style=ProgressStyle(description_width='initia…"
      ]
     },
     "metadata": {},
     "output_type": "display_data"
    },
    {
     "data": {
      "application/vnd.jupyter.widget-view+json": {
       "model_id": "",
       "version_major": 2,
       "version_minor": 0
      },
      "text/plain": [
       "HBox(children=(IntProgress(value=0, description='month', max=12, style=ProgressStyle(description_width='initia…"
      ]
     },
     "metadata": {},
     "output_type": "display_data"
    },
    {
     "data": {
      "application/vnd.jupyter.widget-view+json": {
       "model_id": "",
       "version_major": 2,
       "version_minor": 0
      },
      "text/plain": [
       "HBox(children=(IntProgress(value=0, description='month', max=12, style=ProgressStyle(description_width='initia…"
      ]
     },
     "metadata": {},
     "output_type": "display_data"
    },
    {
     "data": {
      "application/vnd.jupyter.widget-view+json": {
       "model_id": "",
       "version_major": 2,
       "version_minor": 0
      },
      "text/plain": [
       "HBox(children=(IntProgress(value=0, description='month', max=12, style=ProgressStyle(description_width='initia…"
      ]
     },
     "metadata": {},
     "output_type": "display_data"
    },
    {
     "data": {
      "application/vnd.jupyter.widget-view+json": {
       "model_id": "",
       "version_major": 2,
       "version_minor": 0
      },
      "text/plain": [
       "HBox(children=(IntProgress(value=0, description='month', max=12, style=ProgressStyle(description_width='initia…"
      ]
     },
     "metadata": {},
     "output_type": "display_data"
    },
    {
     "data": {
      "application/vnd.jupyter.widget-view+json": {
       "model_id": "",
       "version_major": 2,
       "version_minor": 0
      },
      "text/plain": [
       "HBox(children=(IntProgress(value=0, description='month', max=12, style=ProgressStyle(description_width='initia…"
      ]
     },
     "metadata": {},
     "output_type": "display_data"
    },
    {
     "data": {
      "application/vnd.jupyter.widget-view+json": {
       "model_id": "",
       "version_major": 2,
       "version_minor": 0
      },
      "text/plain": [
       "HBox(children=(IntProgress(value=0, description='month', max=12, style=ProgressStyle(description_width='initia…"
      ]
     },
     "metadata": {},
     "output_type": "display_data"
    },
    {
     "data": {
      "application/vnd.jupyter.widget-view+json": {
       "model_id": "",
       "version_major": 2,
       "version_minor": 0
      },
      "text/plain": [
       "HBox(children=(IntProgress(value=0, description='month', max=12, style=ProgressStyle(description_width='initia…"
      ]
     },
     "metadata": {},
     "output_type": "display_data"
    },
    {
     "data": {
      "application/vnd.jupyter.widget-view+json": {
       "model_id": "",
       "version_major": 2,
       "version_minor": 0
      },
      "text/plain": [
       "HBox(children=(IntProgress(value=0, description='month', max=12, style=ProgressStyle(description_width='initia…"
      ]
     },
     "metadata": {},
     "output_type": "display_data"
    },
    {
     "data": {
      "application/vnd.jupyter.widget-view+json": {
       "model_id": "",
       "version_major": 2,
       "version_minor": 0
      },
      "text/plain": [
       "HBox(children=(IntProgress(value=0, description='month', max=12, style=ProgressStyle(description_width='initia…"
      ]
     },
     "metadata": {},
     "output_type": "display_data"
    },
    {
     "data": {
      "application/vnd.jupyter.widget-view+json": {
       "model_id": "",
       "version_major": 2,
       "version_minor": 0
      },
      "text/plain": [
       "HBox(children=(IntProgress(value=0, description='month', max=12, style=ProgressStyle(description_width='initia…"
      ]
     },
     "metadata": {},
     "output_type": "display_data"
    },
    {
     "data": {
      "application/vnd.jupyter.widget-view+json": {
       "model_id": "",
       "version_major": 2,
       "version_minor": 0
      },
      "text/plain": [
       "HBox(children=(IntProgress(value=0, description='month', max=12, style=ProgressStyle(description_width='initia…"
      ]
     },
     "metadata": {},
     "output_type": "display_data"
    },
    {
     "data": {
      "application/vnd.jupyter.widget-view+json": {
       "model_id": "",
       "version_major": 2,
       "version_minor": 0
      },
      "text/plain": [
       "HBox(children=(IntProgress(value=0, description='month', max=12, style=ProgressStyle(description_width='initia…"
      ]
     },
     "metadata": {},
     "output_type": "display_data"
    },
    {
     "data": {
      "application/vnd.jupyter.widget-view+json": {
       "model_id": "",
       "version_major": 2,
       "version_minor": 0
      },
      "text/plain": [
       "HBox(children=(IntProgress(value=0, description='month', max=12, style=ProgressStyle(description_width='initia…"
      ]
     },
     "metadata": {},
     "output_type": "display_data"
    },
    {
     "data": {
      "application/vnd.jupyter.widget-view+json": {
       "model_id": "",
       "version_major": 2,
       "version_minor": 0
      },
      "text/plain": [
       "HBox(children=(IntProgress(value=0, description='month', max=12, style=ProgressStyle(description_width='initia…"
      ]
     },
     "metadata": {},
     "output_type": "display_data"
    },
    {
     "data": {
      "application/vnd.jupyter.widget-view+json": {
       "model_id": "",
       "version_major": 2,
       "version_minor": 0
      },
      "text/plain": [
       "HBox(children=(IntProgress(value=0, description='month', max=12, style=ProgressStyle(description_width='initia…"
      ]
     },
     "metadata": {},
     "output_type": "display_data"
    },
    {
     "data": {
      "application/vnd.jupyter.widget-view+json": {
       "model_id": "",
       "version_major": 2,
       "version_minor": 0
      },
      "text/plain": [
       "HBox(children=(IntProgress(value=0, description='month', max=12, style=ProgressStyle(description_width='initia…"
      ]
     },
     "metadata": {},
     "output_type": "display_data"
    },
    {
     "data": {
      "application/vnd.jupyter.widget-view+json": {
       "model_id": "",
       "version_major": 2,
       "version_minor": 0
      },
      "text/plain": [
       "HBox(children=(IntProgress(value=0, description='month', max=12, style=ProgressStyle(description_width='initia…"
      ]
     },
     "metadata": {},
     "output_type": "display_data"
    },
    {
     "data": {
      "application/vnd.jupyter.widget-view+json": {
       "model_id": "",
       "version_major": 2,
       "version_minor": 0
      },
      "text/plain": [
       "HBox(children=(IntProgress(value=0, description='month', max=12, style=ProgressStyle(description_width='initia…"
      ]
     },
     "metadata": {},
     "output_type": "display_data"
    },
    {
     "data": {
      "application/vnd.jupyter.widget-view+json": {
       "model_id": "",
       "version_major": 2,
       "version_minor": 0
      },
      "text/plain": [
       "HBox(children=(IntProgress(value=0, description='month', max=12, style=ProgressStyle(description_width='initia…"
      ]
     },
     "metadata": {},
     "output_type": "display_data"
    },
    {
     "data": {
      "application/vnd.jupyter.widget-view+json": {
       "model_id": "",
       "version_major": 2,
       "version_minor": 0
      },
      "text/plain": [
       "HBox(children=(IntProgress(value=0, description='month', max=12, style=ProgressStyle(description_width='initia…"
      ]
     },
     "metadata": {},
     "output_type": "display_data"
    },
    {
     "data": {
      "application/vnd.jupyter.widget-view+json": {
       "model_id": "",
       "version_major": 2,
       "version_minor": 0
      },
      "text/plain": [
       "HBox(children=(IntProgress(value=0, description='month', max=12, style=ProgressStyle(description_width='initia…"
      ]
     },
     "metadata": {},
     "output_type": "display_data"
    },
    {
     "name": "stdout",
     "output_type": "stream",
     "text": [
      "\r"
     ]
    }
   ],
   "source": [
    "years = range(firstyear, lastyear+1)\n",
    "months = range(1,13)\n",
    "\n",
    "CN_obs_NH = get_obs(obsNHFileList, years, months)\n",
    "CN_obs_SH = get_obs(obsSHFileList, years, months)"
   ]
  },
  {
   "cell_type": "code",
   "execution_count": 14,
   "metadata": {},
   "outputs": [
    {
     "name": "stderr",
     "output_type": "stream",
     "text": [
      "/g/data3/hh5/public/apps/miniconda3/envs/analysis3-18.10/lib/python3.6/site-packages/xarray/core/nanops.py:161: RuntimeWarning: Mean of empty slice\n",
      "  return np.nanmean(a, axis=axis, dtype=dtype)\n"
     ]
    }
   ],
   "source": [
    "CN_obs_NH_monthly_mean = CN_obs_NH.groupby('time.month').mean('time', skipna=True)\n",
    "CN_obs_SH_monthly_mean = CN_obs_SH.groupby('time.month').mean('time', skipna=True)"
   ]
  },
  {
   "cell_type": "markdown",
   "metadata": {},
   "source": [
    "# Generate plots"
   ]
  },
  {
   "cell_type": "code",
   "execution_count": 15,
   "metadata": {},
   "outputs": [],
   "source": [
    "figdir = ''\n",
    "# NOSYNC = '/g/data/v45/aek156/figures/ACCESS-OM2-1-025-010deg-report/figures/ice_validation/NOSYNC/' # where to save figs we don't want to sync\n",
    "NOSYNC = 'NOSYNC/' # where to save figs we don't want to sync\n",
    "if not os.path.exists(NOSYNC):\n",
    "    os.makedirs(NOSYNC)\n",
    "def savefigure(fname):\n",
    "    plt.savefig(os.path.join(figdir, fname+'.png'),dpi=300, bbox_inches=\"tight\")  # comment out to disable saving\n",
    "    plt.savefig(os.path.join(figdir, fname+'.pdf'),dpi=300, bbox_inches=\"tight\")  # comment out to disable saving\n",
    "    return"
   ]
  },
  {
   "cell_type": "code",
   "execution_count": 16,
   "metadata": {},
   "outputs": [],
   "source": [
    "font = {'size':13}\n",
    "tick_font=12"
   ]
  },
  {
   "cell_type": "code",
   "execution_count": 54,
   "metadata": {},
   "outputs": [],
   "source": [
    "clevel = 0.15  # extent contour\n",
    "levels = np.arange(0,1.01,.005)\n",
    "# cmap_gamma = 4. # exponent for power-law stretch of colormap\n",
    "# cbar_ticks = [ f**cmap_gamma for f in [0,.5,.6,.7,.8,.85,.9,.95,.98,1] ]  # for cmap_gamma = 4.\n",
    "cmap_gamma = 2. # exponent for power-law stretch of colormap\n",
    "cbar_ticks = [ f**cmap_gamma for f in [0,.3,.4,.5,.6,.7,.8,.85,.9,.95,1] ]  # for cmap_gamma = 2.\n",
    "# cmp = cm.cm.ice\n",
    "cmp = plt.get_cmap('nipy_spectral')\n",
    "cmp_div = cm.cm.balance"
   ]
  },
  {
   "cell_type": "markdown",
   "metadata": {},
   "source": [
    "## Standard model and obs plots"
   ]
  },
  {
   "cell_type": "code",
   "execution_count": 119,
   "metadata": {},
   "outputs": [],
   "source": [
    "def plot_NH_conc_model(m, xobs, yobs, obs, xys, models, ekey, show_legend=False):\n",
    "    imodel = list(ice_data.keys()).index(ekey)  # model index\n",
    "    x, y = xys[imodel]\n",
    "    model = models[imodel]\n",
    "    m = Basemap(projection ='npstere',boundinglat=48,lon_0=0,resolution='l')\n",
    "    m.drawmapboundary(fill_color='gray') # background color - for non-ocean areas\n",
    "    ctr = m.contourf(x,y,model.sel(yt_ocean=slice(0, 90))**cmap_gamma,levels=levels,cmap=cmp)\n",
    "    ctr.cmap.set_over(color=cmp(255), alpha=None)\n",
    "    cbar = m.colorbar(ctr, location = 'bottom', pad = \"6%\")\n",
    "    cbar.set_label('Ice concentration',size=tick_font)\n",
    "    cbar.set_ticks(cbar_ticks)\n",
    "    cbar.set_ticklabels([str(f**(1./cmap_gamma)) for f in cbar_ticks])\n",
    "    cbar_labels=plt.getp(cbar.ax.axes,'xticklabels')\n",
    "    plt.setp(cbar_labels,fontsize=tick_font)\n",
    "    descs = [d['desc'] for d in ice_data.values()]\n",
    "    # put obs extent contour under the others\n",
    "    csobs = m.contour(xobs,yobs,obs,[clevel],colors='white',linewidths=1)\n",
    "    csobs.collections[0].set_label('Passive microwave '+str(int(clevel*100))+'%')\n",
    "    for c, ek in enumerate(ice_data.keys()):  # do extent contours for all models\n",
    "        xx, yy = xys[c]\n",
    "        d = models[c]\n",
    "        cs = m.contour(xx,yy,d.sel(yt_ocean=slice(0, 90)),[clevel],colors='C'+str(c),linewidths=1)\n",
    "        cs.collections[0].set_label(descs[c]+' '+str(int(clevel*100))+'%')\n",
    "    # put this model's extent contour on top\n",
    "    cs = m.contour(x,y,model.sel(yt_ocean=slice(0, 90)),[clevel],colors='C'+str(imodel),linewidths=1)\n",
    "\n",
    "    parallels = np.arange(-80.,81,10.)\n",
    "    m.drawparallels(parallels,color='white',linewidth=0.5)\n",
    "    meridians = np.arange(0.,351.,30.)\n",
    "    m.drawmeridians(meridians,labels=[True,False,False,True],size=tick_font,color='white',linewidth=0.5)\n",
    "    if show_legend:\n",
    "        plt.legend(prop={'size':8},loc='lower right')"
   ]
  },
  {
   "cell_type": "code",
   "execution_count": 120,
   "metadata": {},
   "outputs": [],
   "source": [
    "def plot_NH_conc_obs(m, xobs, yobs, obs, xys, models, ekey, show_legend=False):\n",
    "    imodel = list(ice_data.keys()).index(ekey)  # model index\n",
    "    x, y = xys[imodel]\n",
    "    model = models[imodel]\n",
    "    m = Basemap(projection ='npstere',boundinglat=48,lon_0=0,resolution='l')\n",
    "    m.drawmapboundary(fill_color='gray') # background color - for non-ocean areas\n",
    "    ctr = m.contourf(xobs,yobs,obs**cmap_gamma,levels=levels,cmap=cmp)\n",
    "    ctr.cmap.set_over(color=cmp(255), alpha=None)\n",
    "    cbar = m.colorbar(ctr, location = 'bottom', pad = \"6%\")\n",
    "    cbar.set_label('Ice concentration',size=tick_font)\n",
    "    cbar.set_ticks(cbar_ticks)\n",
    "    cbar.set_ticklabels([str(f**(1./cmap_gamma)) for f in cbar_ticks])\n",
    "    cbar_labels=plt.getp(cbar.ax.axes,'xticklabels')\n",
    "    plt.setp(cbar_labels,fontsize=tick_font)\n",
    "    descs = [d['desc'] for d in ice_data.values()]\n",
    "    for c, ek in enumerate(ice_data.keys()):  # do extent contours for all models\n",
    "        xx, yy = xys[c]\n",
    "        d = models[c]\n",
    "        cs = m.contour(xx,yy,d.sel(yt_ocean=slice(0, 90)),[clevel],colors='C'+str(c),linewidths=1)\n",
    "        cs.collections[0].set_label(descs[c]+' '+str(int(clevel*100))+'%')\n",
    "    # put this model's extent contour on top\n",
    "    cs = m.contour(x,y,model.sel(yt_ocean=slice(0, 90)),[clevel],colors='C'+str(imodel),linewidths=1)\n",
    "    # put obs extent contour on top\n",
    "    csobs = m.contour(xobs,yobs,obs,[clevel],colors='white',linewidths=1)\n",
    "    csobs.collections[0].set_label('Passive microwave '+str(int(clevel*100))+'%')\n",
    "\n",
    "    parallels = np.arange(-80.,81,10.)\n",
    "    m.drawparallels(parallels,color='white',linewidth=0.5)\n",
    "    meridians = np.arange(0.,351.,30.)\n",
    "    m.drawmeridians(meridians,labels=[True,False,False,True],size=tick_font,color='white',linewidth=0.5)\n",
    "    if show_legend:\n",
    "        plt.legend(prop={'size':8},loc='lower right')"
   ]
  },
  {
   "cell_type": "code",
   "execution_count": 121,
   "metadata": {},
   "outputs": [],
   "source": [
    "def plot_SH_conc_model(m, xobs, yobs, obs, xys, models, ekey, show_legend=False):\n",
    "    imodel = list(ice_data.keys()).index(ekey)  # model index\n",
    "    x, y = xys[imodel]\n",
    "    model = models[imodel]\n",
    "    m = Basemap(projection ='spstere',boundinglat=-54,lon_0=180,resolution='l')\n",
    "    m.drawmapboundary(fill_color='gray') # background color - for non-ocean areas\n",
    "    ctr = m.contourf(x,y,model.sel(yt_ocean=slice(-90, 0))**cmap_gamma,levels=levels,cmap=cmp)\n",
    "    ctr.cmap.set_over(color=cmp(255), alpha=None)\n",
    "    cbar = m.colorbar(ctr, location = 'bottom', pad = \"6%\")\n",
    "    cbar.set_label('Ice concentration',size=tick_font)\n",
    "    cbar.set_ticks(cbar_ticks)\n",
    "    cbar.set_ticklabels([str(f**(1./cmap_gamma)) for f in cbar_ticks])\n",
    "    cbar_labels=plt.getp(cbar.ax.axes,'xticklabels')\n",
    "    plt.setp(cbar_labels,fontsize=tick_font)\n",
    "    descs = [d['desc'] for d in ice_data.values()]\n",
    "    # put obs extent contour under the others\n",
    "    csobs = m.contour(xobs,yobs,obs,[clevel],colors='white',linewidths=1)\n",
    "    csobs.collections[0].set_label('Passive microwave '+str(int(clevel*100))+'%')\n",
    "    for c, ek in enumerate(ice_data.keys()):  # do extent contours for all models\n",
    "        xx, yy = xys[c]\n",
    "        d = models[c]\n",
    "        cs = m.contour(xx,yy,d.sel(yt_ocean=slice(-90, 0)),[clevel],colors='C'+str(c),linewidths=1)\n",
    "        cs.collections[0].set_label(descs[c]+' '+str(int(clevel*100))+'%')\n",
    "    # put this model's extent contour on top\n",
    "    cs = m.contour(x,y,model.sel(yt_ocean=slice(-90, 0)),[clevel],colors='C'+str(imodel),linewidths=1)\n",
    "\n",
    "    parallels = np.arange(-80.,81,10.)\n",
    "    m.drawparallels(parallels,color='white',linewidth=0.5)\n",
    "    meridians = np.arange(0.,351.,30.)\n",
    "    m.drawmeridians(meridians,labels=[True,False,False,True],size=tick_font,color='white',linewidth=0.5)\n",
    "    if show_legend:\n",
    "        plt.legend(prop={'size':8},loc='center')"
   ]
  },
  {
   "cell_type": "code",
   "execution_count": 122,
   "metadata": {},
   "outputs": [],
   "source": [
    "def plot_SH_conc_obs(m, xobs, yobs, obs, xys, models, ekey, show_legend=False):\n",
    "    imodel = list(ice_data.keys()).index(ekey)  # model index\n",
    "    x, y = xys[imodel]\n",
    "    model = models[imodel]\n",
    "    m = Basemap(projection ='spstere',boundinglat=-54,lon_0=180,resolution='l')\n",
    "    m.drawmapboundary(fill_color='gray') # background color - for non-ocean areas\n",
    "    ctr = m.contourf(xobs,yobs,obs**cmap_gamma,levels=levels,cmap=cmp)\n",
    "    ctr.cmap.set_over(color=cmp(255), alpha=None)\n",
    "    cbar = m.colorbar(ctr, location = 'bottom', pad = \"6%\")\n",
    "    cbar.set_label('Ice concentration',size=tick_font)\n",
    "    cbar.set_ticks(cbar_ticks)\n",
    "    cbar.set_ticklabels([str(f**(1./cmap_gamma)) for f in cbar_ticks])\n",
    "    cbar_labels=plt.getp(cbar.ax.axes,'xticklabels')\n",
    "    plt.setp(cbar_labels,fontsize=tick_font)\n",
    "    descs = [d['desc'] for d in ice_data.values()]\n",
    "    for c, ek in enumerate(ice_data.keys()):  # do extent contours for all models\n",
    "        xx, yy = xys[c]\n",
    "        d = models[c]\n",
    "        cs = m.contour(xx,yy,d.sel(yt_ocean=slice(-90, 0)),[clevel],colors='C'+str(c),linewidths=1)\n",
    "        cs.collections[0].set_label(descs[c]+' '+str(int(clevel*100))+'%')\n",
    "    # put this model's extent contour on top\n",
    "    cs = m.contour(x,y,model.sel(yt_ocean=slice(-90, 0)),[clevel],colors='C'+str(imodel),linewidths=1)\n",
    "    # put obs extent contour on top\n",
    "    csobs = m.contour(xobs,yobs,obs,[clevel],colors='white',linewidths=1)\n",
    "    csobs.collections[0].set_label('Passive microwave '+str(int(clevel*100))+'%')\n",
    "\n",
    "    parallels = np.arange(-80.,81,10.)\n",
    "    m.drawparallels(parallels,color='white',linewidth=0.5)\n",
    "    meridians = np.arange(0.,351.,30.)\n",
    "    m.drawmeridians(meridians,labels=[True,False,False,True],size=tick_font,color='white',linewidth=0.5)\n",
    "    if show_legend:\n",
    "        plt.legend(prop={'size':8},loc='lower right')"
   ]
  },
  {
   "cell_type": "markdown",
   "metadata": {},
   "source": [
    "## Monthly climatology comparisons"
   ]
  },
  {
   "cell_type": "code",
   "execution_count": 113,
   "metadata": {},
   "outputs": [],
   "source": [
    "# Arctic ice concentration monthly climatology\n",
    "def plot_NH_conc_monthly_mean(ekey):\n",
    "    m = Basemap(projection ='npstere',boundinglat=48,lon_0=0,resolution='l')\n",
    "    xys = [m(*(d['lon_t_NH'].data, d['lat_t_NH'].data)) for d in ice_data.values()]\n",
    "    xobs, yobs = m(*(CN_obs_NH.longitude.isel(time=1).data, CN_obs_NH.latitude.isel(time=1).data))\n",
    "    for month in months:\n",
    "        outname = ekey+'_concentration_map_NH_'+yearrange+'_'+str(month).zfill(2)+'_mean'\n",
    "        if False: #os.path.exists(os.path.join(figdir, outname+'.png')):\n",
    "            print('Skipping ' + outname + ' (file exists)')\n",
    "        else:\n",
    "            print('Doing ' + outname)\n",
    "            try:\n",
    "                models = [d['aice_m_monthly_mean'].sel(month=month) for d in ice_data.values()]\n",
    "                obs = CN_obs_NH_monthly_mean.sel(month=month)\n",
    "            except:\n",
    "                print('ERROR: could not open files')\n",
    "                continue\n",
    "            plt.figure(4,(12,7))\n",
    "            # plot model\n",
    "            plt.subplot(1,2,1)\n",
    "            plot_NH_conc_model(m, xobs, yobs, obs, xys, models, ekey, show_legend=True)\n",
    "            plt.title(calendar.month_name[month]+' '+yearrange+' mean, ' + exptdata.exptdict[ekey]['desc'], font)\n",
    "            # plot observations\n",
    "            ax = plt.subplot(1,2,2)\n",
    "            plot_NH_conc_obs(m, xobs, yobs, obs, xys, models, ekey, show_legend=False)\n",
    "            plt.title(calendar.month_name[month]+' '+yearrange+' mean, passive microwave', font) #, y=1.03)\n",
    "            ax.annotate('NOAA G02202 V3\\nPassive microwave\\nGoddard merged\\nmonthly data',\n",
    "                xy=(.957, .62), xycoords='figure fraction',\n",
    "                horizontalalignment='right', verticalalignment='center')\n",
    "            plt.tight_layout()\n",
    "            plt.savefig(outname+'.png',dpi=200, bbox_inches=\"tight\")\n",
    "            plt.close()\n",
    "#         break"
   ]
  },
  {
   "cell_type": "code",
   "execution_count": 114,
   "metadata": {},
   "outputs": [],
   "source": [
    "# Antarctic ice concentration monthly climatology\n",
    "def plot_SH_conc_monthly_mean(ekey):\n",
    "    m = Basemap(projection ='spstere',boundinglat=-54,lon_0=180,resolution='l')\n",
    "    xys = [m(*(d['lon_t_SH'].data, d['lat_t_SH'].data)) for d in ice_data.values()]\n",
    "    xobs, yobs = m(*(CN_obs_SH.longitude.isel(time=1).data, CN_obs_SH.latitude.isel(time=1).data))\n",
    "    for month in months:\n",
    "        outname = ekey+'_concentration_map_SH_'+yearrange+'_'+str(month).zfill(2)+'_mean'\n",
    "        if False: #os.path.exists(os.path.join(figdir, outname+'.png')):\n",
    "            print('Skipping ' + outname + ' (file exists)')\n",
    "        else:\n",
    "            print('Doing ' + outname)\n",
    "            try:\n",
    "                models = [d['aice_m_monthly_mean'].sel(month=month) for d in ice_data.values()]\n",
    "                obs = CN_obs_SH_monthly_mean.sel(month=month)\n",
    "            except:\n",
    "                print('ERROR: could not open files')\n",
    "                continue\n",
    "            plt.figure(4,(12,7))\n",
    "            # plot model\n",
    "            plt.subplot(1,2,1)\n",
    "            plot_SH_conc_model(m, xobs, yobs, obs, xys, models, ekey, show_legend=True)\n",
    "            plt.title(calendar.month_name[month]+' '+yearrange+' mean, ' + exptdata.exptdict[ekey]['desc'], font)\n",
    "            # plot observations\n",
    "            ax = plt.subplot(1,2,2)\n",
    "            plot_SH_conc_obs(m, xobs, yobs, obs, xys, models, ekey, show_legend=False)\n",
    "            plt.title(calendar.month_name[month]+' '+yearrange+' mean, passive microwave', font) #, y=1.03)\n",
    "            ax.annotate('NOAA G02202 V3\\nPassive microwave\\nGoddard merged\\nmonthly data',\n",
    "                xy=(.5, .5), xycoords='axes fraction',\n",
    "                horizontalalignment='center', verticalalignment='center')\n",
    "            plt.tight_layout()\n",
    "            plt.savefig(outname+'.png',dpi=200, bbox_inches=\"tight\")\n",
    "            plt.close()\n",
    "#         break"
   ]
  },
  {
   "cell_type": "code",
   "execution_count": 69,
   "metadata": {
    "collapsed": true
   },
   "outputs": [
    {
     "name": "stdout",
     "output_type": "stream",
     "text": [
      "1deg\n",
      "aice_m\n",
      "hi_m\n",
      "hs_m\n",
      "vicen_m\n",
      "Doing 1deg_concentration_map_NH_1993-2017_01_mean\n",
      "Doing 1deg_concentration_map_NH_1993-2017_02_mean\n",
      "Doing 1deg_concentration_map_NH_1993-2017_03_mean\n",
      "Doing 1deg_concentration_map_NH_1993-2017_04_mean\n",
      "Doing 1deg_concentration_map_NH_1993-2017_05_mean\n",
      "Doing 1deg_concentration_map_NH_1993-2017_06_mean\n",
      "Doing 1deg_concentration_map_NH_1993-2017_07_mean\n",
      "Doing 1deg_concentration_map_NH_1993-2017_08_mean\n",
      "Doing 1deg_concentration_map_NH_1993-2017_09_mean\n",
      "Doing 1deg_concentration_map_NH_1993-2017_10_mean\n",
      "Doing 1deg_concentration_map_NH_1993-2017_11_mean\n",
      "Doing 1deg_concentration_map_NH_1993-2017_12_mean\n",
      "Doing 1deg_concentration_map_SH_1993-2017_01_mean\n",
      "Doing 1deg_concentration_map_SH_1993-2017_02_mean\n",
      "Doing 1deg_concentration_map_SH_1993-2017_03_mean\n",
      "Doing 1deg_concentration_map_SH_1993-2017_04_mean\n",
      "Doing 1deg_concentration_map_SH_1993-2017_05_mean\n",
      "Doing 1deg_concentration_map_SH_1993-2017_06_mean\n",
      "Doing 1deg_concentration_map_SH_1993-2017_07_mean\n",
      "Doing 1deg_concentration_map_SH_1993-2017_08_mean\n",
      "Doing 1deg_concentration_map_SH_1993-2017_09_mean\n",
      "Doing 1deg_concentration_map_SH_1993-2017_10_mean\n",
      "Doing 1deg_concentration_map_SH_1993-2017_11_mean\n",
      "Doing 1deg_concentration_map_SH_1993-2017_12_mean\n",
      "025deg\n",
      "aice_m\n",
      "hi_m\n",
      "hs_m\n",
      "vicen_m\n",
      "Doing 025deg_concentration_map_NH_1993-2017_01_mean\n",
      "Doing 025deg_concentration_map_NH_1993-2017_02_mean\n",
      "Doing 025deg_concentration_map_NH_1993-2017_03_mean\n",
      "Doing 025deg_concentration_map_NH_1993-2017_04_mean\n",
      "Doing 025deg_concentration_map_NH_1993-2017_05_mean\n",
      "Doing 025deg_concentration_map_NH_1993-2017_06_mean\n",
      "Doing 025deg_concentration_map_NH_1993-2017_07_mean\n",
      "Doing 025deg_concentration_map_NH_1993-2017_08_mean\n",
      "Doing 025deg_concentration_map_NH_1993-2017_09_mean\n",
      "Doing 025deg_concentration_map_NH_1993-2017_10_mean\n",
      "Doing 025deg_concentration_map_NH_1993-2017_11_mean\n",
      "Doing 025deg_concentration_map_NH_1993-2017_12_mean\n",
      "Doing 025deg_concentration_map_SH_1993-2017_01_mean\n",
      "Doing 025deg_concentration_map_SH_1993-2017_02_mean\n",
      "Doing 025deg_concentration_map_SH_1993-2017_03_mean\n",
      "Doing 025deg_concentration_map_SH_1993-2017_04_mean\n",
      "Doing 025deg_concentration_map_SH_1993-2017_05_mean\n",
      "Doing 025deg_concentration_map_SH_1993-2017_06_mean\n",
      "Doing 025deg_concentration_map_SH_1993-2017_07_mean\n",
      "Doing 025deg_concentration_map_SH_1993-2017_08_mean\n",
      "Doing 025deg_concentration_map_SH_1993-2017_09_mean\n",
      "Doing 025deg_concentration_map_SH_1993-2017_10_mean\n",
      "Doing 025deg_concentration_map_SH_1993-2017_11_mean\n",
      "Doing 025deg_concentration_map_SH_1993-2017_12_mean\n",
      "01deg\n",
      "aice_m\n",
      "hi_m\n",
      "hs_m\n",
      "vicen_m\n",
      "Doing 01deg_concentration_map_NH_1993-2017_01_mean\n",
      "Doing 01deg_concentration_map_NH_1993-2017_02_mean\n",
      "Doing 01deg_concentration_map_NH_1993-2017_03_mean\n",
      "Doing 01deg_concentration_map_NH_1993-2017_04_mean\n",
      "Doing 01deg_concentration_map_NH_1993-2017_05_mean\n",
      "Doing 01deg_concentration_map_NH_1993-2017_06_mean\n",
      "Doing 01deg_concentration_map_NH_1993-2017_07_mean\n",
      "Doing 01deg_concentration_map_NH_1993-2017_08_mean\n",
      "Doing 01deg_concentration_map_NH_1993-2017_09_mean\n",
      "Doing 01deg_concentration_map_NH_1993-2017_10_mean\n",
      "Doing 01deg_concentration_map_NH_1993-2017_11_mean\n",
      "Doing 01deg_concentration_map_NH_1993-2017_12_mean\n",
      "Doing 01deg_concentration_map_SH_1993-2017_01_mean\n",
      "Doing 01deg_concentration_map_SH_1993-2017_02_mean\n",
      "Doing 01deg_concentration_map_SH_1993-2017_03_mean\n",
      "Doing 01deg_concentration_map_SH_1993-2017_04_mean\n",
      "Doing 01deg_concentration_map_SH_1993-2017_05_mean\n",
      "Doing 01deg_concentration_map_SH_1993-2017_06_mean\n",
      "Doing 01deg_concentration_map_SH_1993-2017_07_mean\n",
      "Doing 01deg_concentration_map_SH_1993-2017_08_mean\n",
      "Doing 01deg_concentration_map_SH_1993-2017_09_mean\n",
      "Doing 01deg_concentration_map_SH_1993-2017_10_mean\n",
      "Doing 01deg_concentration_map_SH_1993-2017_11_mean\n",
      "Doing 01deg_concentration_map_SH_1993-2017_12_mean\n"
     ]
    }
   ],
   "source": [
    "# monthly mean climatology\n",
    "for ekey in exptdata.exptdict.keys():\n",
    "    print(ekey)\n",
    "    loaddata(ekey)\n",
    "#     plt.figure()\n",
    "    plot_NH_conc_monthly_mean(ekey)\n",
    "#     break\n",
    "#     plt.figure()\n",
    "    plot_SH_conc_monthly_mean(ekey)\n",
    "#     break"
   ]
  },
  {
   "cell_type": "markdown",
   "metadata": {},
   "source": [
    "## Comparisons for individual months"
   ]
  },
  {
   "cell_type": "raw",
   "metadata": {},
   "source": [
    "# Arctic ice concentration for each month\n",
    "def plot_NH_conc_months(ekey):\n",
    "    m = Basemap(projection ='npstere',boundinglat=48,lon_0=0,resolution='l')\n",
    "    x,y = m(*(ice_data[ekey]['lon_t_NH'],ice_data[ekey]['lat_t_NH']))\n",
    "    xobs,yobs = m(*(CN_obs_NH.longitude.isel(time=1).data, CN_obs_NH.latitude.isel(time=1).data))\n",
    "\n",
    "    for year in years:\n",
    "        for month in months:\n",
    "            outnamebase = ekey+'_concentration_map_NH'\n",
    "            outname = NOSYNC+outnamebase+'/'+outnamebase+'_'+str(year)+'_'+str(month).zfill(2)\n",
    "            if os.path.exists(os.path.join(figdir, outname+'.png')):\n",
    "                print('Skipping ' + outname + ' (file exists)')\n",
    "            else:\n",
    "                print('Doing ' + outname)\n",
    "                try:\n",
    "                    model = ice_data[ekey]['aice_m'].sel(time=pd.to_datetime(str(year)+str(month).zfill(2), format='%Y%m'))\n",
    "                    obs = CN_obs_NH.sel(time=pd.to_datetime(str(year)+str(month).zfill(2), format='%Y%m'))\n",
    "                except:\n",
    "                    print('ERROR: could not open files')\n",
    "                    continue\n",
    "                plt.figure(4,(12,7))\n",
    "\n",
    "                # plot model\n",
    "                plt.subplot(1,2,1)\n",
    "                plot_NH_conc_model(m, x, y, model, xobs, yobs, obs)\n",
    "                plt.title(calendar.month_name[month]+' '+str(year)+', ' + exptdata.exptdict[ekey]['desc'], font)\n",
    "\n",
    "                # plot observations\n",
    "                ax = plt.subplot(1,2,2)\n",
    "                plot_NH_conc_obs(m, x, y, model, xobs, yobs, obs)\n",
    "                plt.title(calendar.month_name[month]+' '+str(year)+', observed', font) #, y=1.03)\n",
    "                ax.annotate('NOAA G02202 V3\\nPassive microwave\\nGoddard merged\\nmonthly data',\n",
    "                    xy=(.945, .7), xycoords='figure fraction',\n",
    "                    horizontalalignment='right', verticalalignment='center')\n",
    "\n",
    "                plt.tight_layout()\n",
    "\n",
    "    #             savefigure(outname)\n",
    "                plt.savefig(outname+'.png',dpi=150, bbox_inches=\"tight\")\n",
    "\n",
    "                plt.close()\n",
    "\n",
    "#             break\n",
    "#         break"
   ]
  },
  {
   "cell_type": "raw",
   "metadata": {},
   "source": [
    "# Antarctic ice concentration for each month\n",
    "def plot_SH_conc_months(ekey):\n",
    "    m = Basemap(projection ='spstere',boundinglat=-54,lon_0=180,resolution='l')\n",
    "    x,y = m(*(ice_data[ekey]['lon_t_SH'],ice_data[ekey]['lat_t_SH']))\n",
    "    xobs,yobs = m(*(CN_obs_SH.longitude.isel(time=1).data, CN_obs_SH.latitude.isel(time=1).data))\n",
    "\n",
    "    for year in years:\n",
    "        for month in months:\n",
    "            outnamebase = ekey+'_concentration_map_SH'\n",
    "            outname = NOSYNC+outnamebase+'/'+outnamebase+'_'+str(year)+'_'+str(month).zfill(2)\n",
    "            if os.path.exists(os.path.join(figdir, outname+'.png')):\n",
    "                print('Skipping ' + outname + ' (file exists)')\n",
    "            else:\n",
    "                print('Doing ' + outname)\n",
    "                try:\n",
    "                    model = ice_data[ekey]['aice_m'].sel(time=pd.to_datetime(str(year)+str(month).zfill(2), format='%Y%m'))\n",
    "                    obs = CN_obs_SH.sel(time=pd.to_datetime(str(year)+str(month).zfill(2), format='%Y%m'))\n",
    "                except:\n",
    "                    print('ERROR: could not open files')\n",
    "                    continue\n",
    "                plt.figure(4,(12,7))\n",
    "\n",
    "                # plot model\n",
    "                plt.subplot(1,2,1)\n",
    "                plot_SH_conc_model(m, x, y, model, xobs, yobs, obs)\n",
    "                plt.title(calendar.month_name[month]+' '+str(year)+', ' + exptdata.exptdict[ekey]['desc'], font)\n",
    "\n",
    "                # plot observations\n",
    "                ax = plt.subplot(1,2,2)\n",
    "                plot_SH_conc_obs(m, x, y, model, xobs, yobs, obs)\n",
    "                plt.title(calendar.month_name[month]+' '+str(year)+', observed', font) #, y=1.03)\n",
    "                ax.annotate('NOAA G02202 V3\\nPassive microwave\\nGoddard merged\\nmonthly data',\n",
    "                    xy=(.5, .5), xycoords='axes fraction',\n",
    "                    horizontalalignment='center', verticalalignment='center')\n",
    "\n",
    "                plt.tight_layout()\n",
    "\n",
    "    #             savefigure(outname)\n",
    "                plt.savefig(outname+'.png',dpi=150, bbox_inches=\"tight\")\n",
    "\n",
    "                plt.close()\n",
    "\n",
    "#             break\n",
    "#         break"
   ]
  },
  {
   "cell_type": "raw",
   "metadata": {},
   "source": [
    "# each month\n",
    "for ekey in exptdata.exptdict.keys():\n",
    "    print(ekey)\n",
    "    loaddata(ekey)\n",
    "    plot_NH_conc_months(ekey)\n",
    "    plot_SH_conc_months(ekey)\n",
    "\n",
    "#     break"
   ]
  },
  {
   "cell_type": "markdown",
   "metadata": {},
   "source": [
    "## 4-panel plots for paper\n",
    "Top row: winter max\n",
    "\n",
    "Bottom row: summer min\n",
    "\n",
    "Left col: model\n",
    "\n",
    "Right col: obs"
   ]
  },
  {
   "cell_type": "code",
   "execution_count": 123,
   "metadata": {},
   "outputs": [],
   "source": [
    "# Arctic ice concentration monthly climatology for 4 months\n",
    "def plot_NH_conc_4_panel(ekey):\n",
    "    mo = [3, 9]  # specify 2 months (counting from 1) for top and bottom row\n",
    "    m = Basemap(projection ='npstere',boundinglat=48,lon_0=0,resolution='l')\n",
    "    xys = [m(*(d['lon_t_NH'].data, d['lat_t_NH'].data)) for d in ice_data.values()]\n",
    "    xobs, yobs = m(*(CN_obs_NH.longitude.isel(time=1).data, CN_obs_NH.latitude.isel(time=1).data))\n",
    "    outname = ekey+'_concentration_map_NH_'+yearrange+'_'+str(mo[0]).zfill(2)+'_'+str(mo[1]).zfill(2)+'_mean'\n",
    "    if False: #os.path.exists(os.path.join(figdir, outname+'.png')):\n",
    "        print('Skipping ' + outname + ' (file exists)')\n",
    "    else:\n",
    "        print('Doing ' + outname)\n",
    "        plt.figure(4,(12,10))\n",
    "        for mi, month in enumerate(mo):\n",
    "            try:\n",
    "                models = [d['aice_m_monthly_mean'].sel(month=month) for d in ice_data.values()]\n",
    "                obs = CN_obs_NH_monthly_mean.sel(month=month)\n",
    "            except:\n",
    "                print('ERROR: could not open files')\n",
    "                continue\n",
    "            # plot model\n",
    "            plt.subplot(2,2,2*mi+1)\n",
    "            plot_NH_conc_model(m, xobs, yobs, obs, xys, models, ekey, show_legend=False)\n",
    "            plt.title('('+str(chr(ord('a')+2*mi))+') '+calendar.month_name[month]+' '+yearrange+' mean, ' + exptdata.exptdict[ekey]['desc'], font)\n",
    "            # plot observations\n",
    "            ax = plt.subplot(2,2,2*mi+2)\n",
    "            plot_NH_conc_obs(m, xobs, yobs, obs, xys, models, ekey, show_legend=mi==1)\n",
    "            plt.title('('+str(chr(ord('a')+2*mi+1))+') '+calendar.month_name[month]+' '+yearrange+' mean, passive microwave', font) #, y=1.03)\n",
    "        plt.tight_layout()\n",
    "        plt.savefig(outname+'.png',dpi=200, bbox_inches=\"tight\")\n",
    "        plt.close()"
   ]
  },
  {
   "cell_type": "code",
   "execution_count": 124,
   "metadata": {},
   "outputs": [],
   "source": [
    "# Antarctic ice concentration monthly climatology for 4 months\n",
    "def plot_SH_conc_4_panel(ekey):\n",
    "    mo = [9, 2]  # specify 2 months (counting from 1) for top and bottom row\n",
    "    m = Basemap(projection ='spstere',boundinglat=-54,lon_0=180,resolution='l')\n",
    "    xys = [m(*(d['lon_t_SH'].data, d['lat_t_SH'].data)) for d in ice_data.values()]\n",
    "    xobs, yobs = m(*(CN_obs_SH.longitude.isel(time=1).data, CN_obs_SH.latitude.isel(time=1).data))\n",
    "    outname = ekey+'_concentration_map_SH_'+yearrange+'_'+str(mo[0]).zfill(2)+'_'+str(mo[1]).zfill(2)+'_mean'\n",
    "    if False: #os.path.exists(os.path.join(figdir, outname+'.png')):\n",
    "        print('Skipping ' + outname + ' (file exists)')\n",
    "    else:\n",
    "        print('Doing ' + outname)\n",
    "        plt.figure(4,(12,10))\n",
    "        for mi, month in enumerate(mo):\n",
    "            try:\n",
    "                models = [d['aice_m_monthly_mean'].sel(month=month) for d in ice_data.values()]\n",
    "                obs = CN_obs_SH_monthly_mean.sel(month=month)\n",
    "            except:\n",
    "                print('ERROR: could not open files')\n",
    "                continue\n",
    "            # plot model\n",
    "            plt.subplot(2,2,2*mi+1)\n",
    "            plot_SH_conc_model(m, xobs, yobs, obs, xys, models, ekey, show_legend=False)\n",
    "            plt.title('('+str(chr(ord('a')+2*mi))+') '+calendar.month_name[month]+' '+yearrange+' mean, ' + exptdata.exptdict[ekey]['desc'], font)\n",
    "            # plot observations\n",
    "            ax = plt.subplot(2,2,2*mi+2)\n",
    "            plot_SH_conc_obs(m, xobs, yobs, obs, xys, models, ekey, show_legend=mi==1)\n",
    "            plt.title('('+str(chr(ord('a')+2*mi+1))+') '+calendar.month_name[month]+' '+yearrange+' mean, passive microwave', font) #, y=1.03)\n",
    "        plt.tight_layout()\n",
    "        plt.savefig(outname+'.png',dpi=200, bbox_inches=\"tight\")\n",
    "        plt.close()"
   ]
  },
  {
   "cell_type": "code",
   "execution_count": 125,
   "metadata": {},
   "outputs": [
    {
     "name": "stdout",
     "output_type": "stream",
     "text": [
      "1deg\n",
      "Doing 1deg_concentration_map_NH_1993-2017_03_09_mean\n",
      "Doing 1deg_concentration_map_SH_1993-2017_09_02_mean\n",
      "025deg\n",
      "Doing 025deg_concentration_map_NH_1993-2017_03_09_mean\n",
      "Doing 025deg_concentration_map_SH_1993-2017_09_02_mean\n",
      "01deg\n",
      "Doing 01deg_concentration_map_NH_1993-2017_03_09_mean\n",
      "Doing 01deg_concentration_map_SH_1993-2017_09_02_mean\n"
     ]
    }
   ],
   "source": [
    "for ekey in exptdata.exptdict.keys():\n",
    "    print(ekey)\n",
    "    plot_NH_conc_4_panel(ekey)\n",
    "    plot_SH_conc_4_panel(ekey)"
   ]
  },
  {
   "cell_type": "markdown",
   "metadata": {},
   "source": [
    "## Monthly climatology bias\n",
    "INTERPOLATION DOESN'T WORK - xt_ocean, yt_ocean are bogus coords in tripole, and obs coords are in metres"
   ]
  },
  {
   "cell_type": "raw",
   "metadata": {},
   "source": [
    "model = ice_data['1deg']['aice_m_monthly_mean'].sel(month=1)\n",
    "obs = CN_obs_NH_monthly_mean.sel(month=1)\n",
    "obs1deg = obs.interp_like(model, method='nearest')  # DOESN'T WORK - xt_ocean, yt_ocean are bogus coords in tripole, and obs coords are in metres\n",
    "bias = model - obs"
   ]
  },
  {
   "cell_type": "markdown",
   "metadata": {},
   "source": [
    "## testing out cartopy - doesn't handle tripole seam...."
   ]
  },
  {
   "cell_type": "code",
   "execution_count": 93,
   "metadata": {},
   "outputs": [
    {
     "data": {
      "text/plain": [
       "<xarray.DataArray 'aice_m' (month: 12, yt_ocean: 300, xt_ocean: 360)>\n",
       "dask.array<shape=(12, 300, 360), dtype=float32, chunksize=(1, 300, 360)>\n",
       "Coordinates:\n",
       "  * xt_ocean  (xt_ocean) float64 -279.5 -278.5 -277.5 -276.5 ... 77.5 78.5 79.5\n",
       "  * yt_ocean  (yt_ocean) float64 -77.88 -77.63 -77.38 ... 88.87 89.32 89.77\n",
       "    ULON      (yt_ocean, xt_ocean) float32 -279.0 -278.0 -277.0 ... 80.0 80.0\n",
       "    TLON      (yt_ocean, xt_ocean) float32 80.5 81.5 82.5 ... 79.973366 79.99112\n",
       "    ULAT      (yt_ocean, xt_ocean) float32 -77.75317 -77.75317 ... 65.41931 65.0\n",
       "    TLAT      (yt_ocean, xt_ocean) float32 -77.876625 -77.876625 ... 65.21044\n",
       "  * month     (month) int64 1 2 3 4 5 6 7 8 9 10 11 12"
      ]
     },
     "execution_count": 93,
     "metadata": {},
     "output_type": "execute_result"
    }
   ],
   "source": [
    "ice_data['1deg']['aice_m_monthly_mean'].isel(xt_ocean=slice(0,-1)).isel(yt_ocean=slice(0,-1))"
   ]
  },
  {
   "cell_type": "code",
   "execution_count": 101,
   "metadata": {},
   "outputs": [
    {
     "data": {
      "image/png": "[encoded data removed]",
      "text/plain": [
       "<Figure size 1080x576 with 4 Axes>"
      ]
     },
     "metadata": {
      "needs_background": "light"
     },
     "output_type": "display_data"
    }
   ],
   "source": [
    "# testing out cartopy - doesn't handle tripole seam....\n",
    "plt.figure(figsize=(15,8))\n",
    "clev = np.arange(0,1.00001,.05)\n",
    "land_50m = cft.NaturalEarthFeature('physical', 'land', '50m',\n",
    "                                        edgecolor='black',\n",
    "                                        facecolor='gray',linewidth=0.5)\n",
    "\n",
    "ax = plt.subplot(2,2,1,projection=ccrs.NorthPolarStereo(central_longitude=-100))\n",
    "ax.coastlines(resolution='50m')\n",
    "ax.add_feature(land_50m)\n",
    "gl = ax.gridlines(draw_labels=False)\n",
    "p1 = ice_data['1deg']['aice_m_monthly_mean'].isel(xt_ocean=slice(0,-1)).isel(yt_ocean=slice(0,-1)).sel(yt_ocean=slice(45, 90)).sel(month=1).plot.contourf(\n",
    "    cmap=cmp, levels=clev, transform=ccrs.PlateCarree())\n",
    "\n",
    "ax = plt.subplot(2,2,2,projection=ccrs.NorthPolarStereo(central_longitude=-100))\n",
    "ax.coastlines(resolution='50m')\n",
    "ax.add_feature(land_50m)\n",
    "gl = ax.gridlines(draw_labels=False)\n",
    "p1 = ice_data['1deg']['aice_m_monthly_mean'].sel(yt_ocean=slice(45, 90)).sel(month=1).plot.contourf(\n",
    "    cmap=cmp, levels=clev, transform=ccrs.PlateCarree())\n",
    "\n",
    "\n",
    "\n"
   ]
  },
  {
   "cell_type": "markdown",
   "metadata": {},
   "source": [
    "## Monthly thickness climatology by category\n",
    "\n",
    "TODO: use fixed contour levels for each category and more contour levels"
   ]
  },
  {
   "cell_type": "code",
   "execution_count": null,
   "metadata": {},
   "outputs": [],
   "source": [
    "def plot_SH_thickness(m, x, y, model, model_aice, xobs, yobs, obs, c):\n",
    "    model = exptdata.joinseams(model)\n",
    "    model_aice = exptdata.joinseams(model_aice)\n",
    "    m = Basemap(projection ='spstere',boundinglat=-54,lon_0=180,resolution='l')\n",
    "    m.drawmapboundary(fill_color='gray') # background color - for non-ocean areas\n",
    "#     ctr = m.contourf(x,y,model[:NLAT_half,:],levels=50,cmap=cmp)\n",
    "\n",
    "    ctr = m.contourf(x,y,model[:NLAT_half,:],cmap=cmp)\n",
    "\n",
    "    ctr.cmap.set_over(color='w', alpha=None)\n",
    "    cbar = m.colorbar(ctr, location = 'bottom', pad = \"6%\")\n",
    "    cbar.set_label('Ice thickness in category '+str(c+1)+' (m)',size=tick_font)\n",
    "#     cbar.set_ticks(cbar_ticks)\n",
    "#     cbar.set_ticklabels([str(f**(1./cmap_gamma)) for f in cbar_ticks])\n",
    "#     cbar_labels=plt.getp(cbar.ax.axes,'xticklabels')\n",
    "#     plt.setp(cbar_labels,fontsize=tick_font)\n",
    "    cs = m.contour(x,y,model_aice[:NLAT_half,:],[clevel],colors='g',linewidths=1)\n",
    "    cs.collections[0].set_label('model '+str(int(clevel*100))+'%')\n",
    "    cs = m.contour(xobs,yobs,obs,[clevel],colors='r',linewidths=1)\n",
    "    cs.collections[0].set_label('obs '+str(int(clevel*100))+'%')\n",
    "\n",
    "    parallels = np.arange(-80.,81,10.)\n",
    "    m.drawparallels(parallels,color='white',linewidth=0.5)\n",
    "    meridians = np.arange(0.,351.,30.)\n",
    "    m.drawmeridians(meridians,labels=[True,False,False,True],size=tick_font,color='white',linewidth=0.5)\n",
    "    plt.legend(prop={'size':11},loc='center') #, bbox_to_anchor=(1, 1))"
   ]
  },
  {
   "cell_type": "code",
   "execution_count": null,
   "metadata": {},
   "outputs": [],
   "source": [
    "# Antarctic ice thickness monthly climatology\n",
    "def plot_SH_thickness_monthly_mean(ekey):\n",
    "    m = Basemap(projection ='spstere',boundinglat=-54,lon_0=180,resolution='l')\n",
    "    x,y = m(*(lon_t[:NLAT_half,:],lat_t[:NLAT_half,:]))\n",
    "    xobs,yobs = m(*(CN_obs_SH.longitude.isel(time=1).data, CN_obs_SH.latitude.isel(time=1).data))\n",
    "\n",
    "    for mi, month in enumerate(months):\n",
    "        for c in range(len(vicen_m_monthly_mean['nc'])):\n",
    "            outname = ekey+'_thickness_map_SH_cat'+str(c+1)+'_'+yearrange+'_'+str(month).zfill(2)+'_mean'\n",
    "            if os.path.exists(os.path.join(figdir, outname+'.png')):\n",
    "                print('Skipping ' + outname + ' (file exists)')\n",
    "            else:\n",
    "                print('Doing ' + outname)\n",
    "                try:\n",
    "                    model = vicen_m_monthly_mean.sel(month=mi+1).sel(nc=c)\n",
    "                    model_aice = aice_m_monthly_mean.sel(month=mi+1)\n",
    "                    obs = CN_obs_SH_monthly_mean.sel(month=mi+1)\n",
    "                except:\n",
    "                    print('ERROR: could not open files')\n",
    "                    continue\n",
    "                plt.figure(4,(12,7))\n",
    "\n",
    "                # plot model\n",
    "    #             plt.subplot(1,2,1)\n",
    "                plot_SH_thickness(m, x, y, model, model_aice, xobs, yobs, obs, c)\n",
    "                plt.title(calendar.month_name[month]+' '+yearrange+' mean, ' + exptdata.exptdict[ekey]['desc'], font)\n",
    "\n",
    "\n",
    "                plt.tight_layout()\n",
    "\n",
    "    #             savefigure(outname)\n",
    "                plt.savefig(outname+'.png',dpi=200, bbox_inches=\"tight\")\n",
    "\n",
    "                plt.close()\n",
    "#             break\n",
    "\n",
    "#         break"
   ]
  },
  {
   "cell_type": "code",
   "execution_count": null,
   "metadata": {},
   "outputs": [],
   "source": [
    "# cmap_gamma = 1.0\n",
    "for ekey in exptdata.exptdict.keys():\n",
    "    if ekey=='01deg':\n",
    "        print(ekey)\n",
    "        loaddata(ekey)\n",
    "        plot_SH_thickness_monthly_mean(ekey)\n",
    "    #     break"
   ]
  },
  {
   "cell_type": "markdown",
   "metadata": {},
   "source": [
    "## Monthly snow thickness climatology"
   ]
  },
  {
   "cell_type": "code",
   "execution_count": null,
   "metadata": {},
   "outputs": [],
   "source": [
    "def plot_NH_snow_thickness(m, x, y, model, model_aice, xobs, yobs, obs):\n",
    "    model = exptdata.joinseams(model)\n",
    "    model_aice = exptdata.joinseams(model_aice)\n",
    "    m = Basemap(projection ='npstere',boundinglat=48,lon_0=0,resolution='l')\n",
    "    m.drawmapboundary(fill_color='gray') # background color - for non-ocean areas\n",
    "\n",
    "    ctr = m.contourf(x,y,model[NLAT_half:,:],levels=np.arange(0,1.01,0.02),cmap=cmp,extend='max')\n",
    "\n",
    "    ctr.cmap.set_over(color='w', alpha=None)\n",
    "    cbar = m.colorbar(ctr, location = 'bottom', pad = \"6%\")\n",
    "    cbar.set_label('Snow thickness (m)',size=tick_font)\n",
    "    cs = m.contour(x,y,model_aice[NLAT_half:,:],[clevel],colors='g',linewidths=1)\n",
    "    cs.collections[0].set_label('model '+str(int(clevel*100))+'%')\n",
    "    cs = m.contour(xobs,yobs,obs,[clevel],colors='r',linewidths=1)\n",
    "    cs.collections[0].set_label('obs '+str(int(clevel*100))+'%')\n",
    "    \n",
    "    parallels = np.arange(-80.,81,10.)\n",
    "    m.drawparallels(parallels,color='white',linewidth=0.5)\n",
    "    meridians = np.arange(0.,351.,30.)\n",
    "    m.drawmeridians(meridians,labels=[True,False,False,True],size=tick_font,color='white',linewidth=0.5)\n",
    "    plt.legend(prop={'size':11},loc='center right') #, bbox_to_anchor=(1, 1))"
   ]
  },
  {
   "cell_type": "code",
   "execution_count": null,
   "metadata": {},
   "outputs": [],
   "source": [
    "def plot_SH_snow_thickness(m, x, y, model, model_aice, xobs, yobs, obs):\n",
    "    model = exptdata.joinseams(model)\n",
    "    model_aice = exptdata.joinseams(model_aice)\n",
    "    m = Basemap(projection ='spstere',boundinglat=-54,lon_0=180,resolution='l')\n",
    "    m.drawmapboundary(fill_color='gray') # background color - for non-ocean areas\n",
    "\n",
    "    ctr = m.contourf(x,y,model[:NLAT_half,:],levels=np.arange(0,1.01,0.02),cmap=cmp,extend='max')\n",
    "\n",
    "    ctr.cmap.set_over(color='w', alpha=None)\n",
    "    cbar = m.colorbar(ctr, location = 'bottom', pad = \"6%\")\n",
    "    cbar.set_label('Snow thickness (m)',size=tick_font)\n",
    "    cs = m.contour(x,y,model_aice[:NLAT_half,:],[clevel],colors='g',linewidths=1)\n",
    "    cs.collections[0].set_label('model '+str(int(clevel*100))+'%')\n",
    "    cs = m.contour(xobs,yobs,obs,[clevel],colors='r',linewidths=1)\n",
    "    cs.collections[0].set_label('obs '+str(int(clevel*100))+'%')\n",
    "\n",
    "    parallels = np.arange(-80.,81,10.)\n",
    "    m.drawparallels(parallels,color='white',linewidth=0.5)\n",
    "    meridians = np.arange(0.,351.,30.)\n",
    "    m.drawmeridians(meridians,labels=[True,False,False,True],size=tick_font,color='white',linewidth=0.5)\n",
    "    plt.legend(prop={'size':11},loc='center') #, bbox_to_anchor=(1, 1))"
   ]
  },
  {
   "cell_type": "code",
   "execution_count": null,
   "metadata": {},
   "outputs": [],
   "source": [
    "# Arctic ice snow thickness monthly climatology\n",
    "def plot_NH_snow_thickness_monthly_mean(ekey):\n",
    "    m = Basemap(projection ='npstere',boundinglat=48,lon_0=0,resolution='l')\n",
    "    x,y = m(*(lon_t[NLAT_half:,:],lat_t[NLAT_half:,:]))\n",
    "    xobs,yobs = m(*(CN_obs_NH.longitude.isel(time=1).data, CN_obs_NH.latitude.isel(time=1).data))\n",
    "\n",
    "    for mi, month in enumerate(months):\n",
    "        outname = ekey+'_snow_thickness_map_NH_'+yearrange+'_'+str(month).zfill(2)+'_mean'\n",
    "        if os.path.exists(os.path.join(figdir, outname+'.png')):\n",
    "            print('Skipping ' + outname + ' (file exists)')\n",
    "        else:\n",
    "            print('Doing ' + outname)\n",
    "            try:\n",
    "                model = hs_m_monthly_mean.sel(month=mi+1)\n",
    "                model_aice = aice_m_monthly_mean.sel(month=mi+1)\n",
    "                obs = CN_obs_NH_monthly_mean.sel(month=mi+1)\n",
    "            except:\n",
    "                print('ERROR: could not open files')\n",
    "                continue\n",
    "            plt.figure(4,(12,7))\n",
    "\n",
    "            # plot model\n",
    "            plot_NH_snow_thickness(m, x, y, model, model_aice, xobs, yobs, obs)\n",
    "            plt.title(calendar.month_name[month]+' '+yearrange+' mean, ' + exptdata.exptdict[ekey]['desc'], font)\n",
    "\n",
    "\n",
    "            plt.tight_layout()\n",
    "\n",
    "#             savefigure(outname)\n",
    "            plt.savefig(outname+'.png',dpi=200, bbox_inches=\"tight\")\n",
    "\n",
    "            plt.close()\n",
    "\n",
    "#         break"
   ]
  },
  {
   "cell_type": "code",
   "execution_count": null,
   "metadata": {},
   "outputs": [],
   "source": [
    "# Antarctic ice snow thickness monthly climatology\n",
    "def plot_SH_snow_thickness_monthly_mean(ekey):\n",
    "    m = Basemap(projection ='spstere',boundinglat=-54,lon_0=180,resolution='l')\n",
    "    x,y = m(*(lon_t[:NLAT_half,:],lat_t[:NLAT_half,:]))\n",
    "    xobs,yobs = m(*(CN_obs_SH.longitude.isel(time=1).data, CN_obs_SH.latitude.isel(time=1).data))\n",
    "\n",
    "    for mi, month in enumerate(months):\n",
    "        outname = ekey+'_snow_thickness_map_SH_'+yearrange+'_'+str(month).zfill(2)+'_mean'\n",
    "        if os.path.exists(os.path.join(figdir, outname+'.png')):\n",
    "            print('Skipping ' + outname + ' (file exists)')\n",
    "        else:\n",
    "            print('Doing ' + outname)\n",
    "            try:\n",
    "                model = hs_m_monthly_mean.sel(month=mi+1)\n",
    "                model_aice = aice_m_monthly_mean.sel(month=mi+1)\n",
    "                obs = CN_obs_SH_monthly_mean.sel(month=mi+1)\n",
    "            except:\n",
    "                print('ERROR: could not open files')\n",
    "                continue\n",
    "            plt.figure(4,(12,7))\n",
    "\n",
    "            # plot model\n",
    "            plot_SH_snow_thickness(m, x, y, model, model_aice, xobs, yobs, obs)\n",
    "            plt.title(calendar.month_name[month]+' '+yearrange+' mean, ' + exptdata.exptdict[ekey]['desc'], font)\n",
    "\n",
    "\n",
    "            plt.tight_layout()\n",
    "\n",
    "#             savefigure(outname)\n",
    "            plt.savefig(outname+'.png',dpi=200, bbox_inches=\"tight\")\n",
    "\n",
    "            plt.close()\n",
    "\n",
    "#         break"
   ]
  },
  {
   "cell_type": "code",
   "execution_count": null,
   "metadata": {
    "scrolled": true
   },
   "outputs": [],
   "source": [
    "# monthly mean climatology\n",
    "for ekey in exptdata.exptdict.keys():\n",
    "    print(ekey)\n",
    "    loaddata(ekey)\n",
    "    plot_NH_snow_thickness_monthly_mean(ekey)\n",
    "    plot_SH_snow_thickness_monthly_mean(ekey)"
   ]
  },
  {
   "cell_type": "code",
   "execution_count": null,
   "metadata": {},
   "outputs": [],
   "source": [
    "STOPHERE"
   ]
  },
  {
   "cell_type": "code",
   "execution_count": null,
   "metadata": {},
   "outputs": [],
   "source": [
    "aice_m.sel(time=pd.to_datetime('198501', format='%Y%m'))  # BUG: some sort of hashing problem??"
   ]
  },
  {
   "cell_type": "markdown",
   "metadata": {},
   "source": [
    "# Thickness maps\n",
    "TODO: redo these as above, and plot for all resolutions"
   ]
  },
  {
   "cell_type": "code",
   "execution_count": null,
   "metadata": {},
   "outputs": [],
   "source": [
    "levels = np.arange(0,5.01,0.1)\n",
    "cmap_gamma = 1 # exponent for power-law stretch of colormap\n",
    "cbar_ticks = np.arange(0,5.01,1)\n",
    "cbar_ticks = [ f**cmap_gamma for f in np.arange(0,5.01,1) ]"
   ]
  },
  {
   "cell_type": "code",
   "execution_count": null,
   "metadata": {},
   "outputs": [],
   "source": [
    "# Arctic ice thickness\n",
    "\n",
    "m = Basemap(projection ='npstere',boundinglat=48,lon_0=0,resolution='l')\n",
    "x,y = m(*(lon_t[NLAT_half:,:],lat_t[NLAT_half:,:]))\n",
    "xobs,yobs = m(*(obs_lon_NH,obs_lat_NH))\n",
    "\n",
    "for yi, year in enumerate(years):\n",
    "    for mi, month in enumerate(months):\n",
    "        outnamebase = ekey+'_thickness_map_NH'\n",
    "        outname = NOSYNC+outnamebase+'/'+outnamebase+'_'+str(year)+'_'+str(month).zfill(2)\n",
    "        if os.path.exists(os.path.join(figdir, outname+'.png')):\n",
    "            print('Skipping ' + outname + ' (file exists)')\n",
    "        else:\n",
    "            print('Doing ' + outname)\n",
    "            model = hi_m.sel(time=pd.to_datetime(str(year)+str(month).zfill(2), format='%Y%m'))\n",
    "            obs = CN_obs_NH[yi*len(months) + mi]\n",
    "            plt.figure(4,(12,7))\n",
    "\n",
    "            # plot model\n",
    "#             plt.subplot(1,2,1)\n",
    "            m = Basemap(projection ='npstere',boundinglat=48,lon_0=0,resolution='l')\n",
    "            m.drawmapboundary(fill_color='gray') # background color - for non-ocean areas\n",
    "            ctr = m.contourf(x,y,model[NLAT_half:,:]**cmap_gamma,levels=levels,cmap=cmp, extend='max')\n",
    "            ctr.cmap.set_over(color='w', alpha=None)\n",
    "            plt.title(calendar.month_name[month]+' '+str(year)+', ' + exptdata.exptdict[ekey]['desc'], font)\n",
    "            cbar = m.colorbar(ctr, location = 'bottom', pad = \"6%\")\n",
    "            cbar.set_label('Ice thickness (m)',size=tick_font)\n",
    "            cbar.set_ticks(cbar_ticks)\n",
    "            cbar.set_ticklabels([str(f**(1./cmap_gamma)) for f in cbar_ticks])\n",
    "            cbar_labels=plt.getp(cbar.ax.axes,'xticklabels')\n",
    "            plt.setp(cbar_labels,fontsize=tick_font)\n",
    "            m.contour(x,y,model[NLAT_half:,:],[0.3],colors='g',linewidth=0.5)\n",
    "            m.contour(xobs,yobs,obs,[0.3],colors='r',linewidth=0.5)\n",
    "            \n",
    "            parallels = np.arange(-80.,81,10.)\n",
    "            # labels = [left,right,top,bottom]\n",
    "            m.drawparallels(parallels,color='white',linewidth=0.5)#,labels=[False,True,True,False],size=tick_font)\n",
    "            meridians = np.arange(0.,351.,30.)\n",
    "            m.drawmeridians(meridians,labels=[True,False,False,True],size=tick_font,color='white',linewidth=0.5)\n",
    "\n",
    "#             savefigure(outname)\n",
    "            plt.savefig(outname+'.png',dpi=150, bbox_inches=\"tight\")\n",
    "\n",
    "            plt.close()\n",
    "\n",
    "#         break\n",
    "#     break"
   ]
  },
  {
   "cell_type": "code",
   "execution_count": null,
   "metadata": {},
   "outputs": [],
   "source": [
    "# Antarctic ice thickness\n",
    "\n",
    "m = Basemap(projection='spstere',boundinglat=-54,lon_0=180,resolution='l') #,round='True')\n",
    "x,y = m(*(lon_t[:NLAT_half,:],lat_t[:NLAT_half,:]))\n",
    "xobs,yobs = m(*(obs_lon_SH,obs_lat_SH))\n",
    "\n",
    "for yi, year in enumerate(years):\n",
    "    for mi, month in enumerate(months):\n",
    "        outnamebase = ekey+'_thickness_map_SH'\n",
    "        outname = NOSYNC+outnamebase+'/'+outnamebase+'_'+str(year)+'_'+str(month).zfill(2)\n",
    "        if os.path.exists(os.path.join(figdir, outname+'.png')):\n",
    "            print('Skipping ' + outname + ' (file exists)')\n",
    "        else:\n",
    "            print('Doing ' + outname)\n",
    "            model = hi_m.sel(time=pd.to_datetime(str(year)+str(month).zfill(2), format='%Y%m'))\n",
    "            obs = CN_obs_SH[yi*len(months) + mi]\n",
    "            plt.figure(4,(12,7))\n",
    "\n",
    "            m = Basemap(projection='spstere',boundinglat=-54,lon_0=180,resolution='l') #,round='True')\n",
    "            m.drawmapboundary(fill_color='gray') # background color - for non-ocean areas\n",
    "            ctr = m.contourf(x,y,model[:NLAT_half,:]**cmap_gamma,levels=levels,cmap=cmp, extend='max')\n",
    "            ctr.cmap.set_over(color='w', alpha=None)\n",
    "            plt.title(calendar.month_name[month]+' '+str(year)+', ' + exptdata.exptdict[ekey]['desc'], font)\n",
    "            cbar = m.colorbar(ctr, location = 'bottom', pad = \"6%\")\n",
    "            cbar.set_label('Ice  thickness (m)',size=tick_font)\n",
    "            cbar.set_ticks(cbar_ticks)\n",
    "            cbar.set_ticklabels([str(f**(1./cmap_gamma)) for f in cbar_ticks])\n",
    "            cbar_labels=plt.getp(cbar.ax.axes,'xticklabels')\n",
    "            plt.setp(cbar_labels,fontsize=tick_font)\n",
    "            m.contour(x,y,model[:NLAT_half,:],[0.3],colors='g',linewidth=0.5)\n",
    "            m.contour(xobs,yobs,obs,[0.3],colors='r',linewidth=0.5)\n",
    "            \n",
    "            parallels = np.arange(-80.,81,10.)\n",
    "            # labels = [left,right,top,bottom]\n",
    "            m.drawparallels(parallels,color='white',linewidth=0.5)#,labels=[False,True,True,False],size=tick_font)\n",
    "            meridians = np.arange(0.,351.,30.)\n",
    "            m.drawmeridians(meridians,labels=[True,False,False,True],size=tick_font,color='white',linewidth=0.5)\n",
    "\n",
    "#             savefigure(outname)\n",
    "            plt.savefig(outname+'.png',dpi=150, bbox_inches=\"tight\")\n",
    "\n",
    "            plt.close()\n",
    "\n",
    "#         break\n",
    "#     break"
   ]
  },
  {
   "cell_type": "code",
   "execution_count": null,
   "metadata": {},
   "outputs": [],
   "source": [
    "STOPHERE\n",
    "# old stuff below. try to redo this above using approach in surface_current.ipynb"
   ]
  },
  {
   "cell_type": "raw",
   "metadata": {},
   "source": [
    "# model data paths:\n",
    "ekey = '01deg'\n",
    "model = exptdata.exptdict[ekey]['model']\n",
    "expt = exptdata.exptdict[ekey]['expt']\n",
    "exptdir = exptdata.exptdict[ekey]['exptdir']\n",
    "\n",
    "# model = 'access-om2-01'\n",
    "# DataDir = '/g/data3/hh5/tmp/cosima/' + model + '/'\n",
    "# expt = '01deg_jra55v13_ryf8485_spinup6'\n",
    "# expdir = os.path.join(DataDir, expt)\n",
    "\n",
    "# sea ice observation data paths:\n",
    "obsVersion = 3\n",
    "if obsVersion==3:\n",
    "    ObsDir = '/g/data1a/v45/aek156/data/NOAA/G02202_V3'  # from http://nsidc.org/data/G02202\n",
    "    ObsDirExt = '/g/data1a/v45/aek156/data/NOAA/G02135'  # from http://nsidc.org/data/g02135\n",
    "else:\n",
    "# v2\n",
    "    ObsDir = '/g/data/v45/akm157/data/NSIDC/NOAA_G02202_v2_conc_monthly/'\n",
    "    ObsDirExt = '/g/data/v45/akm157/data/NSIDC/NOAA_G02135_extent_monthly/' # v2.1\n",
    "\n",
    "# length of climatology (may be corrected below):\n",
    "if with_turning:\n",
    "    n_years = 5\n",
    "else:\n",
    "    n_years = 10\n",
    "\n",
    "# path to model sea ice data:\n",
    "dataFileList = glob(os.path.join(expdir, 'output*/ice/OUTPUT/iceh.????-??.nc'))  # monthly\n",
    "dataFileList.sort()\n",
    "if with_turning:\n",
    "    dataFileList = dataFileList[:113] # cosw=1.0, sinw=0.0, ie turning angle of 0, from start of Aug year 12 (run 113)\n",
    "\n",
    "dataFileListDaily = glob(os.path.join(expdir, 'output*/ice/OUTPUT/iceh.????-??-??.nc'))  # daily\n",
    "dataFileListDaily.sort()\n",
    "\n",
    "# update n_years to avoid exceeding available data\n",
    "if model=='mom025':\n",
    "    filesPerYear = 1\n",
    "elif model=='mom01v5':\n",
    "    filesPerYear = 4\n",
    "elif model=='access-om2-01':\n",
    "    filesPerYear = 12\n",
    "total_years = len(dataFileList)/filesPerYear  # NB: typically not an integer\n",
    "n_years = min(n_years, int(total_years) )\n",
    "n_files = n_years*filesPerYear\n",
    "firstfile = int(total_years-n_years)*filesPerYear  # start of calendar year\n",
    "\n",
    "# paths to obs data:\n",
    "if obsVersion==3:\n",
    "    obsNHFileList = glob(os.path.join(ObsDir, 'north/monthly/*.nc'))\n",
    "    obsSHFileList = glob(os.path.join(ObsDir, 'south/monthly/*.nc'))\n",
    "    obsExtNHFileList = glob(os.path.join(ObsDirExt, 'north/monthly/data/*.csv'))\n",
    "    obsExtSHFileList = glob(os.path.join(ObsDirExt, 'south/monthly/data/*.csv'))\n",
    "else:\n",
    "    obsNHFileList = glob(os.path.join(ObsDir, 'nh/*.nc'))\n",
    "    obsSHFileList = glob(os.path.join(ObsDir, 'sh/*.nc'))\n",
    "    obsExtNHFileList = glob(os.path.join(ObsDirExt, 'nh/*.csv'))\n",
    "    obsExtSHFileList = glob(os.path.join(ObsDirExt, 'sh/*.csv'))\n",
    "\n",
    "obsNHFileList.sort()\n",
    "obsSHFileList.sort()\n",
    "obsExtNHFileList.sort()\n",
    "obsExtSHFileList.sort()\n",
    "\n",
    "font = {'size':13}\n",
    "tick_font=13"
   ]
  },
  {
   "cell_type": "raw",
   "metadata": {},
   "source": [
    "# get model grid data:\n",
    "# TODO: get these from CICE output file instead\n",
    "gridFileList = glob(os.path.join(expdir, 'output*/ocean/ocean_grid.nc'))\n",
    "gridFileList.sort()\n",
    "ncFile = nc.Dataset(gridFileList[0],'r')\n",
    "xt_ocean = ncFile.variables['xt_ocean'][...]\n",
    "yt_ocean = ncFile.variables['yt_ocean'][...]\n",
    "lon_t = ncFile.variables['geolon_t'][...]\n",
    "lat_t = ncFile.variables['geolat_t'][...]\n",
    "area_t = ncFile.variables['area_t'][...]\n",
    "NLAT_half = int(np.shape(area_t)[0]/2)\n",
    "ht = ncFile.variables['ht'][...]\n",
    "land_mask = np.copy(ht)\n",
    "land_mask[np.where(ht>30)] = 0\n",
    "land_mask[np.where(ht<=30)] = 1\n",
    "ncFile.close()"
   ]
  },
  {
   "cell_type": "code",
   "execution_count": null,
   "metadata": {},
   "outputs": [],
   "source": [
    "aice_m[:NLAT_half,:]"
   ]
  },
  {
   "cell_type": "code",
   "execution_count": null,
   "metadata": {},
   "outputs": [],
   "source": [
    "aice_m_monthly_mean = aice_m.sel(time=slice(tstart,tend)).groupby('time.month').mean('time', skipna=True)\n",
    "\n",
    "\n",
    "\n",
    "NH_climatology = aice_m_monthly_mean\n",
    "\n",
    "ice_area_north_climatology = np.zeros(12)\n",
    "\n",
    "ice_area_south_climatology = np.zeros(12)"
   ]
  },
  {
   "cell_type": "raw",
   "metadata": {},
   "source": [
    "\n",
    "# just take years ext_firstyear - ext_lastyear where available:\n",
    "# ext_firstyear = 1979\n",
    "# ext_lastyear  = 1998\n",
    "ext_firstyear = 1984\n",
    "ext_lastyear  = 1985\n",
    "SH_extent_climatology_obs = np.zeros(12)\n",
    "import csv\n",
    "for month in tqdm_notebook(range(12), leave=False):\n",
    "    n_yrs = 0\n",
    "#     print('opening '+obsExtSHFileList[month])\n",
    "    with open(obsExtSHFileList[month]) as csvfile:\n",
    "        reader = csv.reader(csvfile)\n",
    "        rownum = 0\n",
    "        for row in reader:\n",
    "            if (rownum > 0 and float(row[-2])>0 and float(row[0])>=ext_firstyear \\\n",
    "                and float(row[0])<=ext_lastyear):\n",
    "                SH_extent_climatology_obs[month] += float(row[-2])\n",
    "                n_yrs = n_yrs + 1\n",
    "            rownum = rownum + 1\n",
    "    SH_extent_climatology_obs[month] = SH_extent_climatology_obs[month] / n_yrs\n",
    "\n",
    "NH_extent_climatology_obs = np.zeros(12)\n",
    "import csv\n",
    "for month in tqdm_notebook(range(12), leave=False):\n",
    "    n_yrs = 0\n",
    "#     print('opening '+obsExtNHFileList[month])\n",
    "    with open(obsExtNHFileList[month]) as csvfile:\n",
    "        reader = csv.reader(csvfile)\n",
    "        rownum = 0\n",
    "        for row in reader:\n",
    "            if (rownum > 0 and float(row[-2])>0 and float(row[0])>=ext_firstyear \\\n",
    "                and float(row[0])<=ext_lastyear):\n",
    "                NH_extent_climatology_obs[month] += float(row[-2])\n",
    "                n_yrs = n_yrs + 1\n",
    "            rownum = rownum + 1\n",
    "    NH_extent_climatology_obs[month] = NH_extent_climatology_obs[month] / n_yrs"
   ]
  },
  {
   "cell_type": "code",
   "execution_count": null,
   "metadata": {},
   "outputs": [],
   "source": [
    "# climatological seasonal cycle of annual sea ice area - take monthly averages of \n",
    "# concentration, then sum area where CN > 15%\n",
    "\n",
    "ice_area_south = []\n",
    "ice_area_north = []\n",
    "\n",
    "for IceFile in tqdm_notebook(dataFileList[-n_files:], leave=False):\n",
    "    ncFile = nc.Dataset(IceFile,'r')\n",
    "    CN = ncFile.variables['aice_m']\n",
    "    for month in range(CN.shape[0]):\n",
    "        area_field = np.ma.where(CN[month,...]>0.15,area_t,0)\n",
    "        ice_area_south = np.append(ice_area_south,np.sum(area_field[:NLAT_half,...]))\n",
    "        ice_area_north = np.append(ice_area_north,np.sum(area_field[NLAT_half:,...]))"
   ]
  },
  {
   "cell_type": "code",
   "execution_count": null,
   "metadata": {},
   "outputs": [],
   "source": [
    "# do annual averages:\n",
    "ice_area_south_climatology = np.zeros(12)\n",
    "ice_area_north_climatology = np.zeros(12)\n",
    "for month in range(12):\n",
    "    ice_area_south_climatology[month] = np.mean(ice_area_south[month::12])\n",
    "    ice_area_north_climatology[month] = np.mean(ice_area_north[month::12])\n",
    "# sort months from Jan -> Dec (for model we don't necessarily start with Jan data)\n",
    "time = ncFile.variables['time']\n",
    "time_convert = nc.num2date(time[-1],time.units,time.calendar)\n",
    "last_month = time_convert.month\n",
    "last_year = time_convert.year\n",
    "ice_area_south_climatology = np.roll(ice_area_south_climatology,last_month-1)\n",
    "ice_area_north_climatology = np.roll(ice_area_north_climatology,last_month-1)\n",
    "\n",
    "ncFile.close()"
   ]
  },
  {
   "cell_type": "raw",
   "metadata": {},
   "source": [
    "# Arctic seasonal cycle:\n",
    "plt.figure(2,(12,5))\n",
    "plt.clf()\n",
    "plt.subplot(1,2,1)\n",
    "plt.plot(np.arange(12)+1,ice_area_north_climatology/1e12,label = 'model')\n",
    "plt.plot(np.arange(12)+1,NH_extent_climatology_obs)\n",
    "plt.xlabel('Month',font)\n",
    "plt.ylabel(r'Sea ice extent (10$^{12}$m$^2$)',font)\n",
    "plt.xlim((1,12))\n",
    "plt.title('Arctic extent') #, yrs '+str(last_year-(n_years-1))+'-'+str(last_year),font)\n",
    "\n",
    "# Antarctic seasonal cycle:\n",
    "plt.subplot(1,2,2)\n",
    "plt.plot(np.arange(12)+1,ice_area_south_climatology/1e12,label = 'model')\n",
    "plt.plot(np.arange(12)+1,SH_extent_climatology_obs,label=\"obs \"+str(ext_firstyear)+\"-\"+str(ext_lastyear))\n",
    "plt.xlabel('Month',font)\n",
    "plt.ylabel(r'Sea ice extent (10$^{12}$m$^2$)',font)\n",
    "plt.xlim((1,12))\n",
    "plt.title('Antarctic extent') #, yrs '+str(last_year-(n_years-1))+'-'+str(last_year),font)\n",
    "plt.legend(prop=font,loc=2)\n",
    "plt.tight_layout()\n",
    "\n",
    "savefigure('ice_extent')"
   ]
  },
  {
   "cell_type": "markdown",
   "metadata": {},
   "source": [
    "# Stop here with deliberate error"
   ]
  },
  {
   "cell_type": "code",
   "execution_count": null,
   "metadata": {
    "scrolled": true
   },
   "outputs": [],
   "source": [
    "STOPHERE"
   ]
  },
  {
   "cell_type": "markdown",
   "metadata": {},
   "source": [
    "## Climatologies"
   ]
  },
  {
   "cell_type": "code",
   "execution_count": null,
   "metadata": {},
   "outputs": [],
   "source": [
    "############################################\n",
    "####### obs climatology:\n",
    "# for obs just use years 1988-1997, because concentration not available before then (*WRONG!*) and \n",
    "# climate change after then\n",
    "\n",
    "# conc_firstyear = 1988\n",
    "# conc_lastyear  = 1997\n",
    "\n",
    "conc_firstyear = tclimstart.year\n",
    "conc_lastyear = tclimend.year-1\n",
    "\n",
    "# NH All:\n",
    "# CN_obs_NH = [[] for _ in range(12)]  # list keeps months separate\n",
    "CN_obs_NH = [None]*12\n",
    "for mo in tqdm_notebook(range(12), leave=False, desc='month'):  # NB: mo counts from 0\n",
    "    # length of climatology:\n",
    "    obs_list = [IceFile for IceFile in obsNHFileList if (IceFile.find(str(mo+1).zfill(2)+'_v0')>0 and \n",
    "        IceFile.find('nh_f')>0 and float(IceFile[-16:-12])>=conc_firstyear and \\\n",
    "        float(IceFile[-16:-12])<=conc_lastyear)] \n",
    "#     obs_list = [IceFile for IceFile in obsNHFileList if (IceFile.find(str(mo+1).zfill(2)+'_v0')>0 and \n",
    "#         IceFile.find('nh_f')>0 and float(IceFile[-16:-12])>1983 and \\\n",
    "#         float(IceFile[-16:-12])<1986)] \n",
    "\n",
    "    n_yrs = len(obs_list)\n",
    "    for IceFile in tqdm_notebook(obs_list, leave=False, desc='year'):\n",
    "    #     print('opening '+IceFile)\n",
    "        ncFile = nc.Dataset(IceFile, 'r')\n",
    "        tmp = ncFile.variables['seaice_conc_monthly_cdr'][0,...]\n",
    "        if CN_obs_NH[mo] is None:\n",
    "            CN_obs_NH[mo] = tmp\n",
    "        else:\n",
    "            CN_obs_NH[mo] = CN_obs_NH[mo] + tmp\n",
    "    # divide by n_yrs and mask land / arctic pole hole:\n",
    "    CN_obs_NH[mo] = np.ma.masked_where(CN_obs_NH[mo]<0,CN_obs_NH[mo]) / n_yrs\n",
    "    CN_obs_NH[mo] = np.ma.masked_where(CN_obs_NH[mo]>2,CN_obs_NH[mo])\n",
    "obs_lat_NH = ncFile.variables['latitude'][...]\n",
    "obs_lon_NH = ncFile.variables['longitude'][...]\n",
    "ncFile.close()"
   ]
  },
  {
   "cell_type": "code",
   "execution_count": null,
   "metadata": {},
   "outputs": [],
   "source": [
    "obsNHFileList"
   ]
  },
  {
   "cell_type": "code",
   "execution_count": null,
   "metadata": {},
   "outputs": [],
   "source": [
    "# SH All:\n",
    "CN_obs_SH = [None]*12\n",
    "for mo in tqdm_notebook(range(12), leave=False, desc='month'):\n",
    "    # length of climatology:\n",
    "    obs_list = [IceFile for IceFile in obsSHFileList if (IceFile.find(str(mo+1).zfill(2)+'_v0')>0 and \n",
    "        IceFile.find('sh_f')>0 and float(IceFile[-16:-12])>=conc_firstyear and \\\n",
    "        float(IceFile[-16:-12])<=conc_lastyear)] \n",
    "    n_yrs = len(obs_list)\n",
    "    for IceFile in tqdm_notebook(obs_list, leave=False, desc='year'):\n",
    "    #     print('opening '+IceFile)\n",
    "        ncFile = nc.Dataset(IceFile,'r')\n",
    "        tmp = ncFile.variables['seaice_conc_monthly_cdr'][0,...]\n",
    "        if CN_obs_SH[mo] is None:\n",
    "            CN_obs_SH[mo] = tmp\n",
    "        else:\n",
    "            CN_obs_SH[mo] = CN_obs_SH[mo] + tmp\n",
    "    # divide by n_yrs and mask land / arctic pole hole:\n",
    "    CN_obs_SH[mo] = np.ma.masked_where(CN_obs_SH[mo]<0,CN_obs_SH[mo]) / n_yrs\n",
    "    CN_obs_SH[mo] = np.ma.masked_where(CN_obs_SH[mo]>2,CN_obs_SH[mo])\n",
    "obs_lat_SH = ncFile.variables['latitude'][...]\n",
    "obs_lon_SH = ncFile.variables['longitude'][...]\n",
    "ncFile.close()"
   ]
  },
  {
   "cell_type": "code",
   "execution_count": null,
   "metadata": {},
   "outputs": [],
   "source": [
    "# monthly ice concentration climatologies\n",
    "\n",
    "CN_Feb = 0\n",
    "CN_Mar = 0\n",
    "CN_Sep = 0\n",
    "\n",
    "CN_Sep_years = [[] for _ in range(n_years)]\n",
    "\n",
    "# Feb (Antarctic only)\n",
    "for IceFile in [f for f in dataFileList[firstfile:firstfile+n_files] if f.endswith('-02.nc')]:\n",
    "#     print('opening '+IceFile)\n",
    "    ncFile = nc.Dataset(IceFile,'r')\n",
    "    CN_Feb = CN_Feb + ncFile.variables['aice_m'][0,:NLAT_half,:]\n",
    "\n",
    "# March (Arctic only)\n",
    "for IceFile in [f for f in dataFileList[firstfile:firstfile+n_files] if f.endswith('-03.nc')]:\n",
    "#     print('opening '+IceFile)\n",
    "    ncFile = nc.Dataset(IceFile,'r')\n",
    "    CN_Mar = CN_Mar + ncFile.variables['aice_m'][0,NLAT_half:,:]\n",
    "\n",
    "# Sep (both)\n",
    "for n,IceFile in enumerate([f for f in dataFileList[firstfile:firstfile+n_files] if f.endswith('-09.nc')]):\n",
    "#     print('opening '+IceFile)\n",
    "    ncFile = nc.Dataset(IceFile,'r')\n",
    "#     CN_Sep_years[n] = np.append(CN_Sep_years, ncFile.variables['aice_m'][0,:,:])\n",
    "    CN_Sep_years[n] = ncFile.variables['aice_m'][0,:,:]\n",
    "    CN_Sep = CN_Sep + CN_Sep_years[n]\n",
    "    CN_Sep_years[n] = np.ma.masked_where(land_mask==1,CN_Sep_years[n])\n",
    "\n",
    "# divide by n_years and mask:\n",
    "CN_Feb = np.ma.masked_where(land_mask[:NLAT_half,:]==1,CN_Feb / n_years)\n",
    "CN_Mar = np.ma.masked_where(land_mask[NLAT_half:,:]==1,CN_Mar / n_years)\n",
    "CN_Sep = np.ma.masked_where(land_mask==1,CN_Sep / n_years)\n",
    "ncFile.close()"
   ]
  },
  {
   "cell_type": "code",
   "execution_count": null,
   "metadata": {},
   "outputs": [],
   "source": [
    "levels = np.arange(0,1.01,.01)\n",
    "font = {'size':13}\n",
    "tick_font=13"
   ]
  },
  {
   "cell_type": "markdown",
   "metadata": {},
   "source": [
    "### Arctic model concentration maps, Sept and March"
   ]
  },
  {
   "cell_type": "code",
   "execution_count": null,
   "metadata": {},
   "outputs": [],
   "source": [
    "plt.figure(4,(12,7))\n",
    "plt.clf()\n",
    "\n",
    "plt.subplot(1,2,1)\n",
    "m = Basemap(projection ='npstere',boundinglat=48,lon_0=0,resolution='l')\n",
    "m.drawmapboundary(fill_color='gray') # background color - for non-ocean areas\n",
    "x,y = m(*(lon_t[NLAT_half:,:],lat_t[NLAT_half:,:]))\n",
    "xobs,yobs = m(*(obs_lon_NH,obs_lat_NH))\n",
    "ctr = m.contourf(x,y,CN_Sep[NLAT_half:,:],levels=levels,cmap='viridis', extend='max')\n",
    "ctr.cmap.set_over(color='w', alpha=None)\n",
    "# plt.title('September min, yrs '+str(last_year-(n_years-1))+'-'+\n",
    "# \tstr(last_year),font,y=1.03)\n",
    "plt.title('September min',font,y=1.03)\n",
    "cbar = m.colorbar(ctr, location = 'bottom', pad = \"6%\")\n",
    "cbar.set_label('Ice concentration',size=tick_font)\n",
    "cbar.set_ticks([0,.2,.4,.6,.8,1])\n",
    "cbar_labels=plt.getp(cbar.ax.axes,'xticklabels')\n",
    "plt.setp(cbar_labels,fontsize=tick_font)\n",
    "#m.contour(x,y,land_mask[NLAT_half:,:],[0,1],colors='w')\n",
    "m.contour(x,y,CN_Sep[NLAT_half:,:],[0.3],colors='w')\n",
    "# obs:\n",
    "# m.contour(xobs,yobs,CN_obs_Sep_NH,[0.3],colors='r')\n",
    "m.contour(xobs,yobs,CN_obs_NH[9-1],[0.3],colors='r')\n",
    "\n",
    "\n",
    "plt.subplot(1,2,2)\n",
    "m = Basemap(projection ='npstere',boundinglat=48,lon_0=0,resolution='l')\n",
    "m.drawmapboundary(fill_color='gray') # background color - for non-ocean areas\n",
    "ctr = m.contourf(x,y,CN_Mar,levels=levels,cmap='viridis', extend='max')\n",
    "ctr.cmap.set_over(color='w', alpha=None)\n",
    "# plt.title('March max, yrs '+str(last_year-(n_years-1))+'-'+\n",
    "# \tstr(last_year),font,y=1.03)\n",
    "plt.title('March max',font,y=1.03)\n",
    "cbar = m.colorbar(ctr, location = 'bottom', pad = \"6%\")\n",
    "cbar.set_label('Ice concentration',size=tick_font)\n",
    "cbar.set_ticks([0,.2,.4,.6,.8,1])\n",
    "cbar_labels=plt.getp(cbar.ax.axes,'xticklabels')\n",
    "plt.setp(cbar_labels,fontsize=tick_font)\n",
    "#m.contour(x,y,land_mask[NLAT_half:,:],[0,1],colors='w')\n",
    "m.contour(x,y,CN_Mar,[0.3],colors='w')\n",
    "# obs:\n",
    "# m.contour(xobs,yobs,CN_obs_Mar_NH,[0.3],colors='r')\n",
    "m.contour(xobs,yobs,CN_obs_NH[3-1],[0.3],colors='r')\n",
    "\n",
    "\n",
    "plt.tight_layout()\n",
    "\n",
    "# savefigure('Arctic_concentration_map')"
   ]
  },
  {
   "cell_type": "markdown",
   "metadata": {},
   "source": [
    "### Arctic model and obs concentration maps, Sept"
   ]
  },
  {
   "cell_type": "code",
   "execution_count": null,
   "metadata": {},
   "outputs": [],
   "source": [
    "plt.figure(4,(12,7))\n",
    "plt.clf()\n",
    "\n",
    "plt.subplot(1,2,1)\n",
    "m = Basemap(projection ='npstere',boundinglat=48,lon_0=0,resolution='l')\n",
    "m.drawmapboundary(fill_color='gray') # background color - for non-ocean areas\n",
    "x,y = m(*(lon_t[NLAT_half:,:],lat_t[NLAT_half:,:]))\n",
    "xobs,yobs = m(*(obs_lon_NH,obs_lat_NH))\n",
    "ctr = m.contourf(x,y,CN_Sep[NLAT_half:,:],levels=levels,cmap='viridis', extend='max')\n",
    "ctr.cmap.set_over(color='w', alpha=None)\n",
    "# plt.title('September min, yrs '+str(last_year-(n_years-1))+'-'+\n",
    "# \tstr(last_year),font,y=1.03)\n",
    "plt.title('September min, model',font,y=1.03)\n",
    "cbar = m.colorbar(ctr, location = 'bottom', pad = \"6%\")\n",
    "cbar.set_label('Ice concentration',size=tick_font)\n",
    "cbar.set_ticks([0,.2,.4,.6,.8,1])\n",
    "cbar_labels=plt.getp(cbar.ax.axes,'xticklabels')\n",
    "plt.setp(cbar_labels,fontsize=tick_font)\n",
    "#m.contour(x,y,land_mask[NLAT_half:,:],[0,1],colors='w')\n",
    "m.contour(x,y,CN_Sep[NLAT_half:,:],[0.3],colors='w')\n",
    "# obs:\n",
    "# m.contour(xobs,yobs,CN_obs_Sep_NH,[0.3],colors='r')\n",
    "m.contour(xobs,yobs,CN_obs_NH[9-1],[0.3],colors='r')\n",
    "\n",
    "\n",
    "plt.subplot(1,2,2)\n",
    "m = Basemap(projection ='npstere',boundinglat=48,lon_0=0,resolution='l')\n",
    "m.drawmapboundary(fill_color='gray') # background color - for non-ocean areas\n",
    "ctr = m.contourf(xobs,yobs,CN_obs_NH[9-1],levels=levels,cmap='viridis', extend='max')\n",
    "ctr.cmap.set_over(color='w', alpha=None)\n",
    "# plt.title('March max, yrs '+str(last_year-(n_years-1))+'-'+\n",
    "# \tstr(last_year),font,y=1.03)\n",
    "plt.title('September min, obs',font,y=1.03)\n",
    "cbar = m.colorbar(ctr, location = 'bottom', pad = \"6%\")\n",
    "cbar.set_label('Ice concentration',size=tick_font)\n",
    "cbar.set_ticks([0,.2,.4,.6,.8,1])\n",
    "cbar_labels=plt.getp(cbar.ax.axes,'xticklabels')\n",
    "plt.setp(cbar_labels,fontsize=tick_font)\n",
    "#m.contour(x,y,land_mask[NLAT_half:,:],[0,1],colors='w')\n",
    "m.contour(x,y,CN_Sep[NLAT_half:,:],[0.3],colors='w')\n",
    "# obs:\n",
    "m.contour(xobs,yobs,CN_obs_NH[9-1],[0.3],colors='r')\n",
    "\n",
    "plt.tight_layout()\n",
    "\n",
    "# savefigure('Arctic_concentration_map_Sep')"
   ]
  },
  {
   "cell_type": "code",
   "execution_count": null,
   "metadata": {},
   "outputs": [],
   "source": [
    "plt.figure(4,(12,7*n_years))\n",
    "plt.clf()\n",
    "\n",
    "# TODO: check that the CN_Sep_years list elements are not identical\n",
    "\n",
    "for n in tqdm_notebook(range(n_years), leave=False):\n",
    "    year = int(int(total_years)-n_years+n+1)\n",
    "    plt.subplot(n_years,1,n+1)\n",
    "    m = Basemap(projection ='npstere',boundinglat=48,lon_0=0,resolution='l')\n",
    "    m.drawmapboundary(fill_color='gray') # background color - for non-ocean areas\n",
    "    x,y = m(*(lon_t[NLAT_half:,:],lat_t[NLAT_half:,:]))\n",
    "    xobs,yobs = m(*(obs_lon_NH,obs_lat_NH))\n",
    "    ctr = m.contourf(x,y,CN_Sep_years[n][NLAT_half:,:],levels=levels,cmap='viridis', extend='max')\n",
    "    ctr.cmap.set_over(color='w', alpha=None)\n",
    "    # plt.title('September min, yrs '+str(last_year-(n_years-1))+'-'+\n",
    "    # \tstr(last_year),font,y=1.03)\n",
    "    plt.title('September, year '+str(year),font,y=1.03)\n",
    "    cbar = m.colorbar(ctr, location = 'bottom', pad = \"6%\")\n",
    "    cbar.set_label('Ice concentration',size=tick_font)\n",
    "    cbar.set_ticks([0,.2,.4,.6,.8,1])\n",
    "    cbar_labels=plt.getp(cbar.ax.axes,'xticklabels')\n",
    "    plt.setp(cbar_labels,fontsize=tick_font)\n",
    "    #m.contour(x,y,land_mask[NLAT_half:,:],[0,1],colors='w')\n",
    "    m.contour(x,y,CN_Sep_years[n][NLAT_half:,:],[0.3],colors='w')\n",
    "    # obs:\n",
    "#     m.contour(xobs,yobs,CN_obs_Sep_NH,[0.3],colors='r')\n",
    "    m.contour(xobs,yobs,CN_obs_NH[9-1],[0.3],colors='r')"
   ]
  },
  {
   "cell_type": "markdown",
   "metadata": {},
   "source": [
    "### Arctic model and obs concentration maps, March"
   ]
  },
  {
   "cell_type": "code",
   "execution_count": null,
   "metadata": {},
   "outputs": [],
   "source": [
    "plt.figure(4,(12,7))\n",
    "plt.clf()\n",
    "\n",
    "plt.subplot(1,2,1)\n",
    "m = Basemap(projection ='npstere',boundinglat=48,lon_0=0,resolution='l')\n",
    "m.drawmapboundary(fill_color='gray') # background color - for non-ocean areas\n",
    "x,y = m(*(lon_t[NLAT_half:,:],lat_t[NLAT_half:,:]))\n",
    "xobs,yobs = m(*(obs_lon_NH,obs_lat_NH))\n",
    "ctr = m.contourf(x,y,CN_Mar,levels=levels,cmap='viridis', extend='max')\n",
    "ctr.cmap.set_over(color='w', alpha=None)\n",
    "# plt.title('September min, yrs '+str(last_year-(n_years-1))+'-'+\n",
    "# \tstr(last_year),font,y=1.03)\n",
    "plt.title('March max, model',font,y=1.03)\n",
    "cbar = m.colorbar(ctr, location = 'bottom', pad = \"6%\")\n",
    "cbar.set_label('Ice concentration',size=tick_font)\n",
    "cbar.set_ticks([0,.2,.4,.6,.8,1])\n",
    "cbar_labels=plt.getp(cbar.ax.axes,'xticklabels')\n",
    "plt.setp(cbar_labels,fontsize=tick_font)\n",
    "#m.contour(x,y,land_mask[NLAT_half:,:],[0,1],colors='w')\n",
    "m.contour(x,y,CN_Mar,[0.3],colors='w')\n",
    "# obs:\n",
    "m.contour(xobs,yobs,CN_obs_NH[3-1],[0.3],colors='r')\n",
    "\n",
    "plt.subplot(1,2,2)\n",
    "m = Basemap(projection ='npstere',boundinglat=48,lon_0=0,resolution='l')\n",
    "m.drawmapboundary(fill_color='gray') # background color - for non-ocean areas\n",
    "ctr = m.contourf(xobs,yobs,CN_obs_NH[3-1],levels=levels,cmap='viridis', extend='max')\n",
    "ctr.cmap.set_over(color='w', alpha=None)\n",
    "# plt.title('March max, yrs '+str(last_year-(n_years-1))+'-'+\n",
    "# \tstr(last_year),font,y=1.03)\n",
    "plt.title('March max, obs',font,y=1.03)\n",
    "cbar = m.colorbar(ctr, location = 'bottom', pad = \"6%\")\n",
    "cbar.set_label('Ice concentration',size=tick_font)\n",
    "cbar.set_ticks([0,.2,.4,.6,.8,1])\n",
    "cbar_labels=plt.getp(cbar.ax.axes,'xticklabels')\n",
    "plt.setp(cbar_labels,fontsize=tick_font)\n",
    "#m.contour(x,y,land_mask[NLAT_half:,:],[0,1],colors='w')\n",
    "m.contour(x,y,CN_Mar,[0.3],colors='w')\n",
    "# obs:\n",
    "m.contour(xobs,yobs,CN_obs_NH[3-1],[0.3],colors='r')\n",
    "\n",
    "plt.tight_layout()\n",
    "\n",
    "# savefigure('Arctic_concentration_map_Mar')"
   ]
  },
  {
   "cell_type": "markdown",
   "metadata": {},
   "source": [
    "### Antarctic model and obs concentration maps"
   ]
  },
  {
   "cell_type": "code",
   "execution_count": null,
   "metadata": {},
   "outputs": [],
   "source": [
    "plt.figure(3,(12,7))\n",
    "plt.clf()\n",
    "\n",
    "plt.subplot(1,2,1)\n",
    "m = Basemap(projection ='spstere',boundinglat=-50,lon_0=180,resolution='l',round='True')\n",
    "m.drawmapboundary(fill_color='gray') # background color - for non-ocean areas\n",
    "x,y = m(*(lon_t[:NLAT_half,:],lat_t[:NLAT_half,:]))\n",
    "xobs,yobs = m(*(obs_lon_SH,obs_lat_SH))\n",
    "ctr = m.contourf(x,y,CN_Feb,levels=levels,cmap='viridis', extend='max')\n",
    "ctr.cmap.set_over(color='w', alpha=None)\n",
    "# plt.title('February min, yrs '+str(last_year-(n_years-1))+'-'+\n",
    "# \tstr(last_year),font,y=1.03)\n",
    "plt.title('February min',font,y=1.03)\n",
    "cbar = m.colorbar(ctr, location = 'bottom', pad = \"6%\")\n",
    "cbar.set_label('Ice concentration',size=tick_font)\n",
    "cbar.set_ticks([0,.2,.4,.6,.8,1])\n",
    "cbar_labels=plt.getp(cbar.ax.axes,'xticklabels')\n",
    "plt.setp(cbar_labels,fontsize=tick_font)\n",
    "#m.contour(x,y,land_mask[:NLAT_half,:],[0,1],colors='w')\n",
    "m.contour(x,y,CN_Feb,[0.3],colors='w')\n",
    "# obs:\n",
    "m.contour(xobs,yobs,CN_obs_SH[2-1],[0.3],colors='r')\n",
    "\n",
    "plt.subplot(1,2,2)\n",
    "m = Basemap(projection ='spstere',boundinglat=-50,lon_0=180,resolution='l',round='True')\n",
    "m.drawmapboundary(fill_color='gray') # background color - for non-ocean areas\n",
    "ctr = m.contourf(x,y,CN_Sep[:NLAT_half,:],levels=levels,cmap='viridis', extend='max')\n",
    "ctr.cmap.set_over(color='w', alpha=None)\n",
    "# plt.title('September max, yrs '+str(last_year-(n_years-1))+'-'+\n",
    "# \tstr(last_year),font,y=1.03)\n",
    "plt.title('September max',font,y=1.03)\n",
    "cbar = m.colorbar(ctr, location = 'bottom', pad = \"6%\")\n",
    "cbar.set_label('Ice concentration',size=tick_font)\n",
    "cbar.set_ticks([0,.2,.4,.6,.8,1])\n",
    "cbar_labels=plt.getp(cbar.ax.axes,'xticklabels')\n",
    "plt.setp(cbar_labels,fontsize=tick_font)\n",
    "#m.contour(x,y,land_mask[:NLAT_half,:],[0,1],colors='w')\n",
    "m.contour(x,y,CN_Sep[:NLAT_half,:],[0.3],colors='w')\n",
    "# obs:\n",
    "m.contour(xobs,yobs,CN_obs_SH[9-1],[0.3],colors='r')\n",
    "\n",
    "plt.tight_layout()\n",
    "\n",
    "# savefigure('Antarctic_concentration_map')"
   ]
  },
  {
   "cell_type": "markdown",
   "metadata": {},
   "source": [
    "### Antarctic model and obs concentration maps, Feb"
   ]
  },
  {
   "cell_type": "code",
   "execution_count": null,
   "metadata": {},
   "outputs": [],
   "source": [
    "plt.figure(4,(12,7))\n",
    "plt.clf()\n",
    "\n",
    "plt.subplot(1,2,1)\n",
    "m = Basemap(projection ='spstere',boundinglat=-54,lon_0=180,resolution='l')\n",
    "m.drawmapboundary(fill_color='gray') # background color - for non-ocean areas\n",
    "x,y = m(*(lon_t[:NLAT_half,:],lat_t[:NLAT_half,:]))\n",
    "xobs,yobs = m(*(obs_lon_SH,obs_lat_SH))\n",
    "ctr = m.contourf(x,y,CN_Feb,levels=levels,cmap='viridis', extend='max')\n",
    "ctr.cmap.set_over(color='y', alpha=None)\n",
    "# plt.title('September min, yrs '+str(last_year-(n_years-1))+'-'+\n",
    "# \tstr(last_year),font,y=1.03)\n",
    "plt.title('February min, model',font,y=1.03)\n",
    "cbar = m.colorbar(ctr, location = 'bottom', pad = \"6%\")\n",
    "cbar.set_label('Ice concentration',size=tick_font)\n",
    "cbar.set_ticks([0,.2,.4,.6,.8,1])\n",
    "cbar_labels=plt.getp(cbar.ax.axes,'xticklabels')\n",
    "plt.setp(cbar_labels,fontsize=tick_font)\n",
    "#m.contour(x,y,land_mask[:NLAT_half,:],[0,1],colors='w')\n",
    "m.contour(x,y,CN_Feb,[0.3],colors='w')\n",
    "# obs:\n",
    "m.contour(xobs,yobs,CN_obs_SH[3-1],[0.3],colors='r')\n",
    "\n",
    "plt.subplot(1,2,2)\n",
    "m = Basemap(projection ='spstere',boundinglat=-54,lon_0=180,resolution='l')\n",
    "m.drawmapboundary(fill_color='gray') # background color - for non-ocean areas\n",
    "ctr = m.contourf(xobs,yobs,CN_obs_SH[3-1],levels=levels,cmap='viridis', extend='max')\n",
    "ctr.cmap.set_over(color='y', alpha=None)\n",
    "# plt.title('February min, yrs '+str(last_year-(n_years-1))+'-'+\n",
    "# \tstr(last_year),font,y=1.03)\n",
    "plt.title('February min, obs',font,y=1.03)\n",
    "cbar = m.colorbar(ctr, location = 'bottom', pad = \"6%\")\n",
    "cbar.set_label('Ice concentration',size=tick_font)\n",
    "cbar.set_ticks([0,.2,.4,.6,.8,1])\n",
    "cbar_labels=plt.getp(cbar.ax.axes,'xticklabels')\n",
    "plt.setp(cbar_labels,fontsize=tick_font)\n",
    "#m.contour(x,y,land_mask[:NLAT_half,:],[0,1],colors='w')\n",
    "m.contour(x,y,CN_Feb,[0.3],colors='w')\n",
    "# obs:\n",
    "m.contour(xobs,yobs,CN_obs_SH[3-1],[0.3],colors='r')\n",
    "\n",
    "plt.tight_layout()\n",
    "\n",
    "# savefigure('Antarctic_concentration_map_Feb')"
   ]
  },
  {
   "cell_type": "markdown",
   "metadata": {},
   "source": [
    "### Antarctic model and obs concentration maps, Sep"
   ]
  },
  {
   "cell_type": "code",
   "execution_count": null,
   "metadata": {},
   "outputs": [],
   "source": [
    "plt.figure(4,(12,7))\n",
    "plt.clf()\n",
    "\n",
    "plt.subplot(1,2,1)\n",
    "m = Basemap(projection ='spstere',boundinglat=-54,lon_0=180,resolution='l')\n",
    "m.drawmapboundary(fill_color='gray') # background color - for non-ocean areas\n",
    "x,y = m(*(lon_t[:NLAT_half,:],lat_t[:NLAT_half,:]))\n",
    "xobs,yobs = m(*(obs_lon_SH,obs_lat_SH))\n",
    "ctr = m.contourf(x,y,CN_Sep[:NLAT_half,:],levels=levels,cmap='viridis', extend='max')\n",
    "ctr.cmap.set_over(color='y', alpha=None)\n",
    "# plt.title('September min, yrs '+str(last_year-(n_years-1))+'-'+\n",
    "# \tstr(last_year),font,y=1.03)\n",
    "plt.title('September max, model',font,y=1.03)\n",
    "cbar = m.colorbar(ctr, location = 'bottom', pad = \"6%\")\n",
    "cbar.set_label('Ice concentration',size=tick_font)\n",
    "cbar.set_ticks([0,.2,.4,.6,.8,1])\n",
    "cbar_labels=plt.getp(cbar.ax.axes,'xticklabels')\n",
    "plt.setp(cbar_labels,fontsize=tick_font)\n",
    "#m.contour(x,y,land_mask[:NLAT_half,:],[0,1],colors='w')\n",
    "m.contour(x,y,CN_Sep[:NLAT_half,:],[0.3],colors='w')\n",
    "# obs:\n",
    "m.contour(xobs,yobs,CN_obs_SH[9-1],[0.3],colors='r')\n",
    "\n",
    "plt.subplot(1,2,2)\n",
    "m = Basemap(projection ='spstere',boundinglat=-54,lon_0=180,resolution='l')\n",
    "m.drawmapboundary(fill_color='gray') # background color - for non-ocean areas\n",
    "ctr = m.contourf(xobs,yobs,CN_obs_SH[9-1],levels=levels,cmap='viridis', extend='max')\n",
    "ctr.cmap.set_over(color='y', alpha=None)\n",
    "# plt.title('September max, yrs '+str(last_year-(n_years-1))+'-'+\n",
    "# \tstr(last_year),font,y=1.03)\n",
    "plt.title('September max, obs',font,y=1.03)\n",
    "cbar = m.colorbar(ctr, location = 'bottom', pad = \"6%\")\n",
    "cbar.set_label('Ice concentration',size=tick_font)\n",
    "cbar.set_ticks([0,.2,.4,.6,.8,1])\n",
    "cbar_labels=plt.getp(cbar.ax.axes,'xticklabels')\n",
    "plt.setp(cbar_labels,fontsize=tick_font)\n",
    "#m.contour(x,y,land_mask[:NLAT_half,:],[0,1],colors='w')\n",
    "m.contour(x,y,CN_Sep[:NLAT_half,:],[0.3],colors='w')\n",
    "# obs:\n",
    "m.contour(xobs,yobs,CN_obs_SH[9-1],[0.3],colors='r')\n",
    "\n",
    "plt.tight_layout()\n",
    "\n",
    "# savefigure('Antarctic_concentration_map_Sep')"
   ]
  },
  {
   "cell_type": "markdown",
   "metadata": {},
   "source": [
    "## Thickness maps"
   ]
  },
  {
   "cell_type": "raw",
   "metadata": {},
   "source": [
    "# Arctic\n",
    "months = [9, 12, 3, 6]  # which months to plot (Jan=1)\n",
    "one_plot = False  # True: one file with many panels; False: many one-panel files\n",
    "\n",
    "if one_plot:\n",
    "    plt.figure(4,(8*len(months),8*n_years))\n",
    "else:\n",
    "    plt.figure(4,(8,8))\n",
    "\n",
    "plt.clf()\n",
    "\n",
    "time = []\n",
    "mo = 0\n",
    "for month in tqdm_notebook(months, leave=False):\n",
    "    n = 0\n",
    "    for IceFile in tqdm_notebook([f for f in dataFileList[firstfile:firstfile+n_files] if f.endswith('-'+str(month).zfill(2)+'.nc')], leave=False):\n",
    "        year = int(int(total_years)-n_years+n+1)\n",
    "        ncFile = nc.Dataset(IceFile, 'r')\n",
    "        HI = ncFile.variables['hi_m'][0,...]\n",
    "        if one_plot:\n",
    "            plt.subplot(n_years,len(months),n*len(months)+mo+1)\n",
    "        m = Basemap(projection ='npstere',boundinglat=48,lon_0=0,resolution='l')\n",
    "        m.drawmapboundary(fill_color='gray') # background color - for non-ocean areas\n",
    "        x,y = m(*(lon_t[NLAT_half:,:],lat_t[NLAT_half:,:]))\n",
    "        xobs,yobs = m(*(obs_lon_NH,obs_lat_NH))\n",
    "        ctr = m.contourf(x,y,HI[NLAT_half:,:],levels=np.arange(0,7.1,.1),cmap='viridis', extend='max')\n",
    "        ctr.cmap.set_over(color='w', alpha=None)\n",
    "        plt.title(month_abbr[month]+' year '+str(year),font,y=1.03)\n",
    "        cbar = m.colorbar(ctr, location = 'bottom', pad = \"6%\")\n",
    "        cbar.set_label('Ice thickness (m)',size=tick_font)\n",
    "        cbar.set_ticks(range(8))\n",
    "        cbar_labels=plt.getp(cbar.ax.axes,'xticklabels')\n",
    "        plt.setp(cbar_labels,fontsize=tick_font)\n",
    "        # obs:\n",
    "        m.contour(xobs,yobs,CN_obs_NH[month-1],[0.3],colors='r')\n",
    "#         plt.tight_layout()\n",
    "        if not(one_plot):\n",
    "#             savefigure('Arctic_thickness_map_month_'+str(month).zfill(2)+'_year_'+str(year).zfill(4))\n",
    "            plt.close()\n",
    "            plt.figure(4,(8,8))\n",
    "        n = n + 1  # enumerate doesn't work with tqdm\n",
    "    mo = mo + 1  # enumerate doesn't work with tqdm\n",
    "ncFile.close()\n",
    "\n",
    "if one_plot:\n",
    "#     plt.tight_layout()\n",
    "#     savefigure('Arctic_thickness_maps')\n",
    "\n"
   ]
  },
  {
   "cell_type": "raw",
   "metadata": {},
   "source": [
    "# Antarctic\n",
    "months = [9, 12, 3, 6]  # which months to plot (Jan=1)\n",
    "one_plot = True  # True: one file with many panels; False: many one-panel files\n",
    "\n",
    "if one_plot:\n",
    "    plt.figure(4,(8*len(months),8*n_years))\n",
    "else:\n",
    "    plt.figure(4,(8,8))\n",
    "\n",
    "plt.clf()\n",
    "\n",
    "time = []\n",
    "mo = 0\n",
    "for month in tqdm_notebook(months, leave=False):\n",
    "    n = 0\n",
    "    for IceFile in tqdm_notebook([f for f in dataFileList[firstfile:firstfile+n_files] if f.endswith('-'+str(month).zfill(2)+'.nc')], leave=False):\n",
    "        year = int(int(total_years)-n_years+n+1)\n",
    "        ncFile = nc.Dataset(IceFile,'r')\n",
    "        HI = ncFile.variables['hi_m'][0,...]\n",
    "        if one_plot:\n",
    "            plt.subplot(n_years,len(months),n*len(months)+mo+1)\n",
    "#         m = Basemap(projection ='spstere',boundinglat=-55,lon_0=0,resolution='l')\n",
    "        m = Basemap(projection ='spstere',boundinglat=-50,lon_0=180,resolution='l',round='True')\n",
    "        m.drawmapboundary(fill_color='gray') # background color - for non-ocean areas\n",
    "        x,y = m(*(lon_t[:NLAT_half,:],lat_t[:NLAT_half,:]))\n",
    "        xobs,yobs = m(*(obs_lon_SH,obs_lat_SH))\n",
    "        ctr = m.contourf(x,y,HI[:NLAT_half,:],levels=np.arange(0,4.1,.1),cmap='viridis', extend='max')\n",
    "        ctr.cmap.set_over(color='w', alpha=None)\n",
    "        plt.title(month_abbr[month]+' year '+str(year),font,y=1.03)\n",
    "        cbar = m.colorbar(ctr, location = 'bottom', pad = \"6%\")\n",
    "        cbar.set_label('Ice thickness (m)',size=tick_font)\n",
    "        cbar.set_ticks(range(4))\n",
    "        cbar_labels=plt.getp(cbar.ax.axes,'xticklabels')\n",
    "        plt.setp(cbar_labels,fontsize=tick_font)\n",
    "        # obs:\n",
    "        m.contour(xobs,yobs,CN_obs_SH[month-1],[0.3],colors='r')\n",
    "#         plt.tight_layout()\n",
    "        if not(one_plot):\n",
    "#             savefigure('Antarctic_thickness_map_month_'+str(month).zfill(2)+'_year_'+str(year).zfill(4))\n",
    "            plt.close()\n",
    "            plt.figure(4,(8,8))\n",
    "        n = n + 1  # enumerate doesn't work with tqdm\n",
    "    mo = mo + 1  # enumerate doesn't work with tqdm\n",
    "ncFile.close()\n",
    "\n",
    "# if one_plot:\n",
    "# #     plt.tight_layout()\n",
    "#     savefigure('Antarctic_thickness_maps')\n",
    "\n"
   ]
  }
 ],
 "metadata": {
  "kernelspec": {
   "display_name": "Python [conda env:analysis3-18.10]",
   "language": "python",
   "name": "conda-env-analysis3-18.10-py"
  },
  "language_info": {
   "codemirror_mode": {
    "name": "ipython",
    "version": 3
   },
   "file_extension": ".py",
   "mimetype": "text/x-python",
   "name": "python",
   "nbconvert_exporter": "python",
   "pygments_lexer": "ipython3",
   "version": "3.6.7"
  }
 },
 "nbformat": 4,
 "nbformat_minor": 2
}
