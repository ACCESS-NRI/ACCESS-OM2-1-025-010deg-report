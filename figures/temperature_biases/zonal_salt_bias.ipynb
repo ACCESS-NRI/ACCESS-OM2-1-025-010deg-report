{
 "cells": [
  {
   "cell_type": "markdown",
   "metadata": {},
   "source": [
    "# Zonal Salinity Bias\n",
    " \n",
    " Note that:\n",
    " * 0.1 degree case only processes 12 files at a time - should do more when we can."
   ]
  },
  {
   "cell_type": "code",
   "execution_count": 1,
   "metadata": {},
   "outputs": [
    {
     "name": "stdout",
     "output_type": "stream",
     "text": [
      "netcdf_index loaded.\n",
      "Available exptdata keys:  ['1deg', '025deg', '01deg']\n"
     ]
    }
   ],
   "source": [
    "%matplotlib inline\n",
    "\n",
    "import cosima_cookbook as cc\n",
    "import matplotlib.pyplot as plt\n",
    "import xarray as xr\n",
    "import numpy as np\n",
    "import IPython.display\n",
    "import cmocean as cm\n",
    "import cartopy.crs as ccrs\n",
    "import cartopy.feature as cft\n",
    "from dask.distributed import Client, progress\n",
    "\n",
    "import sys, os\n",
    "sys.path.append(os.path.join(os.getcwd(), '..'))  # so we can import ../exptdata\n",
    "import exptdata\n",
    "print('Available exptdata keys: ', [k for k in exptdata.exptdict.keys()])"
   ]
  },
  {
   "cell_type": "code",
   "execution_count": 2,
   "metadata": {},
   "outputs": [],
   "source": [
    "figdir = ''\n",
    "def savefigure(fname):\n",
    "    plt.savefig(os.path.join(figdir, fname+'.png'),dpi=300, bbox_inches=\"tight\")  # comment out to disable saving\n",
    "    #plt.savefig(os.path.join(figdir, fname+'.pdf'),dpi=300, bbox_inches=\"tight\")  # comment out to disable saving\n",
    "    return"
   ]
  },
  {
   "cell_type": "code",
   "execution_count": 3,
   "metadata": {},
   "outputs": [
    {
     "data": {
      "text/html": [
       "<table style=\"border: 2px solid white;\">\n",
       "<tr>\n",
       "<td style=\"vertical-align: top; border: 0px solid white\">\n",
       "<h3>Client</h3>\n",
       "<ul>\n",
       "  <li><b>Scheduler: </b>tcp://10.0.64.16:8786\n",
       "  <li><b>Dashboard: </b><a href='http://10.0.64.16:8787/status' target='_blank'>http://10.0.64.16:8787/status</a>\n",
       "</ul>\n",
       "</td>\n",
       "<td style=\"vertical-align: top; border: 0px solid white\">\n",
       "<h3>Cluster</h3>\n",
       "<ul>\n",
       "  <li><b>Workers: </b>6</li>\n",
       "  <li><b>Cores: </b>6</li>\n",
       "  <li><b>Memory: </b>24.00 GB</li>\n",
       "</ul>\n",
       "</td>\n",
       "</tr>\n",
       "</table>"
      ],
      "text/plain": [
       "<Client: scheduler='tcp://10.0.64.16:8786' processes=6 cores=6>"
      ]
     },
     "execution_count": 3,
     "metadata": {},
     "output_type": "execute_result"
    }
   ],
   "source": [
    "client = Client('tcp://10.0.64.16:8786', local_dir='/local/g40/amh157')\n",
    "client"
   ]
  },
  {
   "cell_type": "code",
   "execution_count": 5,
   "metadata": {},
   "outputs": [
    {
     "data": {
      "text/plain": [
       "<matplotlib.collections.QuadMesh at 0x7f214aaddc18>"
      ]
     },
     "execution_count": 5,
     "metadata": {},
     "output_type": "execute_result"
    },
    {
     "data": {
      "image/png": "[encoded data removed]",
      "text/plain": [
       "<Figure size 432x288 with 2 Axes>"
      ]
     },
     "metadata": {
      "needs_background": "light"
     },
     "output_type": "display_data"
    }
   ],
   "source": [
    "ekey='1deg'\n",
    "expt = exptdata.exptdict[ekey]['expt']\n",
    "n_files = exptdata.exptdict[ekey]['n_files']\n",
    "time_units = exptdata.exptdict[ekey]['time_units']\n",
    "offset = exptdata.exptdict[ekey]['offset']\n",
    "\n",
    "salt_10 = cc.get_nc_variable(expt, 'ocean.nc', 'salt',\n",
    "                        chunks={'st_ocean': None}, n=n_files,\n",
    "                        time_units=time_units, offset=offset).mean('time')\n",
    "salt_WOA13_10 = cc.get_nc_variable('woa13/10_KDS50', 'woa13_ts_??_mom10.nc', 'salt').mean('time')\n",
    "#salt_WOA13_10 = cc.get_nc_variable('woa13/10_KDS50', 'ocean_temp_salt.res.nc', 'salt').mean('time')\n",
    "# hacky renaming of variables so we can use as a dask array -- there's probably an elegant way to do this\n",
    "salt_WOA13_10 = salt_WOA13_10.rename({'GRID_Y_T': 'yt_ocean', 'GRID_X_T': 'xt_ocean', 'ZT': 'st_ocean'})\n",
    "salt_WOA13_10['st_ocean'] = salt_10.st_ocean\n",
    "salt_WOA13_10['xt_ocean'] = salt_10.xt_ocean\n",
    "salt_WOA13_10['yt_ocean'] = salt_10.yt_ocean\n",
    "\n",
    "salt_anom_10 = salt_10 - salt_WOA13_10\n",
    "zonal_salt_anom_10 = salt_anom_10.mean('xt_ocean')\n",
    "zonal_salt_anom_10.load()\n",
    "\n",
    "IPython.display.clear_output()\n",
    "\n",
    "zonal_salt_anom_10.plot(yincrease=False)"
   ]
  },
  {
   "cell_type": "code",
   "execution_count": null,
   "metadata": {
    "scrolled": false
   },
   "outputs": [
    {
     "name": "stdout",
     "output_type": "stream",
     "text": [
      "Using database sqlite:////g/data3/hh5/tmp/cosima/cosima-cookbook/cosima-cookbook.db\n"
     ]
    }
   ],
   "source": [
    "ekey='025deg'\n",
    "expt = exptdata.exptdict[ekey]['expt']\n",
    "n_files = exptdata.exptdict[ekey]['n_files']\n",
    "time_units = exptdata.exptdict[ekey]['time_units']\n",
    "offset = exptdata.exptdict[ekey]['offset']\n",
    "\n",
    "salt_025 = cc.get_nc_variable(expt, 'ocean.nc', 'salt',\n",
    "                        chunks={'st_ocean': None}, n=n_files,\n",
    "                        time_units=time_units, offset=offset).mean('time')\n",
    "salt_WOA13_025 = cc.get_nc_variable('woa13/025_KDS50', 'woa13_ts_??_mom025.nc', 'salt').mean('time')\n",
    "# hacky renaming of variables so we can use as a dask array -- there's probably an elegant way to do this\n",
    "salt_WOA13_025 = salt_WOA13_025.rename({'GRID_Y_T': 'yt_ocean', 'GRID_X_T': 'xt_ocean', 'ZT': 'st_ocean'})\n",
    "salt_WOA13_025['st_ocean'] = salt_025.st_ocean\n",
    "salt_WOA13_025['xt_ocean'] = salt_025.xt_ocean\n",
    "salt_WOA13_025['yt_ocean'] = salt_025.yt_ocean\n",
    "\n",
    "salt_anom_025 = salt_025 - salt_WOA13_025\n",
    "zonal_salt_anom_025 = salt_anom_025.mean('xt_ocean')\n",
    "zonal_salt_anom_025.load()\n",
    "\n",
    "IPython.display.clear_output()\n",
    "\n",
    "zonal_salt_anom_025.plot(yincrease=False)"
   ]
  },
  {
   "cell_type": "code",
   "execution_count": null,
   "metadata": {},
   "outputs": [],
   "source": [
    "ekey='01deg'\n",
    "expt = exptdata.exptdict[ekey]['expt']\n",
    "n_files = exptdata.exptdict[ekey]['n_files']\n",
    "time_units = exptdata.exptdict[ekey]['time_units']\n",
    "offset = exptdata.exptdict[ekey]['offset']\n",
    "\n",
    "chunks={'st_ocean':None, 'xt_ocean': 400, 'yt_ocean': 300}\n",
    "\n",
    "salt_01 = cc.get_nc_variable(expt, 'ocean.nc', 'salt',\n",
    "                        chunks=chunks, n=-12,\n",
    "                        time_units=time_units, offset=offset).mean('time')\n",
    "\n",
    "salt_WOA13_01 = cc.get_nc_variable('woa13/01', 'woa13_ts_??_mom01.nc', 'salt').mean('time')\n",
    "# hacky renaming of variables so we can use as a dask array -- there's probably an elegant way to do this\n",
    "salt_WOA13_01 = salt_WOA13_01.rename({'GRID_Y_T': 'yt_ocean', 'GRID_X_T': 'xt_ocean', 'ZT': 'st_ocean'})\n",
    "salt_WOA13_01['st_ocean'] = salt_01.st_ocean\n",
    "salt_WOA13_01['xt_ocean'] = salt_01.xt_ocean\n",
    "salt_WOA13_01['yt_ocean'] = salt_01.yt_ocean\n",
    "\n",
    "# force calculation and save to disk \n",
    "salt_WOA13_01.to_netcdf('/local/g40/amh157/salt_woa13.nc')"
   ]
  },
  {
   "cell_type": "code",
   "execution_count": null,
   "metadata": {},
   "outputs": [],
   "source": [
    "# rechunk to match ocean.nc data\n",
    "salt_WOA13_01 = xr.open_dataset('/local/g40/amh157/salt_woa13.nc', chunks=chunks).salt\n",
    "salt_WOA13_01 = salt_WOA13_01.astype(np.float32)\n",
    "\n",
    "salt_anom_01 = salt_01 - salt_WOA13_01\n",
    "zonal_salt_anom_01 = salt_anom_01.mean('xt_ocean')\n",
    "zonal_salt_anom_01.load()\n",
    "\n",
    "IPython.display.clear_output()\n",
    "\n",
    "zonal_salt_anom_01.plot(yincrease=False)"
   ]
  },
  {
   "cell_type": "code",
   "execution_count": null,
   "metadata": {},
   "outputs": [],
   "source": [
    "mask = salt_025.copy()\n",
    "mask = mask/mask                 ## This seems pretty dodgy to me, but it works!!\n",
    "salt_WOA13_025 = salt_WOA13_025*mask\n",
    "zonal_salt_WOA13_025 = salt_WOA13_025.mean('xt_ocean')\n",
    "zonal_salt_WOA13_025.load()\n",
    "\n",
    "zonal_salt_WOA13_025.plot(yincrease=False)"
   ]
  },
  {
   "cell_type": "code",
   "execution_count": null,
   "metadata": {},
   "outputs": [],
   "source": [
    "plt.figure(figsize=(12,8))\n",
    "clev=np.arange(-.8,.81,0.02)\n",
    "    \n",
    "plt.subplot(221)\n",
    "p1=zonal_salt_anom_10.plot.contourf(cmap=cm.cm.balance,levels=clev,yincrease=False,add_colorbar=False)\n",
    "plt.xlabel('')\n",
    "plt.ylabel('depth (m)')\n",
    "plt.title('(a) ACCESS-OM2')\n",
    "\n",
    "plt.subplot(222)\n",
    "p2=zonal_salt_anom_025.plot.contourf(cmap=cm.cm.balance,levels=clev,yincrease=False,add_colorbar=False)\n",
    "plt.xlabel('')\n",
    "plt.ylabel('')\n",
    "plt.title('(b) ACCESS-OM2-025')\n",
    "\n",
    "plt.subplot(223)\n",
    "p3=zonal_salt_anom_01.plot.contourf(cmap=cm.cm.balance,levels=clev,yincrease=False,add_colorbar=False)\n",
    "plt.xlabel('latitude (°N)')\n",
    "plt.ylabel('depth (m)')\n",
    "plt.title('(c) ACCESS-OM2-01')\n",
    "\n",
    "plt.subplot(224)\n",
    "p4=zonal_salt_WOA13_025.plot.contourf(cmap=cm.cm.haline,levels=np.arange(33,35.81,0.1),yincrease=False,add_colorbar=False)\n",
    "plt.xlabel('latitude (°N)')\n",
    "plt.ylabel('')\n",
    "plt.title('(d) WOA13')\n",
    "\n",
    "ax1 = plt.axes([0.94,0.55,0.01,0.33])\n",
    "cb = plt.colorbar(p1,cax=ax1,orientation='vertical',extend='both')\n",
    "#ax1.xaxis.set_label_position(\"top\")\n",
    "cb.ax.set_xlabel('Salt bias (g/kg)')\n",
    "\n",
    "ax2 = plt.axes([0.94,0.13,0.01,0.33])\n",
    "cb = plt.colorbar(p4,cax=ax2,orientation='vertical',extend='both')\n",
    "#ax1.xaxis.set_label_position(\"top\")\n",
    "cb.ax.set_xlabel('Salt (g/kg)')\n",
    "\n",
    "savefigure('zonal_salt_bias')"
   ]
  },
  {
   "cell_type": "code",
   "execution_count": null,
   "metadata": {},
   "outputs": [],
   "source": []
  }
 ],
 "metadata": {
  "kernelspec": {
   "display_name": "Python [conda env:analysis3-18.10]",
   "language": "python",
   "name": "conda-env-analysis3-18.10-py"
  },
  "language_info": {
   "codemirror_mode": {
    "name": "ipython",
    "version": 3
   },
   "file_extension": ".py",
   "mimetype": "text/x-python",
   "name": "python",
   "nbconvert_exporter": "python",
   "pygments_lexer": "ipython3",
   "version": "3.6.7"
  }
 },
 "nbformat": 4,
 "nbformat_minor": 2
}
