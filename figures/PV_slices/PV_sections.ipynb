{
 "cells": [
  {
   "cell_type": "code",
   "execution_count": 1,
   "metadata": {},
   "outputs": [],
   "source": [
    "from collections import OrderedDict\n",
    "import os\n",
    "\n",
    "import pandas as pd\n",
    "import numpy as np\n",
    "import xarray as xr\n",
    "\n",
    "\n",
    "basedir = '/g/data3/hh5/tmp/cosima/'\n",
    "exptdict = OrderedDict([\n",
    "    ('1deg',   {'model':'access-om2', 'expt':'1deg_jra55v13_iaf_spinup1_B1',  #'1deg_jra55v13_iaf_spinup1_B1', #'1deg_jra55v13_iaf_spinup1_A',\n",
    "                'desc': 'ACCESS-OM2','n_files':-12,\n",
    "                'time_units':'days since 1718-01-01','offset':-87658}),\n",
    "    ('025deg', {'model':'access-om2-025', 'expt':'025deg_jra55v13_iaf_gmredi6', #'025deg_jra55v13_iaf_gmredi',\n",
    "                    'desc': 'ACCESS-OM2-025','n_files':-30,\n",
    "                    'time_units':'days since 1718-01-01','offset':-87658}),\n",
    "    ('01deg',  {'model':'access-om2-01',  'expt':'01deg_jra55v13_iaf',\n",
    "                'desc': 'ACCESS-OM2-01','n_files':None,\n",
    "                    'time_units':'days since 0001-01-01','offset':None})\n",
    "])\n",
    "for k in exptdict.keys():\n",
    "    if not('exptdir' in exptdict[k]):\n",
    "        exptdict[k]['exptdir'] = os.path.join(os.path.join(\n",
    "            basedir, \n",
    "            exptdict[k]['model']),\n",
    "            exptdict[k]['expt' ])\n",
    "\n",
    "\n",
    "# Lists of models, experiments dirs and descriptors in consistent order\n",
    "\n",
    "models    = [exptdict[k]['model']   for k in exptdict.keys()]\n",
    "\n",
    "expts     = [exptdict[k]['expt']    for k in exptdict.keys()]\n",
    "\n",
    "exptdirs  = [exptdict[k]['exptdir'] for k in exptdict.keys()]\n",
    "\n",
    "descs     = [exptdict[k]['desc']    for k in exptdict.keys()]\n",
    "\n",
    "def model_expt_exptdir_desc(keyname):\n",
    "    \"\"\"\n",
    "    Return (model, expt, exptdir, desc) strings for keyname in exptdict.keys()\n",
    "    \n",
    "    Examples:\n",
    "    \n",
    "    (model, expt, exptdir, desc) = model_expt_exptdir_desc('1deg')\n",
    "    \n",
    "    for k in exptdict.keys():\n",
    "        (model, expt, exptdir, desc) = model_expt_exptdir_desc(k)\n",
    "    \n",
    "    \"\"\"\n",
    "    return (exptdict[keyname]['model'],\n",
    "            exptdict[keyname]['expt'],\n",
    "            exptdict[keyname]['exptdir'],\n",
    "            exptdict[keyname]['desc'])\n",
    "\n",
    "\n",
    "# define common start and end dates for climatologies\n",
    "clim_tstart = pd.to_datetime('1993', format='%Y')\n",
    "clim_tend = clim_tstart + pd.DateOffset(years=25)"
   ]
  },
  {
   "cell_type": "code",
   "execution_count": 2,
   "metadata": {},
   "outputs": [
    {
     "name": "stdout",
     "output_type": "stream",
     "text": [
      "netcdf_index loaded.\n",
      "Available exptdata keys:  ['1deg', '025deg', '01deg']\n"
     ]
    }
   ],
   "source": [
    "import cosima_cookbook as cc\n",
    "import matplotlib.pyplot as plt\n",
    "import xarray as xr\n",
    "import numpy as np\n",
    "import pandas as pd\n",
    "import IPython.display\n",
    "import cmocean as cm\n",
    "import gsw\n",
    "\n",
    "from dask.distributed import Client\n",
    "\n",
    "import sys, os\n",
    "sys.path.append(os.path.join(os.getcwd(), '..'))  # so we can import ../exptdata\n",
    "print('Available exptdata keys: ', [k for k in exptdict.keys()])"
   ]
  },
  {
   "cell_type": "code",
   "execution_count": 3,
   "metadata": {},
   "outputs": [],
   "source": [
    "figdir = ''\n",
    "def savefigure(fname):\n",
    "    plt.savefig(os.path.join(figdir, fname+'.png'),dpi=300, bbox_inches=\"tight\")  # comment out to disable saving\n",
    "    plt.savefig(os.path.join(figdir, fname+'.pdf'),dpi=300, bbox_inches=\"tight\")  # comment out to disable saving\n",
    "    return"
   ]
  },
  {
   "cell_type": "code",
   "execution_count": null,
   "metadata": {},
   "outputs": [
    {
     "data": {
      "application/vnd.jupyter.widget-view+json": {
       "model_id": "",
       "version_major": 2,
       "version_minor": 0
      },
      "text/plain": [
       "HBox(children=(IntProgress(value=0, description='get_nc_variable:', max=197, style=ProgressStyle(description_w…"
      ]
     },
     "metadata": {},
     "output_type": "display_data"
    },
    {
     "name": "stdout",
     "output_type": "stream",
     "text": [
      "\r"
     ]
    },
    {
     "data": {
      "application/vnd.jupyter.widget-view+json": {
       "model_id": "",
       "version_major": 2,
       "version_minor": 0
      },
      "text/plain": [
       "HBox(children=(IntProgress(value=0, description='get_nc_variable:', max=197, style=ProgressStyle(description_w…"
      ]
     },
     "metadata": {},
     "output_type": "display_data"
    },
    {
     "name": "stdout",
     "output_type": "stream",
     "text": [
      "\r"
     ]
    },
    {
     "name": "stderr",
     "output_type": "stream",
     "text": [
      "/g/data3/hh5/public/apps/miniconda3/envs/analysis3-18.10/lib/python3.6/site-packages/dask/array/numpy_compat.py:28: RuntimeWarning: invalid value encountered in true_divide\n",
      "  x = np.divide(x1, x2, out)\n"
     ]
    }
   ],
   "source": [
    "%%time\n",
    "ekey='01deg'\n",
    "expt = exptdict[ekey]['expt']\n",
    "n_files = exptdict[ekey]['n_files']\n",
    "time_units = exptdict[ekey]['time_units']\n",
    "offset = exptdict[ekey]['offset']\n",
    "mld_01deg = cc.get_nc_variable(expt,'ocean_month.nc','mld',\n",
    "                               n=n_files,time_units=time_units, offset=offset)\\\n",
    "                                 .sel(time=slice(clim_tstart,clim_tend)).sel(xt_ocean=-120.,method='nearest').compute()\n",
    "pv_01deg = cc.get_nc_variable(expt,'ocean.nc','vert_pv',\n",
    "                               n=n_files,time_units=time_units, offset=offset)\\\n",
    "                                 .sel(time=slice(clim_tstart,clim_tend)).sel(xt_ocean=-120.,method='nearest').sel(st_ocean=slice(0,1500)).mean('time').compute()\n",
    "pot_rho_0_01deg = cc.get_nc_variable(expt,'ocean.nc','pot_rho_0',\n",
    "                               n=n_files,time_units=time_units, offset=offset)\\\n",
    "                                 .sel(time=slice(clim_tstart,clim_tend)).sel(xt_ocean=-120.,method='nearest').sel(st_ocean=slice(0,1500)).mean('time').compute()"
   ]
  },
  {
   "cell_type": "code",
   "execution_count": null,
   "metadata": {},
   "outputs": [],
   "source": [
    "#pot_rho_0_01deg=pot_tho_0_01deg\n",
    "f = gsw.f(pot_rho_0_01deg.yt_ocean)\n",
    "pv_01deg_norelvort = (pot_rho_0_01deg.diff(dim='st_ocean') / pot_rho_0_01deg.st_ocean.diff(dim='st_ocean')) / 1035. * f * 9.81"
   ]
  },
  {
   "cell_type": "code",
   "execution_count": null,
   "metadata": {},
   "outputs": [],
   "source": [
    "%%time\n",
    "ekey='025deg'\n",
    "expt = exptdict[ekey]['expt']\n",
    "n_files = exptdict[ekey]['n_files']\n",
    "time_units = exptdict[ekey]['time_units']\n",
    "offset = exptdict[ekey]['offset']\n",
    "mld_025deg = cc.get_nc_variable(expt,'ocean_month.nc','mld',\n",
    "                               n=n_files,time_units=time_units, offset=offset)\\\n",
    "                                 .sel(xt_ocean=-120.,method='nearest').compute()\n",
    "pot_rho_0_025deg = cc.get_nc_variable(expt,'ocean.nc','pot_rho_0',\n",
    "                               n=n_files,time_units=time_units, offset=offset)\\\n",
    "                                 .sel(xt_ocean=-120.,method='nearest').sel(st_ocean=slice(0,1500)).mean('time').compute()\n",
    "f = gsw.f(pot_rho_0_025deg.yt_ocean)\n",
    "pv_025deg = (pot_rho_0_025deg.diff(dim='st_ocean') / pot_rho_0_025deg.st_ocean.diff(dim='st_ocean')) / 1035. * f * 9.81"
   ]
  },
  {
   "cell_type": "code",
   "execution_count": null,
   "metadata": {},
   "outputs": [],
   "source": [
    "%%time\n",
    "ekey='1deg'\n",
    "expt = exptdict[ekey]['expt']\n",
    "n_files = exptdict[ekey]['n_files']\n",
    "time_units = exptdict[ekey]['time_units']\n",
    "offset = exptdict[ekey]['offset']\n",
    "mld_1deg = cc.get_nc_variable(expt,'ocean_month.nc','mld',\n",
    "                               n=n_files,time_units=time_units, offset=offset)\\\n",
    "                                 .sel(xt_ocean=-120.,method='nearest').compute()\n",
    "pot_rho_0_1deg = cc.get_nc_variable(expt,'ocean.nc','pot_rho_0',\n",
    "                               n=n_files,time_units=time_units, offset=offset)\\\n",
    "                                 .sel(xt_ocean=-120.,method='nearest').sel(st_ocean=slice(0,1500)).mean('time').compute()\n",
    "f = gsw.f(pot_rho_0_1deg.yt_ocean)\n",
    "pv_1deg = (pot_rho_0_1deg.diff(dim='st_ocean') / pot_rho_0_1deg.st_ocean.diff(dim='st_ocean')) / 1035 * f * 9.81"
   ]
  },
  {
   "cell_type": "code",
   "execution_count": null,
   "metadata": {},
   "outputs": [],
   "source": [
    "clev=np.arange(1025,1028.5,0.25)\n",
    "\n",
    "plt.figure(figsize=(20,4))\n",
    "\n",
    "plt.subplot(1,3,1)\n",
    "plt.pcolormesh(pv_1deg.yt_ocean,pv_1deg.st_ocean,np.log10(-pv_1deg),cmap='jet')\n",
    "plt.plot(mld_1deg.yt_ocean,mld_1deg.max(axis=0))\n",
    "plt.plot(mld_1deg.yt_ocean,mld_1deg.min(axis=0))\n",
    "plt.clim(-11,-8.5)\n",
    "plt.colorbar()\n",
    "CS = plt.contour(pot_rho_0_1deg.yt_ocean,pot_rho_0_1deg.st_ocean,pot_rho_0_1deg,levels=clev,colors='k')\n",
    "plt.clabel(CS)\n",
    "plt.xlim([-75,-15])\n",
    "plt.ylim([0,1500])\n",
    "plt.xlabel('Latitude')\n",
    "plt.ylabel('Depth [m]')\n",
    "plt.gca().invert_yaxis()\n",
    "plt.title('(a) ACCESS-OM2')\n",
    "\n",
    "plt.subplot(1,3,2)\n",
    "plt.pcolormesh(pv_025deg.yt_ocean,pv_025deg.st_ocean,np.log10(-pv_025deg),cmap='jet')\n",
    "plt.clim(-11,-8.5)\n",
    "plt.colorbar()\n",
    "plt.plot(mld_025deg.yt_ocean,mld_025deg.max(axis=0))\n",
    "plt.plot(mld_025deg.yt_ocean,mld_025deg.min(axis=0))\n",
    "CS = plt.contour(pot_rho_0_025deg.yt_ocean,pot_rho_0_025deg.st_ocean,pot_rho_0_025deg,levels=clev,colors='k')\n",
    "plt.clabel(CS)\n",
    "plt.xlim([-75,-15])\n",
    "plt.ylim([0,1500])\n",
    "plt.xlabel('Latitude')\n",
    "plt.ylabel('Depth [m]')\n",
    "plt.gca().invert_yaxis()\n",
    "plt.title('(b) ACCESS-OM2-025')\n",
    "\n",
    "plt.subplot(1,3,3)\n",
    "plt.pcolormesh(pv_01deg.yt_ocean,pv_01deg.st_ocean,np.log10(-pv_01deg_norelvort),cmap='jet')\n",
    "plt.plot(mld_01deg.yt_ocean,mld_01deg.max(axis=0))\n",
    "plt.plot(mld_01deg.yt_ocean,mld_01deg.min(axis=0))\n",
    "plt.clim(-11,-8.5)\n",
    "plt.colorbar()\n",
    "CS=plt.contour(pot_rho_0_01deg.yt_ocean,pot_rho_0_01deg.st_ocean,pot_rho_0_01deg,levels=clev,colors='k')\n",
    "plt.clabel(CS)\n",
    "plt.xlim([-75,-15])\n",
    "plt.ylim([0,1500])\n",
    "plt.xlabel('Latitude')\n",
    "plt.ylabel('Depth [m]')\n",
    "plt.gca().invert_yaxis()\n",
    "plt.title('(c) ACCESS-OM2-01')\n",
    "\n",
    "#plt.subplot(1,3,3)\n",
    "#plt.pcolormesh(pv_01deg.yt_ocean,pv_01deg.st_ocean,np.log10(-pv_01deg),cmap='jet')\n",
    "#plt.plot(mld_01deg.yt_ocean,mld_01deg.max(axis=0))\n",
    "#plt.plot(mld_01deg.yt_ocean,mld_01deg.min(axis=0))\n",
    "#plt.clim(-11,-8.5)\n",
    "#plt.colorbar()\n",
    "#CS=plt.contour(pot_rho_0_01deg.yt_ocean,pot_rho_0_01deg.st_ocean,pot_rho_0_01deg,levels=clev,colors='k')\n",
    "#plt.clabel(CS)\n",
    "#plt.xlim([-75,-15])\n",
    "#plt.ylim([0,1500])\n",
    "#plt.xlabel('Latitude')\n",
    "#plt.ylabel('Depth [m]')\n",
    "#plt.gca().invert_yaxis()\n",
    "#plt.title('(c) ACCESS-OM2-01')\n",
    "\n",
    "savefigure('PV_slice_comparison')"
   ]
  },
  {
   "cell_type": "code",
   "execution_count": null,
   "metadata": {},
   "outputs": [],
   "source": []
  }
 ],
 "metadata": {
  "kernelspec": {
   "display_name": "Python [default]",
   "language": "python",
   "name": "python3"
  },
  "language_info": {
   "codemirror_mode": {
    "name": "ipython",
    "version": 3
   },
   "file_extension": ".py",
   "mimetype": "text/x-python",
   "name": "python",
   "nbconvert_exporter": "python",
   "pygments_lexer": "ipython3",
   "version": "3.6.7"
  }
 },
 "nbformat": 4,
 "nbformat_minor": 2
}
