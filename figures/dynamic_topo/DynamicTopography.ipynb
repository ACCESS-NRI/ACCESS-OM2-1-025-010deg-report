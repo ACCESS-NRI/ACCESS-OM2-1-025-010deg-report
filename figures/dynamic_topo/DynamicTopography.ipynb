{
 "cells": [
  {
   "cell_type": "markdown",
   "metadata": {},
   "source": [
    "## Calculating Dynamic topography\n",
    "\n",
    "Set `ekey` below to plot different experiments."
   ]
  },
  {
   "cell_type": "code",
   "execution_count": 1,
   "metadata": {},
   "outputs": [
    {
     "name": "stdout",
     "output_type": "stream",
     "text": [
      "netcdf_index loaded.\n",
      "Available exptdata keys:  ['1deg', '025deg', '01deg']\n"
     ]
    }
   ],
   "source": [
    "%matplotlib inline\n",
    "\n",
    "import cosima_cookbook as cc\n",
    "import numpy as np\n",
    "import matplotlib.pyplot as plt # to generate plots\n",
    "from mpl_toolkits.basemap import Basemap # plot on map projections\n",
    "from glob import glob\n",
    "import xarray as xr\n",
    "import scipy as sp\n",
    "import pandas as pd\n",
    "import scipy.interpolate\n",
    "import scipy.ndimage\n",
    "from tqdm import tqdm_notebook\n",
    "import IPython.display\n",
    "import cmocean as cm\n",
    "import cartopy.crs as ccrs\n",
    "import cartopy.feature as cft\n",
    "\n",
    "from dask.distributed import Client, progress\n",
    "\n",
    "import sys, os\n",
    "sys.path.append(os.path.join(os.getcwd(), '..'))  # so we can import ../exptdata\n",
    "import exptdata\n",
    "print('Available exptdata keys: ', [k for k in exptdata.exptdict.keys()])"
   ]
  },
  {
   "cell_type": "code",
   "execution_count": 2,
   "metadata": {},
   "outputs": [],
   "source": [
    "figdir = ''\n",
    "def savefigure(fname):\n",
    "    plt.savefig(os.path.join(figdir, fname+'.png'),dpi=300, bbox_inches=\"tight\")  # comment out to disable saving\n",
    "    #plt.savefig(os.path.join(figdir, fname+'.pdf'),dpi=300, bbox_inches=\"tight\")  # comment out to disable saving\n",
    "    return"
   ]
  },
  {
   "cell_type": "markdown",
   "metadata": {},
   "source": [
    "## To deal with memory issues:\n",
    "* In a terminal on VDI (either over VNC or through SSH and inside screen/tmux), run:\n",
    "`dask-scheduler`\n",
    "* This should output the scheduler address, like `tcp://10.0.64.24:8786`. \n",
    "* Now, in another terminal (ensuring that the default conda module has cosima_cookbook installed, as all workers will need access to that), run:\n",
    "`dask-worker tcp://10.0.64.24:8786 --memory-limit 4e9 --nprocs 6 --nthreads 1 --local-directory /local/g40/amh157`\n",
    "* Then, make sure the following cell matches the scheduler address."
   ]
  },
  {
   "cell_type": "code",
   "execution_count": 3,
   "metadata": {},
   "outputs": [
    {
     "data": {
      "text/html": [
       "<table style=\"border: 2px solid white;\">\n",
       "<tr>\n",
       "<td style=\"vertical-align: top; border: 0px solid white\">\n",
       "<h3>Client</h3>\n",
       "<ul>\n",
       "  <li><b>Scheduler: </b>tcp://10.0.64.12:8786\n",
       "  <li><b>Dashboard: </b><a href='http://10.0.64.12:8787/status' target='_blank'>http://10.0.64.12:8787/status</a>\n",
       "</ul>\n",
       "</td>\n",
       "<td style=\"vertical-align: top; border: 0px solid white\">\n",
       "<h3>Cluster</h3>\n",
       "<ul>\n",
       "  <li><b>Workers: </b>6</li>\n",
       "  <li><b>Cores: </b>6</li>\n",
       "  <li><b>Memory: </b>24.00 GB</li>\n",
       "</ul>\n",
       "</td>\n",
       "</tr>\n",
       "</table>"
      ],
      "text/plain": [
       "<Client: scheduler='tcp://10.0.64.12:8786' processes=6 cores=6>"
      ]
     },
     "execution_count": 3,
     "metadata": {},
     "output_type": "execute_result"
    }
   ],
   "source": [
    "client = Client('tcp://10.0.64.12:8786', local_dir='/local/g40/amh157')\n",
    "client"
   ]
  },
  {
   "cell_type": "code",
   "execution_count": 4,
   "metadata": {},
   "outputs": [
    {
     "name": "stdout",
     "output_type": "stream",
     "text": [
      "Using database sqlite:////g/data3/hh5/tmp/cosima/cosima-cookbook/cosima-cookbook.db\n",
      "CPU times: user 13.6 s, sys: 8.67 s, total: 22.2 s\n",
      "Wall time: 29 s\n"
     ]
    }
   ],
   "source": [
    "%%time\n",
    "ekey='1deg'\n",
    "expt = exptdata.exptdict[ekey]['expt']\n",
    "n_files = exptdata.exptdict[ekey]['n_files']\n",
    "time_units = exptdata.exptdict[ekey]['time_units']\n",
    "offset = exptdata.exptdict[ekey]['offset']\n",
    "sea_level = cc.get_nc_variable(expt,'ocean_month.nc','sea_level',\n",
    "                               n=n_files,time_units=time_units, offset=offset)\\\n",
    "                                 .sel(time=slice(exptdata.clim_tstart,exptdata.clim_tend)).mean('time')\n",
    "mdt_1deg = sea_level.load() + 0.5  #NOTE: minor correction to MSL"
   ]
  },
  {
   "cell_type": "code",
   "execution_count": null,
   "metadata": {},
   "outputs": [
    {
     "name": "stdout",
     "output_type": "stream",
     "text": [
      "Using database sqlite:////g/data3/hh5/tmp/cosima/cosima-cookbook/cosima-cookbook.db\n",
      "CPU times: user 14 s, sys: 8.88 s, total: 22.8 s\n",
      "Wall time: 40.4 s\n"
     ]
    }
   ],
   "source": [
    "%%time\n",
    "ekey='025deg'\n",
    "expt = exptdata.exptdict[ekey]['expt']\n",
    "n_files = exptdata.exptdict[ekey]['n_files']\n",
    "time_units = exptdata.exptdict[ekey]['time_units']\n",
    "offset = exptdata.exptdict[ekey]['offset']\n",
    "sea_level = cc.get_nc_variable(expt,'ocean_month.nc','sea_level',\n",
    "                               n=n_files,time_units=time_units, offset=offset)\\\n",
    "                                 .sel(time=slice(exptdata.clim_tstart,exptdata.clim_tend)).mean('time')\n",
    "mdt_025deg = sea_level.load() + 0.5  #NOTE: minor correction to MSL"
   ]
  },
  {
   "cell_type": "code",
   "execution_count": null,
   "metadata": {},
   "outputs": [
    {
     "name": "stdout",
     "output_type": "stream",
     "text": [
      "Using database sqlite:////g/data3/hh5/tmp/cosima/cosima-cookbook/cosima-cookbook.db\n"
     ]
    }
   ],
   "source": [
    "%%time\n",
    "ekey='01deg'\n",
    "expt = exptdata.exptdict[ekey]['expt']\n",
    "n_files = exptdata.exptdict[ekey]['n_files']\n",
    "time_units = exptdata.exptdict[ekey]['time_units']\n",
    "offset = exptdata.exptdict[ekey]['offset']\n",
    "\n",
    "chunks={'xt_ocean': 400, 'yt_ocean': 300}\n",
    "\n",
    "sea_level = cc.get_nc_variable(expt,'ocean_daily.nc','eta_t',\n",
    "                               n=n_files,time_units=time_units, offset=offset)\\\n",
    "                                 .sel(time=slice(exptdata.clim_tstart,exptdata.clim_tend)).mean('time')\n",
    "mdt_01deg = sea_level.load() + 0.5 #NOTE: minor correction to MSL"
   ]
  },
  {
   "cell_type": "code",
   "execution_count": null,
   "metadata": {},
   "outputs": [],
   "source": [
    "aviso_file = '/g/data3/hh5/tmp/cosima/observations/original/AVISO_Mean_Std/mdt_cnes_cls2013_global.nc'\n",
    "MDT = xr.open_dataset(aviso_file).mdt.mean('time')"
   ]
  },
  {
   "cell_type": "code",
   "execution_count": null,
   "metadata": {
    "scrolled": false
   },
   "outputs": [],
   "source": [
    "plt.figure(figsize=(15,8))\n",
    "clev = np.arange(-1.6,1.601,0.1)\n",
    "land_50m = cft.NaturalEarthFeature('physical', 'land', '50m',\n",
    "                                        edgecolor='black',\n",
    "                                        facecolor='gray',linewidth=0.5)\n",
    "    \n",
    "ax = plt.subplot(2,2,1,projection=ccrs.Robinson(central_longitude=-100))\n",
    "ax.coastlines(resolution='50m')\n",
    "ax.add_feature(land_50m)\n",
    "gl = ax.gridlines(draw_labels=False)\n",
    "p1 = mdt_1deg.plot.contourf(cmap=cm.cm.balance,levels=clev,add_colorbar=False,\n",
    "                                extend='both',transform=ccrs.PlateCarree())\n",
    "plt.title('(a) ACCESS-OM2')\n",
    "\n",
    "ax = plt.subplot(2,2,2,projection=ccrs.Robinson(central_longitude=-100))\n",
    "ax.coastlines(resolution='50m')\n",
    "ax.add_feature(land_50m)\n",
    "gl = ax.gridlines(draw_labels=False)\n",
    "p1 = mdt_025deg.plot.contourf(cmap=cm.cm.balance,levels=clev,add_colorbar=False,\n",
    "                                extend='both',transform=ccrs.PlateCarree())\n",
    "plt.title('(b) ACCESS-OM2-025')\n",
    "\n",
    "ax = plt.subplot(2,2,3,projection=ccrs.Robinson(central_longitude=-100))\n",
    "ax.coastlines(resolution='50m')\n",
    "ax.add_feature(land_50m)\n",
    "gl = ax.gridlines(draw_labels=False)\n",
    "p1 = mdt_01deg.plot.contourf(cmap=cm.cm.balance,levels=clev,add_colorbar=False,\n",
    "                                extend='both',transform=ccrs.PlateCarree())\n",
    "plt.title('(c) ACCESS-OM2-01')\n",
    "\n",
    "ax = plt.subplot(2,2,4,projection=ccrs.Robinson(central_longitude=-100))\n",
    "ax.coastlines(resolution='50m')\n",
    "ax.add_feature(land_50m)\n",
    "gl = ax.gridlines(draw_labels=False)\n",
    "p1 = MDT.plot(cmap=cm.cm.balance,levels=clev,add_colorbar=False,\n",
    "                        extend='both',transform=ccrs.PlateCarree())\n",
    "plt.title('(d) AVISO gridded altimetry')\n",
    "\n",
    "ax3 = plt.axes([0.92,0.35,0.01,0.3])\n",
    "cb = plt.colorbar(p1,cax=ax3,orientation='vertical')\n",
    "cb.ax.set_ylabel('Mean Dynamic Sea Level (m)')\n",
    "savefigure('mean_dynamic_topography')\n"
   ]
  },
  {
   "cell_type": "code",
   "execution_count": null,
   "metadata": {},
   "outputs": [],
   "source": []
  }
 ],
 "metadata": {
  "kernelspec": {
   "display_name": "Python [conda env:analysis3-18.10]",
   "language": "python",
   "name": "conda-env-analysis3-18.10-py"
  },
  "language_info": {
   "codemirror_mode": {
    "name": "ipython",
    "version": 3
   },
   "file_extension": ".py",
   "mimetype": "text/x-python",
   "name": "python",
   "nbconvert_exporter": "python",
   "pygments_lexer": "ipython3",
   "version": "3.6.7"
  }
 },
 "nbformat": 4,
 "nbformat_minor": 2
}
