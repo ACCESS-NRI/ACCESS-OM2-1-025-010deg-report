{
 "cells": [
  {
   "cell_type": "markdown",
   "metadata": {},
   "source": [
    "# Sea Ice Validation for ACCESS-OM2_01\n",
    "TODO: compare thickness with cryosat data\n",
    "\n",
    "TODO: duplicate edge at max x to hide join - see vorticity.ipynb\n",
    "\n",
    "TODO: duplicate flipped edge at max y to hide tripole seam - see vorticity.ipynb"
   ]
  },
  {
   "cell_type": "markdown",
   "metadata": {},
   "source": [
    "Fields in CICE output .nc files have ni, nj coords without dimensions which makes things awkward...\n",
    "TODO: give CICE fields the dimensions from MOM grid file?"
   ]
  },
  {
   "cell_type": "code",
   "execution_count": 1,
   "metadata": {},
   "outputs": [
    {
     "data": {
      "application/javascript": [
       "IPython.OutputArea.prototype._should_scroll = function(lines) {\n",
       "    return false;\n",
       "}"
      ],
      "text/plain": [
       "<IPython.core.display.Javascript object>"
      ]
     },
     "metadata": {},
     "output_type": "display_data"
    }
   ],
   "source": [
    "%%javascript\n",
    "IPython.OutputArea.prototype._should_scroll = function(lines) {\n",
    "    return false;\n",
    "}"
   ]
  },
  {
   "cell_type": "code",
   "execution_count": 2,
   "metadata": {},
   "outputs": [
    {
     "name": "stdout",
     "output_type": "stream",
     "text": [
      "netcdf_index loaded.\n"
     ]
    },
    {
     "name": "stderr",
     "output_type": "stream",
     "text": [
      "/home/156/aek156/.local/lib/python3.6/site-packages/cmocean/tools.py:76: MatplotlibDeprecationWarning: The is_string_like function was deprecated in version 2.1.\n",
      "  if not mpl.cbook.is_string_like(rgbin[0]):\n"
     ]
    },
    {
     "name": "stdout",
     "output_type": "stream",
     "text": [
      "Available exptdata keys:  ['1deg', '025deg', '01deg']\n"
     ]
    }
   ],
   "source": [
    "%matplotlib inline\n",
    "import cosima_cookbook as cc\n",
    "from glob import glob\n",
    "import os,sys\n",
    "import matplotlib.pyplot as plt\n",
    "import matplotlib.colors as colors\n",
    "import numpy as np\n",
    "import xarray as xr\n",
    "import netCDF4 as nc\n",
    "from tqdm import tqdm_notebook\n",
    "from mpl_toolkits.basemap import Basemap\n",
    "from calendar import month_abbr\n",
    "import cmocean as cm\n",
    "import pandas as pd\n",
    "import calendar\n",
    "import copy\n",
    "\n",
    "import sys, os\n",
    "sys.path.append(os.path.join(os.getcwd(), '..'))  # so we can import ../exptdata\n",
    "import exptdata\n",
    "print('Available exptdata keys: ', [k for k in exptdata.exptdict.keys()])"
   ]
  },
  {
   "cell_type": "code",
   "execution_count": 3,
   "metadata": {},
   "outputs": [],
   "source": [
    "# cc.start_cluster()"
   ]
  },
  {
   "cell_type": "code",
   "execution_count": 4,
   "metadata": {},
   "outputs": [],
   "source": [
    "figdir = ''\n",
    "# NOSYNC = '/g/data/v45/aek156/figures/ACCESS-OM2-1-025-010deg-report/figures/ice_validation/NOSYNC/' # where to save figs we don't want to sync\n",
    "NOSYNC = 'NOSYNC/' # where to save figs we don't want to sync\n",
    "def savefigure(fname):\n",
    "    plt.savefig(os.path.join(figdir, fname+'.png'),dpi=300, bbox_inches=\"tight\")  # comment out to disable saving\n",
    "    plt.savefig(os.path.join(figdir, fname+'.pdf'),dpi=300, bbox_inches=\"tight\")  # comment out to disable saving\n",
    "    return"
   ]
  },
  {
   "cell_type": "code",
   "execution_count": 5,
   "metadata": {},
   "outputs": [],
   "source": [
    "font = {'size':13}\n",
    "tick_font=12"
   ]
  },
  {
   "cell_type": "code",
   "execution_count": 6,
   "metadata": {},
   "outputs": [],
   "source": [
    "# cc.build_index(careful=True)"
   ]
  },
  {
   "cell_type": "code",
   "execution_count": 7,
   "metadata": {},
   "outputs": [],
   "source": [
    "use_cache = True"
   ]
  },
  {
   "cell_type": "code",
   "execution_count": 8,
   "metadata": {},
   "outputs": [],
   "source": [
    "# define start and end dates for all runs\n",
    "tstart = pd.to_datetime('1985', format='%Y')\n",
    "tend = tstart + pd.DateOffset(years=15)"
   ]
  },
  {
   "cell_type": "code",
   "execution_count": 9,
   "metadata": {},
   "outputs": [],
   "source": [
    "# define start and end dates for all runs\n",
    "tstart = pd.to_datetime('1990', format='%Y')\n",
    "tend = tstart + pd.DateOffset(years=10)"
   ]
  },
  {
   "cell_type": "code",
   "execution_count": 10,
   "metadata": {},
   "outputs": [],
   "source": [
    "# define start and end dates for all runs\n",
    "tstart = pd.to_datetime('1995', format='%Y')\n",
    "tend = tstart + pd.DateOffset(years=20)"
   ]
  },
  {
   "cell_type": "raw",
   "metadata": {},
   "source": [
    "# define start and end dates to be a fixed number of years at the end of each run\n",
    "\n",
    "clim_years = 15  # how many years to use for model climatology\n",
    "\n",
    "expt = exptdata.exptdict[ekey]['expt']\n",
    "# exptdir = exptdata.exptdict['01deg']['exptdir']\n",
    "tmp = cc.get_nc_variable(expt, 'iceh.????-??.nc', 'vicen_m', time_units = exptdata.exptdict[ekey]['time_units'], \n",
    "                     use_cache=use_cache, n=-1)\n",
    "tend_data = tmp['time'].data[-1]  # final time in model data\n",
    "finalyear = pd.to_datetime(tend_data).year\n",
    "tend = pd.to_datetime(str(finalyear), format='%Y')  # start of final calendar year\n",
    "tstart = tend - pd.DateOffset(years=clim_years)  # start of climatology"
   ]
  },
  {
   "cell_type": "code",
   "execution_count": 11,
   "metadata": {},
   "outputs": [
    {
     "name": "stdout",
     "output_type": "stream",
     "text": [
      "1995-2014\n",
      "tstart =  1995-01-01 00:00:00\n",
      "tend =  2015-01-01 00:00:00\n"
     ]
    }
   ],
   "source": [
    "firstyear = pd.to_datetime(tstart).year  # assumes tstart is 1 January!\n",
    "lastyear = pd.to_datetime(tend).year-1  # assumes tend is 1 January!\n",
    "yearrange = str(firstyear)+'-'+str(lastyear)\n",
    "print(yearrange)\n",
    "print('tstart = ', tstart)\n",
    "print('tend = ', tend)"
   ]
  },
  {
   "cell_type": "code",
   "execution_count": 12,
   "metadata": {},
   "outputs": [],
   "source": [
    "# Specify paths to observational data\n",
    "\n",
    "# ObsDir = '/g/data1a/v45/aek156/data/NOAA/G02202_V3'  # from http://nsidc.org/data/G02202\n",
    "# ObsDirExt = '/g/data1a/v45/aek156/data/NOAA/G02135'  # from http://nsidc.org/data/g02135\n",
    "ObsDir = '/g/data3/hh5/tmp/cosima/observations/NOAA/G02202_V3'  # from http://nsidc.org/data/G02202\n",
    "ObsDirExt = '/g/data3/hh5/tmp/cosima/observations/NOAA/G02135'  # from http://nsidc.org/data/g02135\n",
    "obsNHFileList = glob(os.path.join(ObsDir, 'north/monthly/*.nc'))\n",
    "obsSHFileList = glob(os.path.join(ObsDir, 'south/monthly/*.nc'))\n",
    "obsExtNHFileList = glob(os.path.join(ObsDirExt, 'north/monthly/data/*.csv'))\n",
    "obsExtSHFileList = glob(os.path.join(ObsDirExt, 'south/monthly/data/*.csv'))\n",
    "obsNHFileList.sort()\n",
    "obsSHFileList.sort()\n",
    "obsExtNHFileList.sort()\n",
    "obsExtSHFileList.sort()"
   ]
  },
  {
   "cell_type": "code",
   "execution_count": 13,
   "metadata": {},
   "outputs": [],
   "source": [
    "def loaddata(ekey):\n",
    "    global vicen_m, aice_m, hi_m, vicen_m_monthly_mean, aice_m_monthly_mean, hi_m_monthly_mean, lon_t, lat_t, area_t, NLAT_half\n",
    "    expt = exptdata.exptdict[ekey]['expt']\n",
    "    exptdir = exptdata.exptdict[ekey]['exptdir']\n",
    "    time_units = exptdata.exptdict[ekey]['time_units']\n",
    "#     tmp = cc.get_nc_variable(expt, 'iceh.????-??.nc', 'vicen_m', time_units=time_units, \n",
    "#                              use_cache=use_cache)\n",
    "#     print(tmp['time'].data[0])\n",
    "#     print(tmp['time'].data[-1])\n",
    "\n",
    "    vicen_m = cc.get_nc_variable(expt, 'iceh.????-??.nc', 'vicen_m', time_units=time_units, \n",
    "                             use_cache=use_cache, n=-500)\n",
    "    aice_m = cc.get_nc_variable(expt, 'iceh.????-??.nc', 'aice_m', time_units=time_units, \n",
    "                             use_cache=use_cache, n=-500)\n",
    "    hi_m = cc.get_nc_variable(expt, 'iceh.????-??.nc', 'hi_m', time_units=time_units, \n",
    "                             use_cache=use_cache, n=-500)\n",
    "    \n",
    "    vicen_m_monthly_mean = vicen_m.sel(time=slice(tstart,tend)).groupby('time.month').mean('time', skipna=True)\n",
    "\n",
    "    aice_m_monthly_mean = aice_m.sel(time=slice(tstart,tend)).groupby('time.month').mean('time', skipna=True)\n",
    "\n",
    "    hi_m_monthly_mean = hi_m.sel(time=slice(tstart,tend)).groupby('time.month').mean('time', skipna=True)\n",
    "\n",
    "\n",
    "    # get model grid data:\n",
    "    # TODO: get these from CICE output file instead\n",
    "    gridFileList = glob(os.path.join(exptdir, 'output*/ocean/ocean_grid.nc'))\n",
    "    gridFileList.sort()\n",
    "    ncFile = nc.Dataset(gridFileList[0],'r')\n",
    "#     xt_ocean = ncFile.variables['xt_ocean'][...]\n",
    "#     yt_ocean = ncFile.variables['yt_ocean'][...]\n",
    "    lon_t = ncFile.variables['geolon_t'][...]\n",
    "    lat_t = ncFile.variables['geolat_t'][...]\n",
    "    area_t = ncFile.variables['area_t'][...]\n",
    "    \n",
    "    NLAT_half = int(np.shape(area_t)[0]/2)\n",
    "#     ht = ncFile.variables['ht'][...]\n",
    "#     land_mask = np.copy(ht)\n",
    "#     land_mask[np.where(ht>30)] = 0\n",
    "#     land_mask[np.where(ht<=30)] = 1\n",
    "    ncFile.close()\n"
   ]
  },
  {
   "cell_type": "markdown",
   "metadata": {},
   "source": [
    "## Sea ice volume timeseries, broken down by category\n",
    "`vicen_m(time, nc, nj, ni)`\n",
    "\t\thas units = \"m\",\n",
    "so need to multiply by `area_t` to get volume.\n",
    "`nc` is number of ice categories.\n",
    "\n",
    "We use kcatbound=0, so lower bound of ice categories is 0, 0.64, 1.39, 2.47, 4.57m (HunkeLipscombTurnerJefferyElliott2015a-CICE5p1, table 2).\n",
    "\n",
    "Much of the Arctic ice volume (not area) is >4.57m thick, including in the summer minimum."
   ]
  },
  {
   "cell_type": "code",
   "execution_count": 14,
   "metadata": {},
   "outputs": [],
   "source": [
    "def calcvol():\n",
    "# WARNING - this can take several minutes\n",
    "    global NH_ice_volume, SH_ice_volume\n",
    "    volume = vicen_m*area_t # vicen_m(time, nc, nj, ni) has units = \"m\", so need to multiply by `area_t` to get volume.\n",
    "    volume_zonalsum = volume.sum(axis=-1).compute()  # do this once for both NH & SH\n",
    "    NH_ice_volume = volume_zonalsum.isel(nj=slice(NLAT_half,np.shape(area_t)[0])).sum(axis=-1)\n",
    "    SH_ice_volume = volume_zonalsum.isel(nj=slice(0,NLAT_half)).sum(axis=-1)"
   ]
  },
  {
   "cell_type": "code",
   "execution_count": 15,
   "metadata": {},
   "outputs": [],
   "source": [
    "def plotvol(v):\n",
    "    for c in range(len(v['nc'])):\n",
    "        plt.plot(v['time'],v.isel(nc=c)/1e12, color='C'+str(c), linewidth=1, label='Category '+str(c+1))\n",
    "        plt.plot(v['time'],\n",
    "                 v.rolling(time=12, center=True).mean().isel(nc=c)/1e12, # 12-month rolling mean\n",
    "                 color='C'+str(c), linewidth=2)\n",
    "#     total\n",
    "#     plt.plot(v['time'],v.sum(axis=-1)/1e12, color='k', linewidth=1, label='Total')\n",
    "#     plt.plot(v['time'][6:-5],\n",
    "#              v.rolling(time=12, center=True).mean().sum(axis=-1)[6:-5]/1e12,  # 12-month rolling mean\n",
    "#              color='k', linewidth=2)\n",
    "    plt.ylim(ymin=0)\n",
    "    plt.xlabel('Year',font)\n",
    "    plt.ylabel(r'Ice volume (10$^{12}$ m$^3$)',font)"
   ]
  },
  {
   "cell_type": "code",
   "execution_count": 16,
   "metadata": {},
   "outputs": [],
   "source": [
    "def plotvolcumul(v):\n",
    "    v = v.cumsum(axis=-1)\n",
    "    for c in range(len(v['nc'])):\n",
    "        plt.plot(v['time'],v.isel(nc=c)/1e12, color='C'+str(c), linewidth=1, label='Category '+'+'.join([str(f+1) for f in range(c+1)]))\n",
    "        plt.plot(v['time'],\n",
    "                 v.rolling(time=12, center=True).mean().isel(nc=c)/1e12, # 12-month rolling mean\n",
    "                 color='C'+str(c), linewidth=2)\n",
    "    plt.ylim(ymin=0)\n",
    "    plt.xlabel('Year',font)\n",
    "    plt.ylabel(r'Ice volume (10$^{12}$ m$^3$)',font)"
   ]
  },
  {
   "cell_type": "code",
   "execution_count": 17,
   "metadata": {},
   "outputs": [],
   "source": [
    "def plotvolNHSH():\n",
    "    plt.figure(1,(12,5))\n",
    "    plt.clf()\n",
    "\n",
    "    plt.subplot(2,1,1)\n",
    "    plotvol(NH_ice_volume)\n",
    "    plt.title('Arctic ice volume, '+exptdata.exptdict[ekey]['desc'],font)\n",
    "\n",
    "    plt.subplot(2,1,2)\n",
    "    plotvol(SH_ice_volume)\n",
    "    plt.title('Antarctic ice volume, '+exptdata.exptdict[ekey]['desc'],font)\n",
    "    plt.legend(prop=font,loc='upper left', bbox_to_anchor=(1, 1))\n",
    "\n",
    "    plt.tight_layout()\n",
    "\n",
    "    savefigure('ice_volume_categories_'+ekey)"
   ]
  },
  {
   "cell_type": "code",
   "execution_count": 18,
   "metadata": {},
   "outputs": [],
   "source": [
    "def plotvolcumulNHSH():\n",
    "    plt.figure(1,(12,5))\n",
    "    plt.clf()\n",
    "\n",
    "    plt.subplot(2,1,1)\n",
    "    plotvolcumul(NH_ice_volume)\n",
    "    plt.title('Arctic ice volume, '+exptdata.exptdict[ekey]['desc'],font)\n",
    "\n",
    "    plt.subplot(2,1,2)\n",
    "    plotvolcumul(SH_ice_volume)\n",
    "    plt.title('Antarctic ice volume, '+exptdata.exptdict[ekey]['desc'],font)\n",
    "    plt.legend(prop=font,loc='upper left', bbox_to_anchor=(1, 1))\n",
    "\n",
    "    plt.tight_layout()\n",
    "\n",
    "    savefigure('ice_volume_categories_cumulative'+ekey)"
   ]
  },
  {
   "cell_type": "code",
   "execution_count": 19,
   "metadata": {},
   "outputs": [
    {
     "name": "stdout",
     "output_type": "stream",
     "text": [
      "1deg\n",
      "Using database sqlite:////g/data3/hh5/tmp/cosima/cosima-cookbook/cosima-cookbook.db\n"
     ]
    },
    {
     "data": {
      "application/vnd.jupyter.widget-view+json": {
       "model_id": "",
       "version_major": 2,
       "version_minor": 0
      },
      "text/plain": [
       "HBox(children=(IntProgress(value=0, description='get_nc_variable:', max=500), HTML(value='')))"
      ]
     },
     "metadata": {},
     "output_type": "display_data"
    },
    {
     "name": "stdout",
     "output_type": "stream",
     "text": [
      "Using database sqlite:////g/data3/hh5/tmp/cosima/cosima-cookbook/cosima-cookbook.db\n"
     ]
    },
    {
     "data": {
      "application/vnd.jupyter.widget-view+json": {
       "model_id": "",
       "version_major": 2,
       "version_minor": 0
      },
      "text/plain": [
       "HBox(children=(IntProgress(value=0, description='get_nc_variable:', max=500), HTML(value='')))"
      ]
     },
     "metadata": {},
     "output_type": "display_data"
    },
    {
     "name": "stdout",
     "output_type": "stream",
     "text": [
      "Using database sqlite:////g/data3/hh5/tmp/cosima/cosima-cookbook/cosima-cookbook.db\n"
     ]
    },
    {
     "data": {
      "application/vnd.jupyter.widget-view+json": {
       "model_id": "",
       "version_major": 2,
       "version_minor": 0
      },
      "text/plain": [
       "HBox(children=(IntProgress(value=0, description='get_nc_variable:', max=500), HTML(value='')))"
      ]
     },
     "metadata": {},
     "output_type": "display_data"
    },
    {
     "name": "stdout",
     "output_type": "stream",
     "text": [
      "025deg\n",
      "Using database sqlite:////g/data3/hh5/tmp/cosima/cosima-cookbook/cosima-cookbook.db\n"
     ]
    },
    {
     "data": {
      "application/vnd.jupyter.widget-view+json": {
       "model_id": "",
       "version_major": 2,
       "version_minor": 0
      },
      "text/plain": [
       "HBox(children=(IntProgress(value=0, description='get_nc_variable:', max=500), HTML(value='')))"
      ]
     },
     "metadata": {},
     "output_type": "display_data"
    },
    {
     "name": "stdout",
     "output_type": "stream",
     "text": [
      "Using database sqlite:////g/data3/hh5/tmp/cosima/cosima-cookbook/cosima-cookbook.db\n"
     ]
    },
    {
     "data": {
      "application/vnd.jupyter.widget-view+json": {
       "model_id": "",
       "version_major": 2,
       "version_minor": 0
      },
      "text/plain": [
       "HBox(children=(IntProgress(value=0, description='get_nc_variable:', max=500), HTML(value='')))"
      ]
     },
     "metadata": {},
     "output_type": "display_data"
    },
    {
     "name": "stdout",
     "output_type": "stream",
     "text": [
      "Using database sqlite:////g/data3/hh5/tmp/cosima/cosima-cookbook/cosima-cookbook.db\n"
     ]
    },
    {
     "data": {
      "application/vnd.jupyter.widget-view+json": {
       "model_id": "",
       "version_major": 2,
       "version_minor": 0
      },
      "text/plain": [
       "HBox(children=(IntProgress(value=0, description='get_nc_variable:', max=500), HTML(value='')))"
      ]
     },
     "metadata": {},
     "output_type": "display_data"
    },
    {
     "name": "stdout",
     "output_type": "stream",
     "text": [
      "01deg\n",
      "Using database sqlite:////g/data3/hh5/tmp/cosima/cosima-cookbook/cosima-cookbook.db\n"
     ]
    },
    {
     "data": {
      "application/vnd.jupyter.widget-view+json": {
       "model_id": "",
       "version_major": 2,
       "version_minor": 0
      },
      "text/plain": [
       "HBox(children=(IntProgress(value=0, description='get_nc_variable:', max=386), HTML(value='')))"
      ]
     },
     "metadata": {},
     "output_type": "display_data"
    },
    {
     "name": "stdout",
     "output_type": "stream",
     "text": [
      "Using database sqlite:////g/data3/hh5/tmp/cosima/cosima-cookbook/cosima-cookbook.db\n"
     ]
    },
    {
     "data": {
      "application/vnd.jupyter.widget-view+json": {
       "model_id": "",
       "version_major": 2,
       "version_minor": 0
      },
      "text/plain": [
       "HBox(children=(IntProgress(value=0, description='get_nc_variable:', max=386), HTML(value='')))"
      ]
     },
     "metadata": {},
     "output_type": "display_data"
    },
    {
     "name": "stdout",
     "output_type": "stream",
     "text": [
      "Using database sqlite:////g/data3/hh5/tmp/cosima/cosima-cookbook/cosima-cookbook.db\n"
     ]
    },
    {
     "data": {
      "application/vnd.jupyter.widget-view+json": {
       "model_id": "",
       "version_major": 2,
       "version_minor": 0
      },
      "text/plain": [
       "HBox(children=(IntProgress(value=0, description='get_nc_variable:', max=386), HTML(value='')))"
      ]
     },
     "metadata": {},
     "output_type": "display_data"
    },
    {
     "name": "stdout",
     "output_type": "stream",
     "text": [
      "\r"
     ]
    },
    {
     "data": {
      "image/png": "[encoded data removed]",
      "text/plain": [
       "<Figure size 864x360 with 2 Axes>"
      ]
     },
     "metadata": {
      "needs_background": "light"
     },
     "output_type": "display_data"
    }
   ],
   "source": [
    "# make plots for all resolutions\n",
    "ice_data = copy.deepcopy(exptdata.exptdict)  # to store ice fields under the same keys as exptdata.exptdict\n",
    "for ekey in ice_data.keys():\n",
    "    print(ekey)\n",
    "    loaddata(ekey)\n",
    "    calcvol()\n",
    "    plotvolNHSH()\n",
    "    plotvolcumulNHSH()\n",
    "    ice_data[ekey]['NH_ice_volume'] = NH_ice_volume\n",
    "    ice_data[ekey]['SH_ice_volume'] = SH_ice_volume    "
   ]
  },
  {
   "cell_type": "code",
   "execution_count": 20,
   "metadata": {},
   "outputs": [
    {
     "name": "stderr",
     "output_type": "stream",
     "text": [
      "/g/data3/hh5/public/apps/miniconda3/envs/analysis3-18.07/lib/python3.6/site-packages/matplotlib/cbook/deprecation.py:107: MatplotlibDeprecationWarning: Adding an axes using the same arguments as a previous axes currently reuses the earlier instance.  In a future version, a new instance will always be created and returned.  Meanwhile, this warning can be suppressed, and the future behavior ensured, by passing a unique label to each axes instance.\n",
      "  warnings.warn(message, mplDeprecation, stacklevel=1)\n"
     ]
    },
    {
     "data": {
      "image/png": "[encoded data removed]",
      "text/plain": [
       "<Figure size 864x360 with 2 Axes>"
      ]
     },
     "metadata": {
      "needs_background": "light"
     },
     "output_type": "display_data"
    }
   ],
   "source": [
    "# 12-mo running mean minimum, mean and maximum for all models\n",
    "plt.figure(1,(12,5))\n",
    "for c, ekey in enumerate(ice_data.keys()):\n",
    "    plt.subplot(1,2,1)\n",
    "    totvol = ice_data[ekey]['NH_ice_volume'].sum(axis=-1)/1e12\n",
    "    plt.plot(totvol['time'][6:-5],totvol.rolling(time=12, center=True).max()[6:-5], color='C'+str(c), linewidth=1, label=ice_data[ekey]['desc'])\n",
    "    plt.plot(totvol['time'][6:-5],totvol.rolling(time=12, center=True).mean()[6:-5], color='C'+str(c), linewidth=1)\n",
    "    plt.plot(totvol['time'][6:-5],totvol.rolling(time=12, center=True).min()[6:-5], color='C'+str(c), linewidth=1)\n",
    "\n",
    "    plt.subplot(1,2,2)\n",
    "    totvol = ice_data[ekey]['SH_ice_volume'].sum(axis=-1)/1e12\n",
    "    plt.plot(totvol['time'][6:-5],totvol.rolling(time=12, center=True).max()[6:-5], color='C'+str(c), linewidth=1, label=ice_data[ekey]['desc'])\n",
    "    plt.plot(totvol['time'][6:-5],totvol.rolling(time=12, center=True).mean()[6:-5], color='C'+str(c), linewidth=1)\n",
    "    plt.plot(totvol['time'][6:-5],totvol.rolling(time=12, center=True).min()[6:-5], color='C'+str(c), linewidth=1)\n",
    "\n",
    "plt.subplot(1,2,1)\n",
    "plt.ylim(ymin=0)\n",
    "plt.xlabel('Year',font)\n",
    "plt.ylabel(r'Ice volume (10$^{12}$ m$^3$)',font)\n",
    "plt.title('Arctic ice volume minimum, mean and maximum',font)\n",
    "plt.subplot(1,2,2)\n",
    "plt.ylim(ymin=0)\n",
    "plt.xlabel('Year',font)\n",
    "plt.ylabel(r'Ice volume (10$^{12}$ m$^3$)',font)\n",
    "plt.title('Antarctic ice volume minimum, mean and maximum',font)\n",
    "plt.legend(prop=font,loc='upper left', bbox_to_anchor=(1, 1))\n",
    "savefigure('ice_volume_min_mean_max_all')"
   ]
  },
  {
   "cell_type": "markdown",
   "metadata": {},
   "source": [
    "## Month-by-month concentration comparisons\n",
    "NB: pandas/xarray bug: can't handle Sept 1995 or Jan 1985 (hash failure of some sort)\n",
    "```\n",
    "Timestamp('1995-09-01 00:00:00')\n",
    "```\n",
    "\n",
    "TODO: fix plotting glitch on tripole seam - see vorticity.ipynb"
   ]
  },
  {
   "cell_type": "code",
   "execution_count": 14,
   "metadata": {},
   "outputs": [],
   "source": [
    "def get_obs(obsFileList, years, months, variable='goddard_merged_seaice_conc_monthly'): # seaice_conc_monthly_cdr'): # \n",
    "    '''\n",
    "    Return a dataarray from the nc files in obsFileList.\n",
    "    Based on get_nc_variable.\n",
    "                                TODO: fix bug: land mask has white outline - -----------\n",
    "    '''\n",
    "    dataarrays = []\n",
    "    for year in tqdm_notebook(years, leave=False, desc='year'):\n",
    "        for month in tqdm_notebook(months, leave=False, desc='month'):\n",
    "            obs_fname = [IceFile for IceFile in obsFileList if IceFile[-16:-10]==str(year)+str(month).zfill(2)][0]\n",
    "            dataarray = xr.open_dataset(obs_fname,\n",
    "                                        decode_times=False,\n",
    "                                        autoclose=True)[variable]\n",
    "            dataarrays.append(dataarray)\n",
    "    dataarray = xr.concat(dataarrays, dim='time', coords='all')\n",
    "    if 'time' in dataarray.coords:\n",
    "        time_units = dataarray.time.units\n",
    "        decoded_time = xr.conventions.times.decode_cf_datetime(dataarray.time, time_units)\n",
    "        dataarray.coords['time'] = ('time', decoded_time,\n",
    "                                    {'long_name': 'time', 'decoded_using': time_units }\n",
    "                                   )\n",
    "    # replace values outside valid range with nan\n",
    "    dataarray = dataarray.where(xr.ufuncs.logical_and(dataarray>=0,\n",
    "                                                      dataarray<=1), \n",
    "                                np.nan)\n",
    "# this doesn't work because valid_range is wrong...\n",
    "#     dataarray = dataarray.where(xr.ufuncs.logical_and(dataarray>=dataarray.valid_range[0],\n",
    "#                                                       dataarray<=dataarray.valid_range[1]), \n",
    "#                                 np.nan)\n",
    "    return dataarray"
   ]
  },
  {
   "cell_type": "code",
   "execution_count": 15,
   "metadata": {},
   "outputs": [
    {
     "data": {
      "application/vnd.jupyter.widget-view+json": {
       "model_id": "",
       "version_major": 2,
       "version_minor": 0
      },
      "text/plain": [
       "HBox(children=(IntProgress(value=0, description='year', max=20), HTML(value='')))"
      ]
     },
     "metadata": {},
     "output_type": "display_data"
    },
    {
     "data": {
      "application/vnd.jupyter.widget-view+json": {
       "model_id": "",
       "version_major": 2,
       "version_minor": 0
      },
      "text/plain": [
       "HBox(children=(IntProgress(value=0, description='month', max=12), HTML(value='')))"
      ]
     },
     "metadata": {},
     "output_type": "display_data"
    },
    {
     "name": "stderr",
     "output_type": "stream",
     "text": [
      "/g/data3/hh5/public/apps/miniconda3/envs/analysis3-18.07/lib/python3.6/site-packages/xarray/conventions.py:362: SerializationWarning: variable 'melt_onset_day_seaice_conc_monthly_cdr' has multiple fill values {-1, 65535}, decoding all values to NaN.\n",
      "  stack_char_dim=stack_char_dim)\n"
     ]
    },
    {
     "data": {
      "application/vnd.jupyter.widget-view+json": {
       "model_id": "",
       "version_major": 2,
       "version_minor": 0
      },
      "text/plain": [
       "HBox(children=(IntProgress(value=0, description='month', max=12), HTML(value='')))"
      ]
     },
     "metadata": {},
     "output_type": "display_data"
    },
    {
     "data": {
      "application/vnd.jupyter.widget-view+json": {
       "model_id": "",
       "version_major": 2,
       "version_minor": 0
      },
      "text/plain": [
       "HBox(children=(IntProgress(value=0, description='month', max=12), HTML(value='')))"
      ]
     },
     "metadata": {},
     "output_type": "display_data"
    },
    {
     "data": {
      "application/vnd.jupyter.widget-view+json": {
       "model_id": "",
       "version_major": 2,
       "version_minor": 0
      },
      "text/plain": [
       "HBox(children=(IntProgress(value=0, description='month', max=12), HTML(value='')))"
      ]
     },
     "metadata": {},
     "output_type": "display_data"
    },
    {
     "data": {
      "application/vnd.jupyter.widget-view+json": {
       "model_id": "",
       "version_major": 2,
       "version_minor": 0
      },
      "text/plain": [
       "HBox(children=(IntProgress(value=0, description='month', max=12), HTML(value='')))"
      ]
     },
     "metadata": {},
     "output_type": "display_data"
    },
    {
     "data": {
      "application/vnd.jupyter.widget-view+json": {
       "model_id": "",
       "version_major": 2,
       "version_minor": 0
      },
      "text/plain": [
       "HBox(children=(IntProgress(value=0, description='month', max=12), HTML(value='')))"
      ]
     },
     "metadata": {},
     "output_type": "display_data"
    },
    {
     "data": {
      "application/vnd.jupyter.widget-view+json": {
       "model_id": "",
       "version_major": 2,
       "version_minor": 0
      },
      "text/plain": [
       "HBox(children=(IntProgress(value=0, description='month', max=12), HTML(value='')))"
      ]
     },
     "metadata": {},
     "output_type": "display_data"
    },
    {
     "data": {
      "application/vnd.jupyter.widget-view+json": {
       "model_id": "",
       "version_major": 2,
       "version_minor": 0
      },
      "text/plain": [
       "HBox(children=(IntProgress(value=0, description='month', max=12), HTML(value='')))"
      ]
     },
     "metadata": {},
     "output_type": "display_data"
    },
    {
     "data": {
      "application/vnd.jupyter.widget-view+json": {
       "model_id": "",
       "version_major": 2,
       "version_minor": 0
      },
      "text/plain": [
       "HBox(children=(IntProgress(value=0, description='month', max=12), HTML(value='')))"
      ]
     },
     "metadata": {},
     "output_type": "display_data"
    },
    {
     "data": {
      "application/vnd.jupyter.widget-view+json": {
       "model_id": "",
       "version_major": 2,
       "version_minor": 0
      },
      "text/plain": [
       "HBox(children=(IntProgress(value=0, description='month', max=12), HTML(value='')))"
      ]
     },
     "metadata": {},
     "output_type": "display_data"
    },
    {
     "data": {
      "application/vnd.jupyter.widget-view+json": {
       "model_id": "",
       "version_major": 2,
       "version_minor": 0
      },
      "text/plain": [
       "HBox(children=(IntProgress(value=0, description='month', max=12), HTML(value='')))"
      ]
     },
     "metadata": {},
     "output_type": "display_data"
    },
    {
     "data": {
      "application/vnd.jupyter.widget-view+json": {
       "model_id": "",
       "version_major": 2,
       "version_minor": 0
      },
      "text/plain": [
       "HBox(children=(IntProgress(value=0, description='month', max=12), HTML(value='')))"
      ]
     },
     "metadata": {},
     "output_type": "display_data"
    },
    {
     "data": {
      "application/vnd.jupyter.widget-view+json": {
       "model_id": "",
       "version_major": 2,
       "version_minor": 0
      },
      "text/plain": [
       "HBox(children=(IntProgress(value=0, description='month', max=12), HTML(value='')))"
      ]
     },
     "metadata": {},
     "output_type": "display_data"
    },
    {
     "data": {
      "application/vnd.jupyter.widget-view+json": {
       "model_id": "",
       "version_major": 2,
       "version_minor": 0
      },
      "text/plain": [
       "HBox(children=(IntProgress(value=0, description='month', max=12), HTML(value='')))"
      ]
     },
     "metadata": {},
     "output_type": "display_data"
    },
    {
     "data": {
      "application/vnd.jupyter.widget-view+json": {
       "model_id": "",
       "version_major": 2,
       "version_minor": 0
      },
      "text/plain": [
       "HBox(children=(IntProgress(value=0, description='month', max=12), HTML(value='')))"
      ]
     },
     "metadata": {},
     "output_type": "display_data"
    },
    {
     "data": {
      "application/vnd.jupyter.widget-view+json": {
       "model_id": "",
       "version_major": 2,
       "version_minor": 0
      },
      "text/plain": [
       "HBox(children=(IntProgress(value=0, description='month', max=12), HTML(value='')))"
      ]
     },
     "metadata": {},
     "output_type": "display_data"
    },
    {
     "data": {
      "application/vnd.jupyter.widget-view+json": {
       "model_id": "",
       "version_major": 2,
       "version_minor": 0
      },
      "text/plain": [
       "HBox(children=(IntProgress(value=0, description='month', max=12), HTML(value='')))"
      ]
     },
     "metadata": {},
     "output_type": "display_data"
    },
    {
     "data": {
      "application/vnd.jupyter.widget-view+json": {
       "model_id": "",
       "version_major": 2,
       "version_minor": 0
      },
      "text/plain": [
       "HBox(children=(IntProgress(value=0, description='month', max=12), HTML(value='')))"
      ]
     },
     "metadata": {},
     "output_type": "display_data"
    },
    {
     "data": {
      "application/vnd.jupyter.widget-view+json": {
       "model_id": "",
       "version_major": 2,
       "version_minor": 0
      },
      "text/plain": [
       "HBox(children=(IntProgress(value=0, description='month', max=12), HTML(value='')))"
      ]
     },
     "metadata": {},
     "output_type": "display_data"
    },
    {
     "data": {
      "application/vnd.jupyter.widget-view+json": {
       "model_id": "",
       "version_major": 2,
       "version_minor": 0
      },
      "text/plain": [
       "HBox(children=(IntProgress(value=0, description='month', max=12), HTML(value='')))"
      ]
     },
     "metadata": {},
     "output_type": "display_data"
    },
    {
     "name": "stdout",
     "output_type": "stream",
     "text": [
      "\r"
     ]
    },
    {
     "data": {
      "application/vnd.jupyter.widget-view+json": {
       "model_id": "",
       "version_major": 2,
       "version_minor": 0
      },
      "text/plain": [
       "HBox(children=(IntProgress(value=0, description='year', max=20), HTML(value='')))"
      ]
     },
     "metadata": {},
     "output_type": "display_data"
    },
    {
     "data": {
      "application/vnd.jupyter.widget-view+json": {
       "model_id": "",
       "version_major": 2,
       "version_minor": 0
      },
      "text/plain": [
       "HBox(children=(IntProgress(value=0, description='month', max=12), HTML(value='')))"
      ]
     },
     "metadata": {},
     "output_type": "display_data"
    },
    {
     "name": "stderr",
     "output_type": "stream",
     "text": [
      "/g/data3/hh5/public/apps/miniconda3/envs/analysis3-18.07/lib/python3.6/site-packages/xarray/conventions.py:362: SerializationWarning: variable 'melt_onset_day_seaice_conc_monthly_cdr' has multiple fill values {-1, 65535}, decoding all values to NaN.\n",
      "  stack_char_dim=stack_char_dim)\n"
     ]
    },
    {
     "data": {
      "application/vnd.jupyter.widget-view+json": {
       "model_id": "",
       "version_major": 2,
       "version_minor": 0
      },
      "text/plain": [
       "HBox(children=(IntProgress(value=0, description='month', max=12), HTML(value='')))"
      ]
     },
     "metadata": {},
     "output_type": "display_data"
    },
    {
     "data": {
      "application/vnd.jupyter.widget-view+json": {
       "model_id": "",
       "version_major": 2,
       "version_minor": 0
      },
      "text/plain": [
       "HBox(children=(IntProgress(value=0, description='month', max=12), HTML(value='')))"
      ]
     },
     "metadata": {},
     "output_type": "display_data"
    },
    {
     "data": {
      "application/vnd.jupyter.widget-view+json": {
       "model_id": "",
       "version_major": 2,
       "version_minor": 0
      },
      "text/plain": [
       "HBox(children=(IntProgress(value=0, description='month', max=12), HTML(value='')))"
      ]
     },
     "metadata": {},
     "output_type": "display_data"
    },
    {
     "data": {
      "application/vnd.jupyter.widget-view+json": {
       "model_id": "",
       "version_major": 2,
       "version_minor": 0
      },
      "text/plain": [
       "HBox(children=(IntProgress(value=0, description='month', max=12), HTML(value='')))"
      ]
     },
     "metadata": {},
     "output_type": "display_data"
    },
    {
     "data": {
      "application/vnd.jupyter.widget-view+json": {
       "model_id": "",
       "version_major": 2,
       "version_minor": 0
      },
      "text/plain": [
       "HBox(children=(IntProgress(value=0, description='month', max=12), HTML(value='')))"
      ]
     },
     "metadata": {},
     "output_type": "display_data"
    },
    {
     "data": {
      "application/vnd.jupyter.widget-view+json": {
       "model_id": "",
       "version_major": 2,
       "version_minor": 0
      },
      "text/plain": [
       "HBox(children=(IntProgress(value=0, description='month', max=12), HTML(value='')))"
      ]
     },
     "metadata": {},
     "output_type": "display_data"
    },
    {
     "data": {
      "application/vnd.jupyter.widget-view+json": {
       "model_id": "",
       "version_major": 2,
       "version_minor": 0
      },
      "text/plain": [
       "HBox(children=(IntProgress(value=0, description='month', max=12), HTML(value='')))"
      ]
     },
     "metadata": {},
     "output_type": "display_data"
    },
    {
     "data": {
      "application/vnd.jupyter.widget-view+json": {
       "model_id": "",
       "version_major": 2,
       "version_minor": 0
      },
      "text/plain": [
       "HBox(children=(IntProgress(value=0, description='month', max=12), HTML(value='')))"
      ]
     },
     "metadata": {},
     "output_type": "display_data"
    },
    {
     "data": {
      "application/vnd.jupyter.widget-view+json": {
       "model_id": "",
       "version_major": 2,
       "version_minor": 0
      },
      "text/plain": [
       "HBox(children=(IntProgress(value=0, description='month', max=12), HTML(value='')))"
      ]
     },
     "metadata": {},
     "output_type": "display_data"
    },
    {
     "data": {
      "application/vnd.jupyter.widget-view+json": {
       "model_id": "",
       "version_major": 2,
       "version_minor": 0
      },
      "text/plain": [
       "HBox(children=(IntProgress(value=0, description='month', max=12), HTML(value='')))"
      ]
     },
     "metadata": {},
     "output_type": "display_data"
    },
    {
     "data": {
      "application/vnd.jupyter.widget-view+json": {
       "model_id": "",
       "version_major": 2,
       "version_minor": 0
      },
      "text/plain": [
       "HBox(children=(IntProgress(value=0, description='month', max=12), HTML(value='')))"
      ]
     },
     "metadata": {},
     "output_type": "display_data"
    },
    {
     "data": {
      "application/vnd.jupyter.widget-view+json": {
       "model_id": "",
       "version_major": 2,
       "version_minor": 0
      },
      "text/plain": [
       "HBox(children=(IntProgress(value=0, description='month', max=12), HTML(value='')))"
      ]
     },
     "metadata": {},
     "output_type": "display_data"
    },
    {
     "data": {
      "application/vnd.jupyter.widget-view+json": {
       "model_id": "",
       "version_major": 2,
       "version_minor": 0
      },
      "text/plain": [
       "HBox(children=(IntProgress(value=0, description='month', max=12), HTML(value='')))"
      ]
     },
     "metadata": {},
     "output_type": "display_data"
    },
    {
     "data": {
      "application/vnd.jupyter.widget-view+json": {
       "model_id": "",
       "version_major": 2,
       "version_minor": 0
      },
      "text/plain": [
       "HBox(children=(IntProgress(value=0, description='month', max=12), HTML(value='')))"
      ]
     },
     "metadata": {},
     "output_type": "display_data"
    },
    {
     "data": {
      "application/vnd.jupyter.widget-view+json": {
       "model_id": "",
       "version_major": 2,
       "version_minor": 0
      },
      "text/plain": [
       "HBox(children=(IntProgress(value=0, description='month', max=12), HTML(value='')))"
      ]
     },
     "metadata": {},
     "output_type": "display_data"
    },
    {
     "data": {
      "application/vnd.jupyter.widget-view+json": {
       "model_id": "",
       "version_major": 2,
       "version_minor": 0
      },
      "text/plain": [
       "HBox(children=(IntProgress(value=0, description='month', max=12), HTML(value='')))"
      ]
     },
     "metadata": {},
     "output_type": "display_data"
    },
    {
     "data": {
      "application/vnd.jupyter.widget-view+json": {
       "model_id": "",
       "version_major": 2,
       "version_minor": 0
      },
      "text/plain": [
       "HBox(children=(IntProgress(value=0, description='month', max=12), HTML(value='')))"
      ]
     },
     "metadata": {},
     "output_type": "display_data"
    },
    {
     "data": {
      "application/vnd.jupyter.widget-view+json": {
       "model_id": "",
       "version_major": 2,
       "version_minor": 0
      },
      "text/plain": [
       "HBox(children=(IntProgress(value=0, description='month', max=12), HTML(value='')))"
      ]
     },
     "metadata": {},
     "output_type": "display_data"
    },
    {
     "data": {
      "application/vnd.jupyter.widget-view+json": {
       "model_id": "",
       "version_major": 2,
       "version_minor": 0
      },
      "text/plain": [
       "HBox(children=(IntProgress(value=0, description='month', max=12), HTML(value='')))"
      ]
     },
     "metadata": {},
     "output_type": "display_data"
    },
    {
     "name": "stdout",
     "output_type": "stream",
     "text": [
      "\r"
     ]
    }
   ],
   "source": [
    "years = range(firstyear, lastyear+1)\n",
    "months = range(1,13)\n",
    "\n",
    "CN_obs_NH = get_obs(obsNHFileList, years, months)\n",
    "CN_obs_SH = get_obs(obsSHFileList, years, months)"
   ]
  },
  {
   "cell_type": "code",
   "execution_count": 16,
   "metadata": {},
   "outputs": [
    {
     "data": {
      "text/plain": [
       "<xarray.DataArray 'longitude' ()>\n",
       "array(179.813975)"
      ]
     },
     "execution_count": 16,
     "metadata": {},
     "output_type": "execute_result"
    }
   ],
   "source": [
    "CN_obs_NH['longitude'].max()"
   ]
  },
  {
   "cell_type": "code",
   "execution_count": 17,
   "metadata": {},
   "outputs": [
    {
     "name": "stderr",
     "output_type": "stream",
     "text": [
      "/g/data3/hh5/public/apps/miniconda3/envs/analysis3-18.07/lib/python3.6/site-packages/xarray/core/nanops.py:162: RuntimeWarning: Mean of empty slice\n",
      "  return np.nanmean(a, axis=axis, dtype=dtype)\n"
     ]
    }
   ],
   "source": [
    "CN_obs_NH_monthly_mean = CN_obs_NH.groupby('time.month').mean('time', skipna=True)\n",
    "CN_obs_SH_monthly_mean = CN_obs_SH.groupby('time.month').mean('time', skipna=True)"
   ]
  },
  {
   "cell_type": "code",
   "execution_count": 18,
   "metadata": {},
   "outputs": [],
   "source": [
    "levels = np.arange(0,1.01,.02)\n",
    "cmap_gamma = 4. # exponent for power-law stretch of colormap\n",
    "cbar_ticks = [ f**cmap_gamma for f in [0,.5,.6,.7,.8,.85,.9,.95,.98,1] ]\n",
    "clevel = 0.15"
   ]
  },
  {
   "cell_type": "code",
   "execution_count": 19,
   "metadata": {},
   "outputs": [],
   "source": [
    "def plot_NH_conc_model(m, x, y, model, xobs, yobs, obs):\n",
    "    m = Basemap(projection ='npstere',boundinglat=48,lon_0=0,resolution='l')\n",
    "    m.drawmapboundary(fill_color='gray') # background color - for non-ocean areas\n",
    "    ctr = m.contourf(x,y,model[NLAT_half:,:]**cmap_gamma,levels=levels,cmap=cm.cm.ice)\n",
    "    ctr.cmap.set_over(color='w', alpha=None)\n",
    "    cbar = m.colorbar(ctr, location = 'bottom', pad = \"6%\")\n",
    "    cbar.set_label('Ice concentration',size=tick_font)\n",
    "    cbar.set_ticks(cbar_ticks)\n",
    "    cbar.set_ticklabels([str(f**(1./cmap_gamma)) for f in cbar_ticks])\n",
    "    cbar_labels=plt.getp(cbar.ax.axes,'xticklabels')\n",
    "    plt.setp(cbar_labels,fontsize=tick_font)\n",
    "    cs = m.contour(x,y,model[NLAT_half:,:],[clevel],colors='g',linewidths=1)\n",
    "    cs.collections[0].set_label('model '+str(int(clevel*100))+'%')\n",
    "    cs = m.contour(xobs,yobs,obs,[clevel],colors='r',linewidths=1)\n",
    "    cs.collections[0].set_label('obs '+str(int(clevel*100))+'%')\n",
    "\n",
    "    parallels = np.arange(-80.,81,10.)\n",
    "    m.drawparallels(parallels,color='white',linewidth=0.5)\n",
    "    meridians = np.arange(0.,351.,30.)\n",
    "    m.drawmeridians(meridians,labels=[True,False,False,True],size=tick_font,color='white',linewidth=0.5)\n",
    "    plt.legend(prop={'size':11},loc='center right') #, bbox_to_anchor=(1, 1))"
   ]
  },
  {
   "cell_type": "code",
   "execution_count": 20,
   "metadata": {},
   "outputs": [],
   "source": [
    "def plot_SH_conc_model(m, x, y, model, xobs, yobs, obs):\n",
    "    m = Basemap(projection ='spstere',boundinglat=-54,lon_0=180,resolution='l')\n",
    "    m.drawmapboundary(fill_color='gray') # background color - for non-ocean areas\n",
    "    ctr = m.contourf(x,y,model[:NLAT_half,:]**cmap_gamma,levels=levels,cmap=cm.cm.ice)\n",
    "    ctr.cmap.set_over(color='w', alpha=None)\n",
    "    cbar = m.colorbar(ctr, location = 'bottom', pad = \"6%\")\n",
    "    cbar.set_label('Ice concentration',size=tick_font)\n",
    "    cbar.set_ticks(cbar_ticks)\n",
    "    cbar.set_ticklabels([str(f**(1./cmap_gamma)) for f in cbar_ticks])\n",
    "    cbar_labels=plt.getp(cbar.ax.axes,'xticklabels')\n",
    "    plt.setp(cbar_labels,fontsize=tick_font)\n",
    "    cs = m.contour(x,y,model[:NLAT_half,:],[clevel],colors='g',linewidths=1)\n",
    "    cs.collections[0].set_label('model '+str(int(clevel*100))+'%')\n",
    "    cs = m.contour(xobs,yobs,obs,[clevel],colors='r',linewidths=1)\n",
    "    cs.collections[0].set_label('obs '+str(int(clevel*100))+'%')\n",
    "\n",
    "    parallels = np.arange(-80.,81,10.)\n",
    "    m.drawparallels(parallels,color='white',linewidth=0.5)\n",
    "    meridians = np.arange(0.,351.,30.)\n",
    "    m.drawmeridians(meridians,labels=[True,False,False,True],size=tick_font,color='white',linewidth=0.5)\n",
    "    plt.legend(prop={'size':11},loc='center') #, bbox_to_anchor=(1, 1))"
   ]
  },
  {
   "cell_type": "code",
   "execution_count": 21,
   "metadata": {},
   "outputs": [],
   "source": [
    "def plot_NH_conc_obs(m,x, y, model, xobs, yobs, obs):\n",
    "    m = Basemap(projection ='npstere',boundinglat=48,lon_0=0,resolution='l')\n",
    "    m.drawmapboundary(fill_color='gray') # background color - for non-ocean areas\n",
    "    ctr = m.contourf(xobs,yobs,obs**cmap_gamma,levels=levels,cmap=cm.cm.ice)\n",
    "    ctr.cmap.set_over(color='w', alpha=None)\n",
    "    cbar = m.colorbar(ctr, location = 'bottom', pad = \"6%\")\n",
    "    cbar.set_label('Ice concentration',size=tick_font)\n",
    "    cbar.set_ticks(cbar_ticks)\n",
    "    cbar.set_ticklabels([str(f**(1./cmap_gamma)) for f in cbar_ticks])\n",
    "    cbar_labels=plt.getp(cbar.ax.axes,'xticklabels')\n",
    "    plt.setp(cbar_labels,fontsize=tick_font)\n",
    "    m.contour(xobs,yobs,obs,[clevel],colors='r',linewidths=1)\n",
    "    m.contour(x,y,model[NLAT_half:,:],[clevel],colors='g',linewidths=1)\n",
    "\n",
    "    parallels = np.arange(-80.,81,10.)\n",
    "    m.drawparallels(parallels,color='white',linewidth=0.5)\n",
    "    meridians = np.arange(0.,351.,30.)\n",
    "    m.drawmeridians(meridians,labels=[False,True,False,True],size=tick_font,color='white',linewidth=0.5)"
   ]
  },
  {
   "cell_type": "code",
   "execution_count": 22,
   "metadata": {},
   "outputs": [],
   "source": [
    "def plot_SH_conc_obs(m,x, y, model, xobs, yobs, obs):\n",
    "    m = Basemap(projection ='spstere',boundinglat=-54,lon_0=180,resolution='l')\n",
    "    m.drawmapboundary(fill_color='gray') # background color - for non-ocean areas\n",
    "    ctr = m.contourf(xobs,yobs,obs**cmap_gamma,levels=levels,cmap=cm.cm.ice)\n",
    "    ctr.cmap.set_over(color='w', alpha=None)\n",
    "    cbar = m.colorbar(ctr, location = 'bottom', pad = \"6%\")\n",
    "    cbar.set_label('Ice concentration',size=tick_font)\n",
    "    cbar.set_ticks(cbar_ticks)\n",
    "    cbar.set_ticklabels([str(f**(1./cmap_gamma)) for f in cbar_ticks])\n",
    "    cbar_labels=plt.getp(cbar.ax.axes,'xticklabels')\n",
    "    plt.setp(cbar_labels,fontsize=tick_font)\n",
    "    m.contour(xobs,yobs,obs,[clevel],colors='r',linewidths=1)\n",
    "    m.contour(x,y,model[:NLAT_half,:],[clevel],colors='g',linewidths=1)\n",
    "\n",
    "    parallels = np.arange(-80.,81,10.)\n",
    "    m.drawparallels(parallels,color='white',linewidth=0.5)\n",
    "    meridians = np.arange(0.,351.,30.)\n",
    "    m.drawmeridians(meridians,labels=[False,True,False,True],size=tick_font,color='white',linewidth=0.5)"
   ]
  },
  {
   "cell_type": "code",
   "execution_count": 23,
   "metadata": {},
   "outputs": [],
   "source": [
    "# Arctic ice concentration monthly climatology\n",
    "def plot_NH_conc_monthly_mean(ekey):\n",
    "    m = Basemap(projection ='npstere',boundinglat=48,lon_0=0,resolution='l')\n",
    "    x,y = m(*(lon_t[NLAT_half:,:],lat_t[NLAT_half:,:]))\n",
    "    xobs,yobs = m(*(CN_obs_NH.longitude.isel(time=1).data, CN_obs_NH.latitude.isel(time=1).data))\n",
    "\n",
    "    for mi, month in enumerate(months):\n",
    "        outname = ekey+'_concentration_map_NH_'+yearrange+'_'+str(month).zfill(2)+'_mean'\n",
    "        if os.path.exists(os.path.join(figdir, outname+'.png')):\n",
    "            print('Skipping ' + outname + ' (file exists)')\n",
    "        else:\n",
    "            print('Doing ' + outname)\n",
    "            try:\n",
    "                model = aice_m_monthly_mean.sel(month=mi+1)\n",
    "                obs = CN_obs_NH_monthly_mean.sel(month=mi+1)\n",
    "            except:\n",
    "                print('ERROR: could not open files')\n",
    "                continue\n",
    "            plt.figure(4,(12,7))\n",
    "\n",
    "            # plot model\n",
    "            plt.subplot(1,2,1)\n",
    "            plot_NH_conc_model(m, x, y, model, xobs, yobs, obs)\n",
    "            plt.title(calendar.month_name[month]+' '+yearrange+' mean, ' + exptdata.exptdict[ekey]['desc'], font)\n",
    "\n",
    "            # plot observations\n",
    "            ax = plt.subplot(1,2,2)\n",
    "            plot_NH_conc_obs(m, x, y, model, xobs, yobs, obs)\n",
    "            plt.title(calendar.month_name[month]+' '+yearrange+' mean, observed', font) #, y=1.03)\n",
    "            ax.annotate('NOAA G02202 V3\\nPassive microwave\\nGoddard merged\\nmonthly data',\n",
    "                xy=(.945, .5), xycoords='figure fraction',\n",
    "                horizontalalignment='right', verticalalignment='center')\n",
    "\n",
    "            plt.tight_layout()\n",
    "\n",
    "#             savefigure(outname)\n",
    "            plt.savefig(outname+'.png',dpi=200, bbox_inches=\"tight\")\n",
    "\n",
    "            plt.close()\n",
    "\n",
    "#         break"
   ]
  },
  {
   "cell_type": "code",
   "execution_count": 24,
   "metadata": {},
   "outputs": [],
   "source": [
    "# Antarctic ice concentration monthly climatology\n",
    "def plot_SH_conc_monthly_mean(ekey):\n",
    "    m = Basemap(projection ='spstere',boundinglat=-54,lon_0=180,resolution='l')\n",
    "    x,y = m(*(lon_t[:NLAT_half,:],lat_t[:NLAT_half,:]))\n",
    "    xobs,yobs = m(*(CN_obs_SH.longitude.isel(time=1).data, CN_obs_SH.latitude.isel(time=1).data))\n",
    "\n",
    "    for mi, month in enumerate(months):\n",
    "        outname = ekey+'_concentration_map_SH_'+yearrange+'_'+str(month).zfill(2)+'_mean'\n",
    "        if os.path.exists(os.path.join(figdir, outname+'.png')):\n",
    "            print('Skipping ' + outname + ' (file exists)')\n",
    "        else:\n",
    "            print('Doing ' + outname)\n",
    "            try:\n",
    "                model = aice_m_monthly_mean.sel(month=mi+1)\n",
    "                obs = CN_obs_SH_monthly_mean.sel(month=mi+1)\n",
    "            except:\n",
    "                print('ERROR: could not open files')\n",
    "                continue\n",
    "            plt.figure(4,(12,7))\n",
    "\n",
    "            # plot model\n",
    "            plt.subplot(1,2,1)\n",
    "            plot_SH_conc_model(m, x, y, model, xobs, yobs, obs)\n",
    "            plt.title(calendar.month_name[month]+' '+yearrange+' mean, ' + exptdata.exptdict[ekey]['desc'], font)\n",
    "\n",
    "            # plot observations\n",
    "            ax = plt.subplot(1,2,2)\n",
    "            plot_SH_conc_obs(m, x, y, model, xobs, yobs, obs)\n",
    "            plt.title(calendar.month_name[month]+' '+yearrange+' mean, observed', font) #, y=1.03)\n",
    "            ax.annotate('NOAA G02202 V3\\nPassive microwave\\nGoddard merged\\nmonthly data',\n",
    "                xy=(.73, .55), xycoords='figure fraction',\n",
    "                horizontalalignment='center', verticalalignment='center')\n",
    "\n",
    "\n",
    "            plt.tight_layout()\n",
    "\n",
    "#             savefigure(outname)\n",
    "            plt.savefig(outname+'.png',dpi=200, bbox_inches=\"tight\")\n",
    "\n",
    "            plt.close()\n",
    "\n",
    "#         break"
   ]
  },
  {
   "cell_type": "code",
   "execution_count": 25,
   "metadata": {},
   "outputs": [],
   "source": [
    "# Arctic ice concentration for each month\n",
    "def plot_NH_conc_months(ekey):\n",
    "    m = Basemap(projection ='npstere',boundinglat=48,lon_0=0,resolution='l')\n",
    "    x,y = m(*(lon_t[NLAT_half:,:],lat_t[NLAT_half:,:]))\n",
    "    xobs,yobs = m(*(CN_obs_NH.longitude.isel(time=1).data, CN_obs_NH.latitude.isel(time=1).data))\n",
    "\n",
    "    for year in years:\n",
    "        for month in months:\n",
    "            outnamebase = ekey+'_concentration_map_NH'\n",
    "            outname = NOSYNC+outnamebase+'/'+outnamebase+'_'+str(year)+'_'+str(month).zfill(2)\n",
    "            if os.path.exists(os.path.join(figdir, outname+'.png')):\n",
    "                print('Skipping ' + outname + ' (file exists)')\n",
    "            else:\n",
    "                print('Doing ' + outname)\n",
    "                try:\n",
    "                    model = aice_m.sel(time=pd.to_datetime(str(year)+str(month).zfill(2), format='%Y%m'))\n",
    "                    obs = CN_obs_NH.sel(time=pd.to_datetime(str(year)+str(month).zfill(2), format='%Y%m'))\n",
    "                except:\n",
    "                    print('ERROR: could not open files')\n",
    "                    continue\n",
    "                plt.figure(4,(12,7))\n",
    "\n",
    "                # plot model\n",
    "                plt.subplot(1,2,1)\n",
    "                plot_NH_conc_model(m, x, y, model, xobs, yobs, obs)\n",
    "                plt.title(calendar.month_name[month]+' '+str(year)+', ' + exptdata.exptdict[ekey]['desc'], font)\n",
    "\n",
    "                # plot observations\n",
    "                ax = plt.subplot(1,2,2)\n",
    "                plot_NH_conc_obs(m, x, y, model, xobs, yobs, obs)\n",
    "                plt.title(calendar.month_name[month]+' '+str(year)+', observed', font) #, y=1.03)\n",
    "                ax.annotate('NOAA G02202 V3\\nPassive microwave\\nGoddard merged\\nmonthly data',\n",
    "                    xy=(.945, .5), xycoords='figure fraction',\n",
    "                    horizontalalignment='right', verticalalignment='center')\n",
    "\n",
    "                plt.tight_layout()\n",
    "\n",
    "    #             savefigure(outname)\n",
    "                plt.savefig(outname+'.png',dpi=150, bbox_inches=\"tight\")\n",
    "\n",
    "                plt.close()\n",
    "\n",
    "#             break\n",
    "#         break"
   ]
  },
  {
   "cell_type": "code",
   "execution_count": 26,
   "metadata": {},
   "outputs": [],
   "source": [
    "# Antarctic ice concentration for each month\n",
    "def plot_SH_conc_months(ekey):\n",
    "    m = Basemap(projection ='spstere',boundinglat=-54,lon_0=180,resolution='l')\n",
    "    x,y = m(*(lon_t[:NLAT_half,:],lat_t[:NLAT_half,:]))\n",
    "    xobs,yobs = m(*(CN_obs_SH.longitude.isel(time=1).data, CN_obs_SH.latitude.isel(time=1).data))\n",
    "\n",
    "    for year in years:\n",
    "        for month in months:\n",
    "            outnamebase = ekey+'_concentration_map_SH'\n",
    "            outname = NOSYNC+outnamebase+'/'+outnamebase+'_'+str(year)+'_'+str(month).zfill(2)\n",
    "            if os.path.exists(os.path.join(figdir, outname+'.png')):\n",
    "                print('Skipping ' + outname + ' (file exists)')\n",
    "            else:\n",
    "                print('Doing ' + outname)\n",
    "                try:\n",
    "                    model = aice_m.sel(time=pd.to_datetime(str(year)+str(month).zfill(2), format='%Y%m'))\n",
    "                    obs = CN_obs_SH.sel(time=pd.to_datetime(str(year)+str(month).zfill(2), format='%Y%m'))\n",
    "                except:\n",
    "                    print('ERROR: could not open files')\n",
    "                    continue\n",
    "                plt.figure(4,(12,7))\n",
    "\n",
    "                # plot model\n",
    "                plt.subplot(1,2,1)\n",
    "                plot_SH_conc_model(m, x, y, model, xobs, yobs, obs)\n",
    "                plt.title(calendar.month_name[month]+' '+str(year)+', ' + exptdata.exptdict[ekey]['desc'], font)\n",
    "\n",
    "                # plot observations\n",
    "                ax = plt.subplot(1,2,2)\n",
    "                plot_SH_conc_obs(m, x, y, model, xobs, yobs, obs)\n",
    "                plt.title(calendar.month_name[month]+' '+str(year)+', observed', font) #, y=1.03)\n",
    "                ax.annotate('NOAA G02202 V3\\nPassive microwave\\nGoddard merged\\nmonthly data',\n",
    "                    xy=(.73, .55), xycoords='figure fraction',\n",
    "                    horizontalalignment='center', verticalalignment='center')\n",
    "\n",
    "                plt.tight_layout()\n",
    "\n",
    "    #             savefigure(outname)\n",
    "                plt.savefig(outname+'.png',dpi=150, bbox_inches=\"tight\")\n",
    "\n",
    "                plt.close()\n",
    "\n",
    "#             break\n",
    "#         break"
   ]
  },
  {
   "cell_type": "code",
   "execution_count": null,
   "metadata": {
    "collapsed": true
   },
   "outputs": [
    {
     "name": "stdout",
     "output_type": "stream",
     "text": [
      "1deg\n",
      "Using database sqlite:////g/data3/hh5/tmp/cosima/cosima-cookbook/cosima-cookbook.db\n"
     ]
    },
    {
     "data": {
      "application/vnd.jupyter.widget-view+json": {
       "model_id": "",
       "version_major": 2,
       "version_minor": 0
      },
      "text/plain": [
       "HBox(children=(IntProgress(value=0, description='get_nc_variable:', max=500), HTML(value='')))"
      ]
     },
     "metadata": {},
     "output_type": "display_data"
    },
    {
     "name": "stdout",
     "output_type": "stream",
     "text": [
      "Using database sqlite:////g/data3/hh5/tmp/cosima/cosima-cookbook/cosima-cookbook.db\n"
     ]
    },
    {
     "data": {
      "application/vnd.jupyter.widget-view+json": {
       "model_id": "",
       "version_major": 2,
       "version_minor": 0
      },
      "text/plain": [
       "HBox(children=(IntProgress(value=0, description='get_nc_variable:', max=500), HTML(value='')))"
      ]
     },
     "metadata": {},
     "output_type": "display_data"
    },
    {
     "name": "stdout",
     "output_type": "stream",
     "text": [
      "Using database sqlite:////g/data3/hh5/tmp/cosima/cosima-cookbook/cosima-cookbook.db\n"
     ]
    },
    {
     "data": {
      "application/vnd.jupyter.widget-view+json": {
       "model_id": "",
       "version_major": 2,
       "version_minor": 0
      },
      "text/plain": [
       "HBox(children=(IntProgress(value=0, description='get_nc_variable:', max=500), HTML(value='')))"
      ]
     },
     "metadata": {},
     "output_type": "display_data"
    },
    {
     "name": "stdout",
     "output_type": "stream",
     "text": [
      "Skipping NOSYNC/1deg_concentration_map_NH/1deg_concentration_map_NH_1995_01 (file exists)\n",
      "Skipping NOSYNC/1deg_concentration_map_NH/1deg_concentration_map_NH_1995_02 (file exists)\n",
      "Skipping NOSYNC/1deg_concentration_map_NH/1deg_concentration_map_NH_1995_03 (file exists)\n",
      "Skipping NOSYNC/1deg_concentration_map_NH/1deg_concentration_map_NH_1995_04 (file exists)\n",
      "Skipping NOSYNC/1deg_concentration_map_NH/1deg_concentration_map_NH_1995_05 (file exists)\n",
      "Skipping NOSYNC/1deg_concentration_map_NH/1deg_concentration_map_NH_1995_06 (file exists)\n",
      "Skipping NOSYNC/1deg_concentration_map_NH/1deg_concentration_map_NH_1995_07 (file exists)\n",
      "Skipping NOSYNC/1deg_concentration_map_NH/1deg_concentration_map_NH_1995_08 (file exists)\n",
      "Skipping NOSYNC/1deg_concentration_map_NH/1deg_concentration_map_NH_1995_09 (file exists)\n",
      "Skipping NOSYNC/1deg_concentration_map_NH/1deg_concentration_map_NH_1995_10 (file exists)\n",
      "Skipping NOSYNC/1deg_concentration_map_NH/1deg_concentration_map_NH_1995_11 (file exists)\n",
      "Skipping NOSYNC/1deg_concentration_map_NH/1deg_concentration_map_NH_1995_12 (file exists)\n",
      "Skipping NOSYNC/1deg_concentration_map_NH/1deg_concentration_map_NH_1996_01 (file exists)\n",
      "Skipping NOSYNC/1deg_concentration_map_NH/1deg_concentration_map_NH_1996_02 (file exists)\n",
      "Skipping NOSYNC/1deg_concentration_map_NH/1deg_concentration_map_NH_1996_03 (file exists)\n",
      "Skipping NOSYNC/1deg_concentration_map_NH/1deg_concentration_map_NH_1996_04 (file exists)\n",
      "Skipping NOSYNC/1deg_concentration_map_NH/1deg_concentration_map_NH_1996_05 (file exists)\n",
      "Skipping NOSYNC/1deg_concentration_map_NH/1deg_concentration_map_NH_1996_06 (file exists)\n",
      "Skipping NOSYNC/1deg_concentration_map_NH/1deg_concentration_map_NH_1996_07 (file exists)\n",
      "Skipping NOSYNC/1deg_concentration_map_NH/1deg_concentration_map_NH_1996_08 (file exists)\n",
      "Skipping NOSYNC/1deg_concentration_map_NH/1deg_concentration_map_NH_1996_09 (file exists)\n",
      "Skipping NOSYNC/1deg_concentration_map_NH/1deg_concentration_map_NH_1996_10 (file exists)\n",
      "Skipping NOSYNC/1deg_concentration_map_NH/1deg_concentration_map_NH_1996_11 (file exists)\n",
      "Skipping NOSYNC/1deg_concentration_map_NH/1deg_concentration_map_NH_1996_12 (file exists)\n",
      "Skipping NOSYNC/1deg_concentration_map_NH/1deg_concentration_map_NH_1997_01 (file exists)\n",
      "Skipping NOSYNC/1deg_concentration_map_NH/1deg_concentration_map_NH_1997_02 (file exists)\n",
      "Skipping NOSYNC/1deg_concentration_map_NH/1deg_concentration_map_NH_1997_03 (file exists)\n",
      "Skipping NOSYNC/1deg_concentration_map_NH/1deg_concentration_map_NH_1997_04 (file exists)\n",
      "Skipping NOSYNC/1deg_concentration_map_NH/1deg_concentration_map_NH_1997_05 (file exists)\n",
      "Skipping NOSYNC/1deg_concentration_map_NH/1deg_concentration_map_NH_1997_06 (file exists)\n",
      "Skipping NOSYNC/1deg_concentration_map_NH/1deg_concentration_map_NH_1997_07 (file exists)\n",
      "Skipping NOSYNC/1deg_concentration_map_NH/1deg_concentration_map_NH_1997_08 (file exists)\n",
      "Skipping NOSYNC/1deg_concentration_map_NH/1deg_concentration_map_NH_1997_09 (file exists)\n",
      "Skipping NOSYNC/1deg_concentration_map_NH/1deg_concentration_map_NH_1997_10 (file exists)\n",
      "Skipping NOSYNC/1deg_concentration_map_NH/1deg_concentration_map_NH_1997_11 (file exists)\n",
      "Skipping NOSYNC/1deg_concentration_map_NH/1deg_concentration_map_NH_1997_12 (file exists)\n",
      "Skipping NOSYNC/1deg_concentration_map_NH/1deg_concentration_map_NH_1998_01 (file exists)\n",
      "Skipping NOSYNC/1deg_concentration_map_NH/1deg_concentration_map_NH_1998_02 (file exists)\n",
      "Skipping NOSYNC/1deg_concentration_map_NH/1deg_concentration_map_NH_1998_03 (file exists)\n",
      "Skipping NOSYNC/1deg_concentration_map_NH/1deg_concentration_map_NH_1998_04 (file exists)\n",
      "Skipping NOSYNC/1deg_concentration_map_NH/1deg_concentration_map_NH_1998_05 (file exists)\n",
      "Skipping NOSYNC/1deg_concentration_map_NH/1deg_concentration_map_NH_1998_06 (file exists)\n",
      "Skipping NOSYNC/1deg_concentration_map_NH/1deg_concentration_map_NH_1998_07 (file exists)\n",
      "Skipping NOSYNC/1deg_concentration_map_NH/1deg_concentration_map_NH_1998_08 (file exists)\n",
      "Skipping NOSYNC/1deg_concentration_map_NH/1deg_concentration_map_NH_1998_09 (file exists)\n",
      "Skipping NOSYNC/1deg_concentration_map_NH/1deg_concentration_map_NH_1998_10 (file exists)\n",
      "Skipping NOSYNC/1deg_concentration_map_NH/1deg_concentration_map_NH_1998_11 (file exists)\n",
      "Skipping NOSYNC/1deg_concentration_map_NH/1deg_concentration_map_NH_1998_12 (file exists)\n",
      "Skipping NOSYNC/1deg_concentration_map_NH/1deg_concentration_map_NH_1999_01 (file exists)\n",
      "Skipping NOSYNC/1deg_concentration_map_NH/1deg_concentration_map_NH_1999_02 (file exists)\n",
      "Skipping NOSYNC/1deg_concentration_map_NH/1deg_concentration_map_NH_1999_03 (file exists)\n",
      "Skipping NOSYNC/1deg_concentration_map_NH/1deg_concentration_map_NH_1999_04 (file exists)\n",
      "Skipping NOSYNC/1deg_concentration_map_NH/1deg_concentration_map_NH_1999_05 (file exists)\n",
      "Skipping NOSYNC/1deg_concentration_map_NH/1deg_concentration_map_NH_1999_06 (file exists)\n",
      "Skipping NOSYNC/1deg_concentration_map_NH/1deg_concentration_map_NH_1999_07 (file exists)\n",
      "Skipping NOSYNC/1deg_concentration_map_NH/1deg_concentration_map_NH_1999_08 (file exists)\n",
      "Skipping NOSYNC/1deg_concentration_map_NH/1deg_concentration_map_NH_1999_09 (file exists)\n",
      "Skipping NOSYNC/1deg_concentration_map_NH/1deg_concentration_map_NH_1999_10 (file exists)\n",
      "Skipping NOSYNC/1deg_concentration_map_NH/1deg_concentration_map_NH_1999_11 (file exists)\n",
      "Skipping NOSYNC/1deg_concentration_map_NH/1deg_concentration_map_NH_1999_12 (file exists)\n",
      "Skipping NOSYNC/1deg_concentration_map_NH/1deg_concentration_map_NH_2000_01 (file exists)\n",
      "Skipping NOSYNC/1deg_concentration_map_NH/1deg_concentration_map_NH_2000_02 (file exists)\n",
      "Skipping NOSYNC/1deg_concentration_map_NH/1deg_concentration_map_NH_2000_03 (file exists)\n",
      "Skipping NOSYNC/1deg_concentration_map_NH/1deg_concentration_map_NH_2000_04 (file exists)\n",
      "Skipping NOSYNC/1deg_concentration_map_NH/1deg_concentration_map_NH_2000_05 (file exists)\n",
      "Skipping NOSYNC/1deg_concentration_map_NH/1deg_concentration_map_NH_2000_06 (file exists)\n",
      "Skipping NOSYNC/1deg_concentration_map_NH/1deg_concentration_map_NH_2000_07 (file exists)\n",
      "Skipping NOSYNC/1deg_concentration_map_NH/1deg_concentration_map_NH_2000_08 (file exists)\n",
      "Skipping NOSYNC/1deg_concentration_map_NH/1deg_concentration_map_NH_2000_09 (file exists)\n",
      "Skipping NOSYNC/1deg_concentration_map_NH/1deg_concentration_map_NH_2000_10 (file exists)\n",
      "Skipping NOSYNC/1deg_concentration_map_NH/1deg_concentration_map_NH_2000_11 (file exists)\n",
      "Skipping NOSYNC/1deg_concentration_map_NH/1deg_concentration_map_NH_2000_12 (file exists)\n",
      "Skipping NOSYNC/1deg_concentration_map_NH/1deg_concentration_map_NH_2001_01 (file exists)\n",
      "Skipping NOSYNC/1deg_concentration_map_NH/1deg_concentration_map_NH_2001_02 (file exists)\n",
      "Skipping NOSYNC/1deg_concentration_map_NH/1deg_concentration_map_NH_2001_03 (file exists)\n",
      "Skipping NOSYNC/1deg_concentration_map_NH/1deg_concentration_map_NH_2001_04 (file exists)\n",
      "Skipping NOSYNC/1deg_concentration_map_NH/1deg_concentration_map_NH_2001_05 (file exists)\n",
      "Skipping NOSYNC/1deg_concentration_map_NH/1deg_concentration_map_NH_2001_06 (file exists)\n",
      "Skipping NOSYNC/1deg_concentration_map_NH/1deg_concentration_map_NH_2001_07 (file exists)\n",
      "Skipping NOSYNC/1deg_concentration_map_NH/1deg_concentration_map_NH_2001_08 (file exists)\n",
      "Skipping NOSYNC/1deg_concentration_map_NH/1deg_concentration_map_NH_2001_09 (file exists)\n",
      "Skipping NOSYNC/1deg_concentration_map_NH/1deg_concentration_map_NH_2001_10 (file exists)\n",
      "Skipping NOSYNC/1deg_concentration_map_NH/1deg_concentration_map_NH_2001_11 (file exists)\n",
      "Skipping NOSYNC/1deg_concentration_map_NH/1deg_concentration_map_NH_2001_12 (file exists)\n",
      "Skipping NOSYNC/1deg_concentration_map_NH/1deg_concentration_map_NH_2002_01 (file exists)\n",
      "Skipping NOSYNC/1deg_concentration_map_NH/1deg_concentration_map_NH_2002_02 (file exists)\n",
      "Skipping NOSYNC/1deg_concentration_map_NH/1deg_concentration_map_NH_2002_03 (file exists)\n",
      "Skipping NOSYNC/1deg_concentration_map_NH/1deg_concentration_map_NH_2002_04 (file exists)\n",
      "Skipping NOSYNC/1deg_concentration_map_NH/1deg_concentration_map_NH_2002_05 (file exists)\n",
      "Skipping NOSYNC/1deg_concentration_map_NH/1deg_concentration_map_NH_2002_06 (file exists)\n",
      "Skipping NOSYNC/1deg_concentration_map_NH/1deg_concentration_map_NH_2002_07 (file exists)\n",
      "Skipping NOSYNC/1deg_concentration_map_NH/1deg_concentration_map_NH_2002_08 (file exists)\n",
      "Skipping NOSYNC/1deg_concentration_map_NH/1deg_concentration_map_NH_2002_09 (file exists)\n",
      "Skipping NOSYNC/1deg_concentration_map_NH/1deg_concentration_map_NH_2002_10 (file exists)\n",
      "Skipping NOSYNC/1deg_concentration_map_NH/1deg_concentration_map_NH_2002_11 (file exists)\n",
      "Skipping NOSYNC/1deg_concentration_map_NH/1deg_concentration_map_NH_2002_12 (file exists)\n",
      "Skipping NOSYNC/1deg_concentration_map_NH/1deg_concentration_map_NH_2003_01 (file exists)\n",
      "Skipping NOSYNC/1deg_concentration_map_NH/1deg_concentration_map_NH_2003_02 (file exists)\n",
      "Skipping NOSYNC/1deg_concentration_map_NH/1deg_concentration_map_NH_2003_03 (file exists)\n",
      "Skipping NOSYNC/1deg_concentration_map_NH/1deg_concentration_map_NH_2003_04 (file exists)\n",
      "Skipping NOSYNC/1deg_concentration_map_NH/1deg_concentration_map_NH_2003_05 (file exists)\n",
      "Skipping NOSYNC/1deg_concentration_map_NH/1deg_concentration_map_NH_2003_06 (file exists)\n",
      "Skipping NOSYNC/1deg_concentration_map_NH/1deg_concentration_map_NH_2003_07 (file exists)\n",
      "Skipping NOSYNC/1deg_concentration_map_NH/1deg_concentration_map_NH_2003_08 (file exists)\n",
      "Skipping NOSYNC/1deg_concentration_map_NH/1deg_concentration_map_NH_2003_09 (file exists)\n",
      "Skipping NOSYNC/1deg_concentration_map_NH/1deg_concentration_map_NH_2003_10 (file exists)\n",
      "Skipping NOSYNC/1deg_concentration_map_NH/1deg_concentration_map_NH_2003_11 (file exists)\n",
      "Skipping NOSYNC/1deg_concentration_map_NH/1deg_concentration_map_NH_2003_12 (file exists)\n",
      "Skipping NOSYNC/1deg_concentration_map_NH/1deg_concentration_map_NH_2004_01 (file exists)\n",
      "Skipping NOSYNC/1deg_concentration_map_NH/1deg_concentration_map_NH_2004_02 (file exists)\n",
      "Skipping NOSYNC/1deg_concentration_map_NH/1deg_concentration_map_NH_2004_03 (file exists)\n",
      "Skipping NOSYNC/1deg_concentration_map_NH/1deg_concentration_map_NH_2004_04 (file exists)\n",
      "Skipping NOSYNC/1deg_concentration_map_NH/1deg_concentration_map_NH_2004_05 (file exists)\n",
      "Skipping NOSYNC/1deg_concentration_map_NH/1deg_concentration_map_NH_2004_06 (file exists)\n",
      "Skipping NOSYNC/1deg_concentration_map_NH/1deg_concentration_map_NH_2004_07 (file exists)\n",
      "Skipping NOSYNC/1deg_concentration_map_NH/1deg_concentration_map_NH_2004_08 (file exists)\n",
      "Skipping NOSYNC/1deg_concentration_map_NH/1deg_concentration_map_NH_2004_09 (file exists)\n",
      "Skipping NOSYNC/1deg_concentration_map_NH/1deg_concentration_map_NH_2004_10 (file exists)\n",
      "Skipping NOSYNC/1deg_concentration_map_NH/1deg_concentration_map_NH_2004_11 (file exists)\n",
      "Skipping NOSYNC/1deg_concentration_map_NH/1deg_concentration_map_NH_2004_12 (file exists)\n",
      "Skipping NOSYNC/1deg_concentration_map_NH/1deg_concentration_map_NH_2005_01 (file exists)\n",
      "Skipping NOSYNC/1deg_concentration_map_NH/1deg_concentration_map_NH_2005_02 (file exists)\n",
      "Skipping NOSYNC/1deg_concentration_map_NH/1deg_concentration_map_NH_2005_03 (file exists)\n",
      "Skipping NOSYNC/1deg_concentration_map_NH/1deg_concentration_map_NH_2005_04 (file exists)\n",
      "Skipping NOSYNC/1deg_concentration_map_NH/1deg_concentration_map_NH_2005_05 (file exists)\n",
      "Skipping NOSYNC/1deg_concentration_map_NH/1deg_concentration_map_NH_2005_06 (file exists)\n",
      "Skipping NOSYNC/1deg_concentration_map_NH/1deg_concentration_map_NH_2005_07 (file exists)\n",
      "Skipping NOSYNC/1deg_concentration_map_NH/1deg_concentration_map_NH_2005_08 (file exists)\n",
      "Skipping NOSYNC/1deg_concentration_map_NH/1deg_concentration_map_NH_2005_09 (file exists)\n",
      "Skipping NOSYNC/1deg_concentration_map_NH/1deg_concentration_map_NH_2005_10 (file exists)\n",
      "Skipping NOSYNC/1deg_concentration_map_NH/1deg_concentration_map_NH_2005_11 (file exists)\n",
      "Skipping NOSYNC/1deg_concentration_map_NH/1deg_concentration_map_NH_2005_12 (file exists)\n",
      "Skipping NOSYNC/1deg_concentration_map_NH/1deg_concentration_map_NH_2006_01 (file exists)\n",
      "Skipping NOSYNC/1deg_concentration_map_NH/1deg_concentration_map_NH_2006_02 (file exists)\n",
      "Skipping NOSYNC/1deg_concentration_map_NH/1deg_concentration_map_NH_2006_03 (file exists)\n",
      "Skipping NOSYNC/1deg_concentration_map_NH/1deg_concentration_map_NH_2006_04 (file exists)\n",
      "Skipping NOSYNC/1deg_concentration_map_NH/1deg_concentration_map_NH_2006_05 (file exists)\n",
      "Skipping NOSYNC/1deg_concentration_map_NH/1deg_concentration_map_NH_2006_06 (file exists)\n",
      "Skipping NOSYNC/1deg_concentration_map_NH/1deg_concentration_map_NH_2006_07 (file exists)\n",
      "Skipping NOSYNC/1deg_concentration_map_NH/1deg_concentration_map_NH_2006_08 (file exists)\n",
      "Skipping NOSYNC/1deg_concentration_map_NH/1deg_concentration_map_NH_2006_09 (file exists)\n",
      "Skipping NOSYNC/1deg_concentration_map_NH/1deg_concentration_map_NH_2006_10 (file exists)\n",
      "Skipping NOSYNC/1deg_concentration_map_NH/1deg_concentration_map_NH_2006_11 (file exists)\n",
      "Skipping NOSYNC/1deg_concentration_map_NH/1deg_concentration_map_NH_2006_12 (file exists)\n",
      "Skipping NOSYNC/1deg_concentration_map_NH/1deg_concentration_map_NH_2007_01 (file exists)\n",
      "Skipping NOSYNC/1deg_concentration_map_NH/1deg_concentration_map_NH_2007_02 (file exists)\n",
      "Skipping NOSYNC/1deg_concentration_map_NH/1deg_concentration_map_NH_2007_03 (file exists)\n",
      "Skipping NOSYNC/1deg_concentration_map_NH/1deg_concentration_map_NH_2007_04 (file exists)\n",
      "Skipping NOSYNC/1deg_concentration_map_NH/1deg_concentration_map_NH_2007_05 (file exists)\n",
      "Skipping NOSYNC/1deg_concentration_map_NH/1deg_concentration_map_NH_2007_06 (file exists)\n",
      "Skipping NOSYNC/1deg_concentration_map_NH/1deg_concentration_map_NH_2007_07 (file exists)\n",
      "Skipping NOSYNC/1deg_concentration_map_NH/1deg_concentration_map_NH_2007_08 (file exists)\n",
      "Skipping NOSYNC/1deg_concentration_map_NH/1deg_concentration_map_NH_2007_09 (file exists)\n",
      "Skipping NOSYNC/1deg_concentration_map_NH/1deg_concentration_map_NH_2007_10 (file exists)\n",
      "Skipping NOSYNC/1deg_concentration_map_NH/1deg_concentration_map_NH_2007_11 (file exists)\n",
      "Skipping NOSYNC/1deg_concentration_map_NH/1deg_concentration_map_NH_2007_12 (file exists)\n",
      "Skipping NOSYNC/1deg_concentration_map_NH/1deg_concentration_map_NH_2008_01 (file exists)\n",
      "Skipping NOSYNC/1deg_concentration_map_NH/1deg_concentration_map_NH_2008_02 (file exists)\n",
      "Skipping NOSYNC/1deg_concentration_map_NH/1deg_concentration_map_NH_2008_03 (file exists)\n",
      "Skipping NOSYNC/1deg_concentration_map_NH/1deg_concentration_map_NH_2008_04 (file exists)\n",
      "Skipping NOSYNC/1deg_concentration_map_NH/1deg_concentration_map_NH_2008_05 (file exists)\n",
      "Skipping NOSYNC/1deg_concentration_map_NH/1deg_concentration_map_NH_2008_06 (file exists)\n",
      "Skipping NOSYNC/1deg_concentration_map_NH/1deg_concentration_map_NH_2008_07 (file exists)\n",
      "Skipping NOSYNC/1deg_concentration_map_NH/1deg_concentration_map_NH_2008_08 (file exists)\n",
      "Skipping NOSYNC/1deg_concentration_map_NH/1deg_concentration_map_NH_2008_09 (file exists)\n",
      "Skipping NOSYNC/1deg_concentration_map_NH/1deg_concentration_map_NH_2008_10 (file exists)\n",
      "Skipping NOSYNC/1deg_concentration_map_NH/1deg_concentration_map_NH_2008_11 (file exists)\n",
      "Skipping NOSYNC/1deg_concentration_map_NH/1deg_concentration_map_NH_2008_12 (file exists)\n",
      "Skipping NOSYNC/1deg_concentration_map_NH/1deg_concentration_map_NH_2009_01 (file exists)\n",
      "Skipping NOSYNC/1deg_concentration_map_NH/1deg_concentration_map_NH_2009_02 (file exists)\n",
      "Skipping NOSYNC/1deg_concentration_map_NH/1deg_concentration_map_NH_2009_03 (file exists)\n",
      "Skipping NOSYNC/1deg_concentration_map_NH/1deg_concentration_map_NH_2009_04 (file exists)\n",
      "Skipping NOSYNC/1deg_concentration_map_NH/1deg_concentration_map_NH_2009_05 (file exists)\n",
      "Skipping NOSYNC/1deg_concentration_map_NH/1deg_concentration_map_NH_2009_06 (file exists)\n",
      "Skipping NOSYNC/1deg_concentration_map_NH/1deg_concentration_map_NH_2009_07 (file exists)\n",
      "Skipping NOSYNC/1deg_concentration_map_NH/1deg_concentration_map_NH_2009_08 (file exists)\n",
      "Skipping NOSYNC/1deg_concentration_map_NH/1deg_concentration_map_NH_2009_09 (file exists)\n",
      "Skipping NOSYNC/1deg_concentration_map_NH/1deg_concentration_map_NH_2009_10 (file exists)\n",
      "Skipping NOSYNC/1deg_concentration_map_NH/1deg_concentration_map_NH_2009_11 (file exists)\n",
      "Skipping NOSYNC/1deg_concentration_map_NH/1deg_concentration_map_NH_2009_12 (file exists)\n",
      "Skipping NOSYNC/1deg_concentration_map_NH/1deg_concentration_map_NH_2010_01 (file exists)\n",
      "Skipping NOSYNC/1deg_concentration_map_NH/1deg_concentration_map_NH_2010_02 (file exists)\n",
      "Skipping NOSYNC/1deg_concentration_map_NH/1deg_concentration_map_NH_2010_03 (file exists)\n",
      "Skipping NOSYNC/1deg_concentration_map_NH/1deg_concentration_map_NH_2010_04 (file exists)\n",
      "Skipping NOSYNC/1deg_concentration_map_NH/1deg_concentration_map_NH_2010_05 (file exists)\n",
      "Skipping NOSYNC/1deg_concentration_map_NH/1deg_concentration_map_NH_2010_06 (file exists)\n",
      "Skipping NOSYNC/1deg_concentration_map_NH/1deg_concentration_map_NH_2010_07 (file exists)\n",
      "Skipping NOSYNC/1deg_concentration_map_NH/1deg_concentration_map_NH_2010_08 (file exists)\n",
      "Skipping NOSYNC/1deg_concentration_map_NH/1deg_concentration_map_NH_2010_09 (file exists)\n",
      "Skipping NOSYNC/1deg_concentration_map_NH/1deg_concentration_map_NH_2010_10 (file exists)\n",
      "Skipping NOSYNC/1deg_concentration_map_NH/1deg_concentration_map_NH_2010_11 (file exists)\n",
      "Skipping NOSYNC/1deg_concentration_map_NH/1deg_concentration_map_NH_2010_12 (file exists)\n",
      "Skipping NOSYNC/1deg_concentration_map_NH/1deg_concentration_map_NH_2011_01 (file exists)\n",
      "Skipping NOSYNC/1deg_concentration_map_NH/1deg_concentration_map_NH_2011_02 (file exists)\n",
      "Skipping NOSYNC/1deg_concentration_map_NH/1deg_concentration_map_NH_2011_03 (file exists)\n",
      "Skipping NOSYNC/1deg_concentration_map_NH/1deg_concentration_map_NH_2011_04 (file exists)\n",
      "Skipping NOSYNC/1deg_concentration_map_NH/1deg_concentration_map_NH_2011_05 (file exists)\n",
      "Skipping NOSYNC/1deg_concentration_map_NH/1deg_concentration_map_NH_2011_06 (file exists)\n",
      "Skipping NOSYNC/1deg_concentration_map_NH/1deg_concentration_map_NH_2011_07 (file exists)\n",
      "Skipping NOSYNC/1deg_concentration_map_NH/1deg_concentration_map_NH_2011_08 (file exists)\n",
      "Skipping NOSYNC/1deg_concentration_map_NH/1deg_concentration_map_NH_2011_09 (file exists)\n",
      "Skipping NOSYNC/1deg_concentration_map_NH/1deg_concentration_map_NH_2011_10 (file exists)\n",
      "Skipping NOSYNC/1deg_concentration_map_NH/1deg_concentration_map_NH_2011_11 (file exists)\n",
      "Skipping NOSYNC/1deg_concentration_map_NH/1deg_concentration_map_NH_2011_12 (file exists)\n",
      "Skipping NOSYNC/1deg_concentration_map_NH/1deg_concentration_map_NH_2012_01 (file exists)\n",
      "Skipping NOSYNC/1deg_concentration_map_NH/1deg_concentration_map_NH_2012_02 (file exists)\n",
      "Skipping NOSYNC/1deg_concentration_map_NH/1deg_concentration_map_NH_2012_03 (file exists)\n",
      "Skipping NOSYNC/1deg_concentration_map_NH/1deg_concentration_map_NH_2012_04 (file exists)\n",
      "Skipping NOSYNC/1deg_concentration_map_NH/1deg_concentration_map_NH_2012_05 (file exists)\n",
      "Skipping NOSYNC/1deg_concentration_map_NH/1deg_concentration_map_NH_2012_06 (file exists)\n",
      "Skipping NOSYNC/1deg_concentration_map_NH/1deg_concentration_map_NH_2012_07 (file exists)\n",
      "Skipping NOSYNC/1deg_concentration_map_NH/1deg_concentration_map_NH_2012_08 (file exists)\n",
      "Skipping NOSYNC/1deg_concentration_map_NH/1deg_concentration_map_NH_2012_09 (file exists)\n",
      "Skipping NOSYNC/1deg_concentration_map_NH/1deg_concentration_map_NH_2012_10 (file exists)\n",
      "Skipping NOSYNC/1deg_concentration_map_NH/1deg_concentration_map_NH_2012_11 (file exists)\n",
      "Skipping NOSYNC/1deg_concentration_map_NH/1deg_concentration_map_NH_2012_12 (file exists)\n",
      "Skipping NOSYNC/1deg_concentration_map_NH/1deg_concentration_map_NH_2013_01 (file exists)\n",
      "Skipping NOSYNC/1deg_concentration_map_NH/1deg_concentration_map_NH_2013_02 (file exists)\n",
      "Skipping NOSYNC/1deg_concentration_map_NH/1deg_concentration_map_NH_2013_03 (file exists)\n",
      "Skipping NOSYNC/1deg_concentration_map_NH/1deg_concentration_map_NH_2013_04 (file exists)\n",
      "Skipping NOSYNC/1deg_concentration_map_NH/1deg_concentration_map_NH_2013_05 (file exists)\n",
      "Skipping NOSYNC/1deg_concentration_map_NH/1deg_concentration_map_NH_2013_06 (file exists)\n",
      "Skipping NOSYNC/1deg_concentration_map_NH/1deg_concentration_map_NH_2013_07 (file exists)\n",
      "Skipping NOSYNC/1deg_concentration_map_NH/1deg_concentration_map_NH_2013_08 (file exists)\n",
      "Skipping NOSYNC/1deg_concentration_map_NH/1deg_concentration_map_NH_2013_09 (file exists)\n",
      "Skipping NOSYNC/1deg_concentration_map_NH/1deg_concentration_map_NH_2013_10 (file exists)\n",
      "Skipping NOSYNC/1deg_concentration_map_NH/1deg_concentration_map_NH_2013_11 (file exists)\n",
      "Skipping NOSYNC/1deg_concentration_map_NH/1deg_concentration_map_NH_2013_12 (file exists)\n",
      "Skipping NOSYNC/1deg_concentration_map_NH/1deg_concentration_map_NH_2014_01 (file exists)\n",
      "Skipping NOSYNC/1deg_concentration_map_NH/1deg_concentration_map_NH_2014_02 (file exists)\n",
      "Skipping NOSYNC/1deg_concentration_map_NH/1deg_concentration_map_NH_2014_03 (file exists)\n",
      "Skipping NOSYNC/1deg_concentration_map_NH/1deg_concentration_map_NH_2014_04 (file exists)\n",
      "Skipping NOSYNC/1deg_concentration_map_NH/1deg_concentration_map_NH_2014_05 (file exists)\n",
      "Skipping NOSYNC/1deg_concentration_map_NH/1deg_concentration_map_NH_2014_06 (file exists)\n",
      "Skipping NOSYNC/1deg_concentration_map_NH/1deg_concentration_map_NH_2014_07 (file exists)\n",
      "Skipping NOSYNC/1deg_concentration_map_NH/1deg_concentration_map_NH_2014_08 (file exists)\n",
      "Skipping NOSYNC/1deg_concentration_map_NH/1deg_concentration_map_NH_2014_09 (file exists)\n",
      "Skipping NOSYNC/1deg_concentration_map_NH/1deg_concentration_map_NH_2014_10 (file exists)\n",
      "Skipping NOSYNC/1deg_concentration_map_NH/1deg_concentration_map_NH_2014_11 (file exists)\n",
      "Skipping NOSYNC/1deg_concentration_map_NH/1deg_concentration_map_NH_2014_12 (file exists)\n"
     ]
    },
    {
     "name": "stdout",
     "output_type": "stream",
     "text": [
      "Skipping NOSYNC/1deg_concentration_map_SH/1deg_concentration_map_SH_1995_01 (file exists)\n",
      "Skipping NOSYNC/1deg_concentration_map_SH/1deg_concentration_map_SH_1995_02 (file exists)\n",
      "Skipping NOSYNC/1deg_concentration_map_SH/1deg_concentration_map_SH_1995_03 (file exists)\n",
      "Skipping NOSYNC/1deg_concentration_map_SH/1deg_concentration_map_SH_1995_04 (file exists)\n",
      "Skipping NOSYNC/1deg_concentration_map_SH/1deg_concentration_map_SH_1995_05 (file exists)\n",
      "Skipping NOSYNC/1deg_concentration_map_SH/1deg_concentration_map_SH_1995_06 (file exists)\n",
      "Skipping NOSYNC/1deg_concentration_map_SH/1deg_concentration_map_SH_1995_07 (file exists)\n",
      "Skipping NOSYNC/1deg_concentration_map_SH/1deg_concentration_map_SH_1995_08 (file exists)\n",
      "Skipping NOSYNC/1deg_concentration_map_SH/1deg_concentration_map_SH_1995_09 (file exists)\n",
      "Skipping NOSYNC/1deg_concentration_map_SH/1deg_concentration_map_SH_1995_10 (file exists)\n",
      "Skipping NOSYNC/1deg_concentration_map_SH/1deg_concentration_map_SH_1995_11 (file exists)\n",
      "Skipping NOSYNC/1deg_concentration_map_SH/1deg_concentration_map_SH_1995_12 (file exists)\n",
      "Skipping NOSYNC/1deg_concentration_map_SH/1deg_concentration_map_SH_1996_01 (file exists)\n",
      "Skipping NOSYNC/1deg_concentration_map_SH/1deg_concentration_map_SH_1996_02 (file exists)\n",
      "Skipping NOSYNC/1deg_concentration_map_SH/1deg_concentration_map_SH_1996_03 (file exists)\n",
      "Skipping NOSYNC/1deg_concentration_map_SH/1deg_concentration_map_SH_1996_04 (file exists)\n",
      "Skipping NOSYNC/1deg_concentration_map_SH/1deg_concentration_map_SH_1996_05 (file exists)\n",
      "Skipping NOSYNC/1deg_concentration_map_SH/1deg_concentration_map_SH_1996_06 (file exists)\n",
      "Skipping NOSYNC/1deg_concentration_map_SH/1deg_concentration_map_SH_1996_07 (file exists)\n",
      "Skipping NOSYNC/1deg_concentration_map_SH/1deg_concentration_map_SH_1996_08 (file exists)\n",
      "Skipping NOSYNC/1deg_concentration_map_SH/1deg_concentration_map_SH_1996_09 (file exists)\n",
      "Skipping NOSYNC/1deg_concentration_map_SH/1deg_concentration_map_SH_1996_10 (file exists)\n",
      "Skipping NOSYNC/1deg_concentration_map_SH/1deg_concentration_map_SH_1996_11 (file exists)\n",
      "Skipping NOSYNC/1deg_concentration_map_SH/1deg_concentration_map_SH_1996_12 (file exists)\n",
      "Skipping NOSYNC/1deg_concentration_map_SH/1deg_concentration_map_SH_1997_01 (file exists)\n",
      "Skipping NOSYNC/1deg_concentration_map_SH/1deg_concentration_map_SH_1997_02 (file exists)\n",
      "Skipping NOSYNC/1deg_concentration_map_SH/1deg_concentration_map_SH_1997_03 (file exists)\n",
      "Skipping NOSYNC/1deg_concentration_map_SH/1deg_concentration_map_SH_1997_04 (file exists)\n",
      "Skipping NOSYNC/1deg_concentration_map_SH/1deg_concentration_map_SH_1997_05 (file exists)\n",
      "Skipping NOSYNC/1deg_concentration_map_SH/1deg_concentration_map_SH_1997_06 (file exists)\n",
      "Skipping NOSYNC/1deg_concentration_map_SH/1deg_concentration_map_SH_1997_07 (file exists)\n",
      "Skipping NOSYNC/1deg_concentration_map_SH/1deg_concentration_map_SH_1997_08 (file exists)\n",
      "Skipping NOSYNC/1deg_concentration_map_SH/1deg_concentration_map_SH_1997_09 (file exists)\n",
      "Skipping NOSYNC/1deg_concentration_map_SH/1deg_concentration_map_SH_1997_10 (file exists)\n",
      "Skipping NOSYNC/1deg_concentration_map_SH/1deg_concentration_map_SH_1997_11 (file exists)\n",
      "Skipping NOSYNC/1deg_concentration_map_SH/1deg_concentration_map_SH_1997_12 (file exists)\n",
      "Skipping NOSYNC/1deg_concentration_map_SH/1deg_concentration_map_SH_1998_01 (file exists)\n",
      "Skipping NOSYNC/1deg_concentration_map_SH/1deg_concentration_map_SH_1998_02 (file exists)\n",
      "Skipping NOSYNC/1deg_concentration_map_SH/1deg_concentration_map_SH_1998_03 (file exists)\n",
      "Skipping NOSYNC/1deg_concentration_map_SH/1deg_concentration_map_SH_1998_04 (file exists)\n",
      "Skipping NOSYNC/1deg_concentration_map_SH/1deg_concentration_map_SH_1998_05 (file exists)\n",
      "Skipping NOSYNC/1deg_concentration_map_SH/1deg_concentration_map_SH_1998_06 (file exists)\n",
      "Skipping NOSYNC/1deg_concentration_map_SH/1deg_concentration_map_SH_1998_07 (file exists)\n",
      "Skipping NOSYNC/1deg_concentration_map_SH/1deg_concentration_map_SH_1998_08 (file exists)\n",
      "Skipping NOSYNC/1deg_concentration_map_SH/1deg_concentration_map_SH_1998_09 (file exists)\n",
      "Skipping NOSYNC/1deg_concentration_map_SH/1deg_concentration_map_SH_1998_10 (file exists)\n",
      "Skipping NOSYNC/1deg_concentration_map_SH/1deg_concentration_map_SH_1998_11 (file exists)\n",
      "Skipping NOSYNC/1deg_concentration_map_SH/1deg_concentration_map_SH_1998_12 (file exists)\n",
      "Skipping NOSYNC/1deg_concentration_map_SH/1deg_concentration_map_SH_1999_01 (file exists)\n",
      "Skipping NOSYNC/1deg_concentration_map_SH/1deg_concentration_map_SH_1999_02 (file exists)\n",
      "Skipping NOSYNC/1deg_concentration_map_SH/1deg_concentration_map_SH_1999_03 (file exists)\n",
      "Skipping NOSYNC/1deg_concentration_map_SH/1deg_concentration_map_SH_1999_04 (file exists)\n",
      "Skipping NOSYNC/1deg_concentration_map_SH/1deg_concentration_map_SH_1999_05 (file exists)\n",
      "Skipping NOSYNC/1deg_concentration_map_SH/1deg_concentration_map_SH_1999_06 (file exists)\n",
      "Skipping NOSYNC/1deg_concentration_map_SH/1deg_concentration_map_SH_1999_07 (file exists)\n",
      "Skipping NOSYNC/1deg_concentration_map_SH/1deg_concentration_map_SH_1999_08 (file exists)\n",
      "Skipping NOSYNC/1deg_concentration_map_SH/1deg_concentration_map_SH_1999_09 (file exists)\n",
      "Skipping NOSYNC/1deg_concentration_map_SH/1deg_concentration_map_SH_1999_10 (file exists)\n",
      "Skipping NOSYNC/1deg_concentration_map_SH/1deg_concentration_map_SH_1999_11 (file exists)\n",
      "Skipping NOSYNC/1deg_concentration_map_SH/1deg_concentration_map_SH_1999_12 (file exists)\n",
      "Skipping NOSYNC/1deg_concentration_map_SH/1deg_concentration_map_SH_2000_01 (file exists)\n",
      "Skipping NOSYNC/1deg_concentration_map_SH/1deg_concentration_map_SH_2000_02 (file exists)\n",
      "Skipping NOSYNC/1deg_concentration_map_SH/1deg_concentration_map_SH_2000_03 (file exists)\n",
      "Skipping NOSYNC/1deg_concentration_map_SH/1deg_concentration_map_SH_2000_04 (file exists)\n",
      "Skipping NOSYNC/1deg_concentration_map_SH/1deg_concentration_map_SH_2000_05 (file exists)\n",
      "Skipping NOSYNC/1deg_concentration_map_SH/1deg_concentration_map_SH_2000_06 (file exists)\n",
      "Skipping NOSYNC/1deg_concentration_map_SH/1deg_concentration_map_SH_2000_07 (file exists)\n",
      "Skipping NOSYNC/1deg_concentration_map_SH/1deg_concentration_map_SH_2000_08 (file exists)\n",
      "Skipping NOSYNC/1deg_concentration_map_SH/1deg_concentration_map_SH_2000_09 (file exists)\n",
      "Skipping NOSYNC/1deg_concentration_map_SH/1deg_concentration_map_SH_2000_10 (file exists)\n",
      "Skipping NOSYNC/1deg_concentration_map_SH/1deg_concentration_map_SH_2000_11 (file exists)\n",
      "Skipping NOSYNC/1deg_concentration_map_SH/1deg_concentration_map_SH_2000_12 (file exists)\n",
      "Skipping NOSYNC/1deg_concentration_map_SH/1deg_concentration_map_SH_2001_01 (file exists)\n",
      "Skipping NOSYNC/1deg_concentration_map_SH/1deg_concentration_map_SH_2001_02 (file exists)\n",
      "Skipping NOSYNC/1deg_concentration_map_SH/1deg_concentration_map_SH_2001_03 (file exists)\n",
      "Skipping NOSYNC/1deg_concentration_map_SH/1deg_concentration_map_SH_2001_04 (file exists)\n",
      "Skipping NOSYNC/1deg_concentration_map_SH/1deg_concentration_map_SH_2001_05 (file exists)\n",
      "Skipping NOSYNC/1deg_concentration_map_SH/1deg_concentration_map_SH_2001_06 (file exists)\n",
      "Skipping NOSYNC/1deg_concentration_map_SH/1deg_concentration_map_SH_2001_07 (file exists)\n",
      "Skipping NOSYNC/1deg_concentration_map_SH/1deg_concentration_map_SH_2001_08 (file exists)\n",
      "Skipping NOSYNC/1deg_concentration_map_SH/1deg_concentration_map_SH_2001_09 (file exists)\n",
      "Skipping NOSYNC/1deg_concentration_map_SH/1deg_concentration_map_SH_2001_10 (file exists)\n",
      "Skipping NOSYNC/1deg_concentration_map_SH/1deg_concentration_map_SH_2001_11 (file exists)\n",
      "Skipping NOSYNC/1deg_concentration_map_SH/1deg_concentration_map_SH_2001_12 (file exists)\n",
      "Skipping NOSYNC/1deg_concentration_map_SH/1deg_concentration_map_SH_2002_01 (file exists)\n",
      "Skipping NOSYNC/1deg_concentration_map_SH/1deg_concentration_map_SH_2002_02 (file exists)\n",
      "Skipping NOSYNC/1deg_concentration_map_SH/1deg_concentration_map_SH_2002_03 (file exists)\n",
      "Skipping NOSYNC/1deg_concentration_map_SH/1deg_concentration_map_SH_2002_04 (file exists)\n",
      "Skipping NOSYNC/1deg_concentration_map_SH/1deg_concentration_map_SH_2002_05 (file exists)\n",
      "Skipping NOSYNC/1deg_concentration_map_SH/1deg_concentration_map_SH_2002_06 (file exists)\n",
      "Skipping NOSYNC/1deg_concentration_map_SH/1deg_concentration_map_SH_2002_07 (file exists)\n",
      "Skipping NOSYNC/1deg_concentration_map_SH/1deg_concentration_map_SH_2002_08 (file exists)\n",
      "Skipping NOSYNC/1deg_concentration_map_SH/1deg_concentration_map_SH_2002_09 (file exists)\n",
      "Skipping NOSYNC/1deg_concentration_map_SH/1deg_concentration_map_SH_2002_10 (file exists)\n",
      "Skipping NOSYNC/1deg_concentration_map_SH/1deg_concentration_map_SH_2002_11 (file exists)\n",
      "Skipping NOSYNC/1deg_concentration_map_SH/1deg_concentration_map_SH_2002_12 (file exists)\n",
      "Skipping NOSYNC/1deg_concentration_map_SH/1deg_concentration_map_SH_2003_01 (file exists)\n",
      "Skipping NOSYNC/1deg_concentration_map_SH/1deg_concentration_map_SH_2003_02 (file exists)\n",
      "Skipping NOSYNC/1deg_concentration_map_SH/1deg_concentration_map_SH_2003_03 (file exists)\n",
      "Skipping NOSYNC/1deg_concentration_map_SH/1deg_concentration_map_SH_2003_04 (file exists)\n",
      "Skipping NOSYNC/1deg_concentration_map_SH/1deg_concentration_map_SH_2003_05 (file exists)\n",
      "Skipping NOSYNC/1deg_concentration_map_SH/1deg_concentration_map_SH_2003_06 (file exists)\n",
      "Skipping NOSYNC/1deg_concentration_map_SH/1deg_concentration_map_SH_2003_07 (file exists)\n",
      "Skipping NOSYNC/1deg_concentration_map_SH/1deg_concentration_map_SH_2003_08 (file exists)\n",
      "Skipping NOSYNC/1deg_concentration_map_SH/1deg_concentration_map_SH_2003_09 (file exists)\n",
      "Skipping NOSYNC/1deg_concentration_map_SH/1deg_concentration_map_SH_2003_10 (file exists)\n",
      "Skipping NOSYNC/1deg_concentration_map_SH/1deg_concentration_map_SH_2003_11 (file exists)\n",
      "Skipping NOSYNC/1deg_concentration_map_SH/1deg_concentration_map_SH_2003_12 (file exists)\n",
      "Skipping NOSYNC/1deg_concentration_map_SH/1deg_concentration_map_SH_2004_01 (file exists)\n",
      "Skipping NOSYNC/1deg_concentration_map_SH/1deg_concentration_map_SH_2004_02 (file exists)\n",
      "Skipping NOSYNC/1deg_concentration_map_SH/1deg_concentration_map_SH_2004_03 (file exists)\n",
      "Skipping NOSYNC/1deg_concentration_map_SH/1deg_concentration_map_SH_2004_04 (file exists)\n",
      "Skipping NOSYNC/1deg_concentration_map_SH/1deg_concentration_map_SH_2004_05 (file exists)\n",
      "Skipping NOSYNC/1deg_concentration_map_SH/1deg_concentration_map_SH_2004_06 (file exists)\n",
      "Skipping NOSYNC/1deg_concentration_map_SH/1deg_concentration_map_SH_2004_07 (file exists)\n",
      "Skipping NOSYNC/1deg_concentration_map_SH/1deg_concentration_map_SH_2004_08 (file exists)\n",
      "Skipping NOSYNC/1deg_concentration_map_SH/1deg_concentration_map_SH_2004_09 (file exists)\n",
      "Skipping NOSYNC/1deg_concentration_map_SH/1deg_concentration_map_SH_2004_10 (file exists)\n",
      "Skipping NOSYNC/1deg_concentration_map_SH/1deg_concentration_map_SH_2004_11 (file exists)\n",
      "Skipping NOSYNC/1deg_concentration_map_SH/1deg_concentration_map_SH_2004_12 (file exists)\n",
      "Skipping NOSYNC/1deg_concentration_map_SH/1deg_concentration_map_SH_2005_01 (file exists)\n",
      "Skipping NOSYNC/1deg_concentration_map_SH/1deg_concentration_map_SH_2005_02 (file exists)\n",
      "Skipping NOSYNC/1deg_concentration_map_SH/1deg_concentration_map_SH_2005_03 (file exists)\n",
      "Skipping NOSYNC/1deg_concentration_map_SH/1deg_concentration_map_SH_2005_04 (file exists)\n",
      "Skipping NOSYNC/1deg_concentration_map_SH/1deg_concentration_map_SH_2005_05 (file exists)\n",
      "Skipping NOSYNC/1deg_concentration_map_SH/1deg_concentration_map_SH_2005_06 (file exists)\n",
      "Skipping NOSYNC/1deg_concentration_map_SH/1deg_concentration_map_SH_2005_07 (file exists)\n",
      "Skipping NOSYNC/1deg_concentration_map_SH/1deg_concentration_map_SH_2005_08 (file exists)\n",
      "Skipping NOSYNC/1deg_concentration_map_SH/1deg_concentration_map_SH_2005_09 (file exists)\n",
      "Skipping NOSYNC/1deg_concentration_map_SH/1deg_concentration_map_SH_2005_10 (file exists)\n",
      "Skipping NOSYNC/1deg_concentration_map_SH/1deg_concentration_map_SH_2005_11 (file exists)\n",
      "Skipping NOSYNC/1deg_concentration_map_SH/1deg_concentration_map_SH_2005_12 (file exists)\n",
      "Skipping NOSYNC/1deg_concentration_map_SH/1deg_concentration_map_SH_2006_01 (file exists)\n",
      "Skipping NOSYNC/1deg_concentration_map_SH/1deg_concentration_map_SH_2006_02 (file exists)\n",
      "Skipping NOSYNC/1deg_concentration_map_SH/1deg_concentration_map_SH_2006_03 (file exists)\n",
      "Skipping NOSYNC/1deg_concentration_map_SH/1deg_concentration_map_SH_2006_04 (file exists)\n",
      "Skipping NOSYNC/1deg_concentration_map_SH/1deg_concentration_map_SH_2006_05 (file exists)\n",
      "Skipping NOSYNC/1deg_concentration_map_SH/1deg_concentration_map_SH_2006_06 (file exists)\n",
      "Skipping NOSYNC/1deg_concentration_map_SH/1deg_concentration_map_SH_2006_07 (file exists)\n",
      "Skipping NOSYNC/1deg_concentration_map_SH/1deg_concentration_map_SH_2006_08 (file exists)\n",
      "Skipping NOSYNC/1deg_concentration_map_SH/1deg_concentration_map_SH_2006_09 (file exists)\n",
      "Skipping NOSYNC/1deg_concentration_map_SH/1deg_concentration_map_SH_2006_10 (file exists)\n",
      "Skipping NOSYNC/1deg_concentration_map_SH/1deg_concentration_map_SH_2006_11 (file exists)\n",
      "Skipping NOSYNC/1deg_concentration_map_SH/1deg_concentration_map_SH_2006_12 (file exists)\n",
      "Skipping NOSYNC/1deg_concentration_map_SH/1deg_concentration_map_SH_2007_01 (file exists)\n",
      "Skipping NOSYNC/1deg_concentration_map_SH/1deg_concentration_map_SH_2007_02 (file exists)\n",
      "Skipping NOSYNC/1deg_concentration_map_SH/1deg_concentration_map_SH_2007_03 (file exists)\n",
      "Skipping NOSYNC/1deg_concentration_map_SH/1deg_concentration_map_SH_2007_04 (file exists)\n",
      "Skipping NOSYNC/1deg_concentration_map_SH/1deg_concentration_map_SH_2007_05 (file exists)\n",
      "Skipping NOSYNC/1deg_concentration_map_SH/1deg_concentration_map_SH_2007_06 (file exists)\n",
      "Skipping NOSYNC/1deg_concentration_map_SH/1deg_concentration_map_SH_2007_07 (file exists)\n",
      "Skipping NOSYNC/1deg_concentration_map_SH/1deg_concentration_map_SH_2007_08 (file exists)\n",
      "Skipping NOSYNC/1deg_concentration_map_SH/1deg_concentration_map_SH_2007_09 (file exists)\n",
      "Skipping NOSYNC/1deg_concentration_map_SH/1deg_concentration_map_SH_2007_10 (file exists)\n",
      "Skipping NOSYNC/1deg_concentration_map_SH/1deg_concentration_map_SH_2007_11 (file exists)\n",
      "Skipping NOSYNC/1deg_concentration_map_SH/1deg_concentration_map_SH_2007_12 (file exists)\n",
      "Skipping NOSYNC/1deg_concentration_map_SH/1deg_concentration_map_SH_2008_01 (file exists)\n",
      "Skipping NOSYNC/1deg_concentration_map_SH/1deg_concentration_map_SH_2008_02 (file exists)\n",
      "Skipping NOSYNC/1deg_concentration_map_SH/1deg_concentration_map_SH_2008_03 (file exists)\n",
      "Skipping NOSYNC/1deg_concentration_map_SH/1deg_concentration_map_SH_2008_04 (file exists)\n",
      "Skipping NOSYNC/1deg_concentration_map_SH/1deg_concentration_map_SH_2008_05 (file exists)\n",
      "Skipping NOSYNC/1deg_concentration_map_SH/1deg_concentration_map_SH_2008_06 (file exists)\n",
      "Skipping NOSYNC/1deg_concentration_map_SH/1deg_concentration_map_SH_2008_07 (file exists)\n",
      "Skipping NOSYNC/1deg_concentration_map_SH/1deg_concentration_map_SH_2008_08 (file exists)\n",
      "Skipping NOSYNC/1deg_concentration_map_SH/1deg_concentration_map_SH_2008_09 (file exists)\n",
      "Skipping NOSYNC/1deg_concentration_map_SH/1deg_concentration_map_SH_2008_10 (file exists)\n",
      "Skipping NOSYNC/1deg_concentration_map_SH/1deg_concentration_map_SH_2008_11 (file exists)\n",
      "Skipping NOSYNC/1deg_concentration_map_SH/1deg_concentration_map_SH_2008_12 (file exists)\n",
      "Skipping NOSYNC/1deg_concentration_map_SH/1deg_concentration_map_SH_2009_01 (file exists)\n",
      "Skipping NOSYNC/1deg_concentration_map_SH/1deg_concentration_map_SH_2009_02 (file exists)\n",
      "Skipping NOSYNC/1deg_concentration_map_SH/1deg_concentration_map_SH_2009_03 (file exists)\n",
      "Skipping NOSYNC/1deg_concentration_map_SH/1deg_concentration_map_SH_2009_04 (file exists)\n",
      "Skipping NOSYNC/1deg_concentration_map_SH/1deg_concentration_map_SH_2009_05 (file exists)\n",
      "Skipping NOSYNC/1deg_concentration_map_SH/1deg_concentration_map_SH_2009_06 (file exists)\n",
      "Skipping NOSYNC/1deg_concentration_map_SH/1deg_concentration_map_SH_2009_07 (file exists)\n",
      "Skipping NOSYNC/1deg_concentration_map_SH/1deg_concentration_map_SH_2009_08 (file exists)\n",
      "Skipping NOSYNC/1deg_concentration_map_SH/1deg_concentration_map_SH_2009_09 (file exists)\n",
      "Skipping NOSYNC/1deg_concentration_map_SH/1deg_concentration_map_SH_2009_10 (file exists)\n",
      "Skipping NOSYNC/1deg_concentration_map_SH/1deg_concentration_map_SH_2009_11 (file exists)\n",
      "Skipping NOSYNC/1deg_concentration_map_SH/1deg_concentration_map_SH_2009_12 (file exists)\n",
      "Skipping NOSYNC/1deg_concentration_map_SH/1deg_concentration_map_SH_2010_01 (file exists)\n",
      "Skipping NOSYNC/1deg_concentration_map_SH/1deg_concentration_map_SH_2010_02 (file exists)\n",
      "Skipping NOSYNC/1deg_concentration_map_SH/1deg_concentration_map_SH_2010_03 (file exists)\n",
      "Skipping NOSYNC/1deg_concentration_map_SH/1deg_concentration_map_SH_2010_04 (file exists)\n",
      "Skipping NOSYNC/1deg_concentration_map_SH/1deg_concentration_map_SH_2010_05 (file exists)\n",
      "Skipping NOSYNC/1deg_concentration_map_SH/1deg_concentration_map_SH_2010_06 (file exists)\n",
      "Skipping NOSYNC/1deg_concentration_map_SH/1deg_concentration_map_SH_2010_07 (file exists)\n",
      "Skipping NOSYNC/1deg_concentration_map_SH/1deg_concentration_map_SH_2010_08 (file exists)\n",
      "Skipping NOSYNC/1deg_concentration_map_SH/1deg_concentration_map_SH_2010_09 (file exists)\n",
      "Skipping NOSYNC/1deg_concentration_map_SH/1deg_concentration_map_SH_2010_10 (file exists)\n",
      "Skipping NOSYNC/1deg_concentration_map_SH/1deg_concentration_map_SH_2010_11 (file exists)\n",
      "Skipping NOSYNC/1deg_concentration_map_SH/1deg_concentration_map_SH_2010_12 (file exists)\n",
      "Skipping NOSYNC/1deg_concentration_map_SH/1deg_concentration_map_SH_2011_01 (file exists)\n",
      "Skipping NOSYNC/1deg_concentration_map_SH/1deg_concentration_map_SH_2011_02 (file exists)\n",
      "Skipping NOSYNC/1deg_concentration_map_SH/1deg_concentration_map_SH_2011_03 (file exists)\n",
      "Skipping NOSYNC/1deg_concentration_map_SH/1deg_concentration_map_SH_2011_04 (file exists)\n",
      "Skipping NOSYNC/1deg_concentration_map_SH/1deg_concentration_map_SH_2011_05 (file exists)\n",
      "Skipping NOSYNC/1deg_concentration_map_SH/1deg_concentration_map_SH_2011_06 (file exists)\n",
      "Skipping NOSYNC/1deg_concentration_map_SH/1deg_concentration_map_SH_2011_07 (file exists)\n",
      "Skipping NOSYNC/1deg_concentration_map_SH/1deg_concentration_map_SH_2011_08 (file exists)\n",
      "Skipping NOSYNC/1deg_concentration_map_SH/1deg_concentration_map_SH_2011_09 (file exists)\n",
      "Skipping NOSYNC/1deg_concentration_map_SH/1deg_concentration_map_SH_2011_10 (file exists)\n",
      "Skipping NOSYNC/1deg_concentration_map_SH/1deg_concentration_map_SH_2011_11 (file exists)\n",
      "Skipping NOSYNC/1deg_concentration_map_SH/1deg_concentration_map_SH_2011_12 (file exists)\n",
      "Skipping NOSYNC/1deg_concentration_map_SH/1deg_concentration_map_SH_2012_01 (file exists)\n",
      "Skipping NOSYNC/1deg_concentration_map_SH/1deg_concentration_map_SH_2012_02 (file exists)\n",
      "Skipping NOSYNC/1deg_concentration_map_SH/1deg_concentration_map_SH_2012_03 (file exists)\n",
      "Skipping NOSYNC/1deg_concentration_map_SH/1deg_concentration_map_SH_2012_04 (file exists)\n",
      "Skipping NOSYNC/1deg_concentration_map_SH/1deg_concentration_map_SH_2012_05 (file exists)\n",
      "Skipping NOSYNC/1deg_concentration_map_SH/1deg_concentration_map_SH_2012_06 (file exists)\n",
      "Skipping NOSYNC/1deg_concentration_map_SH/1deg_concentration_map_SH_2012_07 (file exists)\n",
      "Skipping NOSYNC/1deg_concentration_map_SH/1deg_concentration_map_SH_2012_08 (file exists)\n",
      "Skipping NOSYNC/1deg_concentration_map_SH/1deg_concentration_map_SH_2012_09 (file exists)\n",
      "Skipping NOSYNC/1deg_concentration_map_SH/1deg_concentration_map_SH_2012_10 (file exists)\n",
      "Skipping NOSYNC/1deg_concentration_map_SH/1deg_concentration_map_SH_2012_11 (file exists)\n",
      "Skipping NOSYNC/1deg_concentration_map_SH/1deg_concentration_map_SH_2012_12 (file exists)\n",
      "Skipping NOSYNC/1deg_concentration_map_SH/1deg_concentration_map_SH_2013_01 (file exists)\n",
      "Skipping NOSYNC/1deg_concentration_map_SH/1deg_concentration_map_SH_2013_02 (file exists)\n",
      "Skipping NOSYNC/1deg_concentration_map_SH/1deg_concentration_map_SH_2013_03 (file exists)\n",
      "Skipping NOSYNC/1deg_concentration_map_SH/1deg_concentration_map_SH_2013_04 (file exists)\n",
      "Skipping NOSYNC/1deg_concentration_map_SH/1deg_concentration_map_SH_2013_05 (file exists)\n",
      "Skipping NOSYNC/1deg_concentration_map_SH/1deg_concentration_map_SH_2013_06 (file exists)\n",
      "Skipping NOSYNC/1deg_concentration_map_SH/1deg_concentration_map_SH_2013_07 (file exists)\n",
      "Skipping NOSYNC/1deg_concentration_map_SH/1deg_concentration_map_SH_2013_08 (file exists)\n",
      "Skipping NOSYNC/1deg_concentration_map_SH/1deg_concentration_map_SH_2013_09 (file exists)\n",
      "Skipping NOSYNC/1deg_concentration_map_SH/1deg_concentration_map_SH_2013_10 (file exists)\n",
      "Skipping NOSYNC/1deg_concentration_map_SH/1deg_concentration_map_SH_2013_11 (file exists)\n",
      "Skipping NOSYNC/1deg_concentration_map_SH/1deg_concentration_map_SH_2013_12 (file exists)\n",
      "Skipping NOSYNC/1deg_concentration_map_SH/1deg_concentration_map_SH_2014_01 (file exists)\n",
      "Skipping NOSYNC/1deg_concentration_map_SH/1deg_concentration_map_SH_2014_02 (file exists)\n",
      "Skipping NOSYNC/1deg_concentration_map_SH/1deg_concentration_map_SH_2014_03 (file exists)\n",
      "Skipping NOSYNC/1deg_concentration_map_SH/1deg_concentration_map_SH_2014_04 (file exists)\n",
      "Skipping NOSYNC/1deg_concentration_map_SH/1deg_concentration_map_SH_2014_05 (file exists)\n",
      "Skipping NOSYNC/1deg_concentration_map_SH/1deg_concentration_map_SH_2014_06 (file exists)\n",
      "Skipping NOSYNC/1deg_concentration_map_SH/1deg_concentration_map_SH_2014_07 (file exists)\n",
      "Skipping NOSYNC/1deg_concentration_map_SH/1deg_concentration_map_SH_2014_08 (file exists)\n",
      "Skipping NOSYNC/1deg_concentration_map_SH/1deg_concentration_map_SH_2014_09 (file exists)\n",
      "Skipping NOSYNC/1deg_concentration_map_SH/1deg_concentration_map_SH_2014_10 (file exists)\n",
      "Skipping NOSYNC/1deg_concentration_map_SH/1deg_concentration_map_SH_2014_11 (file exists)\n",
      "Skipping NOSYNC/1deg_concentration_map_SH/1deg_concentration_map_SH_2014_12 (file exists)\n",
      "025deg\n",
      "Using database sqlite:////g/data3/hh5/tmp/cosima/cosima-cookbook/cosima-cookbook.db\n"
     ]
    },
    {
     "data": {
      "application/vnd.jupyter.widget-view+json": {
       "model_id": "",
       "version_major": 2,
       "version_minor": 0
      },
      "text/plain": [
       "HBox(children=(IntProgress(value=0, description='get_nc_variable:', max=500), HTML(value='')))"
      ]
     },
     "metadata": {},
     "output_type": "display_data"
    },
    {
     "name": "stdout",
     "output_type": "stream",
     "text": [
      "Using database sqlite:////g/data3/hh5/tmp/cosima/cosima-cookbook/cosima-cookbook.db\n"
     ]
    },
    {
     "data": {
      "application/vnd.jupyter.widget-view+json": {
       "model_id": "",
       "version_major": 2,
       "version_minor": 0
      },
      "text/plain": [
       "HBox(children=(IntProgress(value=0, description='get_nc_variable:', max=500), HTML(value='')))"
      ]
     },
     "metadata": {},
     "output_type": "display_data"
    },
    {
     "name": "stdout",
     "output_type": "stream",
     "text": [
      "Using database sqlite:////g/data3/hh5/tmp/cosima/cosima-cookbook/cosima-cookbook.db\n"
     ]
    },
    {
     "data": {
      "application/vnd.jupyter.widget-view+json": {
       "model_id": "",
       "version_major": 2,
       "version_minor": 0
      },
      "text/plain": [
       "HBox(children=(IntProgress(value=0, description='get_nc_variable:', max=500), HTML(value='')))"
      ]
     },
     "metadata": {},
     "output_type": "display_data"
    },
    {
     "name": "stdout",
     "output_type": "stream",
     "text": [
      "Skipping NOSYNC/025deg_concentration_map_NH/025deg_concentration_map_NH_1995_01 (file exists)\n",
      "Skipping NOSYNC/025deg_concentration_map_NH/025deg_concentration_map_NH_1995_02 (file exists)\n",
      "Skipping NOSYNC/025deg_concentration_map_NH/025deg_concentration_map_NH_1995_03 (file exists)\n",
      "Skipping NOSYNC/025deg_concentration_map_NH/025deg_concentration_map_NH_1995_04 (file exists)\n",
      "Skipping NOSYNC/025deg_concentration_map_NH/025deg_concentration_map_NH_1995_05 (file exists)\n",
      "Skipping NOSYNC/025deg_concentration_map_NH/025deg_concentration_map_NH_1995_06 (file exists)\n",
      "Skipping NOSYNC/025deg_concentration_map_NH/025deg_concentration_map_NH_1995_07 (file exists)\n",
      "Skipping NOSYNC/025deg_concentration_map_NH/025deg_concentration_map_NH_1995_08 (file exists)\n",
      "Skipping NOSYNC/025deg_concentration_map_NH/025deg_concentration_map_NH_1995_09 (file exists)\n",
      "Skipping NOSYNC/025deg_concentration_map_NH/025deg_concentration_map_NH_1995_10 (file exists)\n",
      "Skipping NOSYNC/025deg_concentration_map_NH/025deg_concentration_map_NH_1995_11 (file exists)\n",
      "Skipping NOSYNC/025deg_concentration_map_NH/025deg_concentration_map_NH_1995_12 (file exists)\n",
      "Skipping NOSYNC/025deg_concentration_map_NH/025deg_concentration_map_NH_1996_01 (file exists)\n",
      "Skipping NOSYNC/025deg_concentration_map_NH/025deg_concentration_map_NH_1996_02 (file exists)\n",
      "Skipping NOSYNC/025deg_concentration_map_NH/025deg_concentration_map_NH_1996_03 (file exists)\n",
      "Skipping NOSYNC/025deg_concentration_map_NH/025deg_concentration_map_NH_1996_04 (file exists)\n",
      "Skipping NOSYNC/025deg_concentration_map_NH/025deg_concentration_map_NH_1996_05 (file exists)\n",
      "Skipping NOSYNC/025deg_concentration_map_NH/025deg_concentration_map_NH_1996_06 (file exists)\n",
      "Skipping NOSYNC/025deg_concentration_map_NH/025deg_concentration_map_NH_1996_07 (file exists)\n",
      "Skipping NOSYNC/025deg_concentration_map_NH/025deg_concentration_map_NH_1996_08 (file exists)\n",
      "Skipping NOSYNC/025deg_concentration_map_NH/025deg_concentration_map_NH_1996_09 (file exists)\n",
      "Skipping NOSYNC/025deg_concentration_map_NH/025deg_concentration_map_NH_1996_10 (file exists)\n",
      "Skipping NOSYNC/025deg_concentration_map_NH/025deg_concentration_map_NH_1996_11 (file exists)\n",
      "Skipping NOSYNC/025deg_concentration_map_NH/025deg_concentration_map_NH_1996_12 (file exists)\n",
      "Skipping NOSYNC/025deg_concentration_map_NH/025deg_concentration_map_NH_1997_01 (file exists)\n",
      "Skipping NOSYNC/025deg_concentration_map_NH/025deg_concentration_map_NH_1997_02 (file exists)\n",
      "Skipping NOSYNC/025deg_concentration_map_NH/025deg_concentration_map_NH_1997_03 (file exists)\n",
      "Skipping NOSYNC/025deg_concentration_map_NH/025deg_concentration_map_NH_1997_04 (file exists)\n",
      "Skipping NOSYNC/025deg_concentration_map_NH/025deg_concentration_map_NH_1997_05 (file exists)\n",
      "Skipping NOSYNC/025deg_concentration_map_NH/025deg_concentration_map_NH_1997_06 (file exists)\n",
      "Skipping NOSYNC/025deg_concentration_map_NH/025deg_concentration_map_NH_1997_07 (file exists)\n",
      "Skipping NOSYNC/025deg_concentration_map_NH/025deg_concentration_map_NH_1997_08 (file exists)\n",
      "Skipping NOSYNC/025deg_concentration_map_NH/025deg_concentration_map_NH_1997_09 (file exists)\n",
      "Skipping NOSYNC/025deg_concentration_map_NH/025deg_concentration_map_NH_1997_10 (file exists)\n",
      "Skipping NOSYNC/025deg_concentration_map_NH/025deg_concentration_map_NH_1997_11 (file exists)\n",
      "Skipping NOSYNC/025deg_concentration_map_NH/025deg_concentration_map_NH_1997_12 (file exists)\n",
      "Skipping NOSYNC/025deg_concentration_map_NH/025deg_concentration_map_NH_1998_01 (file exists)\n",
      "Skipping NOSYNC/025deg_concentration_map_NH/025deg_concentration_map_NH_1998_02 (file exists)\n",
      "Skipping NOSYNC/025deg_concentration_map_NH/025deg_concentration_map_NH_1998_03 (file exists)\n",
      "Skipping NOSYNC/025deg_concentration_map_NH/025deg_concentration_map_NH_1998_04 (file exists)\n",
      "Skipping NOSYNC/025deg_concentration_map_NH/025deg_concentration_map_NH_1998_05 (file exists)\n",
      "Skipping NOSYNC/025deg_concentration_map_NH/025deg_concentration_map_NH_1998_06 (file exists)\n",
      "Skipping NOSYNC/025deg_concentration_map_NH/025deg_concentration_map_NH_1998_07 (file exists)\n",
      "Skipping NOSYNC/025deg_concentration_map_NH/025deg_concentration_map_NH_1998_08 (file exists)\n",
      "Skipping NOSYNC/025deg_concentration_map_NH/025deg_concentration_map_NH_1998_09 (file exists)\n",
      "Skipping NOSYNC/025deg_concentration_map_NH/025deg_concentration_map_NH_1998_10 (file exists)\n",
      "Skipping NOSYNC/025deg_concentration_map_NH/025deg_concentration_map_NH_1998_11 (file exists)\n",
      "Skipping NOSYNC/025deg_concentration_map_NH/025deg_concentration_map_NH_1998_12 (file exists)\n",
      "Skipping NOSYNC/025deg_concentration_map_NH/025deg_concentration_map_NH_1999_01 (file exists)\n",
      "Skipping NOSYNC/025deg_concentration_map_NH/025deg_concentration_map_NH_1999_02 (file exists)\n",
      "Skipping NOSYNC/025deg_concentration_map_NH/025deg_concentration_map_NH_1999_03 (file exists)\n",
      "Skipping NOSYNC/025deg_concentration_map_NH/025deg_concentration_map_NH_1999_04 (file exists)\n",
      "Skipping NOSYNC/025deg_concentration_map_NH/025deg_concentration_map_NH_1999_05 (file exists)\n",
      "Skipping NOSYNC/025deg_concentration_map_NH/025deg_concentration_map_NH_1999_06 (file exists)\n",
      "Skipping NOSYNC/025deg_concentration_map_NH/025deg_concentration_map_NH_1999_07 (file exists)\n",
      "Skipping NOSYNC/025deg_concentration_map_NH/025deg_concentration_map_NH_1999_08 (file exists)\n",
      "Skipping NOSYNC/025deg_concentration_map_NH/025deg_concentration_map_NH_1999_09 (file exists)\n",
      "Skipping NOSYNC/025deg_concentration_map_NH/025deg_concentration_map_NH_1999_10 (file exists)\n",
      "Skipping NOSYNC/025deg_concentration_map_NH/025deg_concentration_map_NH_1999_11 (file exists)\n",
      "Skipping NOSYNC/025deg_concentration_map_NH/025deg_concentration_map_NH_1999_12 (file exists)\n",
      "Skipping NOSYNC/025deg_concentration_map_NH/025deg_concentration_map_NH_2000_01 (file exists)\n",
      "Skipping NOSYNC/025deg_concentration_map_NH/025deg_concentration_map_NH_2000_02 (file exists)\n",
      "Skipping NOSYNC/025deg_concentration_map_NH/025deg_concentration_map_NH_2000_03 (file exists)\n",
      "Skipping NOSYNC/025deg_concentration_map_NH/025deg_concentration_map_NH_2000_04 (file exists)\n",
      "Skipping NOSYNC/025deg_concentration_map_NH/025deg_concentration_map_NH_2000_05 (file exists)\n",
      "Skipping NOSYNC/025deg_concentration_map_NH/025deg_concentration_map_NH_2000_06 (file exists)\n",
      "Skipping NOSYNC/025deg_concentration_map_NH/025deg_concentration_map_NH_2000_07 (file exists)\n",
      "Skipping NOSYNC/025deg_concentration_map_NH/025deg_concentration_map_NH_2000_08 (file exists)\n",
      "Skipping NOSYNC/025deg_concentration_map_NH/025deg_concentration_map_NH_2000_09 (file exists)\n",
      "Skipping NOSYNC/025deg_concentration_map_NH/025deg_concentration_map_NH_2000_10 (file exists)\n",
      "Skipping NOSYNC/025deg_concentration_map_NH/025deg_concentration_map_NH_2000_11 (file exists)\n",
      "Skipping NOSYNC/025deg_concentration_map_NH/025deg_concentration_map_NH_2000_12 (file exists)\n",
      "Skipping NOSYNC/025deg_concentration_map_NH/025deg_concentration_map_NH_2001_01 (file exists)\n",
      "Skipping NOSYNC/025deg_concentration_map_NH/025deg_concentration_map_NH_2001_02 (file exists)\n",
      "Skipping NOSYNC/025deg_concentration_map_NH/025deg_concentration_map_NH_2001_03 (file exists)\n",
      "Skipping NOSYNC/025deg_concentration_map_NH/025deg_concentration_map_NH_2001_04 (file exists)\n",
      "Skipping NOSYNC/025deg_concentration_map_NH/025deg_concentration_map_NH_2001_05 (file exists)\n",
      "Skipping NOSYNC/025deg_concentration_map_NH/025deg_concentration_map_NH_2001_06 (file exists)\n",
      "Skipping NOSYNC/025deg_concentration_map_NH/025deg_concentration_map_NH_2001_07 (file exists)\n",
      "Skipping NOSYNC/025deg_concentration_map_NH/025deg_concentration_map_NH_2001_08 (file exists)\n",
      "Skipping NOSYNC/025deg_concentration_map_NH/025deg_concentration_map_NH_2001_09 (file exists)\n",
      "Skipping NOSYNC/025deg_concentration_map_NH/025deg_concentration_map_NH_2001_10 (file exists)\n",
      "Skipping NOSYNC/025deg_concentration_map_NH/025deg_concentration_map_NH_2001_11 (file exists)\n",
      "Skipping NOSYNC/025deg_concentration_map_NH/025deg_concentration_map_NH_2001_12 (file exists)\n",
      "Skipping NOSYNC/025deg_concentration_map_NH/025deg_concentration_map_NH_2002_01 (file exists)\n",
      "Skipping NOSYNC/025deg_concentration_map_NH/025deg_concentration_map_NH_2002_02 (file exists)\n",
      "Skipping NOSYNC/025deg_concentration_map_NH/025deg_concentration_map_NH_2002_03 (file exists)\n",
      "Skipping NOSYNC/025deg_concentration_map_NH/025deg_concentration_map_NH_2002_04 (file exists)\n",
      "Skipping NOSYNC/025deg_concentration_map_NH/025deg_concentration_map_NH_2002_05 (file exists)\n",
      "Skipping NOSYNC/025deg_concentration_map_NH/025deg_concentration_map_NH_2002_06 (file exists)\n",
      "Skipping NOSYNC/025deg_concentration_map_NH/025deg_concentration_map_NH_2002_07 (file exists)\n",
      "Skipping NOSYNC/025deg_concentration_map_NH/025deg_concentration_map_NH_2002_08 (file exists)\n",
      "Skipping NOSYNC/025deg_concentration_map_NH/025deg_concentration_map_NH_2002_09 (file exists)\n",
      "Skipping NOSYNC/025deg_concentration_map_NH/025deg_concentration_map_NH_2002_10 (file exists)\n",
      "Skipping NOSYNC/025deg_concentration_map_NH/025deg_concentration_map_NH_2002_11 (file exists)\n",
      "Skipping NOSYNC/025deg_concentration_map_NH/025deg_concentration_map_NH_2002_12 (file exists)\n",
      "Skipping NOSYNC/025deg_concentration_map_NH/025deg_concentration_map_NH_2003_01 (file exists)\n",
      "Skipping NOSYNC/025deg_concentration_map_NH/025deg_concentration_map_NH_2003_02 (file exists)\n",
      "Skipping NOSYNC/025deg_concentration_map_NH/025deg_concentration_map_NH_2003_03 (file exists)\n",
      "Skipping NOSYNC/025deg_concentration_map_NH/025deg_concentration_map_NH_2003_04 (file exists)\n",
      "Skipping NOSYNC/025deg_concentration_map_NH/025deg_concentration_map_NH_2003_05 (file exists)\n",
      "Skipping NOSYNC/025deg_concentration_map_NH/025deg_concentration_map_NH_2003_06 (file exists)\n",
      "Skipping NOSYNC/025deg_concentration_map_NH/025deg_concentration_map_NH_2003_07 (file exists)\n",
      "Skipping NOSYNC/025deg_concentration_map_NH/025deg_concentration_map_NH_2003_08 (file exists)\n",
      "Skipping NOSYNC/025deg_concentration_map_NH/025deg_concentration_map_NH_2003_09 (file exists)\n",
      "Skipping NOSYNC/025deg_concentration_map_NH/025deg_concentration_map_NH_2003_10 (file exists)\n",
      "Skipping NOSYNC/025deg_concentration_map_NH/025deg_concentration_map_NH_2003_11 (file exists)\n",
      "Skipping NOSYNC/025deg_concentration_map_NH/025deg_concentration_map_NH_2003_12 (file exists)\n",
      "Skipping NOSYNC/025deg_concentration_map_NH/025deg_concentration_map_NH_2004_01 (file exists)\n",
      "Skipping NOSYNC/025deg_concentration_map_NH/025deg_concentration_map_NH_2004_02 (file exists)\n",
      "Skipping NOSYNC/025deg_concentration_map_NH/025deg_concentration_map_NH_2004_03 (file exists)\n",
      "Skipping NOSYNC/025deg_concentration_map_NH/025deg_concentration_map_NH_2004_04 (file exists)\n",
      "Skipping NOSYNC/025deg_concentration_map_NH/025deg_concentration_map_NH_2004_05 (file exists)\n",
      "Skipping NOSYNC/025deg_concentration_map_NH/025deg_concentration_map_NH_2004_06 (file exists)\n",
      "Skipping NOSYNC/025deg_concentration_map_NH/025deg_concentration_map_NH_2004_07 (file exists)\n",
      "Skipping NOSYNC/025deg_concentration_map_NH/025deg_concentration_map_NH_2004_08 (file exists)\n",
      "Skipping NOSYNC/025deg_concentration_map_NH/025deg_concentration_map_NH_2004_09 (file exists)\n",
      "Skipping NOSYNC/025deg_concentration_map_NH/025deg_concentration_map_NH_2004_10 (file exists)\n",
      "Skipping NOSYNC/025deg_concentration_map_NH/025deg_concentration_map_NH_2004_11 (file exists)\n",
      "Skipping NOSYNC/025deg_concentration_map_NH/025deg_concentration_map_NH_2004_12 (file exists)\n",
      "Skipping NOSYNC/025deg_concentration_map_NH/025deg_concentration_map_NH_2005_01 (file exists)\n",
      "Skipping NOSYNC/025deg_concentration_map_NH/025deg_concentration_map_NH_2005_02 (file exists)\n",
      "Skipping NOSYNC/025deg_concentration_map_NH/025deg_concentration_map_NH_2005_03 (file exists)\n",
      "Skipping NOSYNC/025deg_concentration_map_NH/025deg_concentration_map_NH_2005_04 (file exists)\n",
      "Skipping NOSYNC/025deg_concentration_map_NH/025deg_concentration_map_NH_2005_05 (file exists)\n",
      "Skipping NOSYNC/025deg_concentration_map_NH/025deg_concentration_map_NH_2005_06 (file exists)\n",
      "Skipping NOSYNC/025deg_concentration_map_NH/025deg_concentration_map_NH_2005_07 (file exists)\n",
      "Skipping NOSYNC/025deg_concentration_map_NH/025deg_concentration_map_NH_2005_08 (file exists)\n",
      "Skipping NOSYNC/025deg_concentration_map_NH/025deg_concentration_map_NH_2005_09 (file exists)\n",
      "Skipping NOSYNC/025deg_concentration_map_NH/025deg_concentration_map_NH_2005_10 (file exists)\n",
      "Skipping NOSYNC/025deg_concentration_map_NH/025deg_concentration_map_NH_2005_11 (file exists)\n",
      "Skipping NOSYNC/025deg_concentration_map_NH/025deg_concentration_map_NH_2005_12 (file exists)\n",
      "Skipping NOSYNC/025deg_concentration_map_NH/025deg_concentration_map_NH_2006_01 (file exists)\n",
      "Skipping NOSYNC/025deg_concentration_map_NH/025deg_concentration_map_NH_2006_02 (file exists)\n",
      "Skipping NOSYNC/025deg_concentration_map_NH/025deg_concentration_map_NH_2006_03 (file exists)\n",
      "Skipping NOSYNC/025deg_concentration_map_NH/025deg_concentration_map_NH_2006_04 (file exists)\n",
      "Skipping NOSYNC/025deg_concentration_map_NH/025deg_concentration_map_NH_2006_05 (file exists)\n",
      "Skipping NOSYNC/025deg_concentration_map_NH/025deg_concentration_map_NH_2006_06 (file exists)\n",
      "Skipping NOSYNC/025deg_concentration_map_NH/025deg_concentration_map_NH_2006_07 (file exists)\n",
      "Skipping NOSYNC/025deg_concentration_map_NH/025deg_concentration_map_NH_2006_08 (file exists)\n",
      "Skipping NOSYNC/025deg_concentration_map_NH/025deg_concentration_map_NH_2006_09 (file exists)\n",
      "Skipping NOSYNC/025deg_concentration_map_NH/025deg_concentration_map_NH_2006_10 (file exists)\n",
      "Skipping NOSYNC/025deg_concentration_map_NH/025deg_concentration_map_NH_2006_11 (file exists)\n",
      "Skipping NOSYNC/025deg_concentration_map_NH/025deg_concentration_map_NH_2006_12 (file exists)\n",
      "Skipping NOSYNC/025deg_concentration_map_NH/025deg_concentration_map_NH_2007_01 (file exists)\n",
      "Skipping NOSYNC/025deg_concentration_map_NH/025deg_concentration_map_NH_2007_02 (file exists)\n",
      "Skipping NOSYNC/025deg_concentration_map_NH/025deg_concentration_map_NH_2007_03 (file exists)\n",
      "Skipping NOSYNC/025deg_concentration_map_NH/025deg_concentration_map_NH_2007_04 (file exists)\n",
      "Skipping NOSYNC/025deg_concentration_map_NH/025deg_concentration_map_NH_2007_05 (file exists)\n",
      "Skipping NOSYNC/025deg_concentration_map_NH/025deg_concentration_map_NH_2007_06 (file exists)\n",
      "Skipping NOSYNC/025deg_concentration_map_NH/025deg_concentration_map_NH_2007_07 (file exists)\n",
      "Skipping NOSYNC/025deg_concentration_map_NH/025deg_concentration_map_NH_2007_08 (file exists)\n",
      "Skipping NOSYNC/025deg_concentration_map_NH/025deg_concentration_map_NH_2007_09 (file exists)\n",
      "Skipping NOSYNC/025deg_concentration_map_NH/025deg_concentration_map_NH_2007_10 (file exists)\n",
      "Skipping NOSYNC/025deg_concentration_map_NH/025deg_concentration_map_NH_2007_11 (file exists)\n",
      "Skipping NOSYNC/025deg_concentration_map_NH/025deg_concentration_map_NH_2007_12 (file exists)\n",
      "Skipping NOSYNC/025deg_concentration_map_NH/025deg_concentration_map_NH_2008_01 (file exists)\n",
      "Skipping NOSYNC/025deg_concentration_map_NH/025deg_concentration_map_NH_2008_02 (file exists)\n",
      "Skipping NOSYNC/025deg_concentration_map_NH/025deg_concentration_map_NH_2008_03 (file exists)\n",
      "Skipping NOSYNC/025deg_concentration_map_NH/025deg_concentration_map_NH_2008_04 (file exists)\n",
      "Skipping NOSYNC/025deg_concentration_map_NH/025deg_concentration_map_NH_2008_05 (file exists)\n",
      "Skipping NOSYNC/025deg_concentration_map_NH/025deg_concentration_map_NH_2008_06 (file exists)\n",
      "Skipping NOSYNC/025deg_concentration_map_NH/025deg_concentration_map_NH_2008_07 (file exists)\n",
      "Skipping NOSYNC/025deg_concentration_map_NH/025deg_concentration_map_NH_2008_08 (file exists)\n",
      "Skipping NOSYNC/025deg_concentration_map_NH/025deg_concentration_map_NH_2008_09 (file exists)\n",
      "Skipping NOSYNC/025deg_concentration_map_NH/025deg_concentration_map_NH_2008_10 (file exists)\n",
      "Skipping NOSYNC/025deg_concentration_map_NH/025deg_concentration_map_NH_2008_11 (file exists)\n",
      "Skipping NOSYNC/025deg_concentration_map_NH/025deg_concentration_map_NH_2008_12 (file exists)\n",
      "Skipping NOSYNC/025deg_concentration_map_NH/025deg_concentration_map_NH_2009_01 (file exists)\n",
      "Skipping NOSYNC/025deg_concentration_map_NH/025deg_concentration_map_NH_2009_02 (file exists)\n",
      "Skipping NOSYNC/025deg_concentration_map_NH/025deg_concentration_map_NH_2009_03 (file exists)\n",
      "Skipping NOSYNC/025deg_concentration_map_NH/025deg_concentration_map_NH_2009_04 (file exists)\n",
      "Skipping NOSYNC/025deg_concentration_map_NH/025deg_concentration_map_NH_2009_05 (file exists)\n",
      "Skipping NOSYNC/025deg_concentration_map_NH/025deg_concentration_map_NH_2009_06 (file exists)\n",
      "Skipping NOSYNC/025deg_concentration_map_NH/025deg_concentration_map_NH_2009_07 (file exists)\n",
      "Skipping NOSYNC/025deg_concentration_map_NH/025deg_concentration_map_NH_2009_08 (file exists)\n",
      "Skipping NOSYNC/025deg_concentration_map_NH/025deg_concentration_map_NH_2009_09 (file exists)\n",
      "Skipping NOSYNC/025deg_concentration_map_NH/025deg_concentration_map_NH_2009_10 (file exists)\n",
      "Skipping NOSYNC/025deg_concentration_map_NH/025deg_concentration_map_NH_2009_11 (file exists)\n",
      "Skipping NOSYNC/025deg_concentration_map_NH/025deg_concentration_map_NH_2009_12 (file exists)\n",
      "Skipping NOSYNC/025deg_concentration_map_NH/025deg_concentration_map_NH_2010_01 (file exists)\n",
      "Skipping NOSYNC/025deg_concentration_map_NH/025deg_concentration_map_NH_2010_02 (file exists)\n",
      "Skipping NOSYNC/025deg_concentration_map_NH/025deg_concentration_map_NH_2010_03 (file exists)\n",
      "Skipping NOSYNC/025deg_concentration_map_NH/025deg_concentration_map_NH_2010_04 (file exists)\n",
      "Skipping NOSYNC/025deg_concentration_map_NH/025deg_concentration_map_NH_2010_05 (file exists)\n",
      "Skipping NOSYNC/025deg_concentration_map_NH/025deg_concentration_map_NH_2010_06 (file exists)\n",
      "Skipping NOSYNC/025deg_concentration_map_NH/025deg_concentration_map_NH_2010_07 (file exists)\n",
      "Skipping NOSYNC/025deg_concentration_map_NH/025deg_concentration_map_NH_2010_08 (file exists)\n",
      "Skipping NOSYNC/025deg_concentration_map_NH/025deg_concentration_map_NH_2010_09 (file exists)\n",
      "Skipping NOSYNC/025deg_concentration_map_NH/025deg_concentration_map_NH_2010_10 (file exists)\n",
      "Skipping NOSYNC/025deg_concentration_map_NH/025deg_concentration_map_NH_2010_11 (file exists)\n",
      "Skipping NOSYNC/025deg_concentration_map_NH/025deg_concentration_map_NH_2010_12 (file exists)\n",
      "Skipping NOSYNC/025deg_concentration_map_NH/025deg_concentration_map_NH_2011_01 (file exists)\n",
      "Skipping NOSYNC/025deg_concentration_map_NH/025deg_concentration_map_NH_2011_02 (file exists)\n",
      "Skipping NOSYNC/025deg_concentration_map_NH/025deg_concentration_map_NH_2011_03 (file exists)\n",
      "Skipping NOSYNC/025deg_concentration_map_NH/025deg_concentration_map_NH_2011_04 (file exists)\n",
      "Skipping NOSYNC/025deg_concentration_map_NH/025deg_concentration_map_NH_2011_05 (file exists)\n",
      "Skipping NOSYNC/025deg_concentration_map_NH/025deg_concentration_map_NH_2011_06 (file exists)\n",
      "Skipping NOSYNC/025deg_concentration_map_NH/025deg_concentration_map_NH_2011_07 (file exists)\n",
      "Skipping NOSYNC/025deg_concentration_map_NH/025deg_concentration_map_NH_2011_08 (file exists)\n",
      "Skipping NOSYNC/025deg_concentration_map_NH/025deg_concentration_map_NH_2011_09 (file exists)\n",
      "Skipping NOSYNC/025deg_concentration_map_NH/025deg_concentration_map_NH_2011_10 (file exists)\n",
      "Skipping NOSYNC/025deg_concentration_map_NH/025deg_concentration_map_NH_2011_11 (file exists)\n",
      "Skipping NOSYNC/025deg_concentration_map_NH/025deg_concentration_map_NH_2011_12 (file exists)\n",
      "Skipping NOSYNC/025deg_concentration_map_NH/025deg_concentration_map_NH_2012_01 (file exists)\n",
      "Skipping NOSYNC/025deg_concentration_map_NH/025deg_concentration_map_NH_2012_02 (file exists)\n",
      "Skipping NOSYNC/025deg_concentration_map_NH/025deg_concentration_map_NH_2012_03 (file exists)\n",
      "Skipping NOSYNC/025deg_concentration_map_NH/025deg_concentration_map_NH_2012_04 (file exists)\n",
      "Skipping NOSYNC/025deg_concentration_map_NH/025deg_concentration_map_NH_2012_05 (file exists)\n",
      "Skipping NOSYNC/025deg_concentration_map_NH/025deg_concentration_map_NH_2012_06 (file exists)\n",
      "Skipping NOSYNC/025deg_concentration_map_NH/025deg_concentration_map_NH_2012_07 (file exists)\n",
      "Skipping NOSYNC/025deg_concentration_map_NH/025deg_concentration_map_NH_2012_08 (file exists)\n",
      "Skipping NOSYNC/025deg_concentration_map_NH/025deg_concentration_map_NH_2012_09 (file exists)\n",
      "Skipping NOSYNC/025deg_concentration_map_NH/025deg_concentration_map_NH_2012_10 (file exists)\n",
      "Skipping NOSYNC/025deg_concentration_map_NH/025deg_concentration_map_NH_2012_11 (file exists)\n",
      "Skipping NOSYNC/025deg_concentration_map_NH/025deg_concentration_map_NH_2012_12 (file exists)\n",
      "Skipping NOSYNC/025deg_concentration_map_NH/025deg_concentration_map_NH_2013_01 (file exists)\n",
      "Skipping NOSYNC/025deg_concentration_map_NH/025deg_concentration_map_NH_2013_02 (file exists)\n",
      "Skipping NOSYNC/025deg_concentration_map_NH/025deg_concentration_map_NH_2013_03 (file exists)\n",
      "Skipping NOSYNC/025deg_concentration_map_NH/025deg_concentration_map_NH_2013_04 (file exists)\n",
      "Skipping NOSYNC/025deg_concentration_map_NH/025deg_concentration_map_NH_2013_05 (file exists)\n",
      "Skipping NOSYNC/025deg_concentration_map_NH/025deg_concentration_map_NH_2013_06 (file exists)\n",
      "Skipping NOSYNC/025deg_concentration_map_NH/025deg_concentration_map_NH_2013_07 (file exists)\n",
      "Skipping NOSYNC/025deg_concentration_map_NH/025deg_concentration_map_NH_2013_08 (file exists)\n",
      "Skipping NOSYNC/025deg_concentration_map_NH/025deg_concentration_map_NH_2013_09 (file exists)\n",
      "Skipping NOSYNC/025deg_concentration_map_NH/025deg_concentration_map_NH_2013_10 (file exists)\n",
      "Skipping NOSYNC/025deg_concentration_map_NH/025deg_concentration_map_NH_2013_11 (file exists)\n",
      "Skipping NOSYNC/025deg_concentration_map_NH/025deg_concentration_map_NH_2013_12 (file exists)\n",
      "Skipping NOSYNC/025deg_concentration_map_NH/025deg_concentration_map_NH_2014_01 (file exists)\n",
      "Skipping NOSYNC/025deg_concentration_map_NH/025deg_concentration_map_NH_2014_02 (file exists)\n",
      "Skipping NOSYNC/025deg_concentration_map_NH/025deg_concentration_map_NH_2014_03 (file exists)\n",
      "Skipping NOSYNC/025deg_concentration_map_NH/025deg_concentration_map_NH_2014_04 (file exists)\n",
      "Skipping NOSYNC/025deg_concentration_map_NH/025deg_concentration_map_NH_2014_05 (file exists)\n",
      "Skipping NOSYNC/025deg_concentration_map_NH/025deg_concentration_map_NH_2014_06 (file exists)\n",
      "Skipping NOSYNC/025deg_concentration_map_NH/025deg_concentration_map_NH_2014_07 (file exists)\n",
      "Skipping NOSYNC/025deg_concentration_map_NH/025deg_concentration_map_NH_2014_08 (file exists)\n",
      "Skipping NOSYNC/025deg_concentration_map_NH/025deg_concentration_map_NH_2014_09 (file exists)\n",
      "Skipping NOSYNC/025deg_concentration_map_NH/025deg_concentration_map_NH_2014_10 (file exists)\n",
      "Skipping NOSYNC/025deg_concentration_map_NH/025deg_concentration_map_NH_2014_11 (file exists)\n",
      "Skipping NOSYNC/025deg_concentration_map_NH/025deg_concentration_map_NH_2014_12 (file exists)\n"
     ]
    },
    {
     "name": "stdout",
     "output_type": "stream",
     "text": [
      "Skipping NOSYNC/025deg_concentration_map_SH/025deg_concentration_map_SH_1995_01 (file exists)\n",
      "Skipping NOSYNC/025deg_concentration_map_SH/025deg_concentration_map_SH_1995_02 (file exists)\n",
      "Skipping NOSYNC/025deg_concentration_map_SH/025deg_concentration_map_SH_1995_03 (file exists)\n",
      "Skipping NOSYNC/025deg_concentration_map_SH/025deg_concentration_map_SH_1995_04 (file exists)\n",
      "Skipping NOSYNC/025deg_concentration_map_SH/025deg_concentration_map_SH_1995_05 (file exists)\n",
      "Skipping NOSYNC/025deg_concentration_map_SH/025deg_concentration_map_SH_1995_06 (file exists)\n",
      "Skipping NOSYNC/025deg_concentration_map_SH/025deg_concentration_map_SH_1995_07 (file exists)\n",
      "Skipping NOSYNC/025deg_concentration_map_SH/025deg_concentration_map_SH_1995_08 (file exists)\n",
      "Skipping NOSYNC/025deg_concentration_map_SH/025deg_concentration_map_SH_1995_09 (file exists)\n",
      "Skipping NOSYNC/025deg_concentration_map_SH/025deg_concentration_map_SH_1995_10 (file exists)\n",
      "Skipping NOSYNC/025deg_concentration_map_SH/025deg_concentration_map_SH_1995_11 (file exists)\n",
      "Skipping NOSYNC/025deg_concentration_map_SH/025deg_concentration_map_SH_1995_12 (file exists)\n",
      "Skipping NOSYNC/025deg_concentration_map_SH/025deg_concentration_map_SH_1996_01 (file exists)\n",
      "Skipping NOSYNC/025deg_concentration_map_SH/025deg_concentration_map_SH_1996_02 (file exists)\n",
      "Skipping NOSYNC/025deg_concentration_map_SH/025deg_concentration_map_SH_1996_03 (file exists)\n",
      "Skipping NOSYNC/025deg_concentration_map_SH/025deg_concentration_map_SH_1996_04 (file exists)\n",
      "Skipping NOSYNC/025deg_concentration_map_SH/025deg_concentration_map_SH_1996_05 (file exists)\n",
      "Skipping NOSYNC/025deg_concentration_map_SH/025deg_concentration_map_SH_1996_06 (file exists)\n",
      "Skipping NOSYNC/025deg_concentration_map_SH/025deg_concentration_map_SH_1996_07 (file exists)\n",
      "Skipping NOSYNC/025deg_concentration_map_SH/025deg_concentration_map_SH_1996_08 (file exists)\n",
      "Skipping NOSYNC/025deg_concentration_map_SH/025deg_concentration_map_SH_1996_09 (file exists)\n",
      "Skipping NOSYNC/025deg_concentration_map_SH/025deg_concentration_map_SH_1996_10 (file exists)\n",
      "Skipping NOSYNC/025deg_concentration_map_SH/025deg_concentration_map_SH_1996_11 (file exists)\n",
      "Skipping NOSYNC/025deg_concentration_map_SH/025deg_concentration_map_SH_1996_12 (file exists)\n",
      "Skipping NOSYNC/025deg_concentration_map_SH/025deg_concentration_map_SH_1997_01 (file exists)\n",
      "Skipping NOSYNC/025deg_concentration_map_SH/025deg_concentration_map_SH_1997_02 (file exists)\n",
      "Skipping NOSYNC/025deg_concentration_map_SH/025deg_concentration_map_SH_1997_03 (file exists)\n",
      "Skipping NOSYNC/025deg_concentration_map_SH/025deg_concentration_map_SH_1997_04 (file exists)\n",
      "Skipping NOSYNC/025deg_concentration_map_SH/025deg_concentration_map_SH_1997_05 (file exists)\n",
      "Skipping NOSYNC/025deg_concentration_map_SH/025deg_concentration_map_SH_1997_06 (file exists)\n",
      "Skipping NOSYNC/025deg_concentration_map_SH/025deg_concentration_map_SH_1997_07 (file exists)\n",
      "Skipping NOSYNC/025deg_concentration_map_SH/025deg_concentration_map_SH_1997_08 (file exists)\n",
      "Skipping NOSYNC/025deg_concentration_map_SH/025deg_concentration_map_SH_1997_09 (file exists)\n",
      "Skipping NOSYNC/025deg_concentration_map_SH/025deg_concentration_map_SH_1997_10 (file exists)\n",
      "Skipping NOSYNC/025deg_concentration_map_SH/025deg_concentration_map_SH_1997_11 (file exists)\n",
      "Skipping NOSYNC/025deg_concentration_map_SH/025deg_concentration_map_SH_1997_12 (file exists)\n",
      "Skipping NOSYNC/025deg_concentration_map_SH/025deg_concentration_map_SH_1998_01 (file exists)\n",
      "Skipping NOSYNC/025deg_concentration_map_SH/025deg_concentration_map_SH_1998_02 (file exists)\n",
      "Skipping NOSYNC/025deg_concentration_map_SH/025deg_concentration_map_SH_1998_03 (file exists)\n",
      "Skipping NOSYNC/025deg_concentration_map_SH/025deg_concentration_map_SH_1998_04 (file exists)\n",
      "Skipping NOSYNC/025deg_concentration_map_SH/025deg_concentration_map_SH_1998_05 (file exists)\n",
      "Skipping NOSYNC/025deg_concentration_map_SH/025deg_concentration_map_SH_1998_06 (file exists)\n",
      "Skipping NOSYNC/025deg_concentration_map_SH/025deg_concentration_map_SH_1998_07 (file exists)\n",
      "Skipping NOSYNC/025deg_concentration_map_SH/025deg_concentration_map_SH_1998_08 (file exists)\n",
      "Skipping NOSYNC/025deg_concentration_map_SH/025deg_concentration_map_SH_1998_09 (file exists)\n",
      "Skipping NOSYNC/025deg_concentration_map_SH/025deg_concentration_map_SH_1998_10 (file exists)\n",
      "Skipping NOSYNC/025deg_concentration_map_SH/025deg_concentration_map_SH_1998_11 (file exists)\n",
      "Skipping NOSYNC/025deg_concentration_map_SH/025deg_concentration_map_SH_1998_12 (file exists)\n",
      "Skipping NOSYNC/025deg_concentration_map_SH/025deg_concentration_map_SH_1999_01 (file exists)\n",
      "Skipping NOSYNC/025deg_concentration_map_SH/025deg_concentration_map_SH_1999_02 (file exists)\n",
      "Skipping NOSYNC/025deg_concentration_map_SH/025deg_concentration_map_SH_1999_03 (file exists)\n",
      "Skipping NOSYNC/025deg_concentration_map_SH/025deg_concentration_map_SH_1999_04 (file exists)\n",
      "Skipping NOSYNC/025deg_concentration_map_SH/025deg_concentration_map_SH_1999_05 (file exists)\n",
      "Skipping NOSYNC/025deg_concentration_map_SH/025deg_concentration_map_SH_1999_06 (file exists)\n",
      "Skipping NOSYNC/025deg_concentration_map_SH/025deg_concentration_map_SH_1999_07 (file exists)\n",
      "Skipping NOSYNC/025deg_concentration_map_SH/025deg_concentration_map_SH_1999_08 (file exists)\n",
      "Skipping NOSYNC/025deg_concentration_map_SH/025deg_concentration_map_SH_1999_09 (file exists)\n",
      "Skipping NOSYNC/025deg_concentration_map_SH/025deg_concentration_map_SH_1999_10 (file exists)\n",
      "Skipping NOSYNC/025deg_concentration_map_SH/025deg_concentration_map_SH_1999_11 (file exists)\n",
      "Skipping NOSYNC/025deg_concentration_map_SH/025deg_concentration_map_SH_1999_12 (file exists)\n",
      "Skipping NOSYNC/025deg_concentration_map_SH/025deg_concentration_map_SH_2000_01 (file exists)\n",
      "Skipping NOSYNC/025deg_concentration_map_SH/025deg_concentration_map_SH_2000_02 (file exists)\n",
      "Skipping NOSYNC/025deg_concentration_map_SH/025deg_concentration_map_SH_2000_03 (file exists)\n",
      "Skipping NOSYNC/025deg_concentration_map_SH/025deg_concentration_map_SH_2000_04 (file exists)\n",
      "Skipping NOSYNC/025deg_concentration_map_SH/025deg_concentration_map_SH_2000_05 (file exists)\n",
      "Skipping NOSYNC/025deg_concentration_map_SH/025deg_concentration_map_SH_2000_06 (file exists)\n",
      "Skipping NOSYNC/025deg_concentration_map_SH/025deg_concentration_map_SH_2000_07 (file exists)\n",
      "Skipping NOSYNC/025deg_concentration_map_SH/025deg_concentration_map_SH_2000_08 (file exists)\n",
      "Skipping NOSYNC/025deg_concentration_map_SH/025deg_concentration_map_SH_2000_09 (file exists)\n",
      "Skipping NOSYNC/025deg_concentration_map_SH/025deg_concentration_map_SH_2000_10 (file exists)\n",
      "Skipping NOSYNC/025deg_concentration_map_SH/025deg_concentration_map_SH_2000_11 (file exists)\n",
      "Skipping NOSYNC/025deg_concentration_map_SH/025deg_concentration_map_SH_2000_12 (file exists)\n",
      "Skipping NOSYNC/025deg_concentration_map_SH/025deg_concentration_map_SH_2001_01 (file exists)\n",
      "Skipping NOSYNC/025deg_concentration_map_SH/025deg_concentration_map_SH_2001_02 (file exists)\n",
      "Skipping NOSYNC/025deg_concentration_map_SH/025deg_concentration_map_SH_2001_03 (file exists)\n",
      "Skipping NOSYNC/025deg_concentration_map_SH/025deg_concentration_map_SH_2001_04 (file exists)\n",
      "Skipping NOSYNC/025deg_concentration_map_SH/025deg_concentration_map_SH_2001_05 (file exists)\n",
      "Skipping NOSYNC/025deg_concentration_map_SH/025deg_concentration_map_SH_2001_06 (file exists)\n",
      "Skipping NOSYNC/025deg_concentration_map_SH/025deg_concentration_map_SH_2001_07 (file exists)\n",
      "Skipping NOSYNC/025deg_concentration_map_SH/025deg_concentration_map_SH_2001_08 (file exists)\n",
      "Skipping NOSYNC/025deg_concentration_map_SH/025deg_concentration_map_SH_2001_09 (file exists)\n",
      "Skipping NOSYNC/025deg_concentration_map_SH/025deg_concentration_map_SH_2001_10 (file exists)\n",
      "Skipping NOSYNC/025deg_concentration_map_SH/025deg_concentration_map_SH_2001_11 (file exists)\n",
      "Skipping NOSYNC/025deg_concentration_map_SH/025deg_concentration_map_SH_2001_12 (file exists)\n",
      "Skipping NOSYNC/025deg_concentration_map_SH/025deg_concentration_map_SH_2002_01 (file exists)\n",
      "Skipping NOSYNC/025deg_concentration_map_SH/025deg_concentration_map_SH_2002_02 (file exists)\n",
      "Skipping NOSYNC/025deg_concentration_map_SH/025deg_concentration_map_SH_2002_03 (file exists)\n",
      "Skipping NOSYNC/025deg_concentration_map_SH/025deg_concentration_map_SH_2002_04 (file exists)\n",
      "Skipping NOSYNC/025deg_concentration_map_SH/025deg_concentration_map_SH_2002_05 (file exists)\n",
      "Skipping NOSYNC/025deg_concentration_map_SH/025deg_concentration_map_SH_2002_06 (file exists)\n",
      "Skipping NOSYNC/025deg_concentration_map_SH/025deg_concentration_map_SH_2002_07 (file exists)\n",
      "Skipping NOSYNC/025deg_concentration_map_SH/025deg_concentration_map_SH_2002_08 (file exists)\n",
      "Skipping NOSYNC/025deg_concentration_map_SH/025deg_concentration_map_SH_2002_09 (file exists)\n",
      "Skipping NOSYNC/025deg_concentration_map_SH/025deg_concentration_map_SH_2002_10 (file exists)\n",
      "Skipping NOSYNC/025deg_concentration_map_SH/025deg_concentration_map_SH_2002_11 (file exists)\n",
      "Skipping NOSYNC/025deg_concentration_map_SH/025deg_concentration_map_SH_2002_12 (file exists)\n",
      "Skipping NOSYNC/025deg_concentration_map_SH/025deg_concentration_map_SH_2003_01 (file exists)\n",
      "Skipping NOSYNC/025deg_concentration_map_SH/025deg_concentration_map_SH_2003_02 (file exists)\n",
      "Skipping NOSYNC/025deg_concentration_map_SH/025deg_concentration_map_SH_2003_03 (file exists)\n",
      "Skipping NOSYNC/025deg_concentration_map_SH/025deg_concentration_map_SH_2003_04 (file exists)\n",
      "Skipping NOSYNC/025deg_concentration_map_SH/025deg_concentration_map_SH_2003_05 (file exists)\n",
      "Skipping NOSYNC/025deg_concentration_map_SH/025deg_concentration_map_SH_2003_06 (file exists)\n",
      "Skipping NOSYNC/025deg_concentration_map_SH/025deg_concentration_map_SH_2003_07 (file exists)\n",
      "Skipping NOSYNC/025deg_concentration_map_SH/025deg_concentration_map_SH_2003_08 (file exists)\n",
      "Skipping NOSYNC/025deg_concentration_map_SH/025deg_concentration_map_SH_2003_09 (file exists)\n",
      "Skipping NOSYNC/025deg_concentration_map_SH/025deg_concentration_map_SH_2003_10 (file exists)\n",
      "Skipping NOSYNC/025deg_concentration_map_SH/025deg_concentration_map_SH_2003_11 (file exists)\n",
      "Skipping NOSYNC/025deg_concentration_map_SH/025deg_concentration_map_SH_2003_12 (file exists)\n",
      "Skipping NOSYNC/025deg_concentration_map_SH/025deg_concentration_map_SH_2004_01 (file exists)\n",
      "Skipping NOSYNC/025deg_concentration_map_SH/025deg_concentration_map_SH_2004_02 (file exists)\n",
      "Skipping NOSYNC/025deg_concentration_map_SH/025deg_concentration_map_SH_2004_03 (file exists)\n",
      "Skipping NOSYNC/025deg_concentration_map_SH/025deg_concentration_map_SH_2004_04 (file exists)\n",
      "Skipping NOSYNC/025deg_concentration_map_SH/025deg_concentration_map_SH_2004_05 (file exists)\n",
      "Skipping NOSYNC/025deg_concentration_map_SH/025deg_concentration_map_SH_2004_06 (file exists)\n",
      "Skipping NOSYNC/025deg_concentration_map_SH/025deg_concentration_map_SH_2004_07 (file exists)\n",
      "Skipping NOSYNC/025deg_concentration_map_SH/025deg_concentration_map_SH_2004_08 (file exists)\n",
      "Skipping NOSYNC/025deg_concentration_map_SH/025deg_concentration_map_SH_2004_09 (file exists)\n",
      "Skipping NOSYNC/025deg_concentration_map_SH/025deg_concentration_map_SH_2004_10 (file exists)\n",
      "Skipping NOSYNC/025deg_concentration_map_SH/025deg_concentration_map_SH_2004_11 (file exists)\n",
      "Skipping NOSYNC/025deg_concentration_map_SH/025deg_concentration_map_SH_2004_12 (file exists)\n",
      "Skipping NOSYNC/025deg_concentration_map_SH/025deg_concentration_map_SH_2005_01 (file exists)\n",
      "Skipping NOSYNC/025deg_concentration_map_SH/025deg_concentration_map_SH_2005_02 (file exists)\n",
      "Skipping NOSYNC/025deg_concentration_map_SH/025deg_concentration_map_SH_2005_03 (file exists)\n",
      "Skipping NOSYNC/025deg_concentration_map_SH/025deg_concentration_map_SH_2005_04 (file exists)\n",
      "Skipping NOSYNC/025deg_concentration_map_SH/025deg_concentration_map_SH_2005_05 (file exists)\n",
      "Skipping NOSYNC/025deg_concentration_map_SH/025deg_concentration_map_SH_2005_06 (file exists)\n",
      "Skipping NOSYNC/025deg_concentration_map_SH/025deg_concentration_map_SH_2005_07 (file exists)\n",
      "Skipping NOSYNC/025deg_concentration_map_SH/025deg_concentration_map_SH_2005_08 (file exists)\n",
      "Skipping NOSYNC/025deg_concentration_map_SH/025deg_concentration_map_SH_2005_09 (file exists)\n",
      "Skipping NOSYNC/025deg_concentration_map_SH/025deg_concentration_map_SH_2005_10 (file exists)\n",
      "Skipping NOSYNC/025deg_concentration_map_SH/025deg_concentration_map_SH_2005_11 (file exists)\n",
      "Skipping NOSYNC/025deg_concentration_map_SH/025deg_concentration_map_SH_2005_12 (file exists)\n",
      "Skipping NOSYNC/025deg_concentration_map_SH/025deg_concentration_map_SH_2006_01 (file exists)\n",
      "Skipping NOSYNC/025deg_concentration_map_SH/025deg_concentration_map_SH_2006_02 (file exists)\n",
      "Skipping NOSYNC/025deg_concentration_map_SH/025deg_concentration_map_SH_2006_03 (file exists)\n",
      "Skipping NOSYNC/025deg_concentration_map_SH/025deg_concentration_map_SH_2006_04 (file exists)\n",
      "Skipping NOSYNC/025deg_concentration_map_SH/025deg_concentration_map_SH_2006_05 (file exists)\n",
      "Skipping NOSYNC/025deg_concentration_map_SH/025deg_concentration_map_SH_2006_06 (file exists)\n",
      "Skipping NOSYNC/025deg_concentration_map_SH/025deg_concentration_map_SH_2006_07 (file exists)\n",
      "Skipping NOSYNC/025deg_concentration_map_SH/025deg_concentration_map_SH_2006_08 (file exists)\n",
      "Skipping NOSYNC/025deg_concentration_map_SH/025deg_concentration_map_SH_2006_09 (file exists)\n",
      "Skipping NOSYNC/025deg_concentration_map_SH/025deg_concentration_map_SH_2006_10 (file exists)\n",
      "Skipping NOSYNC/025deg_concentration_map_SH/025deg_concentration_map_SH_2006_11 (file exists)\n",
      "Skipping NOSYNC/025deg_concentration_map_SH/025deg_concentration_map_SH_2006_12 (file exists)\n",
      "Skipping NOSYNC/025deg_concentration_map_SH/025deg_concentration_map_SH_2007_01 (file exists)\n",
      "Skipping NOSYNC/025deg_concentration_map_SH/025deg_concentration_map_SH_2007_02 (file exists)\n",
      "Skipping NOSYNC/025deg_concentration_map_SH/025deg_concentration_map_SH_2007_03 (file exists)\n",
      "Skipping NOSYNC/025deg_concentration_map_SH/025deg_concentration_map_SH_2007_04 (file exists)\n",
      "Skipping NOSYNC/025deg_concentration_map_SH/025deg_concentration_map_SH_2007_05 (file exists)\n",
      "Skipping NOSYNC/025deg_concentration_map_SH/025deg_concentration_map_SH_2007_06 (file exists)\n",
      "Skipping NOSYNC/025deg_concentration_map_SH/025deg_concentration_map_SH_2007_07 (file exists)\n",
      "Skipping NOSYNC/025deg_concentration_map_SH/025deg_concentration_map_SH_2007_08 (file exists)\n",
      "Skipping NOSYNC/025deg_concentration_map_SH/025deg_concentration_map_SH_2007_09 (file exists)\n",
      "Skipping NOSYNC/025deg_concentration_map_SH/025deg_concentration_map_SH_2007_10 (file exists)\n",
      "Skipping NOSYNC/025deg_concentration_map_SH/025deg_concentration_map_SH_2007_11 (file exists)\n",
      "Skipping NOSYNC/025deg_concentration_map_SH/025deg_concentration_map_SH_2007_12 (file exists)\n",
      "Skipping NOSYNC/025deg_concentration_map_SH/025deg_concentration_map_SH_2008_01 (file exists)\n",
      "Skipping NOSYNC/025deg_concentration_map_SH/025deg_concentration_map_SH_2008_02 (file exists)\n",
      "Skipping NOSYNC/025deg_concentration_map_SH/025deg_concentration_map_SH_2008_03 (file exists)\n",
      "Skipping NOSYNC/025deg_concentration_map_SH/025deg_concentration_map_SH_2008_04 (file exists)\n",
      "Skipping NOSYNC/025deg_concentration_map_SH/025deg_concentration_map_SH_2008_05 (file exists)\n",
      "Skipping NOSYNC/025deg_concentration_map_SH/025deg_concentration_map_SH_2008_06 (file exists)\n",
      "Skipping NOSYNC/025deg_concentration_map_SH/025deg_concentration_map_SH_2008_07 (file exists)\n",
      "Skipping NOSYNC/025deg_concentration_map_SH/025deg_concentration_map_SH_2008_08 (file exists)\n",
      "Skipping NOSYNC/025deg_concentration_map_SH/025deg_concentration_map_SH_2008_09 (file exists)\n",
      "Skipping NOSYNC/025deg_concentration_map_SH/025deg_concentration_map_SH_2008_10 (file exists)\n",
      "Skipping NOSYNC/025deg_concentration_map_SH/025deg_concentration_map_SH_2008_11 (file exists)\n",
      "Skipping NOSYNC/025deg_concentration_map_SH/025deg_concentration_map_SH_2008_12 (file exists)\n",
      "Skipping NOSYNC/025deg_concentration_map_SH/025deg_concentration_map_SH_2009_01 (file exists)\n",
      "Skipping NOSYNC/025deg_concentration_map_SH/025deg_concentration_map_SH_2009_02 (file exists)\n",
      "Skipping NOSYNC/025deg_concentration_map_SH/025deg_concentration_map_SH_2009_03 (file exists)\n",
      "Skipping NOSYNC/025deg_concentration_map_SH/025deg_concentration_map_SH_2009_04 (file exists)\n",
      "Skipping NOSYNC/025deg_concentration_map_SH/025deg_concentration_map_SH_2009_05 (file exists)\n",
      "Skipping NOSYNC/025deg_concentration_map_SH/025deg_concentration_map_SH_2009_06 (file exists)\n",
      "Skipping NOSYNC/025deg_concentration_map_SH/025deg_concentration_map_SH_2009_07 (file exists)\n",
      "Skipping NOSYNC/025deg_concentration_map_SH/025deg_concentration_map_SH_2009_08 (file exists)\n",
      "Skipping NOSYNC/025deg_concentration_map_SH/025deg_concentration_map_SH_2009_09 (file exists)\n",
      "Skipping NOSYNC/025deg_concentration_map_SH/025deg_concentration_map_SH_2009_10 (file exists)\n",
      "Skipping NOSYNC/025deg_concentration_map_SH/025deg_concentration_map_SH_2009_11 (file exists)\n",
      "Skipping NOSYNC/025deg_concentration_map_SH/025deg_concentration_map_SH_2009_12 (file exists)\n",
      "Skipping NOSYNC/025deg_concentration_map_SH/025deg_concentration_map_SH_2010_01 (file exists)\n",
      "Skipping NOSYNC/025deg_concentration_map_SH/025deg_concentration_map_SH_2010_02 (file exists)\n",
      "Skipping NOSYNC/025deg_concentration_map_SH/025deg_concentration_map_SH_2010_03 (file exists)\n",
      "Skipping NOSYNC/025deg_concentration_map_SH/025deg_concentration_map_SH_2010_04 (file exists)\n",
      "Skipping NOSYNC/025deg_concentration_map_SH/025deg_concentration_map_SH_2010_05 (file exists)\n",
      "Skipping NOSYNC/025deg_concentration_map_SH/025deg_concentration_map_SH_2010_06 (file exists)\n",
      "Skipping NOSYNC/025deg_concentration_map_SH/025deg_concentration_map_SH_2010_07 (file exists)\n",
      "Skipping NOSYNC/025deg_concentration_map_SH/025deg_concentration_map_SH_2010_08 (file exists)\n",
      "Skipping NOSYNC/025deg_concentration_map_SH/025deg_concentration_map_SH_2010_09 (file exists)\n",
      "Skipping NOSYNC/025deg_concentration_map_SH/025deg_concentration_map_SH_2010_10 (file exists)\n",
      "Skipping NOSYNC/025deg_concentration_map_SH/025deg_concentration_map_SH_2010_11 (file exists)\n",
      "Skipping NOSYNC/025deg_concentration_map_SH/025deg_concentration_map_SH_2010_12 (file exists)\n",
      "Skipping NOSYNC/025deg_concentration_map_SH/025deg_concentration_map_SH_2011_01 (file exists)\n",
      "Skipping NOSYNC/025deg_concentration_map_SH/025deg_concentration_map_SH_2011_02 (file exists)\n",
      "Skipping NOSYNC/025deg_concentration_map_SH/025deg_concentration_map_SH_2011_03 (file exists)\n",
      "Skipping NOSYNC/025deg_concentration_map_SH/025deg_concentration_map_SH_2011_04 (file exists)\n",
      "Skipping NOSYNC/025deg_concentration_map_SH/025deg_concentration_map_SH_2011_05 (file exists)\n",
      "Skipping NOSYNC/025deg_concentration_map_SH/025deg_concentration_map_SH_2011_06 (file exists)\n",
      "Skipping NOSYNC/025deg_concentration_map_SH/025deg_concentration_map_SH_2011_07 (file exists)\n",
      "Skipping NOSYNC/025deg_concentration_map_SH/025deg_concentration_map_SH_2011_08 (file exists)\n",
      "Skipping NOSYNC/025deg_concentration_map_SH/025deg_concentration_map_SH_2011_09 (file exists)\n",
      "Skipping NOSYNC/025deg_concentration_map_SH/025deg_concentration_map_SH_2011_10 (file exists)\n",
      "Skipping NOSYNC/025deg_concentration_map_SH/025deg_concentration_map_SH_2011_11 (file exists)\n",
      "Skipping NOSYNC/025deg_concentration_map_SH/025deg_concentration_map_SH_2011_12 (file exists)\n",
      "Skipping NOSYNC/025deg_concentration_map_SH/025deg_concentration_map_SH_2012_01 (file exists)\n",
      "Skipping NOSYNC/025deg_concentration_map_SH/025deg_concentration_map_SH_2012_02 (file exists)\n",
      "Skipping NOSYNC/025deg_concentration_map_SH/025deg_concentration_map_SH_2012_03 (file exists)\n",
      "Skipping NOSYNC/025deg_concentration_map_SH/025deg_concentration_map_SH_2012_04 (file exists)\n",
      "Skipping NOSYNC/025deg_concentration_map_SH/025deg_concentration_map_SH_2012_05 (file exists)\n",
      "Skipping NOSYNC/025deg_concentration_map_SH/025deg_concentration_map_SH_2012_06 (file exists)\n",
      "Skipping NOSYNC/025deg_concentration_map_SH/025deg_concentration_map_SH_2012_07 (file exists)\n",
      "Skipping NOSYNC/025deg_concentration_map_SH/025deg_concentration_map_SH_2012_08 (file exists)\n",
      "Skipping NOSYNC/025deg_concentration_map_SH/025deg_concentration_map_SH_2012_09 (file exists)\n",
      "Skipping NOSYNC/025deg_concentration_map_SH/025deg_concentration_map_SH_2012_10 (file exists)\n",
      "Skipping NOSYNC/025deg_concentration_map_SH/025deg_concentration_map_SH_2012_11 (file exists)\n",
      "Skipping NOSYNC/025deg_concentration_map_SH/025deg_concentration_map_SH_2012_12 (file exists)\n",
      "Skipping NOSYNC/025deg_concentration_map_SH/025deg_concentration_map_SH_2013_01 (file exists)\n",
      "Skipping NOSYNC/025deg_concentration_map_SH/025deg_concentration_map_SH_2013_02 (file exists)\n",
      "Skipping NOSYNC/025deg_concentration_map_SH/025deg_concentration_map_SH_2013_03 (file exists)\n",
      "Skipping NOSYNC/025deg_concentration_map_SH/025deg_concentration_map_SH_2013_04 (file exists)\n",
      "Skipping NOSYNC/025deg_concentration_map_SH/025deg_concentration_map_SH_2013_05 (file exists)\n",
      "Skipping NOSYNC/025deg_concentration_map_SH/025deg_concentration_map_SH_2013_06 (file exists)\n",
      "Skipping NOSYNC/025deg_concentration_map_SH/025deg_concentration_map_SH_2013_07 (file exists)\n",
      "Skipping NOSYNC/025deg_concentration_map_SH/025deg_concentration_map_SH_2013_08 (file exists)\n",
      "Skipping NOSYNC/025deg_concentration_map_SH/025deg_concentration_map_SH_2013_09 (file exists)\n",
      "Skipping NOSYNC/025deg_concentration_map_SH/025deg_concentration_map_SH_2013_10 (file exists)\n",
      "Skipping NOSYNC/025deg_concentration_map_SH/025deg_concentration_map_SH_2013_11 (file exists)\n",
      "Skipping NOSYNC/025deg_concentration_map_SH/025deg_concentration_map_SH_2013_12 (file exists)\n",
      "Skipping NOSYNC/025deg_concentration_map_SH/025deg_concentration_map_SH_2014_01 (file exists)\n",
      "Skipping NOSYNC/025deg_concentration_map_SH/025deg_concentration_map_SH_2014_02 (file exists)\n",
      "Skipping NOSYNC/025deg_concentration_map_SH/025deg_concentration_map_SH_2014_03 (file exists)\n",
      "Skipping NOSYNC/025deg_concentration_map_SH/025deg_concentration_map_SH_2014_04 (file exists)\n",
      "Skipping NOSYNC/025deg_concentration_map_SH/025deg_concentration_map_SH_2014_05 (file exists)\n",
      "Skipping NOSYNC/025deg_concentration_map_SH/025deg_concentration_map_SH_2014_06 (file exists)\n",
      "Skipping NOSYNC/025deg_concentration_map_SH/025deg_concentration_map_SH_2014_07 (file exists)\n",
      "Skipping NOSYNC/025deg_concentration_map_SH/025deg_concentration_map_SH_2014_08 (file exists)\n",
      "Skipping NOSYNC/025deg_concentration_map_SH/025deg_concentration_map_SH_2014_09 (file exists)\n",
      "Skipping NOSYNC/025deg_concentration_map_SH/025deg_concentration_map_SH_2014_10 (file exists)\n",
      "Skipping NOSYNC/025deg_concentration_map_SH/025deg_concentration_map_SH_2014_11 (file exists)\n",
      "Skipping NOSYNC/025deg_concentration_map_SH/025deg_concentration_map_SH_2014_12 (file exists)\n",
      "01deg\n",
      "Using database sqlite:////g/data3/hh5/tmp/cosima/cosima-cookbook/cosima-cookbook.db\n"
     ]
    },
    {
     "data": {
      "application/vnd.jupyter.widget-view+json": {
       "model_id": "",
       "version_major": 2,
       "version_minor": 0
      },
      "text/plain": [
       "HBox(children=(IntProgress(value=0, description='get_nc_variable:', max=386), HTML(value='')))"
      ]
     },
     "metadata": {},
     "output_type": "display_data"
    },
    {
     "name": "stdout",
     "output_type": "stream",
     "text": [
      "Using database sqlite:////g/data3/hh5/tmp/cosima/cosima-cookbook/cosima-cookbook.db\n"
     ]
    },
    {
     "data": {
      "application/vnd.jupyter.widget-view+json": {
       "model_id": "",
       "version_major": 2,
       "version_minor": 0
      },
      "text/plain": [
       "HBox(children=(IntProgress(value=0, description='get_nc_variable:', max=386), HTML(value='')))"
      ]
     },
     "metadata": {},
     "output_type": "display_data"
    },
    {
     "name": "stdout",
     "output_type": "stream",
     "text": [
      "Using database sqlite:////g/data3/hh5/tmp/cosima/cosima-cookbook/cosima-cookbook.db\n"
     ]
    },
    {
     "data": {
      "application/vnd.jupyter.widget-view+json": {
       "model_id": "",
       "version_major": 2,
       "version_minor": 0
      },
      "text/plain": [
       "HBox(children=(IntProgress(value=0, description='get_nc_variable:', max=386), HTML(value='')))"
      ]
     },
     "metadata": {},
     "output_type": "display_data"
    },
    {
     "name": "stdout",
     "output_type": "stream",
     "text": [
      "Skipping NOSYNC/01deg_concentration_map_NH/01deg_concentration_map_NH_1995_01 (file exists)\n",
      "Skipping NOSYNC/01deg_concentration_map_NH/01deg_concentration_map_NH_1995_02 (file exists)\n",
      "Skipping NOSYNC/01deg_concentration_map_NH/01deg_concentration_map_NH_1995_03 (file exists)\n",
      "Skipping NOSYNC/01deg_concentration_map_NH/01deg_concentration_map_NH_1995_04 (file exists)\n",
      "Skipping NOSYNC/01deg_concentration_map_NH/01deg_concentration_map_NH_1995_05 (file exists)\n",
      "Skipping NOSYNC/01deg_concentration_map_NH/01deg_concentration_map_NH_1995_06 (file exists)\n",
      "Skipping NOSYNC/01deg_concentration_map_NH/01deg_concentration_map_NH_1995_07 (file exists)\n",
      "Skipping NOSYNC/01deg_concentration_map_NH/01deg_concentration_map_NH_1995_08 (file exists)\n",
      "Skipping NOSYNC/01deg_concentration_map_NH/01deg_concentration_map_NH_1995_09 (file exists)\n",
      "Skipping NOSYNC/01deg_concentration_map_NH/01deg_concentration_map_NH_1995_10 (file exists)\n",
      "Skipping NOSYNC/01deg_concentration_map_NH/01deg_concentration_map_NH_1995_11 (file exists)\n",
      "Skipping NOSYNC/01deg_concentration_map_NH/01deg_concentration_map_NH_1995_12 (file exists)\n",
      "Skipping NOSYNC/01deg_concentration_map_NH/01deg_concentration_map_NH_1996_01 (file exists)\n",
      "Skipping NOSYNC/01deg_concentration_map_NH/01deg_concentration_map_NH_1996_02 (file exists)\n",
      "Skipping NOSYNC/01deg_concentration_map_NH/01deg_concentration_map_NH_1996_03 (file exists)\n",
      "Skipping NOSYNC/01deg_concentration_map_NH/01deg_concentration_map_NH_1996_04 (file exists)\n",
      "Skipping NOSYNC/01deg_concentration_map_NH/01deg_concentration_map_NH_1996_05 (file exists)\n",
      "Skipping NOSYNC/01deg_concentration_map_NH/01deg_concentration_map_NH_1996_06 (file exists)\n",
      "Skipping NOSYNC/01deg_concentration_map_NH/01deg_concentration_map_NH_1996_07 (file exists)\n",
      "Skipping NOSYNC/01deg_concentration_map_NH/01deg_concentration_map_NH_1996_08 (file exists)\n",
      "Skipping NOSYNC/01deg_concentration_map_NH/01deg_concentration_map_NH_1996_09 (file exists)\n",
      "Skipping NOSYNC/01deg_concentration_map_NH/01deg_concentration_map_NH_1996_10 (file exists)\n",
      "Skipping NOSYNC/01deg_concentration_map_NH/01deg_concentration_map_NH_1996_11 (file exists)\n",
      "Skipping NOSYNC/01deg_concentration_map_NH/01deg_concentration_map_NH_1996_12 (file exists)\n",
      "Skipping NOSYNC/01deg_concentration_map_NH/01deg_concentration_map_NH_1997_01 (file exists)\n",
      "Skipping NOSYNC/01deg_concentration_map_NH/01deg_concentration_map_NH_1997_02 (file exists)\n",
      "Skipping NOSYNC/01deg_concentration_map_NH/01deg_concentration_map_NH_1997_03 (file exists)\n",
      "Skipping NOSYNC/01deg_concentration_map_NH/01deg_concentration_map_NH_1997_04 (file exists)\n",
      "Skipping NOSYNC/01deg_concentration_map_NH/01deg_concentration_map_NH_1997_05 (file exists)\n",
      "Skipping NOSYNC/01deg_concentration_map_NH/01deg_concentration_map_NH_1997_06 (file exists)\n",
      "Skipping NOSYNC/01deg_concentration_map_NH/01deg_concentration_map_NH_1997_07 (file exists)\n",
      "Skipping NOSYNC/01deg_concentration_map_NH/01deg_concentration_map_NH_1997_08 (file exists)\n",
      "Skipping NOSYNC/01deg_concentration_map_NH/01deg_concentration_map_NH_1997_09 (file exists)\n",
      "Skipping NOSYNC/01deg_concentration_map_NH/01deg_concentration_map_NH_1997_10 (file exists)\n",
      "Skipping NOSYNC/01deg_concentration_map_NH/01deg_concentration_map_NH_1997_11 (file exists)\n",
      "Skipping NOSYNC/01deg_concentration_map_NH/01deg_concentration_map_NH_1997_12 (file exists)\n",
      "Skipping NOSYNC/01deg_concentration_map_NH/01deg_concentration_map_NH_1998_01 (file exists)\n",
      "Skipping NOSYNC/01deg_concentration_map_NH/01deg_concentration_map_NH_1998_02 (file exists)\n",
      "Skipping NOSYNC/01deg_concentration_map_NH/01deg_concentration_map_NH_1998_03 (file exists)\n",
      "Skipping NOSYNC/01deg_concentration_map_NH/01deg_concentration_map_NH_1998_04 (file exists)\n",
      "Skipping NOSYNC/01deg_concentration_map_NH/01deg_concentration_map_NH_1998_05 (file exists)\n",
      "Skipping NOSYNC/01deg_concentration_map_NH/01deg_concentration_map_NH_1998_06 (file exists)\n",
      "Skipping NOSYNC/01deg_concentration_map_NH/01deg_concentration_map_NH_1998_07 (file exists)\n",
      "Skipping NOSYNC/01deg_concentration_map_NH/01deg_concentration_map_NH_1998_08 (file exists)\n",
      "Skipping NOSYNC/01deg_concentration_map_NH/01deg_concentration_map_NH_1998_09 (file exists)\n",
      "Skipping NOSYNC/01deg_concentration_map_NH/01deg_concentration_map_NH_1998_10 (file exists)\n",
      "Skipping NOSYNC/01deg_concentration_map_NH/01deg_concentration_map_NH_1998_11 (file exists)\n",
      "Skipping NOSYNC/01deg_concentration_map_NH/01deg_concentration_map_NH_1998_12 (file exists)\n",
      "Skipping NOSYNC/01deg_concentration_map_NH/01deg_concentration_map_NH_1999_01 (file exists)\n",
      "Skipping NOSYNC/01deg_concentration_map_NH/01deg_concentration_map_NH_1999_02 (file exists)\n",
      "Skipping NOSYNC/01deg_concentration_map_NH/01deg_concentration_map_NH_1999_03 (file exists)\n",
      "Skipping NOSYNC/01deg_concentration_map_NH/01deg_concentration_map_NH_1999_04 (file exists)\n",
      "Skipping NOSYNC/01deg_concentration_map_NH/01deg_concentration_map_NH_1999_05 (file exists)\n",
      "Skipping NOSYNC/01deg_concentration_map_NH/01deg_concentration_map_NH_1999_06 (file exists)\n",
      "Skipping NOSYNC/01deg_concentration_map_NH/01deg_concentration_map_NH_1999_07 (file exists)\n",
      "Skipping NOSYNC/01deg_concentration_map_NH/01deg_concentration_map_NH_1999_08 (file exists)\n",
      "Skipping NOSYNC/01deg_concentration_map_NH/01deg_concentration_map_NH_1999_09 (file exists)\n",
      "Skipping NOSYNC/01deg_concentration_map_NH/01deg_concentration_map_NH_1999_10 (file exists)\n",
      "Skipping NOSYNC/01deg_concentration_map_NH/01deg_concentration_map_NH_1999_11 (file exists)\n",
      "Skipping NOSYNC/01deg_concentration_map_NH/01deg_concentration_map_NH_1999_12 (file exists)\n",
      "Skipping NOSYNC/01deg_concentration_map_NH/01deg_concentration_map_NH_2000_01 (file exists)\n",
      "Skipping NOSYNC/01deg_concentration_map_NH/01deg_concentration_map_NH_2000_02 (file exists)\n",
      "Skipping NOSYNC/01deg_concentration_map_NH/01deg_concentration_map_NH_2000_03 (file exists)\n",
      "Skipping NOSYNC/01deg_concentration_map_NH/01deg_concentration_map_NH_2000_04 (file exists)\n",
      "Skipping NOSYNC/01deg_concentration_map_NH/01deg_concentration_map_NH_2000_05 (file exists)\n",
      "Skipping NOSYNC/01deg_concentration_map_NH/01deg_concentration_map_NH_2000_06 (file exists)\n",
      "Skipping NOSYNC/01deg_concentration_map_NH/01deg_concentration_map_NH_2000_07 (file exists)\n",
      "Doing NOSYNC/01deg_concentration_map_NH/01deg_concentration_map_NH_2000_08\n"
     ]
    },
    {
     "name": "stderr",
     "output_type": "stream",
     "text": [
      "/g/data3/hh5/public/apps/miniconda3/envs/analysis3-18.07/lib/python3.6/site-packages/mpl_toolkits/basemap/__init__.py:1709: MatplotlibDeprecationWarning: The axesPatch function was deprecated in version 2.1. Use Axes.patch instead.\n",
      "  limb = ax.axesPatch\n",
      "/g/data3/hh5/public/apps/miniconda3/envs/analysis3-18.07/lib/python3.6/site-packages/mpl_toolkits/basemap/__init__.py:1712: MatplotlibDeprecationWarning: The axesPatch function was deprecated in version 2.1. Use Axes.patch instead.\n",
      "  if limb is not ax.axesPatch:\n"
     ]
    },
    {
     "name": "stdout",
     "output_type": "stream",
     "text": [
      "Doing NOSYNC/01deg_concentration_map_NH/01deg_concentration_map_NH_2000_09\n",
      "Doing NOSYNC/01deg_concentration_map_NH/01deg_concentration_map_NH_2000_10\n",
      "Doing NOSYNC/01deg_concentration_map_NH/01deg_concentration_map_NH_2000_11\n",
      "Doing NOSYNC/01deg_concentration_map_NH/01deg_concentration_map_NH_2000_12\n",
      "Doing NOSYNC/01deg_concentration_map_NH/01deg_concentration_map_NH_2001_01\n",
      "Doing NOSYNC/01deg_concentration_map_NH/01deg_concentration_map_NH_2001_02\n",
      "Doing NOSYNC/01deg_concentration_map_NH/01deg_concentration_map_NH_2001_03\n",
      "Doing NOSYNC/01deg_concentration_map_NH/01deg_concentration_map_NH_2001_04\n",
      "Doing NOSYNC/01deg_concentration_map_NH/01deg_concentration_map_NH_2001_05\n",
      "Doing NOSYNC/01deg_concentration_map_NH/01deg_concentration_map_NH_2001_06\n",
      "Doing NOSYNC/01deg_concentration_map_NH/01deg_concentration_map_NH_2001_07\n",
      "Doing NOSYNC/01deg_concentration_map_NH/01deg_concentration_map_NH_2001_08\n",
      "Doing NOSYNC/01deg_concentration_map_NH/01deg_concentration_map_NH_2001_09\n",
      "Doing NOSYNC/01deg_concentration_map_NH/01deg_concentration_map_NH_2001_10\n",
      "Doing NOSYNC/01deg_concentration_map_NH/01deg_concentration_map_NH_2001_11\n",
      "Doing NOSYNC/01deg_concentration_map_NH/01deg_concentration_map_NH_2001_12\n",
      "Doing NOSYNC/01deg_concentration_map_NH/01deg_concentration_map_NH_2002_01\n",
      "Doing NOSYNC/01deg_concentration_map_NH/01deg_concentration_map_NH_2002_02\n",
      "Doing NOSYNC/01deg_concentration_map_NH/01deg_concentration_map_NH_2002_03\n",
      "Doing NOSYNC/01deg_concentration_map_NH/01deg_concentration_map_NH_2002_04\n",
      "Doing NOSYNC/01deg_concentration_map_NH/01deg_concentration_map_NH_2002_05\n",
      "Doing NOSYNC/01deg_concentration_map_NH/01deg_concentration_map_NH_2002_06\n",
      "Doing NOSYNC/01deg_concentration_map_NH/01deg_concentration_map_NH_2002_07\n",
      "Doing NOSYNC/01deg_concentration_map_NH/01deg_concentration_map_NH_2002_08\n",
      "Doing NOSYNC/01deg_concentration_map_NH/01deg_concentration_map_NH_2002_09\n",
      "Doing NOSYNC/01deg_concentration_map_NH/01deg_concentration_map_NH_2002_10\n",
      "Doing NOSYNC/01deg_concentration_map_NH/01deg_concentration_map_NH_2002_11\n",
      "Doing NOSYNC/01deg_concentration_map_NH/01deg_concentration_map_NH_2002_12\n",
      "Doing NOSYNC/01deg_concentration_map_NH/01deg_concentration_map_NH_2003_01\n",
      "Doing NOSYNC/01deg_concentration_map_NH/01deg_concentration_map_NH_2003_02\n",
      "Doing NOSYNC/01deg_concentration_map_NH/01deg_concentration_map_NH_2003_03\n",
      "Doing NOSYNC/01deg_concentration_map_NH/01deg_concentration_map_NH_2003_04\n",
      "Doing NOSYNC/01deg_concentration_map_NH/01deg_concentration_map_NH_2003_05\n",
      "Doing NOSYNC/01deg_concentration_map_NH/01deg_concentration_map_NH_2003_06\n",
      "Doing NOSYNC/01deg_concentration_map_NH/01deg_concentration_map_NH_2003_07\n",
      "Doing NOSYNC/01deg_concentration_map_NH/01deg_concentration_map_NH_2003_08\n",
      "Doing NOSYNC/01deg_concentration_map_NH/01deg_concentration_map_NH_2003_09\n",
      "Doing NOSYNC/01deg_concentration_map_NH/01deg_concentration_map_NH_2003_10\n",
      "Doing NOSYNC/01deg_concentration_map_NH/01deg_concentration_map_NH_2003_11\n",
      "Doing NOSYNC/01deg_concentration_map_NH/01deg_concentration_map_NH_2003_12\n",
      "Doing NOSYNC/01deg_concentration_map_NH/01deg_concentration_map_NH_2004_01\n",
      "Doing NOSYNC/01deg_concentration_map_NH/01deg_concentration_map_NH_2004_02\n",
      "Doing NOSYNC/01deg_concentration_map_NH/01deg_concentration_map_NH_2004_03\n",
      "Doing NOSYNC/01deg_concentration_map_NH/01deg_concentration_map_NH_2004_04\n",
      "Doing NOSYNC/01deg_concentration_map_NH/01deg_concentration_map_NH_2004_05\n",
      "Doing NOSYNC/01deg_concentration_map_NH/01deg_concentration_map_NH_2004_06\n",
      "Doing NOSYNC/01deg_concentration_map_NH/01deg_concentration_map_NH_2004_07\n",
      "Doing NOSYNC/01deg_concentration_map_NH/01deg_concentration_map_NH_2004_08\n",
      "Doing NOSYNC/01deg_concentration_map_NH/01deg_concentration_map_NH_2004_09\n",
      "Doing NOSYNC/01deg_concentration_map_NH/01deg_concentration_map_NH_2004_10\n",
      "Doing NOSYNC/01deg_concentration_map_NH/01deg_concentration_map_NH_2004_11\n",
      "Doing NOSYNC/01deg_concentration_map_NH/01deg_concentration_map_NH_2004_12\n",
      "Doing NOSYNC/01deg_concentration_map_NH/01deg_concentration_map_NH_2005_01\n",
      "Doing NOSYNC/01deg_concentration_map_NH/01deg_concentration_map_NH_2005_02\n",
      "Doing NOSYNC/01deg_concentration_map_NH/01deg_concentration_map_NH_2005_03\n",
      "Doing NOSYNC/01deg_concentration_map_NH/01deg_concentration_map_NH_2005_04\n",
      "Doing NOSYNC/01deg_concentration_map_NH/01deg_concentration_map_NH_2005_05\n",
      "Doing NOSYNC/01deg_concentration_map_NH/01deg_concentration_map_NH_2005_06\n",
      "Doing NOSYNC/01deg_concentration_map_NH/01deg_concentration_map_NH_2005_07\n",
      "Doing NOSYNC/01deg_concentration_map_NH/01deg_concentration_map_NH_2005_08\n",
      "Doing NOSYNC/01deg_concentration_map_NH/01deg_concentration_map_NH_2005_09\n",
      "Doing NOSYNC/01deg_concentration_map_NH/01deg_concentration_map_NH_2005_10\n",
      "Doing NOSYNC/01deg_concentration_map_NH/01deg_concentration_map_NH_2005_11\n",
      "Doing NOSYNC/01deg_concentration_map_NH/01deg_concentration_map_NH_2005_12\n",
      "Doing NOSYNC/01deg_concentration_map_NH/01deg_concentration_map_NH_2006_01\n",
      "Doing NOSYNC/01deg_concentration_map_NH/01deg_concentration_map_NH_2006_02\n",
      "Doing NOSYNC/01deg_concentration_map_NH/01deg_concentration_map_NH_2006_03\n",
      "Doing NOSYNC/01deg_concentration_map_NH/01deg_concentration_map_NH_2006_04\n",
      "Doing NOSYNC/01deg_concentration_map_NH/01deg_concentration_map_NH_2006_05\n",
      "Doing NOSYNC/01deg_concentration_map_NH/01deg_concentration_map_NH_2006_06\n",
      "Doing NOSYNC/01deg_concentration_map_NH/01deg_concentration_map_NH_2006_07\n",
      "Doing NOSYNC/01deg_concentration_map_NH/01deg_concentration_map_NH_2006_08\n",
      "Doing NOSYNC/01deg_concentration_map_NH/01deg_concentration_map_NH_2006_09\n",
      "Doing NOSYNC/01deg_concentration_map_NH/01deg_concentration_map_NH_2006_10\n",
      "Doing NOSYNC/01deg_concentration_map_NH/01deg_concentration_map_NH_2006_11\n",
      "Doing NOSYNC/01deg_concentration_map_NH/01deg_concentration_map_NH_2006_12\n",
      "Doing NOSYNC/01deg_concentration_map_NH/01deg_concentration_map_NH_2007_01\n",
      "Doing NOSYNC/01deg_concentration_map_NH/01deg_concentration_map_NH_2007_02\n",
      "Doing NOSYNC/01deg_concentration_map_NH/01deg_concentration_map_NH_2007_03\n",
      "Doing NOSYNC/01deg_concentration_map_NH/01deg_concentration_map_NH_2007_04\n",
      "Doing NOSYNC/01deg_concentration_map_NH/01deg_concentration_map_NH_2007_05\n",
      "Doing NOSYNC/01deg_concentration_map_NH/01deg_concentration_map_NH_2007_06\n",
      "Doing NOSYNC/01deg_concentration_map_NH/01deg_concentration_map_NH_2007_07\n",
      "Doing NOSYNC/01deg_concentration_map_NH/01deg_concentration_map_NH_2007_08\n",
      "Doing NOSYNC/01deg_concentration_map_NH/01deg_concentration_map_NH_2007_09\n",
      "Doing NOSYNC/01deg_concentration_map_NH/01deg_concentration_map_NH_2007_10\n",
      "Doing NOSYNC/01deg_concentration_map_NH/01deg_concentration_map_NH_2007_11\n",
      "Doing NOSYNC/01deg_concentration_map_NH/01deg_concentration_map_NH_2007_12\n",
      "Doing NOSYNC/01deg_concentration_map_NH/01deg_concentration_map_NH_2008_01\n",
      "Doing NOSYNC/01deg_concentration_map_NH/01deg_concentration_map_NH_2008_02\n",
      "Doing NOSYNC/01deg_concentration_map_NH/01deg_concentration_map_NH_2008_03\n",
      "Doing NOSYNC/01deg_concentration_map_NH/01deg_concentration_map_NH_2008_04\n",
      "Doing NOSYNC/01deg_concentration_map_NH/01deg_concentration_map_NH_2008_05\n",
      "Doing NOSYNC/01deg_concentration_map_NH/01deg_concentration_map_NH_2008_06\n"
     ]
    }
   ],
   "source": [
    "for ekey in exptdata.exptdict.keys():\n",
    "    print(ekey)\n",
    "    loaddata(ekey)\n",
    "#     plot_NH_conc_monthly_mean(ekey)\n",
    "#     plot_SH_conc_monthly_mean(ekey)\n",
    "    plot_NH_conc_months(ekey)\n",
    "    plot_SH_conc_months(ekey)\n",
    "#     break"
   ]
  },
  {
   "cell_type": "markdown",
   "metadata": {},
   "source": [
    "## Monthly thickness climatology by category\n",
    "\n",
    "TODO: fix plotting glitch on tripole seam\n",
    "\n",
    "TODO: use fixed contour levels for each category and more contour levels"
   ]
  },
  {
   "cell_type": "code",
   "execution_count": 27,
   "metadata": {},
   "outputs": [],
   "source": [
    "def plot_SH_thickness(m, x, y, model, model_aice, xobs, yobs, obs, c):\n",
    "    m = Basemap(projection ='spstere',boundinglat=-54,lon_0=180,resolution='l')\n",
    "    m.drawmapboundary(fill_color='gray') # background color - for non-ocean areas\n",
    "#     ctr = m.contourf(x,y,model[:NLAT_half,:],levels=50,cmap=cm.cm.ice)\n",
    "\n",
    "    ctr = m.contourf(x,y,model[:NLAT_half,:],cmap=cm.cm.ice)\n",
    "\n",
    "    ctr.cmap.set_over(color='w', alpha=None)\n",
    "    cbar = m.colorbar(ctr, location = 'bottom', pad = \"6%\")\n",
    "    cbar.set_label('Ice thickness in category '+str(c+1)+' (m)',size=tick_font)\n",
    "#     cbar.set_ticks(cbar_ticks)\n",
    "#     cbar.set_ticklabels([str(f**(1./cmap_gamma)) for f in cbar_ticks])\n",
    "#     cbar_labels=plt.getp(cbar.ax.axes,'xticklabels')\n",
    "#     plt.setp(cbar_labels,fontsize=tick_font)\n",
    "    cs = m.contour(x,y,model_aice[:NLAT_half,:],[clevel],colors='g',linewidths=1)\n",
    "    cs.collections[0].set_label('model '+str(int(clevel*100))+'%')\n",
    "    cs = m.contour(xobs,yobs,obs,[clevel],colors='r',linewidths=1)\n",
    "    cs.collections[0].set_label('obs '+str(int(clevel*100))+'%')\n",
    "\n",
    "    parallels = np.arange(-80.,81,10.)\n",
    "    m.drawparallels(parallels,color='white',linewidth=0.5)\n",
    "    meridians = np.arange(0.,351.,30.)\n",
    "    m.drawmeridians(meridians,labels=[True,False,False,True],size=tick_font,color='white',linewidth=0.5)\n",
    "    plt.legend(prop={'size':11},loc='center') #, bbox_to_anchor=(1, 1))"
   ]
  },
  {
   "cell_type": "code",
   "execution_count": 28,
   "metadata": {},
   "outputs": [],
   "source": [
    "# Antarctic ice thickness monthly climatology\n",
    "def plot_SH_thickness_monthly_mean(ekey):\n",
    "    m = Basemap(projection ='spstere',boundinglat=-54,lon_0=180,resolution='l')\n",
    "    x,y = m(*(lon_t[:NLAT_half,:],lat_t[:NLAT_half,:]))\n",
    "    xobs,yobs = m(*(CN_obs_SH.longitude.isel(time=1).data, CN_obs_SH.latitude.isel(time=1).data))\n",
    "\n",
    "    for mi, month in enumerate(months):\n",
    "        for c in range(len(vicen_m_monthly_mean['nc'])):\n",
    "            outname = ekey+'_thickness_map_SH_cat'+str(c+1)+'_'+yearrange+'_'+str(month).zfill(2)+'_mean'\n",
    "            if os.path.exists(os.path.join(figdir, outname+'.png')):\n",
    "                print('Skipping ' + outname + ' (file exists)')\n",
    "            else:\n",
    "                print('Doing ' + outname)\n",
    "                try:\n",
    "                    model = vicen_m_monthly_mean.sel(month=mi+1).sel(nc=c)\n",
    "                    model_aice = aice_m_monthly_mean.sel(month=mi+1)\n",
    "                    obs = CN_obs_SH_monthly_mean.sel(month=mi+1)\n",
    "                except:\n",
    "                    print('ERROR: could not open files')\n",
    "                    continue\n",
    "                plt.figure(4,(12,7))\n",
    "\n",
    "                # plot model\n",
    "    #             plt.subplot(1,2,1)\n",
    "                plot_SH_thickness(m, x, y, model, model_aice, xobs, yobs, obs, c)\n",
    "                plt.title(calendar.month_name[month]+' '+yearrange+' mean, ' + exptdata.exptdict[ekey]['desc'], font)\n",
    "\n",
    "\n",
    "                plt.tight_layout()\n",
    "\n",
    "    #             savefigure(outname)\n",
    "                plt.savefig(outname+'.png',dpi=200, bbox_inches=\"tight\")\n",
    "\n",
    "                plt.close()\n",
    "#             break\n",
    "\n",
    "#         break"
   ]
  },
  {
   "cell_type": "code",
   "execution_count": 29,
   "metadata": {},
   "outputs": [
    {
     "name": "stdout",
     "output_type": "stream",
     "text": [
      "01deg\n",
      "Using database sqlite:////g/data3/hh5/tmp/cosima/cosima-cookbook/cosima-cookbook.db\n"
     ]
    },
    {
     "data": {
      "application/vnd.jupyter.widget-view+json": {
       "model_id": "",
       "version_major": 2,
       "version_minor": 0
      },
      "text/plain": [
       "HBox(children=(IntProgress(value=0, description='get_nc_variable:', max=386), HTML(value='')))"
      ]
     },
     "metadata": {},
     "output_type": "display_data"
    },
    {
     "name": "stdout",
     "output_type": "stream",
     "text": [
      "Saving cache file cache_get_nc_variable_01deg_jra55v13_iaf_iceh.????-??.nc_vicen_m_-500_None_None_False.pkl\n",
      "Using database sqlite:////g/data3/hh5/tmp/cosima/cosima-cookbook/cosima-cookbook.db\n"
     ]
    },
    {
     "data": {
      "application/vnd.jupyter.widget-view+json": {
       "model_id": "",
       "version_major": 2,
       "version_minor": 0
      },
      "text/plain": [
       "HBox(children=(IntProgress(value=0, description='get_nc_variable:', max=386), HTML(value='')))"
      ]
     },
     "metadata": {},
     "output_type": "display_data"
    },
    {
     "name": "stdout",
     "output_type": "stream",
     "text": [
      "Saving cache file cache_get_nc_variable_01deg_jra55v13_iaf_iceh.????-??.nc_aice_m_-500_None_None_False.pkl\n",
      "Using database sqlite:////g/data3/hh5/tmp/cosima/cosima-cookbook/cosima-cookbook.db\n"
     ]
    },
    {
     "data": {
      "application/vnd.jupyter.widget-view+json": {
       "model_id": "",
       "version_major": 2,
       "version_minor": 0
      },
      "text/plain": [
       "HBox(children=(IntProgress(value=0, description='get_nc_variable:', max=386), HTML(value='')))"
      ]
     },
     "metadata": {},
     "output_type": "display_data"
    },
    {
     "name": "stdout",
     "output_type": "stream",
     "text": [
      "Saving cache file cache_get_nc_variable_01deg_jra55v13_iaf_iceh.????-??.nc_hi_m_-500_None_None_False.pkl\n",
      "Doing 01deg_thickness_map_SH_cat1_1995-2014_01_mean\n"
     ]
    },
    {
     "name": "stderr",
     "output_type": "stream",
     "text": [
      "/g/data3/hh5/public/apps/miniconda3/envs/analysis3-18.07/lib/python3.6/site-packages/mpl_toolkits/basemap/__init__.py:1709: MatplotlibDeprecationWarning: The axesPatch function was deprecated in version 2.1. Use Axes.patch instead.\n",
      "  limb = ax.axesPatch\n",
      "/g/data3/hh5/public/apps/miniconda3/envs/analysis3-18.07/lib/python3.6/site-packages/mpl_toolkits/basemap/__init__.py:1712: MatplotlibDeprecationWarning: The axesPatch function was deprecated in version 2.1. Use Axes.patch instead.\n",
      "  if limb is not ax.axesPatch:\n",
      "/g/data3/hh5/public/apps/miniconda3/envs/analysis3-18.07/lib/python3.6/site-packages/dask/array/numpy_compat.py:28: RuntimeWarning: invalid value encountered in true_divide\n",
      "  x = np.divide(x1, x2, out)\n"
     ]
    },
    {
     "name": "stdout",
     "output_type": "stream",
     "text": [
      "Doing 01deg_thickness_map_SH_cat2_1995-2014_01_mean\n",
      "Doing 01deg_thickness_map_SH_cat3_1995-2014_01_mean\n",
      "Doing 01deg_thickness_map_SH_cat4_1995-2014_01_mean\n",
      "Doing 01deg_thickness_map_SH_cat5_1995-2014_01_mean\n",
      "Doing 01deg_thickness_map_SH_cat1_1995-2014_02_mean\n",
      "Doing 01deg_thickness_map_SH_cat2_1995-2014_02_mean\n",
      "Doing 01deg_thickness_map_SH_cat3_1995-2014_02_mean\n",
      "Doing 01deg_thickness_map_SH_cat4_1995-2014_02_mean\n",
      "Doing 01deg_thickness_map_SH_cat5_1995-2014_02_mean\n",
      "Doing 01deg_thickness_map_SH_cat1_1995-2014_03_mean\n",
      "Doing 01deg_thickness_map_SH_cat2_1995-2014_03_mean\n",
      "Doing 01deg_thickness_map_SH_cat3_1995-2014_03_mean\n",
      "Doing 01deg_thickness_map_SH_cat4_1995-2014_03_mean\n",
      "Doing 01deg_thickness_map_SH_cat5_1995-2014_03_mean\n",
      "Doing 01deg_thickness_map_SH_cat1_1995-2014_04_mean\n",
      "Doing 01deg_thickness_map_SH_cat2_1995-2014_04_mean\n",
      "Doing 01deg_thickness_map_SH_cat3_1995-2014_04_mean\n",
      "Doing 01deg_thickness_map_SH_cat4_1995-2014_04_mean\n",
      "Doing 01deg_thickness_map_SH_cat5_1995-2014_04_mean\n",
      "Doing 01deg_thickness_map_SH_cat1_1995-2014_05_mean\n",
      "Doing 01deg_thickness_map_SH_cat2_1995-2014_05_mean\n",
      "Doing 01deg_thickness_map_SH_cat3_1995-2014_05_mean\n",
      "Doing 01deg_thickness_map_SH_cat4_1995-2014_05_mean\n",
      "Doing 01deg_thickness_map_SH_cat5_1995-2014_05_mean\n",
      "Doing 01deg_thickness_map_SH_cat1_1995-2014_06_mean\n",
      "Doing 01deg_thickness_map_SH_cat2_1995-2014_06_mean\n",
      "Doing 01deg_thickness_map_SH_cat3_1995-2014_06_mean\n",
      "Doing 01deg_thickness_map_SH_cat4_1995-2014_06_mean\n",
      "Doing 01deg_thickness_map_SH_cat5_1995-2014_06_mean\n",
      "Doing 01deg_thickness_map_SH_cat1_1995-2014_07_mean\n",
      "Doing 01deg_thickness_map_SH_cat2_1995-2014_07_mean\n",
      "Doing 01deg_thickness_map_SH_cat3_1995-2014_07_mean\n",
      "Doing 01deg_thickness_map_SH_cat4_1995-2014_07_mean\n",
      "Doing 01deg_thickness_map_SH_cat5_1995-2014_07_mean\n",
      "Doing 01deg_thickness_map_SH_cat1_1995-2014_08_mean\n",
      "Doing 01deg_thickness_map_SH_cat2_1995-2014_08_mean\n",
      "Doing 01deg_thickness_map_SH_cat3_1995-2014_08_mean\n",
      "Doing 01deg_thickness_map_SH_cat4_1995-2014_08_mean\n",
      "Doing 01deg_thickness_map_SH_cat5_1995-2014_08_mean\n",
      "Doing 01deg_thickness_map_SH_cat1_1995-2014_09_mean\n",
      "Doing 01deg_thickness_map_SH_cat2_1995-2014_09_mean\n",
      "Doing 01deg_thickness_map_SH_cat3_1995-2014_09_mean\n",
      "Doing 01deg_thickness_map_SH_cat4_1995-2014_09_mean\n",
      "Doing 01deg_thickness_map_SH_cat5_1995-2014_09_mean\n",
      "Doing 01deg_thickness_map_SH_cat1_1995-2014_10_mean\n",
      "Doing 01deg_thickness_map_SH_cat2_1995-2014_10_mean\n",
      "Doing 01deg_thickness_map_SH_cat3_1995-2014_10_mean\n",
      "Doing 01deg_thickness_map_SH_cat4_1995-2014_10_mean\n",
      "Doing 01deg_thickness_map_SH_cat5_1995-2014_10_mean\n",
      "Doing 01deg_thickness_map_SH_cat1_1995-2014_11_mean\n",
      "Doing 01deg_thickness_map_SH_cat2_1995-2014_11_mean\n",
      "Doing 01deg_thickness_map_SH_cat3_1995-2014_11_mean\n",
      "Doing 01deg_thickness_map_SH_cat4_1995-2014_11_mean\n",
      "Doing 01deg_thickness_map_SH_cat5_1995-2014_11_mean\n",
      "Doing 01deg_thickness_map_SH_cat1_1995-2014_12_mean\n",
      "Doing 01deg_thickness_map_SH_cat2_1995-2014_12_mean\n",
      "Doing 01deg_thickness_map_SH_cat3_1995-2014_12_mean\n",
      "Doing 01deg_thickness_map_SH_cat4_1995-2014_12_mean\n",
      "Doing 01deg_thickness_map_SH_cat5_1995-2014_12_mean\n"
     ]
    }
   ],
   "source": [
    "# cmap_gamma = 1.0\n",
    "for ekey in exptdata.exptdict.keys():\n",
    "    if ekey=='01deg':\n",
    "        print(ekey)\n",
    "        loaddata(ekey)\n",
    "        plot_SH_thickness_monthly_mean(ekey)\n",
    "    #     break"
   ]
  },
  {
   "cell_type": "code",
   "execution_count": null,
   "metadata": {},
   "outputs": [],
   "source": [
    "STOPHERE"
   ]
  },
  {
   "cell_type": "code",
   "execution_count": null,
   "metadata": {},
   "outputs": [],
   "source": [
    "aice_m.sel(time=pd.to_datetime('198501', format='%Y%m'))  # BUG: some sort of hashing problem??"
   ]
  },
  {
   "cell_type": "markdown",
   "metadata": {},
   "source": [
    "# Thickness maps\n",
    "TODO: redo these as above, and plot for all resolutions"
   ]
  },
  {
   "cell_type": "code",
   "execution_count": null,
   "metadata": {},
   "outputs": [],
   "source": [
    "levels = np.arange(0,5.01,0.1)\n",
    "cmap_gamma = 1 # exponent for power-law stretch of colormap\n",
    "cbar_ticks = np.arange(0,5.01,1)\n",
    "cbar_ticks = [ f**cmap_gamma for f in np.arange(0,5.01,1) ]"
   ]
  },
  {
   "cell_type": "code",
   "execution_count": null,
   "metadata": {},
   "outputs": [],
   "source": [
    "# Arctic ice thickness\n",
    "\n",
    "m = Basemap(projection ='npstere',boundinglat=48,lon_0=0,resolution='l')\n",
    "x,y = m(*(lon_t[NLAT_half:,:],lat_t[NLAT_half:,:]))\n",
    "xobs,yobs = m(*(obs_lon_NH,obs_lat_NH))\n",
    "\n",
    "for yi, year in enumerate(years):\n",
    "    for mi, month in enumerate(months):\n",
    "        outnamebase = ekey+'_thickness_map_NH'\n",
    "        outname = NOSYNC+outnamebase+'/'+outnamebase+'_'+str(year)+'_'+str(month).zfill(2)\n",
    "        if os.path.exists(os.path.join(figdir, outname+'.png')):\n",
    "            print('Skipping ' + outname + ' (file exists)')\n",
    "        else:\n",
    "            print('Doing ' + outname)\n",
    "            model = hi_m.sel(time=pd.to_datetime(str(year)+str(month).zfill(2), format='%Y%m'))\n",
    "            obs = CN_obs_NH[yi*len(months) + mi]\n",
    "            plt.figure(4,(12,7))\n",
    "\n",
    "            # plot model\n",
    "#             plt.subplot(1,2,1)\n",
    "            m = Basemap(projection ='npstere',boundinglat=48,lon_0=0,resolution='l')\n",
    "            m.drawmapboundary(fill_color='gray') # background color - for non-ocean areas\n",
    "            ctr = m.contourf(x,y,model[NLAT_half:,:]**cmap_gamma,levels=levels,cmap=cm.cm.ice, extend='max')\n",
    "            ctr.cmap.set_over(color='w', alpha=None)\n",
    "            plt.title(calendar.month_name[month]+' '+str(year)+', ' + exptdata.exptdict[ekey]['desc'], font)\n",
    "            cbar = m.colorbar(ctr, location = 'bottom', pad = \"6%\")\n",
    "            cbar.set_label('Ice thickness (m)',size=tick_font)\n",
    "            cbar.set_ticks(cbar_ticks)\n",
    "            cbar.set_ticklabels([str(f**(1./cmap_gamma)) for f in cbar_ticks])\n",
    "            cbar_labels=plt.getp(cbar.ax.axes,'xticklabels')\n",
    "            plt.setp(cbar_labels,fontsize=tick_font)\n",
    "            m.contour(x,y,model[NLAT_half:,:],[0.3],colors='g',linewidth=0.5)\n",
    "            m.contour(xobs,yobs,obs,[0.3],colors='r',linewidth=0.5)\n",
    "            \n",
    "            parallels = np.arange(-80.,81,10.)\n",
    "            # labels = [left,right,top,bottom]\n",
    "            m.drawparallels(parallels,color='white',linewidth=0.5)#,labels=[False,True,True,False],size=tick_font)\n",
    "            meridians = np.arange(0.,351.,30.)\n",
    "            m.drawmeridians(meridians,labels=[True,False,False,True],size=tick_font,color='white',linewidth=0.5)\n",
    "\n",
    "#             savefigure(outname)\n",
    "            plt.savefig(outname+'.png',dpi=150, bbox_inches=\"tight\")\n",
    "\n",
    "            plt.close()\n",
    "\n",
    "#         break\n",
    "#     break"
   ]
  },
  {
   "cell_type": "code",
   "execution_count": null,
   "metadata": {},
   "outputs": [],
   "source": [
    "# Antarctic ice thickness\n",
    "\n",
    "m = Basemap(projection='spstere',boundinglat=-54,lon_0=180,resolution='l') #,round='True')\n",
    "x,y = m(*(lon_t[:NLAT_half,:],lat_t[:NLAT_half,:]))\n",
    "xobs,yobs = m(*(obs_lon_SH,obs_lat_SH))\n",
    "\n",
    "for yi, year in enumerate(years):\n",
    "    for mi, month in enumerate(months):\n",
    "        outnamebase = ekey+'_thickness_map_SH'\n",
    "        outname = NOSYNC+outnamebase+'/'+outnamebase+'_'+str(year)+'_'+str(month).zfill(2)\n",
    "        if os.path.exists(os.path.join(figdir, outname+'.png')):\n",
    "            print('Skipping ' + outname + ' (file exists)')\n",
    "        else:\n",
    "            print('Doing ' + outname)\n",
    "            model = hi_m.sel(time=pd.to_datetime(str(year)+str(month).zfill(2), format='%Y%m'))\n",
    "            obs = CN_obs_SH[yi*len(months) + mi]\n",
    "            plt.figure(4,(12,7))\n",
    "\n",
    "            m = Basemap(projection='spstere',boundinglat=-54,lon_0=180,resolution='l') #,round='True')\n",
    "            m.drawmapboundary(fill_color='gray') # background color - for non-ocean areas\n",
    "            ctr = m.contourf(x,y,model[:NLAT_half,:]**cmap_gamma,levels=levels,cmap=cm.cm.ice, extend='max')\n",
    "            ctr.cmap.set_over(color='w', alpha=None)\n",
    "            plt.title(calendar.month_name[month]+' '+str(year)+', ' + exptdata.exptdict[ekey]['desc'], font)\n",
    "            cbar = m.colorbar(ctr, location = 'bottom', pad = \"6%\")\n",
    "            cbar.set_label('Ice  thickness (m)',size=tick_font)\n",
    "            cbar.set_ticks(cbar_ticks)\n",
    "            cbar.set_ticklabels([str(f**(1./cmap_gamma)) for f in cbar_ticks])\n",
    "            cbar_labels=plt.getp(cbar.ax.axes,'xticklabels')\n",
    "            plt.setp(cbar_labels,fontsize=tick_font)\n",
    "            m.contour(x,y,model[:NLAT_half,:],[0.3],colors='g',linewidth=0.5)\n",
    "            m.contour(xobs,yobs,obs,[0.3],colors='r',linewidth=0.5)\n",
    "            \n",
    "            parallels = np.arange(-80.,81,10.)\n",
    "            # labels = [left,right,top,bottom]\n",
    "            m.drawparallels(parallels,color='white',linewidth=0.5)#,labels=[False,True,True,False],size=tick_font)\n",
    "            meridians = np.arange(0.,351.,30.)\n",
    "            m.drawmeridians(meridians,labels=[True,False,False,True],size=tick_font,color='white',linewidth=0.5)\n",
    "\n",
    "#             savefigure(outname)\n",
    "            plt.savefig(outname+'.png',dpi=150, bbox_inches=\"tight\")\n",
    "\n",
    "            plt.close()\n",
    "\n",
    "#         break\n",
    "#     break"
   ]
  },
  {
   "cell_type": "code",
   "execution_count": null,
   "metadata": {},
   "outputs": [],
   "source": [
    "STOPHERE\n",
    "# old stuff below. try to redo this above using approach in surface_current.ipynb"
   ]
  },
  {
   "cell_type": "raw",
   "metadata": {},
   "source": [
    "# model data paths:\n",
    "ekey = '01deg'\n",
    "model = exptdata.exptdict[ekey]['model']\n",
    "expt = exptdata.exptdict[ekey]['expt']\n",
    "exptdir = exptdata.exptdict[ekey]['exptdir']\n",
    "\n",
    "# model = 'access-om2-01'\n",
    "# DataDir = '/g/data3/hh5/tmp/cosima/' + model + '/'\n",
    "# expt = '01deg_jra55v13_ryf8485_spinup6'\n",
    "# expdir = os.path.join(DataDir, expt)\n",
    "\n",
    "# sea ice observation data paths:\n",
    "obsVersion = 3\n",
    "if obsVersion==3:\n",
    "    ObsDir = '/g/data1a/v45/aek156/data/NOAA/G02202_V3'  # from http://nsidc.org/data/G02202\n",
    "    ObsDirExt = '/g/data1a/v45/aek156/data/NOAA/G02135'  # from http://nsidc.org/data/g02135\n",
    "else:\n",
    "# v2\n",
    "    ObsDir = '/g/data/v45/akm157/data/NSIDC/NOAA_G02202_v2_conc_monthly/'\n",
    "    ObsDirExt = '/g/data/v45/akm157/data/NSIDC/NOAA_G02135_extent_monthly/' # v2.1\n",
    "\n",
    "# length of climatology (may be corrected below):\n",
    "if with_turning:\n",
    "    n_years = 5\n",
    "else:\n",
    "    n_years = 10\n",
    "\n",
    "# path to model sea ice data:\n",
    "dataFileList = glob(os.path.join(expdir, 'output*/ice/OUTPUT/iceh.????-??.nc'))  # monthly\n",
    "dataFileList.sort()\n",
    "if with_turning:\n",
    "    dataFileList = dataFileList[:113] # cosw=1.0, sinw=0.0, ie turning angle of 0, from start of Aug year 12 (run 113)\n",
    "\n",
    "dataFileListDaily = glob(os.path.join(expdir, 'output*/ice/OUTPUT/iceh.????-??-??.nc'))  # daily\n",
    "dataFileListDaily.sort()\n",
    "\n",
    "# update n_years to avoid exceeding available data\n",
    "if model=='mom025':\n",
    "    filesPerYear = 1\n",
    "elif model=='mom01v5':\n",
    "    filesPerYear = 4\n",
    "elif model=='access-om2-01':\n",
    "    filesPerYear = 12\n",
    "total_years = len(dataFileList)/filesPerYear  # NB: typically not an integer\n",
    "n_years = min(n_years, int(total_years) )\n",
    "n_files = n_years*filesPerYear\n",
    "firstfile = int(total_years-n_years)*filesPerYear  # start of calendar year\n",
    "\n",
    "# paths to obs data:\n",
    "if obsVersion==3:\n",
    "    obsNHFileList = glob(os.path.join(ObsDir, 'north/monthly/*.nc'))\n",
    "    obsSHFileList = glob(os.path.join(ObsDir, 'south/monthly/*.nc'))\n",
    "    obsExtNHFileList = glob(os.path.join(ObsDirExt, 'north/monthly/data/*.csv'))\n",
    "    obsExtSHFileList = glob(os.path.join(ObsDirExt, 'south/monthly/data/*.csv'))\n",
    "else:\n",
    "    obsNHFileList = glob(os.path.join(ObsDir, 'nh/*.nc'))\n",
    "    obsSHFileList = glob(os.path.join(ObsDir, 'sh/*.nc'))\n",
    "    obsExtNHFileList = glob(os.path.join(ObsDirExt, 'nh/*.csv'))\n",
    "    obsExtSHFileList = glob(os.path.join(ObsDirExt, 'sh/*.csv'))\n",
    "\n",
    "obsNHFileList.sort()\n",
    "obsSHFileList.sort()\n",
    "obsExtNHFileList.sort()\n",
    "obsExtSHFileList.sort()\n",
    "\n",
    "font = {'size':13}\n",
    "tick_font=13"
   ]
  },
  {
   "cell_type": "raw",
   "metadata": {},
   "source": [
    "# get model grid data:\n",
    "# TODO: get these from CICE output file instead\n",
    "gridFileList = glob(os.path.join(expdir, 'output*/ocean/ocean_grid.nc'))\n",
    "gridFileList.sort()\n",
    "ncFile = nc.Dataset(gridFileList[0],'r')\n",
    "xt_ocean = ncFile.variables['xt_ocean'][...]\n",
    "yt_ocean = ncFile.variables['yt_ocean'][...]\n",
    "lon_t = ncFile.variables['geolon_t'][...]\n",
    "lat_t = ncFile.variables['geolat_t'][...]\n",
    "area_t = ncFile.variables['area_t'][...]\n",
    "NLAT_half = int(np.shape(area_t)[0]/2)\n",
    "ht = ncFile.variables['ht'][...]\n",
    "land_mask = np.copy(ht)\n",
    "land_mask[np.where(ht>30)] = 0\n",
    "land_mask[np.where(ht<=30)] = 1\n",
    "ncFile.close()"
   ]
  },
  {
   "cell_type": "markdown",
   "metadata": {},
   "source": [
    "## Sea ice volume timeseries, broken down by category\n",
    "`vicen_m(time, nc, nj, ni)`\n",
    "\t\thas units = \"m\",\n",
    "so need to multiply by `area_t` to get volume.\n",
    "`nc` is number of ice categories."
   ]
  },
  {
   "cell_type": "markdown",
   "metadata": {},
   "source": [
    "## Seasonal cycle of sea ice extent"
   ]
  },
  {
   "cell_type": "code",
   "execution_count": null,
   "metadata": {},
   "outputs": [],
   "source": [
    "## obs extent:\n",
    "# just take years ext_firstyear - ext_lastyear where available:\n",
    "# ext_firstyear = 1979\n",
    "# ext_lastyear  = 1998\n",
    "ext_firstyear = 1984\n",
    "ext_lastyear  = 1985\n",
    "SH_extent_climatology_obs = np.zeros(12)\n",
    "import csv\n",
    "for month in tqdm_notebook(range(12), leave=False):\n",
    "    n_yrs = 0\n",
    "#     print('opening '+obsExtSHFileList[month])\n",
    "    with open(obsExtSHFileList[month]) as csvfile:\n",
    "        reader = csv.reader(csvfile)\n",
    "        rownum = 0\n",
    "        for row in reader:\n",
    "            if (rownum > 0 and float(row[-2])>0 and float(row[0])>=ext_firstyear \\\n",
    "                and float(row[0])<=ext_lastyear):\n",
    "                SH_extent_climatology_obs[month] += float(row[-2])\n",
    "                n_yrs = n_yrs + 1\n",
    "            rownum = rownum + 1\n",
    "    SH_extent_climatology_obs[month] = SH_extent_climatology_obs[month] / n_yrs\n",
    "\n",
    "NH_extent_climatology_obs = np.zeros(12)\n",
    "import csv\n",
    "for month in tqdm_notebook(range(12), leave=False):\n",
    "    n_yrs = 0\n",
    "#     print('opening '+obsExtNHFileList[month])\n",
    "    with open(obsExtNHFileList[month]) as csvfile:\n",
    "        reader = csv.reader(csvfile)\n",
    "        rownum = 0\n",
    "        for row in reader:\n",
    "            if (rownum > 0 and float(row[-2])>0 and float(row[0])>=ext_firstyear \\\n",
    "                and float(row[0])<=ext_lastyear):\n",
    "                NH_extent_climatology_obs[month] += float(row[-2])\n",
    "                n_yrs = n_yrs + 1\n",
    "            rownum = rownum + 1\n",
    "    NH_extent_climatology_obs[month] = NH_extent_climatology_obs[month] / n_yrs"
   ]
  },
  {
   "cell_type": "code",
   "execution_count": null,
   "metadata": {},
   "outputs": [],
   "source": [
    "# climatological seasonal cycle of annual sea ice area - take monthly averages of \n",
    "# concentration, then sum area where CN > 15%\n",
    "\n",
    "ice_area_south = []\n",
    "ice_area_north = []\n",
    "\n",
    "for IceFile in tqdm_notebook(dataFileList[-n_files:], leave=False):\n",
    "    ncFile = nc.Dataset(IceFile,'r')\n",
    "    CN = ncFile.variables['aice_m']\n",
    "    for month in range(CN.shape[0]):\n",
    "        area_field = np.ma.where(CN[month,...]>0.15,area_t,0)\n",
    "        ice_area_south = np.append(ice_area_south,np.sum(area_field[:NLAT_half,...]))\n",
    "        ice_area_north = np.append(ice_area_north,np.sum(area_field[NLAT_half:,...]))"
   ]
  },
  {
   "cell_type": "code",
   "execution_count": null,
   "metadata": {},
   "outputs": [],
   "source": [
    "# do annual averages:\n",
    "ice_area_south_climatology = np.zeros(12)\n",
    "ice_area_north_climatology = np.zeros(12)\n",
    "for month in range(12):\n",
    "    ice_area_south_climatology[month] = np.mean(ice_area_south[month::12])\n",
    "    ice_area_north_climatology[month] = np.mean(ice_area_north[month::12])\n",
    "# sort months from Jan -> Dec (for model we don't necessarily start with Jan data)\n",
    "time = ncFile.variables['time']\n",
    "time_convert = nc.num2date(time[-1],time.units,time.calendar)\n",
    "last_month = time_convert.month\n",
    "last_year = time_convert.year\n",
    "ice_area_south_climatology = np.roll(ice_area_south_climatology,last_month-1)\n",
    "ice_area_north_climatology = np.roll(ice_area_north_climatology,last_month-1)\n",
    "\n",
    "ncFile.close()"
   ]
  },
  {
   "cell_type": "code",
   "execution_count": null,
   "metadata": {},
   "outputs": [],
   "source": [
    "# Arctic seasonal cycle:\n",
    "plt.figure(2,(12,5))\n",
    "plt.clf()\n",
    "plt.subplot(1,2,1)\n",
    "plt.plot(np.arange(12)+1,ice_area_north_climatology/1e12,label = 'model')\n",
    "plt.plot(np.arange(12)+1,NH_extent_climatology_obs)\n",
    "plt.xlabel('Month',font)\n",
    "plt.ylabel(r'Sea ice extent (10$^{12}$m$^2$)',font)\n",
    "plt.xlim((1,12))\n",
    "plt.title('Arctic extent') #, yrs '+str(last_year-(n_years-1))+'-'+str(last_year),font)\n",
    "\n",
    "# Antarctic seasonal cycle:\n",
    "plt.subplot(1,2,2)\n",
    "plt.plot(np.arange(12)+1,ice_area_south_climatology/1e12,label = 'model')\n",
    "plt.plot(np.arange(12)+1,SH_extent_climatology_obs,label=\"obs \"+str(ext_firstyear)+\"-\"+str(ext_lastyear))\n",
    "plt.xlabel('Month',font)\n",
    "plt.ylabel(r'Sea ice extent (10$^{12}$m$^2$)',font)\n",
    "plt.xlim((1,12))\n",
    "plt.title('Antarctic extent') #, yrs '+str(last_year-(n_years-1))+'-'+str(last_year),font)\n",
    "plt.legend(prop=font,loc=2)\n",
    "plt.tight_layout()\n",
    "\n",
    "savefigure('ice_extent')"
   ]
  },
  {
   "cell_type": "markdown",
   "metadata": {},
   "source": [
    "# Stop here with deliberate error"
   ]
  },
  {
   "cell_type": "code",
   "execution_count": null,
   "metadata": {
    "scrolled": true
   },
   "outputs": [],
   "source": [
    "STOPHERE"
   ]
  },
  {
   "cell_type": "markdown",
   "metadata": {},
   "source": [
    "## Climatologies"
   ]
  },
  {
   "cell_type": "code",
   "execution_count": null,
   "metadata": {},
   "outputs": [],
   "source": [
    "############################################\n",
    "####### obs climatology:\n",
    "# for obs just use years 1988-1997, because concentration not available before then (*WRONG!*) and \n",
    "# climate change after then\n",
    "\n",
    "# conc_firstyear = 1988\n",
    "# conc_lastyear  = 1997\n",
    "\n",
    "conc_firstyear = tclimstart.year\n",
    "conc_lastyear = tclimend.year-1\n",
    "\n",
    "# NH All:\n",
    "# CN_obs_NH = [[] for _ in range(12)]  # list keeps months separate\n",
    "CN_obs_NH = [None]*12\n",
    "for mo in tqdm_notebook(range(12), leave=False, desc='month'):  # NB: mo counts from 0\n",
    "    # length of climatology:\n",
    "    obs_list = [IceFile for IceFile in obsNHFileList if (IceFile.find(str(mo+1).zfill(2)+'_v0')>0 and \n",
    "        IceFile.find('nh_f')>0 and float(IceFile[-16:-12])>=conc_firstyear and \\\n",
    "        float(IceFile[-16:-12])<=conc_lastyear)] \n",
    "#     obs_list = [IceFile for IceFile in obsNHFileList if (IceFile.find(str(mo+1).zfill(2)+'_v0')>0 and \n",
    "#         IceFile.find('nh_f')>0 and float(IceFile[-16:-12])>1983 and \\\n",
    "#         float(IceFile[-16:-12])<1986)] \n",
    "\n",
    "    n_yrs = len(obs_list)\n",
    "    for IceFile in tqdm_notebook(obs_list, leave=False, desc='year'):\n",
    "    #     print('opening '+IceFile)\n",
    "        ncFile = nc.Dataset(IceFile, 'r')\n",
    "        tmp = ncFile.variables['seaice_conc_monthly_cdr'][0,...]\n",
    "        if CN_obs_NH[mo] is None:\n",
    "            CN_obs_NH[mo] = tmp\n",
    "        else:\n",
    "            CN_obs_NH[mo] = CN_obs_NH[mo] + tmp\n",
    "    # divide by n_yrs and mask land / arctic pole hole:\n",
    "    CN_obs_NH[mo] = np.ma.masked_where(CN_obs_NH[mo]<0,CN_obs_NH[mo]) / n_yrs\n",
    "    CN_obs_NH[mo] = np.ma.masked_where(CN_obs_NH[mo]>2,CN_obs_NH[mo])\n",
    "obs_lat_NH = ncFile.variables['latitude'][...]\n",
    "obs_lon_NH = ncFile.variables['longitude'][...]\n",
    "ncFile.close()"
   ]
  },
  {
   "cell_type": "code",
   "execution_count": null,
   "metadata": {},
   "outputs": [],
   "source": [
    "obsNHFileList"
   ]
  },
  {
   "cell_type": "code",
   "execution_count": null,
   "metadata": {},
   "outputs": [],
   "source": [
    "# SH All:\n",
    "CN_obs_SH = [None]*12\n",
    "for mo in tqdm_notebook(range(12), leave=False, desc='month'):\n",
    "    # length of climatology:\n",
    "    obs_list = [IceFile for IceFile in obsSHFileList if (IceFile.find(str(mo+1).zfill(2)+'_v0')>0 and \n",
    "        IceFile.find('sh_f')>0 and float(IceFile[-16:-12])>=conc_firstyear and \\\n",
    "        float(IceFile[-16:-12])<=conc_lastyear)] \n",
    "    n_yrs = len(obs_list)\n",
    "    for IceFile in tqdm_notebook(obs_list, leave=False, desc='year'):\n",
    "    #     print('opening '+IceFile)\n",
    "        ncFile = nc.Dataset(IceFile,'r')\n",
    "        tmp = ncFile.variables['seaice_conc_monthly_cdr'][0,...]\n",
    "        if CN_obs_SH[mo] is None:\n",
    "            CN_obs_SH[mo] = tmp\n",
    "        else:\n",
    "            CN_obs_SH[mo] = CN_obs_SH[mo] + tmp\n",
    "    # divide by n_yrs and mask land / arctic pole hole:\n",
    "    CN_obs_SH[mo] = np.ma.masked_where(CN_obs_SH[mo]<0,CN_obs_SH[mo]) / n_yrs\n",
    "    CN_obs_SH[mo] = np.ma.masked_where(CN_obs_SH[mo]>2,CN_obs_SH[mo])\n",
    "obs_lat_SH = ncFile.variables['latitude'][...]\n",
    "obs_lon_SH = ncFile.variables['longitude'][...]\n",
    "ncFile.close()"
   ]
  },
  {
   "cell_type": "code",
   "execution_count": null,
   "metadata": {},
   "outputs": [],
   "source": [
    "# monthly ice concentration climatologies\n",
    "\n",
    "CN_Feb = 0\n",
    "CN_Mar = 0\n",
    "CN_Sep = 0\n",
    "\n",
    "CN_Sep_years = [[] for _ in range(n_years)]\n",
    "\n",
    "# Feb (Antarctic only)\n",
    "for IceFile in [f for f in dataFileList[firstfile:firstfile+n_files] if f.endswith('-02.nc')]:\n",
    "#     print('opening '+IceFile)\n",
    "    ncFile = nc.Dataset(IceFile,'r')\n",
    "    CN_Feb = CN_Feb + ncFile.variables['aice_m'][0,:NLAT_half,:]\n",
    "\n",
    "# March (Arctic only)\n",
    "for IceFile in [f for f in dataFileList[firstfile:firstfile+n_files] if f.endswith('-03.nc')]:\n",
    "#     print('opening '+IceFile)\n",
    "    ncFile = nc.Dataset(IceFile,'r')\n",
    "    CN_Mar = CN_Mar + ncFile.variables['aice_m'][0,NLAT_half:,:]\n",
    "\n",
    "# Sep (both)\n",
    "for n,IceFile in enumerate([f for f in dataFileList[firstfile:firstfile+n_files] if f.endswith('-09.nc')]):\n",
    "#     print('opening '+IceFile)\n",
    "    ncFile = nc.Dataset(IceFile,'r')\n",
    "#     CN_Sep_years[n] = np.append(CN_Sep_years, ncFile.variables['aice_m'][0,:,:])\n",
    "    CN_Sep_years[n] = ncFile.variables['aice_m'][0,:,:]\n",
    "    CN_Sep = CN_Sep + CN_Sep_years[n]\n",
    "    CN_Sep_years[n] = np.ma.masked_where(land_mask==1,CN_Sep_years[n])\n",
    "\n",
    "# divide by n_years and mask:\n",
    "CN_Feb = np.ma.masked_where(land_mask[:NLAT_half,:]==1,CN_Feb / n_years)\n",
    "CN_Mar = np.ma.masked_where(land_mask[NLAT_half:,:]==1,CN_Mar / n_years)\n",
    "CN_Sep = np.ma.masked_where(land_mask==1,CN_Sep / n_years)\n",
    "ncFile.close()"
   ]
  },
  {
   "cell_type": "code",
   "execution_count": null,
   "metadata": {},
   "outputs": [],
   "source": [
    "levels = np.arange(0,1.01,.01)\n",
    "font = {'size':13}\n",
    "tick_font=13"
   ]
  },
  {
   "cell_type": "markdown",
   "metadata": {},
   "source": [
    "### Arctic model concentration maps, Sept and March"
   ]
  },
  {
   "cell_type": "code",
   "execution_count": null,
   "metadata": {},
   "outputs": [],
   "source": [
    "plt.figure(4,(12,7))\n",
    "plt.clf()\n",
    "\n",
    "plt.subplot(1,2,1)\n",
    "m = Basemap(projection ='npstere',boundinglat=48,lon_0=0,resolution='l')\n",
    "m.drawmapboundary(fill_color='gray') # background color - for non-ocean areas\n",
    "x,y = m(*(lon_t[NLAT_half:,:],lat_t[NLAT_half:,:]))\n",
    "xobs,yobs = m(*(obs_lon_NH,obs_lat_NH))\n",
    "ctr = m.contourf(x,y,CN_Sep[NLAT_half:,:],levels=levels,cmap='viridis', extend='max')\n",
    "ctr.cmap.set_over(color='w', alpha=None)\n",
    "# plt.title('September min, yrs '+str(last_year-(n_years-1))+'-'+\n",
    "# \tstr(last_year),font,y=1.03)\n",
    "plt.title('September min',font,y=1.03)\n",
    "cbar = m.colorbar(ctr, location = 'bottom', pad = \"6%\")\n",
    "cbar.set_label('Ice concentration',size=tick_font)\n",
    "cbar.set_ticks([0,.2,.4,.6,.8,1])\n",
    "cbar_labels=plt.getp(cbar.ax.axes,'xticklabels')\n",
    "plt.setp(cbar_labels,fontsize=tick_font)\n",
    "#m.contour(x,y,land_mask[NLAT_half:,:],[0,1],colors='w')\n",
    "m.contour(x,y,CN_Sep[NLAT_half:,:],[0.3],colors='w')\n",
    "# obs:\n",
    "# m.contour(xobs,yobs,CN_obs_Sep_NH,[0.3],colors='r')\n",
    "m.contour(xobs,yobs,CN_obs_NH[9-1],[0.3],colors='r')\n",
    "\n",
    "\n",
    "plt.subplot(1,2,2)\n",
    "m = Basemap(projection ='npstere',boundinglat=48,lon_0=0,resolution='l')\n",
    "m.drawmapboundary(fill_color='gray') # background color - for non-ocean areas\n",
    "ctr = m.contourf(x,y,CN_Mar,levels=levels,cmap='viridis', extend='max')\n",
    "ctr.cmap.set_over(color='w', alpha=None)\n",
    "# plt.title('March max, yrs '+str(last_year-(n_years-1))+'-'+\n",
    "# \tstr(last_year),font,y=1.03)\n",
    "plt.title('March max',font,y=1.03)\n",
    "cbar = m.colorbar(ctr, location = 'bottom', pad = \"6%\")\n",
    "cbar.set_label('Ice concentration',size=tick_font)\n",
    "cbar.set_ticks([0,.2,.4,.6,.8,1])\n",
    "cbar_labels=plt.getp(cbar.ax.axes,'xticklabels')\n",
    "plt.setp(cbar_labels,fontsize=tick_font)\n",
    "#m.contour(x,y,land_mask[NLAT_half:,:],[0,1],colors='w')\n",
    "m.contour(x,y,CN_Mar,[0.3],colors='w')\n",
    "# obs:\n",
    "# m.contour(xobs,yobs,CN_obs_Mar_NH,[0.3],colors='r')\n",
    "m.contour(xobs,yobs,CN_obs_NH[3-1],[0.3],colors='r')\n",
    "\n",
    "\n",
    "plt.tight_layout()\n",
    "\n",
    "# savefigure('Arctic_concentration_map')"
   ]
  },
  {
   "cell_type": "markdown",
   "metadata": {},
   "source": [
    "### Arctic model and obs concentration maps, Sept"
   ]
  },
  {
   "cell_type": "code",
   "execution_count": null,
   "metadata": {},
   "outputs": [],
   "source": [
    "plt.figure(4,(12,7))\n",
    "plt.clf()\n",
    "\n",
    "plt.subplot(1,2,1)\n",
    "m = Basemap(projection ='npstere',boundinglat=48,lon_0=0,resolution='l')\n",
    "m.drawmapboundary(fill_color='gray') # background color - for non-ocean areas\n",
    "x,y = m(*(lon_t[NLAT_half:,:],lat_t[NLAT_half:,:]))\n",
    "xobs,yobs = m(*(obs_lon_NH,obs_lat_NH))\n",
    "ctr = m.contourf(x,y,CN_Sep[NLAT_half:,:],levels=levels,cmap='viridis', extend='max')\n",
    "ctr.cmap.set_over(color='w', alpha=None)\n",
    "# plt.title('September min, yrs '+str(last_year-(n_years-1))+'-'+\n",
    "# \tstr(last_year),font,y=1.03)\n",
    "plt.title('September min, model',font,y=1.03)\n",
    "cbar = m.colorbar(ctr, location = 'bottom', pad = \"6%\")\n",
    "cbar.set_label('Ice concentration',size=tick_font)\n",
    "cbar.set_ticks([0,.2,.4,.6,.8,1])\n",
    "cbar_labels=plt.getp(cbar.ax.axes,'xticklabels')\n",
    "plt.setp(cbar_labels,fontsize=tick_font)\n",
    "#m.contour(x,y,land_mask[NLAT_half:,:],[0,1],colors='w')\n",
    "m.contour(x,y,CN_Sep[NLAT_half:,:],[0.3],colors='w')\n",
    "# obs:\n",
    "# m.contour(xobs,yobs,CN_obs_Sep_NH,[0.3],colors='r')\n",
    "m.contour(xobs,yobs,CN_obs_NH[9-1],[0.3],colors='r')\n",
    "\n",
    "\n",
    "plt.subplot(1,2,2)\n",
    "m = Basemap(projection ='npstere',boundinglat=48,lon_0=0,resolution='l')\n",
    "m.drawmapboundary(fill_color='gray') # background color - for non-ocean areas\n",
    "ctr = m.contourf(xobs,yobs,CN_obs_NH[9-1],levels=levels,cmap='viridis', extend='max')\n",
    "ctr.cmap.set_over(color='w', alpha=None)\n",
    "# plt.title('March max, yrs '+str(last_year-(n_years-1))+'-'+\n",
    "# \tstr(last_year),font,y=1.03)\n",
    "plt.title('September min, obs',font,y=1.03)\n",
    "cbar = m.colorbar(ctr, location = 'bottom', pad = \"6%\")\n",
    "cbar.set_label('Ice concentration',size=tick_font)\n",
    "cbar.set_ticks([0,.2,.4,.6,.8,1])\n",
    "cbar_labels=plt.getp(cbar.ax.axes,'xticklabels')\n",
    "plt.setp(cbar_labels,fontsize=tick_font)\n",
    "#m.contour(x,y,land_mask[NLAT_half:,:],[0,1],colors='w')\n",
    "m.contour(x,y,CN_Sep[NLAT_half:,:],[0.3],colors='w')\n",
    "# obs:\n",
    "m.contour(xobs,yobs,CN_obs_NH[9-1],[0.3],colors='r')\n",
    "\n",
    "plt.tight_layout()\n",
    "\n",
    "# savefigure('Arctic_concentration_map_Sep')"
   ]
  },
  {
   "cell_type": "code",
   "execution_count": null,
   "metadata": {},
   "outputs": [],
   "source": [
    "plt.figure(4,(12,7*n_years))\n",
    "plt.clf()\n",
    "\n",
    "# TODO: check that the CN_Sep_years list elements are not identical\n",
    "\n",
    "for n in tqdm_notebook(range(n_years), leave=False):\n",
    "    year = int(int(total_years)-n_years+n+1)\n",
    "    plt.subplot(n_years,1,n+1)\n",
    "    m = Basemap(projection ='npstere',boundinglat=48,lon_0=0,resolution='l')\n",
    "    m.drawmapboundary(fill_color='gray') # background color - for non-ocean areas\n",
    "    x,y = m(*(lon_t[NLAT_half:,:],lat_t[NLAT_half:,:]))\n",
    "    xobs,yobs = m(*(obs_lon_NH,obs_lat_NH))\n",
    "    ctr = m.contourf(x,y,CN_Sep_years[n][NLAT_half:,:],levels=levels,cmap='viridis', extend='max')\n",
    "    ctr.cmap.set_over(color='w', alpha=None)\n",
    "    # plt.title('September min, yrs '+str(last_year-(n_years-1))+'-'+\n",
    "    # \tstr(last_year),font,y=1.03)\n",
    "    plt.title('September, year '+str(year),font,y=1.03)\n",
    "    cbar = m.colorbar(ctr, location = 'bottom', pad = \"6%\")\n",
    "    cbar.set_label('Ice concentration',size=tick_font)\n",
    "    cbar.set_ticks([0,.2,.4,.6,.8,1])\n",
    "    cbar_labels=plt.getp(cbar.ax.axes,'xticklabels')\n",
    "    plt.setp(cbar_labels,fontsize=tick_font)\n",
    "    #m.contour(x,y,land_mask[NLAT_half:,:],[0,1],colors='w')\n",
    "    m.contour(x,y,CN_Sep_years[n][NLAT_half:,:],[0.3],colors='w')\n",
    "    # obs:\n",
    "#     m.contour(xobs,yobs,CN_obs_Sep_NH,[0.3],colors='r')\n",
    "    m.contour(xobs,yobs,CN_obs_NH[9-1],[0.3],colors='r')"
   ]
  },
  {
   "cell_type": "markdown",
   "metadata": {},
   "source": [
    "### Arctic model and obs concentration maps, March"
   ]
  },
  {
   "cell_type": "code",
   "execution_count": null,
   "metadata": {},
   "outputs": [],
   "source": [
    "plt.figure(4,(12,7))\n",
    "plt.clf()\n",
    "\n",
    "plt.subplot(1,2,1)\n",
    "m = Basemap(projection ='npstere',boundinglat=48,lon_0=0,resolution='l')\n",
    "m.drawmapboundary(fill_color='gray') # background color - for non-ocean areas\n",
    "x,y = m(*(lon_t[NLAT_half:,:],lat_t[NLAT_half:,:]))\n",
    "xobs,yobs = m(*(obs_lon_NH,obs_lat_NH))\n",
    "ctr = m.contourf(x,y,CN_Mar,levels=levels,cmap='viridis', extend='max')\n",
    "ctr.cmap.set_over(color='w', alpha=None)\n",
    "# plt.title('September min, yrs '+str(last_year-(n_years-1))+'-'+\n",
    "# \tstr(last_year),font,y=1.03)\n",
    "plt.title('March max, model',font,y=1.03)\n",
    "cbar = m.colorbar(ctr, location = 'bottom', pad = \"6%\")\n",
    "cbar.set_label('Ice concentration',size=tick_font)\n",
    "cbar.set_ticks([0,.2,.4,.6,.8,1])\n",
    "cbar_labels=plt.getp(cbar.ax.axes,'xticklabels')\n",
    "plt.setp(cbar_labels,fontsize=tick_font)\n",
    "#m.contour(x,y,land_mask[NLAT_half:,:],[0,1],colors='w')\n",
    "m.contour(x,y,CN_Mar,[0.3],colors='w')\n",
    "# obs:\n",
    "m.contour(xobs,yobs,CN_obs_NH[3-1],[0.3],colors='r')\n",
    "\n",
    "plt.subplot(1,2,2)\n",
    "m = Basemap(projection ='npstere',boundinglat=48,lon_0=0,resolution='l')\n",
    "m.drawmapboundary(fill_color='gray') # background color - for non-ocean areas\n",
    "ctr = m.contourf(xobs,yobs,CN_obs_NH[3-1],levels=levels,cmap='viridis', extend='max')\n",
    "ctr.cmap.set_over(color='w', alpha=None)\n",
    "# plt.title('March max, yrs '+str(last_year-(n_years-1))+'-'+\n",
    "# \tstr(last_year),font,y=1.03)\n",
    "plt.title('March max, obs',font,y=1.03)\n",
    "cbar = m.colorbar(ctr, location = 'bottom', pad = \"6%\")\n",
    "cbar.set_label('Ice concentration',size=tick_font)\n",
    "cbar.set_ticks([0,.2,.4,.6,.8,1])\n",
    "cbar_labels=plt.getp(cbar.ax.axes,'xticklabels')\n",
    "plt.setp(cbar_labels,fontsize=tick_font)\n",
    "#m.contour(x,y,land_mask[NLAT_half:,:],[0,1],colors='w')\n",
    "m.contour(x,y,CN_Mar,[0.3],colors='w')\n",
    "# obs:\n",
    "m.contour(xobs,yobs,CN_obs_NH[3-1],[0.3],colors='r')\n",
    "\n",
    "plt.tight_layout()\n",
    "\n",
    "# savefigure('Arctic_concentration_map_Mar')"
   ]
  },
  {
   "cell_type": "markdown",
   "metadata": {},
   "source": [
    "### Antarctic model and obs concentration maps"
   ]
  },
  {
   "cell_type": "code",
   "execution_count": null,
   "metadata": {},
   "outputs": [],
   "source": [
    "plt.figure(3,(12,7))\n",
    "plt.clf()\n",
    "\n",
    "plt.subplot(1,2,1)\n",
    "m = Basemap(projection ='spstere',boundinglat=-50,lon_0=180,resolution='l',round='True')\n",
    "m.drawmapboundary(fill_color='gray') # background color - for non-ocean areas\n",
    "x,y = m(*(lon_t[:NLAT_half,:],lat_t[:NLAT_half,:]))\n",
    "xobs,yobs = m(*(obs_lon_SH,obs_lat_SH))\n",
    "ctr = m.contourf(x,y,CN_Feb,levels=levels,cmap='viridis', extend='max')\n",
    "ctr.cmap.set_over(color='w', alpha=None)\n",
    "# plt.title('February min, yrs '+str(last_year-(n_years-1))+'-'+\n",
    "# \tstr(last_year),font,y=1.03)\n",
    "plt.title('February min',font,y=1.03)\n",
    "cbar = m.colorbar(ctr, location = 'bottom', pad = \"6%\")\n",
    "cbar.set_label('Ice concentration',size=tick_font)\n",
    "cbar.set_ticks([0,.2,.4,.6,.8,1])\n",
    "cbar_labels=plt.getp(cbar.ax.axes,'xticklabels')\n",
    "plt.setp(cbar_labels,fontsize=tick_font)\n",
    "#m.contour(x,y,land_mask[:NLAT_half,:],[0,1],colors='w')\n",
    "m.contour(x,y,CN_Feb,[0.3],colors='w')\n",
    "# obs:\n",
    "m.contour(xobs,yobs,CN_obs_SH[2-1],[0.3],colors='r')\n",
    "\n",
    "plt.subplot(1,2,2)\n",
    "m = Basemap(projection ='spstere',boundinglat=-50,lon_0=180,resolution='l',round='True')\n",
    "m.drawmapboundary(fill_color='gray') # background color - for non-ocean areas\n",
    "ctr = m.contourf(x,y,CN_Sep[:NLAT_half,:],levels=levels,cmap='viridis', extend='max')\n",
    "ctr.cmap.set_over(color='w', alpha=None)\n",
    "# plt.title('September max, yrs '+str(last_year-(n_years-1))+'-'+\n",
    "# \tstr(last_year),font,y=1.03)\n",
    "plt.title('September max',font,y=1.03)\n",
    "cbar = m.colorbar(ctr, location = 'bottom', pad = \"6%\")\n",
    "cbar.set_label('Ice concentration',size=tick_font)\n",
    "cbar.set_ticks([0,.2,.4,.6,.8,1])\n",
    "cbar_labels=plt.getp(cbar.ax.axes,'xticklabels')\n",
    "plt.setp(cbar_labels,fontsize=tick_font)\n",
    "#m.contour(x,y,land_mask[:NLAT_half,:],[0,1],colors='w')\n",
    "m.contour(x,y,CN_Sep[:NLAT_half,:],[0.3],colors='w')\n",
    "# obs:\n",
    "m.contour(xobs,yobs,CN_obs_SH[9-1],[0.3],colors='r')\n",
    "\n",
    "plt.tight_layout()\n",
    "\n",
    "# savefigure('Antarctic_concentration_map')"
   ]
  },
  {
   "cell_type": "markdown",
   "metadata": {},
   "source": [
    "### Antarctic model and obs concentration maps, Feb"
   ]
  },
  {
   "cell_type": "code",
   "execution_count": null,
   "metadata": {},
   "outputs": [],
   "source": [
    "plt.figure(4,(12,7))\n",
    "plt.clf()\n",
    "\n",
    "plt.subplot(1,2,1)\n",
    "m = Basemap(projection ='spstere',boundinglat=-54,lon_0=180,resolution='l')\n",
    "m.drawmapboundary(fill_color='gray') # background color - for non-ocean areas\n",
    "x,y = m(*(lon_t[:NLAT_half,:],lat_t[:NLAT_half,:]))\n",
    "xobs,yobs = m(*(obs_lon_SH,obs_lat_SH))\n",
    "ctr = m.contourf(x,y,CN_Feb,levels=levels,cmap='viridis', extend='max')\n",
    "ctr.cmap.set_over(color='y', alpha=None)\n",
    "# plt.title('September min, yrs '+str(last_year-(n_years-1))+'-'+\n",
    "# \tstr(last_year),font,y=1.03)\n",
    "plt.title('February min, model',font,y=1.03)\n",
    "cbar = m.colorbar(ctr, location = 'bottom', pad = \"6%\")\n",
    "cbar.set_label('Ice concentration',size=tick_font)\n",
    "cbar.set_ticks([0,.2,.4,.6,.8,1])\n",
    "cbar_labels=plt.getp(cbar.ax.axes,'xticklabels')\n",
    "plt.setp(cbar_labels,fontsize=tick_font)\n",
    "#m.contour(x,y,land_mask[:NLAT_half,:],[0,1],colors='w')\n",
    "m.contour(x,y,CN_Feb,[0.3],colors='w')\n",
    "# obs:\n",
    "m.contour(xobs,yobs,CN_obs_SH[3-1],[0.3],colors='r')\n",
    "\n",
    "plt.subplot(1,2,2)\n",
    "m = Basemap(projection ='spstere',boundinglat=-54,lon_0=180,resolution='l')\n",
    "m.drawmapboundary(fill_color='gray') # background color - for non-ocean areas\n",
    "ctr = m.contourf(xobs,yobs,CN_obs_SH[3-1],levels=levels,cmap='viridis', extend='max')\n",
    "ctr.cmap.set_over(color='y', alpha=None)\n",
    "# plt.title('February min, yrs '+str(last_year-(n_years-1))+'-'+\n",
    "# \tstr(last_year),font,y=1.03)\n",
    "plt.title('February min, obs',font,y=1.03)\n",
    "cbar = m.colorbar(ctr, location = 'bottom', pad = \"6%\")\n",
    "cbar.set_label('Ice concentration',size=tick_font)\n",
    "cbar.set_ticks([0,.2,.4,.6,.8,1])\n",
    "cbar_labels=plt.getp(cbar.ax.axes,'xticklabels')\n",
    "plt.setp(cbar_labels,fontsize=tick_font)\n",
    "#m.contour(x,y,land_mask[:NLAT_half,:],[0,1],colors='w')\n",
    "m.contour(x,y,CN_Feb,[0.3],colors='w')\n",
    "# obs:\n",
    "m.contour(xobs,yobs,CN_obs_SH[3-1],[0.3],colors='r')\n",
    "\n",
    "plt.tight_layout()\n",
    "\n",
    "# savefigure('Antarctic_concentration_map_Feb')"
   ]
  },
  {
   "cell_type": "markdown",
   "metadata": {},
   "source": [
    "### Antarctic model and obs concentration maps, Sep"
   ]
  },
  {
   "cell_type": "code",
   "execution_count": null,
   "metadata": {},
   "outputs": [],
   "source": [
    "plt.figure(4,(12,7))\n",
    "plt.clf()\n",
    "\n",
    "plt.subplot(1,2,1)\n",
    "m = Basemap(projection ='spstere',boundinglat=-54,lon_0=180,resolution='l')\n",
    "m.drawmapboundary(fill_color='gray') # background color - for non-ocean areas\n",
    "x,y = m(*(lon_t[:NLAT_half,:],lat_t[:NLAT_half,:]))\n",
    "xobs,yobs = m(*(obs_lon_SH,obs_lat_SH))\n",
    "ctr = m.contourf(x,y,CN_Sep[:NLAT_half,:],levels=levels,cmap='viridis', extend='max')\n",
    "ctr.cmap.set_over(color='y', alpha=None)\n",
    "# plt.title('September min, yrs '+str(last_year-(n_years-1))+'-'+\n",
    "# \tstr(last_year),font,y=1.03)\n",
    "plt.title('September max, model',font,y=1.03)\n",
    "cbar = m.colorbar(ctr, location = 'bottom', pad = \"6%\")\n",
    "cbar.set_label('Ice concentration',size=tick_font)\n",
    "cbar.set_ticks([0,.2,.4,.6,.8,1])\n",
    "cbar_labels=plt.getp(cbar.ax.axes,'xticklabels')\n",
    "plt.setp(cbar_labels,fontsize=tick_font)\n",
    "#m.contour(x,y,land_mask[:NLAT_half,:],[0,1],colors='w')\n",
    "m.contour(x,y,CN_Sep[:NLAT_half,:],[0.3],colors='w')\n",
    "# obs:\n",
    "m.contour(xobs,yobs,CN_obs_SH[9-1],[0.3],colors='r')\n",
    "\n",
    "plt.subplot(1,2,2)\n",
    "m = Basemap(projection ='spstere',boundinglat=-54,lon_0=180,resolution='l')\n",
    "m.drawmapboundary(fill_color='gray') # background color - for non-ocean areas\n",
    "ctr = m.contourf(xobs,yobs,CN_obs_SH[9-1],levels=levels,cmap='viridis', extend='max')\n",
    "ctr.cmap.set_over(color='y', alpha=None)\n",
    "# plt.title('September max, yrs '+str(last_year-(n_years-1))+'-'+\n",
    "# \tstr(last_year),font,y=1.03)\n",
    "plt.title('September max, obs',font,y=1.03)\n",
    "cbar = m.colorbar(ctr, location = 'bottom', pad = \"6%\")\n",
    "cbar.set_label('Ice concentration',size=tick_font)\n",
    "cbar.set_ticks([0,.2,.4,.6,.8,1])\n",
    "cbar_labels=plt.getp(cbar.ax.axes,'xticklabels')\n",
    "plt.setp(cbar_labels,fontsize=tick_font)\n",
    "#m.contour(x,y,land_mask[:NLAT_half,:],[0,1],colors='w')\n",
    "m.contour(x,y,CN_Sep[:NLAT_half,:],[0.3],colors='w')\n",
    "# obs:\n",
    "m.contour(xobs,yobs,CN_obs_SH[9-1],[0.3],colors='r')\n",
    "\n",
    "plt.tight_layout()\n",
    "\n",
    "# savefigure('Antarctic_concentration_map_Sep')"
   ]
  },
  {
   "cell_type": "markdown",
   "metadata": {},
   "source": [
    "## Thickness maps"
   ]
  },
  {
   "cell_type": "raw",
   "metadata": {},
   "source": [
    "# Arctic\n",
    "months = [9, 12, 3, 6]  # which months to plot (Jan=1)\n",
    "one_plot = False  # True: one file with many panels; False: many one-panel files\n",
    "\n",
    "if one_plot:\n",
    "    plt.figure(4,(8*len(months),8*n_years))\n",
    "else:\n",
    "    plt.figure(4,(8,8))\n",
    "\n",
    "plt.clf()\n",
    "\n",
    "time = []\n",
    "mo = 0\n",
    "for month in tqdm_notebook(months, leave=False):\n",
    "    n = 0\n",
    "    for IceFile in tqdm_notebook([f for f in dataFileList[firstfile:firstfile+n_files] if f.endswith('-'+str(month).zfill(2)+'.nc')], leave=False):\n",
    "        year = int(int(total_years)-n_years+n+1)\n",
    "        ncFile = nc.Dataset(IceFile, 'r')\n",
    "        HI = ncFile.variables['hi_m'][0,...]\n",
    "        if one_plot:\n",
    "            plt.subplot(n_years,len(months),n*len(months)+mo+1)\n",
    "        m = Basemap(projection ='npstere',boundinglat=48,lon_0=0,resolution='l')\n",
    "        m.drawmapboundary(fill_color='gray') # background color - for non-ocean areas\n",
    "        x,y = m(*(lon_t[NLAT_half:,:],lat_t[NLAT_half:,:]))\n",
    "        xobs,yobs = m(*(obs_lon_NH,obs_lat_NH))\n",
    "        ctr = m.contourf(x,y,HI[NLAT_half:,:],levels=np.arange(0,7.1,.1),cmap='viridis', extend='max')\n",
    "        ctr.cmap.set_over(color='w', alpha=None)\n",
    "        plt.title(month_abbr[month]+' year '+str(year),font,y=1.03)\n",
    "        cbar = m.colorbar(ctr, location = 'bottom', pad = \"6%\")\n",
    "        cbar.set_label('Ice thickness (m)',size=tick_font)\n",
    "        cbar.set_ticks(range(8))\n",
    "        cbar_labels=plt.getp(cbar.ax.axes,'xticklabels')\n",
    "        plt.setp(cbar_labels,fontsize=tick_font)\n",
    "        # obs:\n",
    "        m.contour(xobs,yobs,CN_obs_NH[month-1],[0.3],colors='r')\n",
    "#         plt.tight_layout()\n",
    "        if not(one_plot):\n",
    "#             savefigure('Arctic_thickness_map_month_'+str(month).zfill(2)+'_year_'+str(year).zfill(4))\n",
    "            plt.close()\n",
    "            plt.figure(4,(8,8))\n",
    "        n = n + 1  # enumerate doesn't work with tqdm\n",
    "    mo = mo + 1  # enumerate doesn't work with tqdm\n",
    "ncFile.close()\n",
    "\n",
    "if one_plot:\n",
    "#     plt.tight_layout()\n",
    "#     savefigure('Arctic_thickness_maps')\n",
    "\n"
   ]
  },
  {
   "cell_type": "raw",
   "metadata": {},
   "source": [
    "# Antarctic\n",
    "months = [9, 12, 3, 6]  # which months to plot (Jan=1)\n",
    "one_plot = True  # True: one file with many panels; False: many one-panel files\n",
    "\n",
    "if one_plot:\n",
    "    plt.figure(4,(8*len(months),8*n_years))\n",
    "else:\n",
    "    plt.figure(4,(8,8))\n",
    "\n",
    "plt.clf()\n",
    "\n",
    "time = []\n",
    "mo = 0\n",
    "for month in tqdm_notebook(months, leave=False):\n",
    "    n = 0\n",
    "    for IceFile in tqdm_notebook([f for f in dataFileList[firstfile:firstfile+n_files] if f.endswith('-'+str(month).zfill(2)+'.nc')], leave=False):\n",
    "        year = int(int(total_years)-n_years+n+1)\n",
    "        ncFile = nc.Dataset(IceFile,'r')\n",
    "        HI = ncFile.variables['hi_m'][0,...]\n",
    "        if one_plot:\n",
    "            plt.subplot(n_years,len(months),n*len(months)+mo+1)\n",
    "#         m = Basemap(projection ='spstere',boundinglat=-55,lon_0=0,resolution='l')\n",
    "        m = Basemap(projection ='spstere',boundinglat=-50,lon_0=180,resolution='l',round='True')\n",
    "        m.drawmapboundary(fill_color='gray') # background color - for non-ocean areas\n",
    "        x,y = m(*(lon_t[:NLAT_half,:],lat_t[:NLAT_half,:]))\n",
    "        xobs,yobs = m(*(obs_lon_SH,obs_lat_SH))\n",
    "        ctr = m.contourf(x,y,HI[:NLAT_half,:],levels=np.arange(0,4.1,.1),cmap='viridis', extend='max')\n",
    "        ctr.cmap.set_over(color='w', alpha=None)\n",
    "        plt.title(month_abbr[month]+' year '+str(year),font,y=1.03)\n",
    "        cbar = m.colorbar(ctr, location = 'bottom', pad = \"6%\")\n",
    "        cbar.set_label('Ice thickness (m)',size=tick_font)\n",
    "        cbar.set_ticks(range(4))\n",
    "        cbar_labels=plt.getp(cbar.ax.axes,'xticklabels')\n",
    "        plt.setp(cbar_labels,fontsize=tick_font)\n",
    "        # obs:\n",
    "        m.contour(xobs,yobs,CN_obs_SH[month-1],[0.3],colors='r')\n",
    "#         plt.tight_layout()\n",
    "        if not(one_plot):\n",
    "#             savefigure('Antarctic_thickness_map_month_'+str(month).zfill(2)+'_year_'+str(year).zfill(4))\n",
    "            plt.close()\n",
    "            plt.figure(4,(8,8))\n",
    "        n = n + 1  # enumerate doesn't work with tqdm\n",
    "    mo = mo + 1  # enumerate doesn't work with tqdm\n",
    "ncFile.close()\n",
    "\n",
    "# if one_plot:\n",
    "# #     plt.tight_layout()\n",
    "#     savefigure('Antarctic_thickness_maps')\n",
    "\n"
   ]
  },
  {
   "cell_type": "markdown",
   "metadata": {},
   "source": [
    "# REDUNDANT - set to raw to disable execution"
   ]
  },
  {
   "cell_type": "raw",
   "metadata": {},
   "source": [
    "# Arctic March:\n",
    "CN_obs_Mar_NH = 0\n",
    "# length of climatology:\n",
    "obs_Mar_list = [IceFile for IceFile in obsNHFileList if (IceFile.find('03_v0')>0 and \n",
    "    IceFile.find('nh_f')>0 and float(IceFile[-16:-12])>1987 and \\\n",
    "    float(IceFile[-16:-12])<1998)] \n",
    "n_yrs = len(obs_Mar_list)\n",
    "for IceFile in obs_Mar_list:\n",
    "#     print('opening '+IceFile)\n",
    "    ncFile = nc.Dataset(IceFile)\n",
    "    CN_obs_Mar_NH = CN_obs_Mar_NH + ncFile.variables['seaice_conc_monthly_cdr'][0,...]\n",
    "obs_lat_NH = ncFile.variables['latitude'][...]\n",
    "obs_lon_NH = ncFile.variables['longitude'][...]\n",
    "# divide by n_yrs and mask land / arctic pole hole:\n",
    "CN_obs_Mar_NH = np.ma.masked_where(CN_obs_Mar_NH<0,CN_obs_Mar_NH) / n_yrs\n",
    "CN_obs_Mar_NH = np.ma.masked_where(CN_obs_Mar_NH>2,CN_obs_Mar_NH)\n",
    "\n",
    "# Arctic September:\n",
    "CN_obs_Sep_NH = 0\n",
    "# length of climatology:\n",
    "obs_Sep_list = [IceFile for IceFile in obsNHFileList if (IceFile.find('09_v0')>0 and \n",
    "    IceFile.find('nh_f')>0 and float(IceFile[-16:-12])>1987 and \\\n",
    "    float(IceFile[-16:-12])<1998)] \n",
    "n_yrs = len(obs_Sep_list)\n",
    "for IceFile in obs_Sep_list:\n",
    "#     print('opening '+IceFile)\n",
    "    ncFile = nc.Dataset(IceFile)\n",
    "    CN_obs_Sep_NH = CN_obs_Sep_NH + ncFile.variables['seaice_conc_monthly_cdr'][0,...]\n",
    "# divide by n_yrs and mask land / arctic pole hole:\n",
    "CN_obs_Sep_NH = np.ma.masked_where(CN_obs_Sep_NH<0,CN_obs_Sep_NH) / n_yrs\n",
    "CN_obs_Sep_NH = np.ma.masked_where(CN_obs_Sep_NH>2,CN_obs_Sep_NH)\n",
    "\n",
    "# Antarctic September:\n",
    "CN_obs_Sep_SH = 0\n",
    "# length of climatology:\n",
    "obs_Sep_list = [IceFile for IceFile in obsSHFileList if (IceFile.find('09_v0')>0 and \n",
    "    IceFile.find('sh_f')>0 and float(IceFile[-16:-12])>1987 and \\\n",
    "    float(IceFile[-16:-12])<1998)] \n",
    "n_yrs = len(obs_Sep_list)\n",
    "for IceFile in obs_Sep_list:\n",
    "#     print('opening '+IceFile)\n",
    "    ncFile = nc.Dataset(IceFile)\n",
    "    CN_obs_Sep_SH = CN_obs_Sep_SH + ncFile.variables['seaice_conc_monthly_cdr'][0,...]\n",
    "obs_lat_SH = ncFile.variables['latitude'][...]\n",
    "obs_lon_SH = ncFile.variables['longitude'][...]\n",
    "# divide by n_yrs and mask land / arctic pole hole:\n",
    "CN_obs_Sep_SH = np.ma.masked_where(CN_obs_Sep_SH<0,CN_obs_Sep_SH) / n_yrs\n",
    "CN_obs_Sep_SH = np.ma.masked_where(CN_obs_Sep_SH>2,CN_obs_Sep_SH)\n",
    "\n",
    "# Antarctic February:\n",
    "CN_obs_Feb_SH = 0\n",
    "# length of climatology:\n",
    "obs_Feb_list = [IceFile for IceFile in obsSHFileList if (IceFile.find('02_v0')>0 and \n",
    "    IceFile.find('sh_f')>0 and float(IceFile[-16:-12])>1987 and \\\n",
    "    float(IceFile[-16:-12])<1998)] \n",
    "n_yrs = len(obs_Feb_list)\n",
    "for IceFile in obs_Feb_list:\n",
    "#     print('opening '+IceFile)\n",
    "    ncFile = nc.Dataset(IceFile)\n",
    "    CN_obs_Feb_SH = CN_obs_Feb_SH + ncFile.variables['seaice_conc_monthly_cdr'][0,...]\n",
    "# divide by n_yrs and mask land / arctic pole hole:\n",
    "CN_obs_Feb_SH = np.ma.masked_where(CN_obs_Feb_SH<0,CN_obs_Feb_SH) / n_yrs\n",
    "CN_obs_Feb_SH = np.ma.masked_where(CN_obs_Feb_SH>2,CN_obs_Feb_SH)"
   ]
  },
  {
   "cell_type": "markdown",
   "metadata": {},
   "source": [
    "## Sea ice volume timeseries"
   ]
  },
  {
   "cell_type": "raw",
   "metadata": {},
   "source": [
    "NH_ice_volume = []\n",
    "SH_ice_volume = []\n",
    "time = []\n",
    "for IceFile in tqdm_notebook(dataFileList, leave=False):\n",
    "    ncFile = nc.Dataset(IceFile)\n",
    "    HI = ncFile.variables['hi_m'][...]\n",
    "    time_temp = ncFile.variables['time'][...]\n",
    "    volume_temp = np.sum(HI*area_t,axis=-1)\n",
    "    NH_ice_volume = np.append(NH_ice_volume,np.sum(volume_temp[:,NLAT_half:],axis=-1))\n",
    "    SH_ice_volume = np.append(SH_ice_volume,np.sum(volume_temp[:,:NLAT_half],axis=-1))\n",
    "    time = np.append(time,time_temp)\n",
    "\n",
    "# do annual averages:\n",
    "n_yrs = int(len(time)/12)\n",
    "NH_annual_volume = np.zeros(n_yrs)\n",
    "SH_annual_volume = np.zeros(n_yrs)\n",
    "time_annual = np.zeros(n_yrs)\n",
    "for year in range(n_yrs):\n",
    "    NH_annual_volume[year] = np.mean(NH_ice_volume[year*12:(year+1)*12])\n",
    "    SH_annual_volume[year] = np.mean(SH_ice_volume[year*12:(year+1)*12])\n",
    "    time_annual[year] = np.mean(time[year*12:(year+1)*12])\n",
    "\n",
    "plt.figure(1,(12,5))\n",
    "plt.clf()\n",
    "plt.subplot(1,2,1)\n",
    "plt.plot(time/365+1,NH_ice_volume/1e12, color=(0.5,0.5,0.5))\n",
    "plt.plot(time_annual/365+1,NH_annual_volume/1e12)\n",
    "plt.xlabel('Year',font)\n",
    "plt.ylabel(r'ice volume (10$^{12}$ m$^3$)',font)\n",
    "plt.title('Arctic ice volume',font)\n",
    "plt.subplot(1,2,2)\n",
    "plt.plot(time/365+1,SH_ice_volume/1e12, color=(0.5,0.5,0.5))\n",
    "plt.plot(time_annual/365+1,SH_annual_volume/1e12)\n",
    "plt.xlabel('Year',font)\n",
    "plt.ylabel(r'ice volume (10$^{12}$ m$^3$)',font)\n",
    "plt.title('Antarctic ice volume',font)\n",
    "savefigure('ice_volume')"
   ]
  }
 ],
 "metadata": {
  "kernelspec": {
   "display_name": "Python [default]",
   "language": "python",
   "name": "python3"
  },
  "language_info": {
   "codemirror_mode": {
    "name": "ipython",
    "version": 3
   },
   "file_extension": ".py",
   "mimetype": "text/x-python",
   "name": "python",
   "nbconvert_exporter": "python",
   "pygments_lexer": "ipython3",
   "version": "3.6.6"
  }
 },
 "nbformat": 4,
 "nbformat_minor": 2
}
