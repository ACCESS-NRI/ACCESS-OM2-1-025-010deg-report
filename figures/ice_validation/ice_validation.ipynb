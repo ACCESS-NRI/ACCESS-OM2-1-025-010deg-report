{
 "cells": [
  {
   "cell_type": "markdown",
   "metadata": {},
   "source": [
    "# Sea Ice Validation for ACCESS-OM2_01\n",
    "TODO: compare thickness with cryosat data\n",
    "TODO: check if obs data is readable by others - move it to hh5?"
   ]
  },
  {
   "cell_type": "markdown",
   "metadata": {},
   "source": [
    "Fields in CICE output .nc files have ni, nj coords without dimensions which makes things awkward...\n",
    "TODO: give CICE fields the dimensions from MOM grid file?"
   ]
  },
  {
   "cell_type": "code",
   "execution_count": 46,
   "metadata": {},
   "outputs": [
    {
     "data": {
      "application/javascript": [
       "IPython.OutputArea.prototype._should_scroll = function(lines) {\n",
       "    return false;\n",
       "}"
      ],
      "text/plain": [
       "<IPython.core.display.Javascript object>"
      ]
     },
     "metadata": {},
     "output_type": "display_data"
    }
   ],
   "source": [
    "%%javascript\n",
    "IPython.OutputArea.prototype._should_scroll = function(lines) {\n",
    "    return false;\n",
    "}"
   ]
  },
  {
   "cell_type": "code",
   "execution_count": 77,
   "metadata": {},
   "outputs": [
    {
     "name": "stdout",
     "output_type": "stream",
     "text": [
      "Available exptdata keys:  ['1deg', '025deg', '01deg']\n"
     ]
    }
   ],
   "source": [
    "%matplotlib inline\n",
    "import cosima_cookbook as cc\n",
    "from glob import glob\n",
    "import os,sys\n",
    "import matplotlib.pyplot as plt\n",
    "import matplotlib.colors as colors\n",
    "import numpy as np\n",
    "import xarray as xr\n",
    "import netCDF4 as nc\n",
    "from tqdm import tqdm_notebook\n",
    "from mpl_toolkits.basemap import Basemap\n",
    "from calendar import month_abbr\n",
    "import cmocean as cm\n",
    "import pandas as pd\n",
    "import calendar\n",
    "import copy\n",
    "\n",
    "import sys, os\n",
    "sys.path.append(os.path.join(os.getcwd(), '..'))  # so we can import ../exptdata\n",
    "import exptdata\n",
    "print('Available exptdata keys: ', [k for k in exptdata.exptdict.keys()])"
   ]
  },
  {
   "cell_type": "code",
   "execution_count": 48,
   "metadata": {},
   "outputs": [],
   "source": [
    "# ekey = '025deg' # applies to everything below"
   ]
  },
  {
   "cell_type": "code",
   "execution_count": 49,
   "metadata": {},
   "outputs": [
    {
     "name": "stdout",
     "output_type": "stream",
     "text": [
      "If the link to the dashboard below doesn't work, run this command on a local terminal to set up a SSH tunnel:\n",
      "\n",
      "  ssh -N -L 44331:127.0.0.1:44331 vdi-n11.nci.org.au -l aek156\n"
     ]
    },
    {
     "data": {
      "text/html": [
       "<table style=\"border: 2px solid white;\">\n",
       "<tr>\n",
       "<td style=\"vertical-align: top; border: 0px solid white\">\n",
       "<h3>Client</h3>\n",
       "<ul>\n",
       "  <li><b>Scheduler: </b>tcp://127.0.0.1:45623\n",
       "  <li><b>Dashboard: </b><a href='http://127.0.0.1:44331/status' target='_blank'>http://127.0.0.1:44331/status</a>\n",
       "</ul>\n",
       "</td>\n",
       "<td style=\"vertical-align: top; border: 0px solid white\">\n",
       "<h3>Cluster</h3>\n",
       "<ul>\n",
       "  <li><b>Workers: </b>4</li>\n",
       "  <li><b>Cores: </b>8</li>\n",
       "  <li><b>Memory: </b>24.00 GB</li>\n",
       "</ul>\n",
       "</td>\n",
       "</tr>\n",
       "</table>"
      ],
      "text/plain": [
       "<Client: scheduler='tcp://127.0.0.1:45623' processes=4 cores=8>"
      ]
     },
     "execution_count": 49,
     "metadata": {},
     "output_type": "execute_result"
    }
   ],
   "source": [
    "cc.start_cluster()"
   ]
  },
  {
   "cell_type": "code",
   "execution_count": 50,
   "metadata": {},
   "outputs": [],
   "source": [
    "# with_turning = False  # whether to just use the early runs that had nonzero ice turning angle\n",
    "figdir = ''\n",
    "def savefigure(fname):\n",
    "    plt.savefig(os.path.join(figdir, fname+'.png'),dpi=300, bbox_inches=\"tight\")  # comment out to disable saving\n",
    "    plt.savefig(os.path.join(figdir, fname+'.pdf'),dpi=300, bbox_inches=\"tight\")  # comment out to disable saving\n",
    "    return"
   ]
  },
  {
   "cell_type": "code",
   "execution_count": 147,
   "metadata": {},
   "outputs": [],
   "source": [
    "font = {'size':13}\n",
    "tick_font=12"
   ]
  },
  {
   "cell_type": "code",
   "execution_count": 52,
   "metadata": {},
   "outputs": [],
   "source": [
    "# cc.build_index()"
   ]
  },
  {
   "cell_type": "code",
   "execution_count": 53,
   "metadata": {},
   "outputs": [],
   "source": [
    "use_cache = True"
   ]
  },
  {
   "cell_type": "code",
   "execution_count": 54,
   "metadata": {},
   "outputs": [],
   "source": [
    "# define start and end dates for all runs\n",
    "tstart = pd.to_datetime('1985', format='%Y')\n",
    "tend = tstart + pd.DateOffset(years=15)"
   ]
  },
  {
   "cell_type": "code",
   "execution_count": 228,
   "metadata": {},
   "outputs": [],
   "source": [
    "# define start and end dates for all runs\n",
    "tstart = pd.to_datetime('1990', format='%Y')\n",
    "tend = tstart + pd.DateOffset(years=10)"
   ]
  },
  {
   "cell_type": "raw",
   "metadata": {},
   "source": [
    "# define start and end dates to be a fixed number of years at the end of each run\n",
    "\n",
    "clim_years = 15  # how many years to use for model climatology\n",
    "\n",
    "expt = exptdata.exptdict[ekey]['expt']\n",
    "# exptdir = exptdata.exptdict['01deg']['exptdir']\n",
    "tmp = cc.get_nc_variable(expt, 'iceh.????-??.nc', 'vicen_m', time_units = exptdata.exptdict[ekey]['time_units'], \n",
    "                     use_cache=use_cache, n=-1)\n",
    "tenddata = tmp['time'].data[-1]  # final time in model data\n",
    "finalyear = pd.to_datetime(tenddata).year\n",
    "tend = pd.to_datetime(str(finalyear), format='%Y')  # start of final calendar year\n",
    "tstart = tend - pd.DateOffset(years=clim_years)  # start of climatology"
   ]
  },
  {
   "cell_type": "code",
   "execution_count": 229,
   "metadata": {},
   "outputs": [
    {
     "name": "stdout",
     "output_type": "stream",
     "text": [
      "1990-1999\n",
      "tstart =  1990-01-01 00:00:00\n",
      "tend =  2000-01-01 00:00:00\n"
     ]
    }
   ],
   "source": [
    "firstyear = pd.to_datetime(tstart).year  # assumes tstart is 1 January!\n",
    "lastyear = pd.to_datetime(tend).year-1  # assumes tend is 1 January!\n",
    "yearrange = str(firstyear)+'-'+str(lastyear)\n",
    "print(yearrange)\n",
    "print('tstart = ', tstart)\n",
    "print('tend = ', tend)"
   ]
  },
  {
   "cell_type": "code",
   "execution_count": 56,
   "metadata": {},
   "outputs": [],
   "source": [
    "ObsDir = '/g/data1a/v45/aek156/data/NOAA/G02202_V3'  # from http://nsidc.org/data/G02202\n",
    "ObsDirExt = '/g/data1a/v45/aek156/data/NOAA/G02135'  # from http://nsidc.org/data/g02135\n",
    "obsNHFileList = glob(os.path.join(ObsDir, 'north/monthly/*.nc'))\n",
    "obsSHFileList = glob(os.path.join(ObsDir, 'south/monthly/*.nc'))\n",
    "obsExtNHFileList = glob(os.path.join(ObsDirExt, 'north/monthly/data/*.csv'))\n",
    "obsExtSHFileList = glob(os.path.join(ObsDirExt, 'south/monthly/data/*.csv'))\n",
    "obsNHFileList.sort()\n",
    "obsSHFileList.sort()\n",
    "obsExtNHFileList.sort()\n",
    "obsExtSHFileList.sort()"
   ]
  },
  {
   "cell_type": "code",
   "execution_count": 226,
   "metadata": {},
   "outputs": [],
   "source": [
    "def loaddata(ekey):\n",
    "    global vicen_m, aice_m, hi_m, aice_m_monthly_mean, lon_t, lat_t, area_t, NLAT_half\n",
    "    expt = exptdata.exptdict[ekey]['expt']\n",
    "    exptdir = exptdata.exptdict[ekey]['exptdir']\n",
    "    time_units = exptdata.exptdict[ekey]['time_units']\n",
    "#     tmp = cc.get_nc_variable(expt, 'iceh.????-??.nc', 'vicen_m', time_units=time_units, \n",
    "#                              use_cache=use_cache)\n",
    "#     print(tmp['time'].data[0])\n",
    "#     print(tmp['time'].data[-1])\n",
    "\n",
    "    vicen_m = cc.get_nc_variable(expt, 'iceh.????-??.nc', 'vicen_m', time_units=time_units, \n",
    "                             use_cache=use_cache, n=-500).sel(time=slice(tstart,tend))\n",
    "    aice_m = cc.get_nc_variable(expt, 'iceh.????-??.nc', 'aice_m', time_units=time_units, \n",
    "                             use_cache=use_cache, n=-500).sel(time=slice(tstart,tend))\n",
    "    hi_m = cc.get_nc_variable(expt, 'iceh.????-??.nc', 'hi_m', time_units=time_units, \n",
    "                             use_cache=use_cache, n=-500).sel(time=slice(tstart,tend))\n",
    "    \n",
    "    aice_m_monthly_mean = aice_m.groupby('time.month').mean('time', skipna=True)\n",
    "\n",
    "    # get model grid data:\n",
    "    # TODO: get these from CICE output file instead\n",
    "    gridFileList = glob(os.path.join(exptdir, 'output*/ocean/ocean_grid.nc'))\n",
    "    gridFileList.sort()\n",
    "    ncFile = nc.Dataset(gridFileList[0],'r')\n",
    "#     xt_ocean = ncFile.variables['xt_ocean'][...]\n",
    "#     yt_ocean = ncFile.variables['yt_ocean'][...]\n",
    "    lon_t = ncFile.variables['geolon_t'][...]\n",
    "    lat_t = ncFile.variables['geolat_t'][...]\n",
    "    area_t = ncFile.variables['area_t'][...]\n",
    "    \n",
    "    NLAT_half = int(np.shape(area_t)[0]/2)\n",
    "#     ht = ncFile.variables['ht'][...]\n",
    "#     land_mask = np.copy(ht)\n",
    "#     land_mask[np.where(ht>30)] = 0\n",
    "#     land_mask[np.where(ht<=30)] = 1\n",
    "    ncFile.close()\n"
   ]
  },
  {
   "cell_type": "code",
   "execution_count": 58,
   "metadata": {},
   "outputs": [],
   "source": [
    "# loaddata(ekey)"
   ]
  },
  {
   "cell_type": "code",
   "execution_count": 59,
   "metadata": {},
   "outputs": [],
   "source": [
    "# for ekey in exptdata.exptdict.keys():\n",
    "#     if ekey=='01deg': # for testing\n",
    "#         loaddata(ekey)\n",
    "# #     if ekey=='01deg': # for testing\n",
    "# #         area_t = cc.get_nc_variable(expt, 'ocean_grid.nc', 'area_t', n=1, use_cache=use_cache)\n",
    "# #         xt_ocean = ncFile.variables['xt_ocean'][...]\n",
    "# #         yt_ocean = ncFile.variables['yt_ocean'][...]\n",
    "# #         lon_t = ncFile.variables['geolon_t'][...]\n",
    "# #         lat_t = ncFile.variables['geolat_t'][...]\n",
    "# #         area_t = ncFile.variables['area_t'][...]\n",
    "# #         NLAT_half = int(np.shape(area_t)[0]/2)\n",
    "# #         ht = ncFile.variables['ht'][...]\n",
    "# #         land_mask = np.copy(ht)\n",
    "# #         land_mask[np.where(ht>30)] = 0\n",
    "# #         land_mask[np.where(ht<=30)] = 1\n",
    "# # del(tmp)\n"
   ]
  },
  {
   "cell_type": "markdown",
   "metadata": {},
   "source": [
    "## Sea ice volume timeseries, broken down by category\n",
    "`vicen_m(time, nc, nj, ni)`\n",
    "\t\thas units = \"m\",\n",
    "so need to multiply by `area_t` to get volume.\n",
    "`nc` is number of ice categories.\n",
    "\n",
    "We use kcatbound=0, so lower bound of ice categories is 0, 0.64, 1.39, 2.47, 4.57m (HunkeLipscombTurnerJefferyElliott2015a-CICE5p1, table 2).\n",
    "\n",
    "Much of the Arctic ice volume (not area) is >4.57m thick, including in the summer minimum."
   ]
  },
  {
   "cell_type": "code",
   "execution_count": 60,
   "metadata": {},
   "outputs": [],
   "source": [
    "def calcvol():\n",
    "# WARNING - this can take several minutes\n",
    "    global NH_ice_volume, SH_ice_volume\n",
    "    volume = vicen_m*area_t # vicen_m(time, nc, nj, ni) has units = \"m\", so need to multiply by `area_t` to get volume.\n",
    "    volume_zonalsum = volume.sum(axis=-1).compute()  # do this once for both NH & SH\n",
    "    NH_ice_volume = volume_zonalsum.isel(nj=slice(NLAT_half,np.shape(area_t)[0])).sum(axis=-1)\n",
    "    SH_ice_volume = volume_zonalsum.isel(nj=slice(0,NLAT_half)).sum(axis=-1)"
   ]
  },
  {
   "cell_type": "code",
   "execution_count": 61,
   "metadata": {},
   "outputs": [],
   "source": [
    "def plotvol(v):\n",
    "    for c in range(len(v['nc'])):\n",
    "        plt.plot(v['time'],v.isel(nc=c)/1e12, color='C'+str(c), linewidth=1, label='Category '+str(c+1))\n",
    "        plt.plot(v['time'],\n",
    "                 v.rolling(time=12, center=True).mean().isel(nc=c)/1e12, # 12-month rolling mean\n",
    "                 color='C'+str(c), linewidth=2)\n",
    "#     total\n",
    "#     plt.plot(v['time'],v.sum(axis=-1)/1e12, color='k', linewidth=1, label='Total')\n",
    "#     plt.plot(v['time'][6:-5],\n",
    "#              v.rolling(time=12, center=True).mean().sum(axis=-1)[6:-5]/1e12,  # 12-month rolling mean\n",
    "#              color='k', linewidth=2)\n",
    "    plt.ylim(ymin=0)\n",
    "    plt.xlabel('Year',font)\n",
    "    plt.ylabel(r'Ice volume (10$^{12}$ m$^3$)',font)"
   ]
  },
  {
   "cell_type": "code",
   "execution_count": 62,
   "metadata": {},
   "outputs": [],
   "source": [
    "def plotvolcumul(v):\n",
    "    v = v.cumsum(axis=-1)\n",
    "    for c in range(len(v['nc'])):\n",
    "        plt.plot(v['time'],v.isel(nc=c)/1e12, color='C'+str(c), linewidth=1, label='Category '+'+'.join([str(f+1) for f in range(c+1)]))\n",
    "        plt.plot(v['time'],\n",
    "                 v.rolling(time=12, center=True).mean().isel(nc=c)/1e12, # 12-month rolling mean\n",
    "                 color='C'+str(c), linewidth=2)\n",
    "    plt.ylim(ymin=0)\n",
    "    plt.xlabel('Year',font)\n",
    "    plt.ylabel(r'Ice volume (10$^{12}$ m$^3$)',font)"
   ]
  },
  {
   "cell_type": "code",
   "execution_count": 63,
   "metadata": {},
   "outputs": [],
   "source": [
    "def plotvolNHSH():\n",
    "    plt.figure(1,(12,5))\n",
    "    plt.clf()\n",
    "\n",
    "    plt.subplot(1,2,1)\n",
    "    plotvol(NH_ice_volume)\n",
    "    plt.title('Arctic ice volume, '+exptdata.exptdict[ekey]['desc'],font)\n",
    "\n",
    "    plt.subplot(1,2,2)\n",
    "    plotvol(SH_ice_volume)\n",
    "    plt.title('Arctic ice volume, '+exptdata.exptdict[ekey]['desc'],font)\n",
    "    plt.legend(prop=font,loc='upper left', bbox_to_anchor=(1, 1))\n",
    "\n",
    "    plt.tight_layout()\n",
    "\n",
    "    savefigure('ice_volume_categories_'+ekey)"
   ]
  },
  {
   "cell_type": "code",
   "execution_count": 64,
   "metadata": {},
   "outputs": [],
   "source": [
    "def plotvolcumulNHSH():\n",
    "    plt.figure(1,(12,5))\n",
    "    plt.clf()\n",
    "\n",
    "    plt.subplot(1,2,1)\n",
    "    plotvolcumul(NH_ice_volume)\n",
    "    plt.title('Arctic ice volume, '+exptdata.exptdict[ekey]['desc'],font)\n",
    "\n",
    "    plt.subplot(1,2,2)\n",
    "    plotvolcumul(SH_ice_volume)\n",
    "    plt.title('Arctic ice volume, '+exptdata.exptdict[ekey]['desc'],font)\n",
    "    plt.legend(prop=font,loc='upper left', bbox_to_anchor=(1, 1))\n",
    "\n",
    "    plt.tight_layout()\n",
    "\n",
    "    savefigure('ice_volume_categories_cumulative'+ekey)"
   ]
  },
  {
   "cell_type": "code",
   "execution_count": 65,
   "metadata": {},
   "outputs": [
    {
     "name": "stdout",
     "output_type": "stream",
     "text": [
      "1deg\n",
      "Reading from cache file cache_get_nc_variable_1deg_jra55v13_iaf_spinup1_A_iceh.????-??.nc_vicen_m_-500_days-since-1718-01-01_None_False.pkl\n",
      "Reading from cache file cache_get_nc_variable_1deg_jra55v13_iaf_spinup1_A_iceh.????-??.nc_aice_m_-500_days-since-1718-01-01_None_False.pkl\n",
      "Reading from cache file cache_get_nc_variable_1deg_jra55v13_iaf_spinup1_A_iceh.????-??.nc_hi_m_-500_days-since-1718-01-01_None_False.pkl\n",
      "025deg\n",
      "Reading from cache file cache_get_nc_variable_025deg_jra55v13_iaf_iceh.????-??.nc_vicen_m_-500_days-since-1718-01-01_None_False.pkl\n",
      "Reading from cache file cache_get_nc_variable_025deg_jra55v13_iaf_iceh.????-??.nc_aice_m_-500_days-since-1718-01-01_None_False.pkl\n",
      "Reading from cache file cache_get_nc_variable_025deg_jra55v13_iaf_iceh.????-??.nc_hi_m_-500_days-since-1718-01-01_None_False.pkl\n",
      "01deg\n",
      "Reading from cache file cache_get_nc_variable_01deg_jra55v13_iaf_iceh.????-??.nc_vicen_m_-500_days-since-1985-01-01_None_False.pkl\n",
      "Reading from cache file cache_get_nc_variable_01deg_jra55v13_iaf_iceh.????-??.nc_aice_m_-500_days-since-1985-01-01_None_False.pkl\n",
      "Reading from cache file cache_get_nc_variable_01deg_jra55v13_iaf_iceh.????-??.nc_hi_m_-500_days-since-1985-01-01_None_False.pkl\n"
     ]
    },
    {
     "data": {
      "image/png": "[encoded data removed]",
      "text/plain": [
       "<Figure size 864x360 with 2 Axes>"
      ]
     },
     "metadata": {},
     "output_type": "display_data"
    }
   ],
   "source": [
    "# make plots for all resolutions\n",
    "ice_data = copy.deepcopy(exptdata.exptdict)  # to store ice fields under the same keys as exptdata.exptdict\n",
    "for ekey in ice_data.keys():\n",
    "    print(ekey)\n",
    "    loaddata(ekey)\n",
    "    calcvol()\n",
    "    plotvolNHSH()\n",
    "    plotvolcumulNHSH()\n",
    "    ice_data[ekey]['NH_ice_volume'] = NH_ice_volume\n",
    "    ice_data[ekey]['SH_ice_volume'] = SH_ice_volume    "
   ]
  },
  {
   "cell_type": "code",
   "execution_count": 66,
   "metadata": {},
   "outputs": [
    {
     "name": "stderr",
     "output_type": "stream",
     "text": [
      "/g/data3/hh5/public/apps/miniconda3/envs/analysis3-18.04/lib/python3.6/site-packages/matplotlib/cbook/deprecation.py:107: MatplotlibDeprecationWarning: Adding an axes using the same arguments as a previous axes currently reuses the earlier instance.  In a future version, a new instance will always be created and returned.  Meanwhile, this warning can be suppressed, and the future behavior ensured, by passing a unique label to each axes instance.\n",
      "  warnings.warn(message, mplDeprecation, stacklevel=1)\n"
     ]
    },
    {
     "data": {
      "image/png": "[encoded data removed]",
      "text/plain": [
       "<Figure size 864x360 with 2 Axes>"
      ]
     },
     "metadata": {},
     "output_type": "display_data"
    }
   ],
   "source": [
    "# 12-mo running mean minimum, mean and maximum for all models\n",
    "plt.figure(1,(12,5))\n",
    "for c, ekey in enumerate(ice_data.keys()):\n",
    "    plt.subplot(1,2,1)\n",
    "    totvol = ice_data[ekey]['NH_ice_volume'].sum(axis=-1)/1e12\n",
    "    plt.plot(totvol['time'][6:-5],totvol.rolling(time=12, center=True).max()[6:-5], color='C'+str(c), linewidth=1, label=ice_data[ekey]['desc'])\n",
    "    plt.plot(totvol['time'][6:-5],totvol.rolling(time=12, center=True).mean()[6:-5], color='C'+str(c), linewidth=1)\n",
    "    plt.plot(totvol['time'][6:-5],totvol.rolling(time=12, center=True).min()[6:-5], color='C'+str(c), linewidth=1)\n",
    "\n",
    "    plt.subplot(1,2,2)\n",
    "    totvol = ice_data[ekey]['SH_ice_volume'].sum(axis=-1)/1e12\n",
    "    plt.plot(totvol['time'][6:-5],totvol.rolling(time=12, center=True).max()[6:-5], color='C'+str(c), linewidth=1, label=ice_data[ekey]['desc'])\n",
    "    plt.plot(totvol['time'][6:-5],totvol.rolling(time=12, center=True).mean()[6:-5], color='C'+str(c), linewidth=1)\n",
    "    plt.plot(totvol['time'][6:-5],totvol.rolling(time=12, center=True).min()[6:-5], color='C'+str(c), linewidth=1)\n",
    "\n",
    "plt.subplot(1,2,1)\n",
    "plt.ylim(ymin=0)\n",
    "plt.xlabel('Year',font)\n",
    "plt.ylabel(r'Ice volume (10$^{12}$ m$^3$)',font)\n",
    "plt.title('Arctic ice volume minimum, mean and maximum',font)\n",
    "plt.subplot(1,2,2)\n",
    "plt.ylim(ymin=0)\n",
    "plt.xlabel('Year',font)\n",
    "plt.ylabel(r'Ice volume (10$^{12}$ m$^3$)',font)\n",
    "plt.title('Antarctic ice volume minimum, mean and maximum',font)\n",
    "plt.legend(prop=font,loc='upper left', bbox_to_anchor=(1, 1))\n",
    "savefigure('ice_volume_min_mean_max_all')"
   ]
  },
  {
   "cell_type": "markdown",
   "metadata": {},
   "source": [
    "## Month-by-month concentration comparisons\n",
    "NB: pandas/xarray bug: can't handle Sept 1995 or Jan 1985 (hash failure of some sort)\n",
    "```\n",
    "Timestamp('1995-09-01 00:00:00')\n",
    "```\n",
    "\n",
    "TODO: fix plotting glitch on tripole seam"
   ]
  },
  {
   "cell_type": "code",
   "execution_count": 230,
   "metadata": {},
   "outputs": [],
   "source": [
    "def get_obs(obsFileList, years, months, variable='seaice_conc_monthly_cdr'):\n",
    "    '''\n",
    "    Return a dataarray from the nc files in obsFileList.\n",
    "    Based on get_nc_variable.\n",
    "    '''\n",
    "    dataarrays = []\n",
    "    for year in tqdm_notebook(years, leave=False, desc='year'):\n",
    "        for month in tqdm_notebook(months, leave=False, desc='month'):\n",
    "            obs_fname = [IceFile for IceFile in obsFileList if IceFile[-16:-10]==str(year)+str(month).zfill(2)][0]\n",
    "            dataarray = xr.open_dataset(obs_fname,\n",
    "                                        decode_times=False,\n",
    "                                        autoclose=True)[variable]\n",
    "            dataarrays.append(dataarray)\n",
    "    dataarray = xr.concat(dataarrays, dim='time', coords='all')\n",
    "    if 'time' in dataarray.coords:\n",
    "        time_units = dataarray.time.units\n",
    "        decoded_time = xr.conventions.times.decode_cf_datetime(dataarray.time, time_units)\n",
    "        dataarray.coords['time'] = ('time', decoded_time,\n",
    "                                    {'long_name': 'time', 'decoded_using': time_units }\n",
    "                                   )\n",
    "    return dataarray"
   ]
  },
  {
   "cell_type": "code",
   "execution_count": 231,
   "metadata": {},
   "outputs": [
    {
     "data": {
      "application/vnd.jupyter.widget-view+json": {
       "model_id": "",
       "version_major": 2,
       "version_minor": 0
      },
      "text/plain": [
       "HBox(children=(IntProgress(value=0, description='year', max=10), HTML(value='')))"
      ]
     },
     "metadata": {},
     "output_type": "display_data"
    },
    {
     "data": {
      "application/vnd.jupyter.widget-view+json": {
       "model_id": "",
       "version_major": 2,
       "version_minor": 0
      },
      "text/plain": [
       "HBox(children=(IntProgress(value=0, description='month', max=12), HTML(value='')))"
      ]
     },
     "metadata": {},
     "output_type": "display_data"
    },
    {
     "name": "stderr",
     "output_type": "stream",
     "text": [
      "/g/data3/hh5/public/apps/miniconda3/envs/analysis3-18.04/lib/python3.6/site-packages/xarray/conventions.py:362: SerializationWarning: variable 'melt_onset_day_seaice_conc_monthly_cdr' has multiple fill values {-1, 65535}, decoding all values to NaN.\n",
      "  stack_char_dim=stack_char_dim)\n"
     ]
    },
    {
     "data": {
      "application/vnd.jupyter.widget-view+json": {
       "model_id": "",
       "version_major": 2,
       "version_minor": 0
      },
      "text/plain": [
       "HBox(children=(IntProgress(value=0, description='month', max=12), HTML(value='')))"
      ]
     },
     "metadata": {},
     "output_type": "display_data"
    },
    {
     "data": {
      "application/vnd.jupyter.widget-view+json": {
       "model_id": "",
       "version_major": 2,
       "version_minor": 0
      },
      "text/plain": [
       "HBox(children=(IntProgress(value=0, description='month', max=12), HTML(value='')))"
      ]
     },
     "metadata": {},
     "output_type": "display_data"
    },
    {
     "data": {
      "application/vnd.jupyter.widget-view+json": {
       "model_id": "",
       "version_major": 2,
       "version_minor": 0
      },
      "text/plain": [
       "HBox(children=(IntProgress(value=0, description='month', max=12), HTML(value='')))"
      ]
     },
     "metadata": {},
     "output_type": "display_data"
    },
    {
     "data": {
      "application/vnd.jupyter.widget-view+json": {
       "model_id": "",
       "version_major": 2,
       "version_minor": 0
      },
      "text/plain": [
       "HBox(children=(IntProgress(value=0, description='month', max=12), HTML(value='')))"
      ]
     },
     "metadata": {},
     "output_type": "display_data"
    },
    {
     "data": {
      "application/vnd.jupyter.widget-view+json": {
       "model_id": "",
       "version_major": 2,
       "version_minor": 0
      },
      "text/plain": [
       "HBox(children=(IntProgress(value=0, description='month', max=12), HTML(value='')))"
      ]
     },
     "metadata": {},
     "output_type": "display_data"
    },
    {
     "data": {
      "application/vnd.jupyter.widget-view+json": {
       "model_id": "",
       "version_major": 2,
       "version_minor": 0
      },
      "text/plain": [
       "HBox(children=(IntProgress(value=0, description='month', max=12), HTML(value='')))"
      ]
     },
     "metadata": {},
     "output_type": "display_data"
    },
    {
     "data": {
      "application/vnd.jupyter.widget-view+json": {
       "model_id": "",
       "version_major": 2,
       "version_minor": 0
      },
      "text/plain": [
       "HBox(children=(IntProgress(value=0, description='month', max=12), HTML(value='')))"
      ]
     },
     "metadata": {},
     "output_type": "display_data"
    },
    {
     "data": {
      "application/vnd.jupyter.widget-view+json": {
       "model_id": "",
       "version_major": 2,
       "version_minor": 0
      },
      "text/plain": [
       "HBox(children=(IntProgress(value=0, description='month', max=12), HTML(value='')))"
      ]
     },
     "metadata": {},
     "output_type": "display_data"
    },
    {
     "data": {
      "application/vnd.jupyter.widget-view+json": {
       "model_id": "",
       "version_major": 2,
       "version_minor": 0
      },
      "text/plain": [
       "HBox(children=(IntProgress(value=0, description='month', max=12), HTML(value='')))"
      ]
     },
     "metadata": {},
     "output_type": "display_data"
    },
    {
     "data": {
      "application/vnd.jupyter.widget-view+json": {
       "model_id": "",
       "version_major": 2,
       "version_minor": 0
      },
      "text/plain": [
       "HBox(children=(IntProgress(value=0, description='year', max=10), HTML(value='')))"
      ]
     },
     "metadata": {},
     "output_type": "display_data"
    },
    {
     "data": {
      "application/vnd.jupyter.widget-view+json": {
       "model_id": "",
       "version_major": 2,
       "version_minor": 0
      },
      "text/plain": [
       "HBox(children=(IntProgress(value=0, description='month', max=12), HTML(value='')))"
      ]
     },
     "metadata": {},
     "output_type": "display_data"
    },
    {
     "name": "stderr",
     "output_type": "stream",
     "text": [
      "/g/data3/hh5/public/apps/miniconda3/envs/analysis3-18.04/lib/python3.6/site-packages/xarray/conventions.py:362: SerializationWarning: variable 'melt_onset_day_seaice_conc_monthly_cdr' has multiple fill values {-1, 65535}, decoding all values to NaN.\n",
      "  stack_char_dim=stack_char_dim)\n"
     ]
    },
    {
     "data": {
      "application/vnd.jupyter.widget-view+json": {
       "model_id": "",
       "version_major": 2,
       "version_minor": 0
      },
      "text/plain": [
       "HBox(children=(IntProgress(value=0, description='month', max=12), HTML(value='')))"
      ]
     },
     "metadata": {},
     "output_type": "display_data"
    },
    {
     "data": {
      "application/vnd.jupyter.widget-view+json": {
       "model_id": "",
       "version_major": 2,
       "version_minor": 0
      },
      "text/plain": [
       "HBox(children=(IntProgress(value=0, description='month', max=12), HTML(value='')))"
      ]
     },
     "metadata": {},
     "output_type": "display_data"
    },
    {
     "data": {
      "application/vnd.jupyter.widget-view+json": {
       "model_id": "",
       "version_major": 2,
       "version_minor": 0
      },
      "text/plain": [
       "HBox(children=(IntProgress(value=0, description='month', max=12), HTML(value='')))"
      ]
     },
     "metadata": {},
     "output_type": "display_data"
    },
    {
     "data": {
      "application/vnd.jupyter.widget-view+json": {
       "model_id": "",
       "version_major": 2,
       "version_minor": 0
      },
      "text/plain": [
       "HBox(children=(IntProgress(value=0, description='month', max=12), HTML(value='')))"
      ]
     },
     "metadata": {},
     "output_type": "display_data"
    },
    {
     "data": {
      "application/vnd.jupyter.widget-view+json": {
       "model_id": "",
       "version_major": 2,
       "version_minor": 0
      },
      "text/plain": [
       "HBox(children=(IntProgress(value=0, description='month', max=12), HTML(value='')))"
      ]
     },
     "metadata": {},
     "output_type": "display_data"
    },
    {
     "data": {
      "application/vnd.jupyter.widget-view+json": {
       "model_id": "",
       "version_major": 2,
       "version_minor": 0
      },
      "text/plain": [
       "HBox(children=(IntProgress(value=0, description='month', max=12), HTML(value='')))"
      ]
     },
     "metadata": {},
     "output_type": "display_data"
    },
    {
     "data": {
      "application/vnd.jupyter.widget-view+json": {
       "model_id": "",
       "version_major": 2,
       "version_minor": 0
      },
      "text/plain": [
       "HBox(children=(IntProgress(value=0, description='month', max=12), HTML(value='')))"
      ]
     },
     "metadata": {},
     "output_type": "display_data"
    },
    {
     "data": {
      "application/vnd.jupyter.widget-view+json": {
       "model_id": "",
       "version_major": 2,
       "version_minor": 0
      },
      "text/plain": [
       "HBox(children=(IntProgress(value=0, description='month', max=12), HTML(value='')))"
      ]
     },
     "metadata": {},
     "output_type": "display_data"
    },
    {
     "data": {
      "application/vnd.jupyter.widget-view+json": {
       "model_id": "",
       "version_major": 2,
       "version_minor": 0
      },
      "text/plain": [
       "HBox(children=(IntProgress(value=0, description='month', max=12), HTML(value='')))"
      ]
     },
     "metadata": {},
     "output_type": "display_data"
    }
   ],
   "source": [
    "years = range(firstyear, lastyear+1)\n",
    "months = range(1,13)\n",
    "\n",
    "CN_obs_NH = get_obs(obsNHFileList, years, months)\n",
    "CN_obs_SH = get_obs(obsSHFileList, years, months)"
   ]
  },
  {
   "cell_type": "code",
   "execution_count": 232,
   "metadata": {},
   "outputs": [],
   "source": [
    "CN_obs_NH_monthly_mean = CN_obs_NH.groupby('time.month').mean('time', skipna=True)\n",
    "CN_obs_SH_monthly_mean = CN_obs_SH.groupby('time.month').mean('time', skipna=True)\n"
   ]
  },
  {
   "cell_type": "code",
   "execution_count": 233,
   "metadata": {},
   "outputs": [],
   "source": [
    "levels = np.arange(0,1.01,.02)\n",
    "cmap_gamma = 4. # exponent for power-law stretch of colormap\n",
    "cbar_ticks = [ f**cmap_gamma for f in [0,.5,.6,.7,.8,.85,.9,.95,.98,1] ]\n",
    "clevel = 0.15"
   ]
  },
  {
   "cell_type": "code",
   "execution_count": 246,
   "metadata": {},
   "outputs": [],
   "source": [
    "def plot_NH_conc_model(m, x, y, model, xobs, yobs, obs):\n",
    "    m = Basemap(projection ='npstere',boundinglat=48,lon_0=0,resolution='l')\n",
    "    m.drawmapboundary(fill_color='gray') # background color - for non-ocean areas\n",
    "    ctr = m.contourf(x,y,model[NLAT_half:,:]**cmap_gamma,levels=levels,cmap=cm.cm.ice)\n",
    "    ctr.cmap.set_over(color='w', alpha=None)\n",
    "    cbar = m.colorbar(ctr, location = 'bottom', pad = \"6%\")\n",
    "    cbar.set_label('Ice concentration',size=tick_font)\n",
    "    cbar.set_ticks(cbar_ticks)\n",
    "    cbar.set_ticklabels([str(f**(1./cmap_gamma)) for f in cbar_ticks])\n",
    "    cbar_labels=plt.getp(cbar.ax.axes,'xticklabels')\n",
    "    plt.setp(cbar_labels,fontsize=tick_font)\n",
    "    cs = m.contour(x,y,model[NLAT_half:,:],[clevel],colors='g',linewidths=1)\n",
    "    cs.collections[0].set_label('model '+str(int(clevel*100))+'%')\n",
    "    cs = m.contour(xobs,yobs,obs,[clevel],colors='r',linewidths=1)\n",
    "    cs.collections[0].set_label('obs '+str(int(clevel*100))+'%')\n",
    "\n",
    "    parallels = np.arange(-80.,81,10.)\n",
    "    m.drawparallels(parallels,color='white',linewidth=0.5)\n",
    "    meridians = np.arange(0.,351.,30.)\n",
    "    m.drawmeridians(meridians,labels=[True,False,False,True],size=tick_font,color='white',linewidth=0.5)\n",
    "    plt.legend(prop={'size':11},loc='center right') #, bbox_to_anchor=(1, 1))"
   ]
  },
  {
   "cell_type": "code",
   "execution_count": 255,
   "metadata": {},
   "outputs": [],
   "source": [
    "def plot_SH_conc_model(m, x, y, model, xobs, yobs, obs):\n",
    "    m = Basemap(projection ='spstere',boundinglat=-54,lon_0=180,resolution='l')\n",
    "    m.drawmapboundary(fill_color='gray') # background color - for non-ocean areas\n",
    "    ctr = m.contourf(x,y,model[:NLAT_half,:]**cmap_gamma,levels=levels,cmap=cm.cm.ice)\n",
    "    ctr.cmap.set_over(color='w', alpha=None)\n",
    "    cbar = m.colorbar(ctr, location = 'bottom', pad = \"6%\")\n",
    "    cbar.set_label('Ice concentration',size=tick_font)\n",
    "    cbar.set_ticks(cbar_ticks)\n",
    "    cbar.set_ticklabels([str(f**(1./cmap_gamma)) for f in cbar_ticks])\n",
    "    cbar_labels=plt.getp(cbar.ax.axes,'xticklabels')\n",
    "    plt.setp(cbar_labels,fontsize=tick_font)\n",
    "    cs = m.contour(x,y,model[:NLAT_half,:],[clevel],colors='g',linewidths=1)\n",
    "    cs.collections[0].set_label('model '+str(int(clevel*100))+'%')\n",
    "    cs = m.contour(xobs,yobs,obs,[clevel],colors='r',linewidths=1)\n",
    "    cs.collections[0].set_label('obs '+str(int(clevel*100))+'%')\n",
    "\n",
    "    parallels = np.arange(-80.,81,10.)\n",
    "    m.drawparallels(parallels,color='white',linewidth=0.5)\n",
    "    meridians = np.arange(0.,351.,30.)\n",
    "    m.drawmeridians(meridians,labels=[True,False,False,True],size=tick_font,color='white',linewidth=0.5)\n",
    "    plt.legend(prop={'size':11},loc='center') #, bbox_to_anchor=(1, 1))"
   ]
  },
  {
   "cell_type": "code",
   "execution_count": 248,
   "metadata": {},
   "outputs": [],
   "source": [
    "def plot_NH_conc_obs(m,x, y, model, xobs, yobs, obs):\n",
    "    m = Basemap(projection ='npstere',boundinglat=48,lon_0=0,resolution='l')\n",
    "    m.drawmapboundary(fill_color='gray') # background color - for non-ocean areas\n",
    "    ctr = m.contourf(xobs,yobs,obs**cmap_gamma,levels=levels,cmap=cm.cm.ice)\n",
    "    ctr.cmap.set_over(color='w', alpha=None)\n",
    "    cbar = m.colorbar(ctr, location = 'bottom', pad = \"6%\")\n",
    "    cbar.set_label('Ice concentration',size=tick_font)\n",
    "    cbar.set_ticks(cbar_ticks)\n",
    "    cbar.set_ticklabels([str(f**(1./cmap_gamma)) for f in cbar_ticks])\n",
    "    cbar_labels=plt.getp(cbar.ax.axes,'xticklabels')\n",
    "    plt.setp(cbar_labels,fontsize=tick_font)\n",
    "    m.contour(xobs,yobs,obs,[clevel],colors='r',linewidths=1)\n",
    "    m.contour(x,y,model[NLAT_half:,:],[clevel],colors='g',linewidths=1)\n",
    "\n",
    "    parallels = np.arange(-80.,81,10.)\n",
    "    m.drawparallels(parallels,color='white',linewidth=0.5)\n",
    "    meridians = np.arange(0.,351.,30.)\n",
    "    m.drawmeridians(meridians,labels=[False,True,False,True],size=tick_font,color='white',linewidth=0.5)"
   ]
  },
  {
   "cell_type": "code",
   "execution_count": 249,
   "metadata": {},
   "outputs": [],
   "source": [
    "def plot_SH_conc_obs(m,x, y, model, xobs, yobs, obs):\n",
    "    m = Basemap(projection ='spstere',boundinglat=-54,lon_0=180,resolution='l')\n",
    "    m.drawmapboundary(fill_color='gray') # background color - for non-ocean areas\n",
    "    ctr = m.contourf(xobs,yobs,obs**cmap_gamma,levels=levels,cmap=cm.cm.ice)\n",
    "    ctr.cmap.set_over(color='w', alpha=None)\n",
    "    cbar = m.colorbar(ctr, location = 'bottom', pad = \"6%\")\n",
    "    cbar.set_label('Ice concentration',size=tick_font)\n",
    "    cbar.set_ticks(cbar_ticks)\n",
    "    cbar.set_ticklabels([str(f**(1./cmap_gamma)) for f in cbar_ticks])\n",
    "    cbar_labels=plt.getp(cbar.ax.axes,'xticklabels')\n",
    "    plt.setp(cbar_labels,fontsize=tick_font)\n",
    "    m.contour(xobs,yobs,obs,[clevel],colors='r',linewidths=1)\n",
    "    m.contour(x,y,model[:NLAT_half,:],[clevel],colors='g',linewidths=1)\n",
    "\n",
    "    parallels = np.arange(-80.,81,10.)\n",
    "    m.drawparallels(parallels,color='white',linewidth=0.5)\n",
    "    meridians = np.arange(0.,351.,30.)\n",
    "    m.drawmeridians(meridians,labels=[False,True,False,True],size=tick_font,color='white',linewidth=0.5)"
   ]
  },
  {
   "cell_type": "code",
   "execution_count": 262,
   "metadata": {},
   "outputs": [],
   "source": [
    "# Arctic ice concentration monthly means\n",
    "def plot_NH_conc_monthly_mean(ekey):\n",
    "    m = Basemap(projection ='npstere',boundinglat=48,lon_0=0,resolution='l')\n",
    "    x,y = m(*(lon_t[NLAT_half:,:],lat_t[NLAT_half:,:]))\n",
    "    xobs,yobs = m(*(CN_obs_NH.longitude.isel(time=1).data, CN_obs_NH.latitude.isel(time=1).data))\n",
    "\n",
    "    for mi, month in enumerate(months):\n",
    "        outname = ekey+'_concentration_map_NH_'+yearrange+'_'+str(month).zfill(2)+'_mean'\n",
    "        if os.path.exists(os.path.join(figdir, outname+'.png')):\n",
    "            print('Skipping ' + outname + ' (file exists)')\n",
    "        else:\n",
    "            print('Doing ' + outname)\n",
    "            try:\n",
    "                model = aice_m_monthly_mean.sel(month=mi+1)\n",
    "                obs = CN_obs_NH_monthly_mean.sel(month=mi+1)\n",
    "            except:\n",
    "                print('ERROR: could not open files')\n",
    "                continue\n",
    "            plt.figure(4,(12,7))\n",
    "\n",
    "            # plot model\n",
    "            plt.subplot(1,2,1)\n",
    "            plot_NH_conc_model(m, x, y, model, xobs, yobs, obs)\n",
    "            plt.title(calendar.month_name[month]+' '+yearrange+' mean, ' + exptdata.exptdict[ekey]['desc'], font)\n",
    "\n",
    "            # plot observations\n",
    "            plt.subplot(1,2,2)\n",
    "            plot_NH_conc_obs(m, x, y, model, xobs, yobs, obs)\n",
    "            plt.title(calendar.month_name[month]+' '+yearrange+' mean, observed', font) #, y=1.03)\n",
    "\n",
    "            plt.tight_layout()\n",
    "\n",
    "#             savefigure(outname)\n",
    "            plt.savefig(outname+'.png',dpi=200, bbox_inches=\"tight\")\n",
    "\n",
    "            plt.close()\n",
    "\n",
    "#         break"
   ]
  },
  {
   "cell_type": "code",
   "execution_count": 267,
   "metadata": {},
   "outputs": [],
   "source": [
    "# Antarctic ice concentration monthly means\n",
    "def plot_SH_conc_monthly_mean(ekey):\n",
    "    m = Basemap(projection ='spstere',boundinglat=-54,lon_0=180,resolution='l')\n",
    "    x,y = m(*(lon_t[:NLAT_half,:],lat_t[:NLAT_half,:]))\n",
    "    xobs,yobs = m(*(CN_obs_SH.longitude.isel(time=1).data, CN_obs_SH.latitude.isel(time=1).data))\n",
    "\n",
    "    for mi, month in enumerate(months):\n",
    "        outname = ekey+'_concentration_map_SH_'+yearrange+'_'+str(month).zfill(2)+'_mean'\n",
    "        if False and os.path.exists(os.path.join(figdir, outname+'.png')):\n",
    "            print('Skipping ' + outname + ' (file exists)')\n",
    "        else:\n",
    "            print('Doing ' + outname)\n",
    "            try:\n",
    "                model = aice_m_monthly_mean.sel(month=mi+1)\n",
    "                obs = CN_obs_SH_monthly_mean.sel(month=mi+1)\n",
    "            except:\n",
    "                print('ERROR: could not open files')\n",
    "                continue\n",
    "            plt.figure(4,(12,7))\n",
    "\n",
    "            # plot model\n",
    "            plt.subplot(1,2,1)\n",
    "            plot_SH_conc_model(m, x, y, model, xobs, yobs, obs)\n",
    "            plt.title(calendar.month_name[month]+' '+yearrange+' mean, ' + exptdata.exptdict[ekey]['desc'], font)\n",
    "\n",
    "            # plot observations\n",
    "            plt.subplot(1,2,2)\n",
    "            plot_SH_conc_obs(m, x, y, model, xobs, yobs, obs)\n",
    "            plt.title(calendar.month_name[month]+' '+yearrange+' mean, observed', font) #, y=1.03)\n",
    "\n",
    "            plt.tight_layout()\n",
    "\n",
    "#             savefigure(outname)\n",
    "            plt.savefig(outname+'.png',dpi=200, bbox_inches=\"tight\")\n",
    "\n",
    "            plt.close()\n",
    "\n",
    "#         break"
   ]
  },
  {
   "cell_type": "code",
   "execution_count": 268,
   "metadata": {},
   "outputs": [],
   "source": [
    "# Arctic ice concentration for each month\n",
    "def plot_NH_conc_months(ekey):\n",
    "    m = Basemap(projection ='npstere',boundinglat=48,lon_0=0,resolution='l')\n",
    "    x,y = m(*(lon_t[NLAT_half:,:],lat_t[NLAT_half:,:]))\n",
    "    xobs,yobs = m(*(CN_obs_NH.longitude.isel(time=1).data, CN_obs_NH.latitude.isel(time=1).data))\n",
    "\n",
    "    for year in years:\n",
    "        for month in months:\n",
    "            outname = 'NOSYNC/'+ekey+'_concentration_map_NH_'+str(year)+'_'+str(month).zfill(2)\n",
    "            if os.path.exists(os.path.join(figdir, outname+'.png')):\n",
    "                print('Skipping ' + outname + ' (file exists)')\n",
    "            else:\n",
    "                print('Doing ' + outname)\n",
    "                try:\n",
    "                    model = aice_m.sel(time=pd.to_datetime(str(year)+str(month).zfill(2), format='%Y%m'))\n",
    "                    obs = CN_obs_NH.sel(time=pd.to_datetime(str(year)+str(month).zfill(2), format='%Y%m'))\n",
    "                except:\n",
    "                    print('ERROR: could not open files')\n",
    "                    continue\n",
    "                plt.figure(4,(12,7))\n",
    "\n",
    "                # plot model\n",
    "                plt.subplot(1,2,1)\n",
    "                plot_NH_conc_model(m, x, y, model, xobs, yobs, obs)\n",
    "                plt.title(calendar.month_name[month]+' '+str(year)+', ' + exptdata.exptdict[ekey]['desc'], font)\n",
    "\n",
    "                # plot observations\n",
    "                plt.subplot(1,2,2)\n",
    "                plot_NH_conc_obs(m, x, y, model, xobs, yobs, obs)\n",
    "                plt.title(calendar.month_name[month]+' '+str(year)+', observed', font) #, y=1.03)\n",
    "\n",
    "                plt.tight_layout()\n",
    "\n",
    "    #             savefigure(outname)\n",
    "                plt.savefig(outname+'.png',dpi=150, bbox_inches=\"tight\")\n",
    "\n",
    "                plt.close()\n",
    "\n",
    "    #         break\n",
    "    #     break"
   ]
  },
  {
   "cell_type": "code",
   "execution_count": 269,
   "metadata": {},
   "outputs": [],
   "source": [
    "# Antarctic ice concentration for each month\n",
    "def plot_SH_conc_months(ekey):\n",
    "    m = Basemap(projection ='spstere',boundinglat=-54,lon_0=180,resolution='l')\n",
    "    x,y = m(*(lon_t[:NLAT_half,:],lat_t[:NLAT_half,:]))\n",
    "    xobs,yobs = m(*(CN_obs_SH.longitude.isel(time=1).data, CN_obs_SH.latitude.isel(time=1).data))\n",
    "\n",
    "    for year in years:\n",
    "        for month in months:\n",
    "            outname = 'NOSYNC/'+ekey+'_concentration_map_SH_'+str(year)+'_'+str(month).zfill(2)\n",
    "            if os.path.exists(os.path.join(figdir, outname+'.png')):\n",
    "                print('Skipping ' + outname + ' (file exists)')\n",
    "            else:\n",
    "                print('Doing ' + outname)\n",
    "                try:\n",
    "                    model = aice_m.sel(time=pd.to_datetime(str(year)+str(month).zfill(2), format='%Y%m'))\n",
    "                    obs = CN_obs_SH.sel(time=pd.to_datetime(str(year)+str(month).zfill(2), format='%Y%m'))\n",
    "                except:\n",
    "                    print('ERROR: could not open files')\n",
    "                    continue\n",
    "                plt.figure(4,(12,7))\n",
    "\n",
    "                # plot model\n",
    "                plt.subplot(1,2,1)\n",
    "                plot_SH_conc_model(m, x, y, model, xobs, yobs, obs)\n",
    "                plt.title(calendar.month_name[month]+' '+str(year)+', ' + exptdata.exptdict[ekey]['desc'], font)\n",
    "\n",
    "                # plot observations\n",
    "                plt.subplot(1,2,2)\n",
    "                plot_SH_conc_obs(m, x, y, model, xobs, yobs, obs)\n",
    "                plt.title(calendar.month_name[month]+' '+str(year)+', observed', font) #, y=1.03)\n",
    "\n",
    "                plt.tight_layout()\n",
    "\n",
    "    #             savefigure(outname)\n",
    "                plt.savefig(outname+'.png',dpi=150, bbox_inches=\"tight\")\n",
    "\n",
    "                plt.close()\n",
    "\n",
    "            break\n",
    "        break"
   ]
  },
  {
   "cell_type": "code",
   "execution_count": 270,
   "metadata": {},
   "outputs": [
    {
     "name": "stdout",
     "output_type": "stream",
     "text": [
      "1deg\n",
      "Reading from cache file cache_get_nc_variable_1deg_jra55v13_iaf_spinup1_A_iceh.????-??.nc_vicen_m_-500_days-since-1718-01-01_None_False.pkl\n",
      "Reading from cache file cache_get_nc_variable_1deg_jra55v13_iaf_spinup1_A_iceh.????-??.nc_aice_m_-500_days-since-1718-01-01_None_False.pkl\n",
      "Reading from cache file cache_get_nc_variable_1deg_jra55v13_iaf_spinup1_A_iceh.????-??.nc_hi_m_-500_days-since-1718-01-01_None_False.pkl\n",
      "Skipping 1deg_concentration_map_NH_1990-1999_01_mean (file exists)\n",
      "Skipping 1deg_concentration_map_NH_1990-1999_02_mean (file exists)\n",
      "Skipping 1deg_concentration_map_NH_1990-1999_03_mean (file exists)\n",
      "Skipping 1deg_concentration_map_NH_1990-1999_04_mean (file exists)\n",
      "Skipping 1deg_concentration_map_NH_1990-1999_05_mean (file exists)\n",
      "Skipping 1deg_concentration_map_NH_1990-1999_06_mean (file exists)\n",
      "Skipping 1deg_concentration_map_NH_1990-1999_07_mean (file exists)\n",
      "Skipping 1deg_concentration_map_NH_1990-1999_08_mean (file exists)\n",
      "Skipping 1deg_concentration_map_NH_1990-1999_09_mean (file exists)\n",
      "Skipping 1deg_concentration_map_NH_1990-1999_10_mean (file exists)\n",
      "Skipping 1deg_concentration_map_NH_1990-1999_11_mean (file exists)\n",
      "Skipping 1deg_concentration_map_NH_1990-1999_12_mean (file exists)\n",
      "Doing 1deg_concentration_map_SH_1990-1999_01_mean\n"
     ]
    },
    {
     "name": "stderr",
     "output_type": "stream",
     "text": [
      "/g/data3/hh5/public/apps/miniconda3/envs/analysis3-18.04/lib/python3.6/site-packages/mpl_toolkits/basemap/__init__.py:1708: MatplotlibDeprecationWarning: The axesPatch function was deprecated in version 2.1. Use Axes.patch instead.\n",
      "  limb = ax.axesPatch\n",
      "/g/data3/hh5/public/apps/miniconda3/envs/analysis3-18.04/lib/python3.6/site-packages/mpl_toolkits/basemap/__init__.py:1711: MatplotlibDeprecationWarning: The axesPatch function was deprecated in version 2.1. Use Axes.patch instead.\n",
      "  if limb is not ax.axesPatch:\n"
     ]
    },
    {
     "name": "stdout",
     "output_type": "stream",
     "text": [
      "Doing 1deg_concentration_map_SH_1990-1999_02_mean\n",
      "Doing 1deg_concentration_map_SH_1990-1999_03_mean\n",
      "Doing 1deg_concentration_map_SH_1990-1999_04_mean\n",
      "Doing 1deg_concentration_map_SH_1990-1999_05_mean\n",
      "Doing 1deg_concentration_map_SH_1990-1999_06_mean\n",
      "Doing 1deg_concentration_map_SH_1990-1999_07_mean\n",
      "Doing 1deg_concentration_map_SH_1990-1999_08_mean\n",
      "Doing 1deg_concentration_map_SH_1990-1999_09_mean\n",
      "Doing 1deg_concentration_map_SH_1990-1999_10_mean\n",
      "Doing 1deg_concentration_map_SH_1990-1999_11_mean\n",
      "Doing 1deg_concentration_map_SH_1990-1999_12_mean\n",
      "025deg\n",
      "Reading from cache file cache_get_nc_variable_025deg_jra55v13_iaf_iceh.????-??.nc_vicen_m_-500_days-since-1718-01-01_None_False.pkl\n",
      "Reading from cache file cache_get_nc_variable_025deg_jra55v13_iaf_iceh.????-??.nc_aice_m_-500_days-since-1718-01-01_None_False.pkl\n",
      "Reading from cache file cache_get_nc_variable_025deg_jra55v13_iaf_iceh.????-??.nc_hi_m_-500_days-since-1718-01-01_None_False.pkl\n",
      "Skipping 025deg_concentration_map_NH_1990-1999_01_mean (file exists)\n",
      "Skipping 025deg_concentration_map_NH_1990-1999_02_mean (file exists)\n",
      "Skipping 025deg_concentration_map_NH_1990-1999_03_mean (file exists)\n",
      "Skipping 025deg_concentration_map_NH_1990-1999_04_mean (file exists)\n",
      "Skipping 025deg_concentration_map_NH_1990-1999_05_mean (file exists)\n",
      "Skipping 025deg_concentration_map_NH_1990-1999_06_mean (file exists)\n",
      "Skipping 025deg_concentration_map_NH_1990-1999_07_mean (file exists)\n",
      "Skipping 025deg_concentration_map_NH_1990-1999_08_mean (file exists)\n",
      "Skipping 025deg_concentration_map_NH_1990-1999_09_mean (file exists)\n",
      "Skipping 025deg_concentration_map_NH_1990-1999_10_mean (file exists)\n",
      "Skipping 025deg_concentration_map_NH_1990-1999_11_mean (file exists)\n",
      "Skipping 025deg_concentration_map_NH_1990-1999_12_mean (file exists)\n",
      "Doing 025deg_concentration_map_SH_1990-1999_01_mean\n",
      "Doing 025deg_concentration_map_SH_1990-1999_02_mean\n",
      "Doing 025deg_concentration_map_SH_1990-1999_03_mean\n",
      "Doing 025deg_concentration_map_SH_1990-1999_04_mean\n",
      "Doing 025deg_concentration_map_SH_1990-1999_05_mean\n",
      "Doing 025deg_concentration_map_SH_1990-1999_06_mean\n",
      "Doing 025deg_concentration_map_SH_1990-1999_07_mean\n",
      "Doing 025deg_concentration_map_SH_1990-1999_08_mean\n",
      "Doing 025deg_concentration_map_SH_1990-1999_09_mean\n",
      "Doing 025deg_concentration_map_SH_1990-1999_10_mean\n",
      "Doing 025deg_concentration_map_SH_1990-1999_11_mean\n",
      "Doing 025deg_concentration_map_SH_1990-1999_12_mean\n",
      "01deg\n",
      "Reading from cache file cache_get_nc_variable_01deg_jra55v13_iaf_iceh.????-??.nc_vicen_m_-500_days-since-1985-01-01_None_False.pkl\n",
      "Reading from cache file cache_get_nc_variable_01deg_jra55v13_iaf_iceh.????-??.nc_aice_m_-500_days-since-1985-01-01_None_False.pkl\n",
      "Reading from cache file cache_get_nc_variable_01deg_jra55v13_iaf_iceh.????-??.nc_hi_m_-500_days-since-1985-01-01_None_False.pkl\n",
      "Skipping 01deg_concentration_map_NH_1990-1999_01_mean (file exists)\n",
      "Skipping 01deg_concentration_map_NH_1990-1999_02_mean (file exists)\n",
      "Skipping 01deg_concentration_map_NH_1990-1999_03_mean (file exists)\n",
      "Skipping 01deg_concentration_map_NH_1990-1999_04_mean (file exists)\n",
      "Skipping 01deg_concentration_map_NH_1990-1999_05_mean (file exists)\n",
      "Skipping 01deg_concentration_map_NH_1990-1999_06_mean (file exists)\n",
      "Skipping 01deg_concentration_map_NH_1990-1999_07_mean (file exists)\n",
      "Doing 01deg_concentration_map_NH_1990-1999_08_mean\n",
      "Doing 01deg_concentration_map_NH_1990-1999_09_mean\n",
      "Doing 01deg_concentration_map_NH_1990-1999_10_mean\n",
      "Doing 01deg_concentration_map_NH_1990-1999_11_mean\n",
      "Doing 01deg_concentration_map_NH_1990-1999_12_mean\n",
      "Doing 01deg_concentration_map_SH_1990-1999_01_mean\n",
      "Doing 01deg_concentration_map_SH_1990-1999_02_mean\n",
      "Doing 01deg_concentration_map_SH_1990-1999_03_mean\n",
      "Doing 01deg_concentration_map_SH_1990-1999_04_mean\n",
      "Doing 01deg_concentration_map_SH_1990-1999_05_mean\n",
      "Doing 01deg_concentration_map_SH_1990-1999_06_mean\n",
      "Doing 01deg_concentration_map_SH_1990-1999_07_mean\n",
      "Doing 01deg_concentration_map_SH_1990-1999_08_mean\n",
      "Doing 01deg_concentration_map_SH_1990-1999_09_mean\n",
      "Doing 01deg_concentration_map_SH_1990-1999_10_mean\n",
      "Doing 01deg_concentration_map_SH_1990-1999_11_mean\n",
      "Doing 01deg_concentration_map_SH_1990-1999_12_mean\n"
     ]
    }
   ],
   "source": [
    "for ekey in exptdata.exptdict.keys():\n",
    "    print(ekey)\n",
    "    loaddata(ekey)\n",
    "    plot_NH_conc_monthly_mean(ekey)\n",
    "    plot_SH_conc_monthly_mean(ekey)\n",
    "#     plot_NH_conc_months(ekey)\n",
    "#     plot_SH_conc_months(ekey)"
   ]
  },
  {
   "cell_type": "code",
   "execution_count": null,
   "metadata": {},
   "outputs": [],
   "source": []
  },
  {
   "cell_type": "code",
   "execution_count": null,
   "metadata": {},
   "outputs": [],
   "source": [
    "STOPHERE"
   ]
  },
  {
   "cell_type": "code",
   "execution_count": null,
   "metadata": {},
   "outputs": [],
   "source": [
    "aice_m.sel(time=pd.to_datetime('198501', format='%Y%m'))  # BUG: some sort of hashing problem??"
   ]
  },
  {
   "cell_type": "code",
   "execution_count": 68,
   "metadata": {},
   "outputs": [],
   "source": [
    "years = range(firstyear, lastyear+1)\n",
    "months = range(1,13)"
   ]
  },
  {
   "cell_type": "code",
   "execution_count": 73,
   "metadata": {},
   "outputs": [
    {
     "data": {
      "application/vnd.jupyter.widget-view+json": {
       "model_id": "",
       "version_major": 2,
       "version_minor": 0
      },
      "text/plain": [
       "HBox(children=(IntProgress(value=0, description='year', max=15), HTML(value='')))"
      ]
     },
     "metadata": {},
     "output_type": "display_data"
    },
    {
     "data": {
      "application/vnd.jupyter.widget-view+json": {
       "model_id": "",
       "version_major": 2,
       "version_minor": 0
      },
      "text/plain": [
       "HBox(children=(IntProgress(value=0, description='month', max=12), HTML(value='')))"
      ]
     },
     "metadata": {},
     "output_type": "display_data"
    },
    {
     "data": {
      "application/vnd.jupyter.widget-view+json": {
       "model_id": "",
       "version_major": 2,
       "version_minor": 0
      },
      "text/plain": [
       "HBox(children=(IntProgress(value=0, description='month', max=12), HTML(value='')))"
      ]
     },
     "metadata": {},
     "output_type": "display_data"
    },
    {
     "data": {
      "application/vnd.jupyter.widget-view+json": {
       "model_id": "",
       "version_major": 2,
       "version_minor": 0
      },
      "text/plain": [
       "HBox(children=(IntProgress(value=0, description='month', max=12), HTML(value='')))"
      ]
     },
     "metadata": {},
     "output_type": "display_data"
    },
    {
     "data": {
      "application/vnd.jupyter.widget-view+json": {
       "model_id": "",
       "version_major": 2,
       "version_minor": 0
      },
      "text/plain": [
       "HBox(children=(IntProgress(value=0, description='month', max=12), HTML(value='')))"
      ]
     },
     "metadata": {},
     "output_type": "display_data"
    },
    {
     "data": {
      "application/vnd.jupyter.widget-view+json": {
       "model_id": "",
       "version_major": 2,
       "version_minor": 0
      },
      "text/plain": [
       "HBox(children=(IntProgress(value=0, description='month', max=12), HTML(value='')))"
      ]
     },
     "metadata": {},
     "output_type": "display_data"
    },
    {
     "data": {
      "application/vnd.jupyter.widget-view+json": {
       "model_id": "",
       "version_major": 2,
       "version_minor": 0
      },
      "text/plain": [
       "HBox(children=(IntProgress(value=0, description='month', max=12), HTML(value='')))"
      ]
     },
     "metadata": {},
     "output_type": "display_data"
    },
    {
     "data": {
      "application/vnd.jupyter.widget-view+json": {
       "model_id": "",
       "version_major": 2,
       "version_minor": 0
      },
      "text/plain": [
       "HBox(children=(IntProgress(value=0, description='month', max=12), HTML(value='')))"
      ]
     },
     "metadata": {},
     "output_type": "display_data"
    },
    {
     "data": {
      "application/vnd.jupyter.widget-view+json": {
       "model_id": "",
       "version_major": 2,
       "version_minor": 0
      },
      "text/plain": [
       "HBox(children=(IntProgress(value=0, description='month', max=12), HTML(value='')))"
      ]
     },
     "metadata": {},
     "output_type": "display_data"
    },
    {
     "data": {
      "application/vnd.jupyter.widget-view+json": {
       "model_id": "",
       "version_major": 2,
       "version_minor": 0
      },
      "text/plain": [
       "HBox(children=(IntProgress(value=0, description='month', max=12), HTML(value='')))"
      ]
     },
     "metadata": {},
     "output_type": "display_data"
    },
    {
     "data": {
      "application/vnd.jupyter.widget-view+json": {
       "model_id": "",
       "version_major": 2,
       "version_minor": 0
      },
      "text/plain": [
       "HBox(children=(IntProgress(value=0, description='month', max=12), HTML(value='')))"
      ]
     },
     "metadata": {},
     "output_type": "display_data"
    },
    {
     "data": {
      "application/vnd.jupyter.widget-view+json": {
       "model_id": "",
       "version_major": 2,
       "version_minor": 0
      },
      "text/plain": [
       "HBox(children=(IntProgress(value=0, description='month', max=12), HTML(value='')))"
      ]
     },
     "metadata": {},
     "output_type": "display_data"
    },
    {
     "data": {
      "application/vnd.jupyter.widget-view+json": {
       "model_id": "",
       "version_major": 2,
       "version_minor": 0
      },
      "text/plain": [
       "HBox(children=(IntProgress(value=0, description='month', max=12), HTML(value='')))"
      ]
     },
     "metadata": {},
     "output_type": "display_data"
    },
    {
     "data": {
      "application/vnd.jupyter.widget-view+json": {
       "model_id": "",
       "version_major": 2,
       "version_minor": 0
      },
      "text/plain": [
       "HBox(children=(IntProgress(value=0, description='month', max=12), HTML(value='')))"
      ]
     },
     "metadata": {},
     "output_type": "display_data"
    },
    {
     "data": {
      "application/vnd.jupyter.widget-view+json": {
       "model_id": "",
       "version_major": 2,
       "version_minor": 0
      },
      "text/plain": [
       "HBox(children=(IntProgress(value=0, description='month', max=12), HTML(value='')))"
      ]
     },
     "metadata": {},
     "output_type": "display_data"
    },
    {
     "data": {
      "application/vnd.jupyter.widget-view+json": {
       "model_id": "",
       "version_major": 2,
       "version_minor": 0
      },
      "text/plain": [
       "HBox(children=(IntProgress(value=0, description='month', max=12), HTML(value='')))"
      ]
     },
     "metadata": {},
     "output_type": "display_data"
    },
    {
     "name": "stdout",
     "output_type": "stream",
     "text": [
      "\r"
     ]
    }
   ],
   "source": [
    "# Load NH concentration obs\n",
    "CN_obs_NH = [None]*len(years)*len(months)\n",
    "i = 0\n",
    "for year in tqdm_notebook(years, leave=False, desc='year'):\n",
    "    for month in tqdm_notebook(months, leave=False, desc='month'):\n",
    "        CN_obs_NH_fname = [IceFile for IceFile in obsNHFileList if IceFile[-16:-10]==str(year)+str(month).zfill(2)][0]\n",
    "        ncFile = nc.Dataset(CN_obs_NH_fname, 'r')\n",
    "        CN_obs_NH[i] = ncFile.variables['seaice_conc_monthly_cdr'][0,...]\n",
    "        CN_obs_NH[i] = np.ma.masked_where(CN_obs_NH[i]<0,CN_obs_NH[i])\n",
    "        ncFile.close()\n",
    "        i = i + 1\n",
    "ncFile = nc.Dataset(CN_obs_NH_fname, 'r')\n",
    "obs_lat_NH = ncFile.variables['latitude'][...]\n",
    "obs_lon_NH = ncFile.variables['longitude'][...]\n",
    "CN_obs_NH_monthly = \n",
    "ncFile.close()"
   ]
  },
  {
   "cell_type": "code",
   "execution_count": null,
   "metadata": {},
   "outputs": [],
   "source": [
    "# Load SH concentration obs\n",
    "CN_obs_SH = [None]*len(years)*len(months)\n",
    "i = 0\n",
    "for year in tqdm_notebook(years, leave=False, desc='year'):\n",
    "    for month in tqdm_notebook(months, leave=False, desc='month'):\n",
    "        CN_obs_SH_fname = [IceFile for IceFile in obsSHFileList if IceFile[-16:-10]==str(year)+str(month).zfill(2)][0]\n",
    "        ncFile = nc.Dataset(CN_obs_SH_fname, 'r')\n",
    "        CN_obs_SH[i] = ncFile.variables['seaice_conc_monthly_cdr'][0,...]\n",
    "        CN_obs_SH[i] = np.ma.masked_where(CN_obs_SH[i]<0,CN_obs_SH[i])\n",
    "        ncFile.close()\n",
    "        i = i + 1\n",
    "ncFile = nc.Dataset(CN_obs_SH_fname, 'r')\n",
    "obs_lat_SH = ncFile.variables['latitude'][...]\n",
    "obs_lon_SH = ncFile.variables['longitude'][...]\n",
    "ncFile.close()"
   ]
  },
  {
   "cell_type": "raw",
   "metadata": {},
   "source": [
    "# from https://scipy-cookbook.readthedocs.io/items/Matplotlib_ColormapTransformations.html\n",
    "def cmap_xmap(function, cmap):\n",
    "    \"\"\" Applies function, on the indices of colormap cmap. Beware, function\n",
    "    should map the [0, 1] segment to itself, or you are in for surprises.\n",
    "\n",
    "    See also cmap_xmap.\n",
    "    \"\"\"\n",
    "    cdict = cmap._segmentdata\n",
    "    function_to_map = lambda x : (function(x[0]), x[1], x[2])\n",
    "    for key in ('red','green','blue'):\n",
    "        cdict[key] = map(function_to_map, cdict[key])\n",
    "        cdict[key].sort()\n",
    "        assert (cdict[key][0]<0 or cdict[key][-1]>1), \"Resulting indices extend out of the [0, 1] segment.\"\n",
    "\n",
    "    return matplotlib.colors.LinearSegmentedColormap('colormap',cdict,1024)"
   ]
  },
  {
   "cell_type": "code",
   "execution_count": null,
   "metadata": {},
   "outputs": [],
   "source": [
    "# my_cmap = cmap_xmap(lambda x: x^2, plt.cm.jet)\n",
    "levels = np.arange(0,1.01,.02)\n",
    "cmap_gamma = 4. # exponent for power-law stretch of colormap\n",
    "cbar_ticks = [ f**cmap_gamma for f in [0,.3,.5,.7,.8,.85,.9,.95,1] ]"
   ]
  },
  {
   "cell_type": "code",
   "execution_count": 140,
   "metadata": {},
   "outputs": [
    {
     "name": "stdout",
     "output_type": "stream",
     "text": [
      "Doing NOSYNC/concentration_map_NH_1985_01\n"
     ]
    },
    {
     "ename": "KeyError",
     "evalue": "Timestamp('1985-01-01 00:00:00')",
     "output_type": "error",
     "traceback": [
      "\u001b[0;31m---------------------------------------------------------------------------\u001b[0m",
      "\u001b[0;31mKeyError\u001b[0m                                  Traceback (most recent call last)",
      "\u001b[0;32mpandas/_libs/index.pyx\u001b[0m in \u001b[0;36mpandas._libs.index.DatetimeEngine.get_loc\u001b[0;34m()\u001b[0m\n",
      "\u001b[0;32mpandas/_libs/hashtable_class_helper.pxi\u001b[0m in \u001b[0;36mpandas._libs.hashtable.Int64HashTable.get_item\u001b[0;34m()\u001b[0m\n",
      "\u001b[0;32mpandas/_libs/hashtable_class_helper.pxi\u001b[0m in \u001b[0;36mpandas._libs.hashtable.Int64HashTable.get_item\u001b[0;34m()\u001b[0m\n",
      "\u001b[0;31mKeyError\u001b[0m: 473385600000000000",
      "\nDuring handling of the above exception, another exception occurred:\n",
      "\u001b[0;31mKeyError\u001b[0m                                  Traceback (most recent call last)",
      "\u001b[0;32m/g/data3/hh5/public/apps/miniconda3/envs/analysis3-18.04/lib/python3.6/site-packages/pandas/core/indexes/base.py\u001b[0m in \u001b[0;36mget_loc\u001b[0;34m(self, key, method, tolerance)\u001b[0m\n\u001b[1;32m   3063\u001b[0m             \u001b[0;32mtry\u001b[0m\u001b[0;34m:\u001b[0m\u001b[0;34m\u001b[0m\u001b[0m\n\u001b[0;32m-> 3064\u001b[0;31m                 \u001b[0;32mreturn\u001b[0m \u001b[0mself\u001b[0m\u001b[0;34m.\u001b[0m\u001b[0m_engine\u001b[0m\u001b[0;34m.\u001b[0m\u001b[0mget_loc\u001b[0m\u001b[0;34m(\u001b[0m\u001b[0mkey\u001b[0m\u001b[0;34m)\u001b[0m\u001b[0;34m\u001b[0m\u001b[0m\n\u001b[0m\u001b[1;32m   3065\u001b[0m             \u001b[0;32mexcept\u001b[0m \u001b[0mKeyError\u001b[0m\u001b[0;34m:\u001b[0m\u001b[0;34m\u001b[0m\u001b[0m\n",
      "\u001b[0;32mpandas/_libs/index.pyx\u001b[0m in \u001b[0;36mpandas._libs.index.DatetimeEngine.get_loc\u001b[0;34m()\u001b[0m\n",
      "\u001b[0;32mpandas/_libs/index.pyx\u001b[0m in \u001b[0;36mpandas._libs.index.DatetimeEngine.get_loc\u001b[0;34m()\u001b[0m\n",
      "\u001b[0;31mKeyError\u001b[0m: Timestamp('1985-01-01 00:00:00')",
      "\nDuring handling of the above exception, another exception occurred:\n",
      "\u001b[0;31mKeyError\u001b[0m                                  Traceback (most recent call last)",
      "\u001b[0;32mpandas/_libs/index.pyx\u001b[0m in \u001b[0;36mpandas._libs.index.DatetimeEngine.get_loc\u001b[0;34m()\u001b[0m\n",
      "\u001b[0;32mpandas/_libs/hashtable_class_helper.pxi\u001b[0m in \u001b[0;36mpandas._libs.hashtable.Int64HashTable.get_item\u001b[0;34m()\u001b[0m\n",
      "\u001b[0;32mpandas/_libs/hashtable_class_helper.pxi\u001b[0m in \u001b[0;36mpandas._libs.hashtable.Int64HashTable.get_item\u001b[0;34m()\u001b[0m\n",
      "\u001b[0;31mKeyError\u001b[0m: 473385600000000000",
      "\nDuring handling of the above exception, another exception occurred:\n",
      "\u001b[0;31mKeyError\u001b[0m                                  Traceback (most recent call last)",
      "\u001b[0;32m<ipython-input-140-b3b9ae35f827>\u001b[0m in \u001b[0;36m<module>\u001b[0;34m()\u001b[0m\n\u001b[1;32m     12\u001b[0m         \u001b[0;32melse\u001b[0m\u001b[0;34m:\u001b[0m\u001b[0;34m\u001b[0m\u001b[0m\n\u001b[1;32m     13\u001b[0m             \u001b[0mprint\u001b[0m\u001b[0;34m(\u001b[0m\u001b[0;34m'Doing '\u001b[0m \u001b[0;34m+\u001b[0m \u001b[0moutname\u001b[0m\u001b[0;34m)\u001b[0m\u001b[0;34m\u001b[0m\u001b[0m\n\u001b[0;32m---> 14\u001b[0;31m             \u001b[0mmodel\u001b[0m \u001b[0;34m=\u001b[0m \u001b[0maice_m\u001b[0m\u001b[0;34m.\u001b[0m\u001b[0msel\u001b[0m\u001b[0;34m(\u001b[0m\u001b[0mtime\u001b[0m\u001b[0;34m=\u001b[0m\u001b[0mpd\u001b[0m\u001b[0;34m.\u001b[0m\u001b[0mto_datetime\u001b[0m\u001b[0;34m(\u001b[0m\u001b[0mstr\u001b[0m\u001b[0;34m(\u001b[0m\u001b[0myear\u001b[0m\u001b[0;34m)\u001b[0m\u001b[0;34m+\u001b[0m\u001b[0mstr\u001b[0m\u001b[0;34m(\u001b[0m\u001b[0mmonth\u001b[0m\u001b[0;34m)\u001b[0m\u001b[0;34m.\u001b[0m\u001b[0mzfill\u001b[0m\u001b[0;34m(\u001b[0m\u001b[0;36m2\u001b[0m\u001b[0;34m)\u001b[0m\u001b[0;34m,\u001b[0m \u001b[0mformat\u001b[0m\u001b[0;34m=\u001b[0m\u001b[0;34m'%Y%m'\u001b[0m\u001b[0;34m)\u001b[0m\u001b[0;34m)\u001b[0m\u001b[0;34m\u001b[0m\u001b[0m\n\u001b[0m\u001b[1;32m     15\u001b[0m             \u001b[0mobs\u001b[0m \u001b[0;34m=\u001b[0m \u001b[0mCN_obs_NH\u001b[0m\u001b[0;34m[\u001b[0m\u001b[0myi\u001b[0m\u001b[0;34m*\u001b[0m\u001b[0mlen\u001b[0m\u001b[0;34m(\u001b[0m\u001b[0mmonths\u001b[0m\u001b[0;34m)\u001b[0m \u001b[0;34m+\u001b[0m \u001b[0mmi\u001b[0m\u001b[0;34m]\u001b[0m\u001b[0;34m\u001b[0m\u001b[0m\n\u001b[1;32m     16\u001b[0m             \u001b[0mplt\u001b[0m\u001b[0;34m.\u001b[0m\u001b[0mfigure\u001b[0m\u001b[0;34m(\u001b[0m\u001b[0;36m4\u001b[0m\u001b[0;34m,\u001b[0m\u001b[0;34m(\u001b[0m\u001b[0;36m12\u001b[0m\u001b[0;34m,\u001b[0m\u001b[0;36m7\u001b[0m\u001b[0;34m)\u001b[0m\u001b[0;34m)\u001b[0m\u001b[0;34m\u001b[0m\u001b[0m\n",
      "\u001b[0;32m/g/data3/hh5/public/apps/miniconda3/envs/analysis3-18.04/lib/python3.6/site-packages/xarray/core/dataarray.py\u001b[0m in \u001b[0;36msel\u001b[0;34m(self, indexers, method, tolerance, drop, **indexers_kwargs)\u001b[0m\n\u001b[1;32m    782\u001b[0m         \u001b[0mindexers\u001b[0m \u001b[0;34m=\u001b[0m \u001b[0meither_dict_or_kwargs\u001b[0m\u001b[0;34m(\u001b[0m\u001b[0mindexers\u001b[0m\u001b[0;34m,\u001b[0m \u001b[0mindexers_kwargs\u001b[0m\u001b[0;34m,\u001b[0m \u001b[0;34m'sel'\u001b[0m\u001b[0;34m)\u001b[0m\u001b[0;34m\u001b[0m\u001b[0m\n\u001b[1;32m    783\u001b[0m         ds = self._to_temp_dataset().sel(\n\u001b[0;32m--> 784\u001b[0;31m             indexers=indexers, drop=drop, method=method, tolerance=tolerance)\n\u001b[0m\u001b[1;32m    785\u001b[0m         \u001b[0;32mreturn\u001b[0m \u001b[0mself\u001b[0m\u001b[0;34m.\u001b[0m\u001b[0m_from_temp_dataset\u001b[0m\u001b[0;34m(\u001b[0m\u001b[0mds\u001b[0m\u001b[0;34m)\u001b[0m\u001b[0;34m\u001b[0m\u001b[0m\n\u001b[1;32m    786\u001b[0m \u001b[0;34m\u001b[0m\u001b[0m\n",
      "\u001b[0;32m/g/data3/hh5/public/apps/miniconda3/envs/analysis3-18.04/lib/python3.6/site-packages/xarray/core/dataset.py\u001b[0m in \u001b[0;36msel\u001b[0;34m(self, indexers, method, tolerance, drop, **indexers_kwargs)\u001b[0m\n\u001b[1;32m   1507\u001b[0m         \u001b[0mindexers\u001b[0m \u001b[0;34m=\u001b[0m \u001b[0meither_dict_or_kwargs\u001b[0m\u001b[0;34m(\u001b[0m\u001b[0mindexers\u001b[0m\u001b[0;34m,\u001b[0m \u001b[0mindexers_kwargs\u001b[0m\u001b[0;34m,\u001b[0m \u001b[0;34m'sel'\u001b[0m\u001b[0;34m)\u001b[0m\u001b[0;34m\u001b[0m\u001b[0m\n\u001b[1;32m   1508\u001b[0m         pos_indexers, new_indexes = remap_label_indexers(\n\u001b[0;32m-> 1509\u001b[0;31m             self, indexers=indexers, method=method, tolerance=tolerance)\n\u001b[0m\u001b[1;32m   1510\u001b[0m         \u001b[0mresult\u001b[0m \u001b[0;34m=\u001b[0m \u001b[0mself\u001b[0m\u001b[0;34m.\u001b[0m\u001b[0misel\u001b[0m\u001b[0;34m(\u001b[0m\u001b[0mindexers\u001b[0m\u001b[0;34m=\u001b[0m\u001b[0mpos_indexers\u001b[0m\u001b[0;34m,\u001b[0m \u001b[0mdrop\u001b[0m\u001b[0;34m=\u001b[0m\u001b[0mdrop\u001b[0m\u001b[0;34m)\u001b[0m\u001b[0;34m\u001b[0m\u001b[0m\n\u001b[1;32m   1511\u001b[0m         \u001b[0;32mreturn\u001b[0m \u001b[0mresult\u001b[0m\u001b[0;34m.\u001b[0m\u001b[0m_replace_indexes\u001b[0m\u001b[0;34m(\u001b[0m\u001b[0mnew_indexes\u001b[0m\u001b[0;34m)\u001b[0m\u001b[0;34m\u001b[0m\u001b[0m\n",
      "\u001b[0;32m/g/data3/hh5/public/apps/miniconda3/envs/analysis3-18.04/lib/python3.6/site-packages/xarray/core/coordinates.py\u001b[0m in \u001b[0;36mremap_label_indexers\u001b[0;34m(obj, indexers, method, tolerance, **indexers_kwargs)\u001b[0m\n\u001b[1;32m    353\u001b[0m \u001b[0;34m\u001b[0m\u001b[0m\n\u001b[1;32m    354\u001b[0m     pos_indexers, new_indexes = indexing.remap_label_indexers(\n\u001b[0;32m--> 355\u001b[0;31m         \u001b[0mobj\u001b[0m\u001b[0;34m,\u001b[0m \u001b[0mv_indexers\u001b[0m\u001b[0;34m,\u001b[0m \u001b[0mmethod\u001b[0m\u001b[0;34m=\u001b[0m\u001b[0mmethod\u001b[0m\u001b[0;34m,\u001b[0m \u001b[0mtolerance\u001b[0m\u001b[0;34m=\u001b[0m\u001b[0mtolerance\u001b[0m\u001b[0;34m\u001b[0m\u001b[0m\n\u001b[0m\u001b[1;32m    356\u001b[0m     )\n\u001b[1;32m    357\u001b[0m     \u001b[0;31m# attach indexer's coordinate to pos_indexers\u001b[0m\u001b[0;34m\u001b[0m\u001b[0;34m\u001b[0m\u001b[0m\n",
      "\u001b[0;32m/g/data3/hh5/public/apps/miniconda3/envs/analysis3-18.04/lib/python3.6/site-packages/xarray/core/indexing.py\u001b[0m in \u001b[0;36mremap_label_indexers\u001b[0;34m(data_obj, indexers, method, tolerance)\u001b[0m\n\u001b[1;32m    248\u001b[0m         \u001b[0;32melse\u001b[0m\u001b[0;34m:\u001b[0m\u001b[0;34m\u001b[0m\u001b[0m\n\u001b[1;32m    249\u001b[0m             idxr, new_idx = convert_label_indexer(index, label,\n\u001b[0;32m--> 250\u001b[0;31m                                                   dim, method, tolerance)\n\u001b[0m\u001b[1;32m    251\u001b[0m             \u001b[0mpos_indexers\u001b[0m\u001b[0;34m[\u001b[0m\u001b[0mdim\u001b[0m\u001b[0;34m]\u001b[0m \u001b[0;34m=\u001b[0m \u001b[0midxr\u001b[0m\u001b[0;34m\u001b[0m\u001b[0m\n\u001b[1;32m    252\u001b[0m             \u001b[0;32mif\u001b[0m \u001b[0mnew_idx\u001b[0m \u001b[0;32mis\u001b[0m \u001b[0;32mnot\u001b[0m \u001b[0;32mNone\u001b[0m\u001b[0;34m:\u001b[0m\u001b[0;34m\u001b[0m\u001b[0m\n",
      "\u001b[0;32m/g/data3/hh5/public/apps/miniconda3/envs/analysis3-18.04/lib/python3.6/site-packages/xarray/core/indexing.py\u001b[0m in \u001b[0;36mconvert_label_indexer\u001b[0;34m(index, label, index_name, method, tolerance)\u001b[0m\n\u001b[1;32m    177\u001b[0m                 \u001b[0mindexer\u001b[0m\u001b[0;34m,\u001b[0m \u001b[0mnew_index\u001b[0m \u001b[0;34m=\u001b[0m \u001b[0mindex\u001b[0m\u001b[0;34m.\u001b[0m\u001b[0mget_loc_level\u001b[0m\u001b[0;34m(\u001b[0m\u001b[0mlabel\u001b[0m\u001b[0;34m.\u001b[0m\u001b[0mitem\u001b[0m\u001b[0;34m(\u001b[0m\u001b[0;34m)\u001b[0m\u001b[0;34m,\u001b[0m \u001b[0mlevel\u001b[0m\u001b[0;34m=\u001b[0m\u001b[0;36m0\u001b[0m\u001b[0;34m)\u001b[0m\u001b[0;34m\u001b[0m\u001b[0m\n\u001b[1;32m    178\u001b[0m             \u001b[0;32melse\u001b[0m\u001b[0;34m:\u001b[0m\u001b[0;34m\u001b[0m\u001b[0m\n\u001b[0;32m--> 179\u001b[0;31m                 \u001b[0mindexer\u001b[0m \u001b[0;34m=\u001b[0m \u001b[0mget_loc\u001b[0m\u001b[0;34m(\u001b[0m\u001b[0mindex\u001b[0m\u001b[0;34m,\u001b[0m \u001b[0mlabel\u001b[0m\u001b[0;34m.\u001b[0m\u001b[0mitem\u001b[0m\u001b[0;34m(\u001b[0m\u001b[0;34m)\u001b[0m\u001b[0;34m,\u001b[0m \u001b[0mmethod\u001b[0m\u001b[0;34m,\u001b[0m \u001b[0mtolerance\u001b[0m\u001b[0;34m)\u001b[0m\u001b[0;34m\u001b[0m\u001b[0m\n\u001b[0m\u001b[1;32m    180\u001b[0m         \u001b[0;32melif\u001b[0m \u001b[0mlabel\u001b[0m\u001b[0;34m.\u001b[0m\u001b[0mdtype\u001b[0m\u001b[0;34m.\u001b[0m\u001b[0mkind\u001b[0m \u001b[0;34m==\u001b[0m \u001b[0;34m'b'\u001b[0m\u001b[0;34m:\u001b[0m\u001b[0;34m\u001b[0m\u001b[0m\n\u001b[1;32m    181\u001b[0m             \u001b[0mindexer\u001b[0m \u001b[0;34m=\u001b[0m \u001b[0mlabel\u001b[0m\u001b[0;34m\u001b[0m\u001b[0m\n",
      "\u001b[0;32m/g/data3/hh5/public/apps/miniconda3/envs/analysis3-18.04/lib/python3.6/site-packages/xarray/core/indexing.py\u001b[0m in \u001b[0;36mget_loc\u001b[0;34m(index, label, method, tolerance)\u001b[0m\n\u001b[1;32m    107\u001b[0m \u001b[0;32mdef\u001b[0m \u001b[0mget_loc\u001b[0m\u001b[0;34m(\u001b[0m\u001b[0mindex\u001b[0m\u001b[0;34m,\u001b[0m \u001b[0mlabel\u001b[0m\u001b[0;34m,\u001b[0m \u001b[0mmethod\u001b[0m\u001b[0;34m=\u001b[0m\u001b[0;32mNone\u001b[0m\u001b[0;34m,\u001b[0m \u001b[0mtolerance\u001b[0m\u001b[0;34m=\u001b[0m\u001b[0;32mNone\u001b[0m\u001b[0;34m)\u001b[0m\u001b[0;34m:\u001b[0m\u001b[0;34m\u001b[0m\u001b[0m\n\u001b[1;32m    108\u001b[0m     \u001b[0mkwargs\u001b[0m \u001b[0;34m=\u001b[0m \u001b[0m_index_method_kwargs\u001b[0m\u001b[0;34m(\u001b[0m\u001b[0mmethod\u001b[0m\u001b[0;34m,\u001b[0m \u001b[0mtolerance\u001b[0m\u001b[0;34m)\u001b[0m\u001b[0;34m\u001b[0m\u001b[0m\n\u001b[0;32m--> 109\u001b[0;31m     \u001b[0;32mreturn\u001b[0m \u001b[0mindex\u001b[0m\u001b[0;34m.\u001b[0m\u001b[0mget_loc\u001b[0m\u001b[0;34m(\u001b[0m\u001b[0mlabel\u001b[0m\u001b[0;34m,\u001b[0m \u001b[0;34m**\u001b[0m\u001b[0mkwargs\u001b[0m\u001b[0;34m)\u001b[0m\u001b[0;34m\u001b[0m\u001b[0m\n\u001b[0m\u001b[1;32m    110\u001b[0m \u001b[0;34m\u001b[0m\u001b[0m\n\u001b[1;32m    111\u001b[0m \u001b[0;34m\u001b[0m\u001b[0m\n",
      "\u001b[0;32m/g/data3/hh5/public/apps/miniconda3/envs/analysis3-18.04/lib/python3.6/site-packages/pandas/core/indexes/datetimes.py\u001b[0m in \u001b[0;36mget_loc\u001b[0;34m(self, key, method, tolerance)\u001b[0m\n\u001b[1;32m   1602\u001b[0m             \u001b[0;31m# needed to localize naive datetimes\u001b[0m\u001b[0;34m\u001b[0m\u001b[0;34m\u001b[0m\u001b[0m\n\u001b[1;32m   1603\u001b[0m             \u001b[0mkey\u001b[0m \u001b[0;34m=\u001b[0m \u001b[0mTimestamp\u001b[0m\u001b[0;34m(\u001b[0m\u001b[0mkey\u001b[0m\u001b[0;34m,\u001b[0m \u001b[0mtz\u001b[0m\u001b[0;34m=\u001b[0m\u001b[0mself\u001b[0m\u001b[0;34m.\u001b[0m\u001b[0mtz\u001b[0m\u001b[0;34m)\u001b[0m\u001b[0;34m\u001b[0m\u001b[0m\n\u001b[0;32m-> 1604\u001b[0;31m             \u001b[0;32mreturn\u001b[0m \u001b[0mIndex\u001b[0m\u001b[0;34m.\u001b[0m\u001b[0mget_loc\u001b[0m\u001b[0;34m(\u001b[0m\u001b[0mself\u001b[0m\u001b[0;34m,\u001b[0m \u001b[0mkey\u001b[0m\u001b[0;34m,\u001b[0m \u001b[0mmethod\u001b[0m\u001b[0;34m,\u001b[0m \u001b[0mtolerance\u001b[0m\u001b[0;34m)\u001b[0m\u001b[0;34m\u001b[0m\u001b[0m\n\u001b[0m\u001b[1;32m   1605\u001b[0m \u001b[0;34m\u001b[0m\u001b[0m\n\u001b[1;32m   1606\u001b[0m         \u001b[0;32mif\u001b[0m \u001b[0misinstance\u001b[0m\u001b[0;34m(\u001b[0m\u001b[0mkey\u001b[0m\u001b[0;34m,\u001b[0m \u001b[0mtime\u001b[0m\u001b[0;34m)\u001b[0m\u001b[0;34m:\u001b[0m\u001b[0;34m\u001b[0m\u001b[0m\n",
      "\u001b[0;32m/g/data3/hh5/public/apps/miniconda3/envs/analysis3-18.04/lib/python3.6/site-packages/pandas/core/indexes/base.py\u001b[0m in \u001b[0;36mget_loc\u001b[0;34m(self, key, method, tolerance)\u001b[0m\n\u001b[1;32m   3064\u001b[0m                 \u001b[0;32mreturn\u001b[0m \u001b[0mself\u001b[0m\u001b[0;34m.\u001b[0m\u001b[0m_engine\u001b[0m\u001b[0;34m.\u001b[0m\u001b[0mget_loc\u001b[0m\u001b[0;34m(\u001b[0m\u001b[0mkey\u001b[0m\u001b[0;34m)\u001b[0m\u001b[0;34m\u001b[0m\u001b[0m\n\u001b[1;32m   3065\u001b[0m             \u001b[0;32mexcept\u001b[0m \u001b[0mKeyError\u001b[0m\u001b[0;34m:\u001b[0m\u001b[0;34m\u001b[0m\u001b[0m\n\u001b[0;32m-> 3066\u001b[0;31m                 \u001b[0;32mreturn\u001b[0m \u001b[0mself\u001b[0m\u001b[0;34m.\u001b[0m\u001b[0m_engine\u001b[0m\u001b[0;34m.\u001b[0m\u001b[0mget_loc\u001b[0m\u001b[0;34m(\u001b[0m\u001b[0mself\u001b[0m\u001b[0;34m.\u001b[0m\u001b[0m_maybe_cast_indexer\u001b[0m\u001b[0;34m(\u001b[0m\u001b[0mkey\u001b[0m\u001b[0;34m)\u001b[0m\u001b[0;34m)\u001b[0m\u001b[0;34m\u001b[0m\u001b[0m\n\u001b[0m\u001b[1;32m   3067\u001b[0m \u001b[0;34m\u001b[0m\u001b[0m\n\u001b[1;32m   3068\u001b[0m         \u001b[0mindexer\u001b[0m \u001b[0;34m=\u001b[0m \u001b[0mself\u001b[0m\u001b[0;34m.\u001b[0m\u001b[0mget_indexer\u001b[0m\u001b[0;34m(\u001b[0m\u001b[0;34m[\u001b[0m\u001b[0mkey\u001b[0m\u001b[0;34m]\u001b[0m\u001b[0;34m,\u001b[0m \u001b[0mmethod\u001b[0m\u001b[0;34m=\u001b[0m\u001b[0mmethod\u001b[0m\u001b[0;34m,\u001b[0m \u001b[0mtolerance\u001b[0m\u001b[0;34m=\u001b[0m\u001b[0mtolerance\u001b[0m\u001b[0;34m)\u001b[0m\u001b[0;34m\u001b[0m\u001b[0m\n",
      "\u001b[0;32mpandas/_libs/index.pyx\u001b[0m in \u001b[0;36mpandas._libs.index.DatetimeEngine.get_loc\u001b[0;34m()\u001b[0m\n",
      "\u001b[0;32mpandas/_libs/index.pyx\u001b[0m in \u001b[0;36mpandas._libs.index.DatetimeEngine.get_loc\u001b[0;34m()\u001b[0m\n",
      "\u001b[0;31mKeyError\u001b[0m: Timestamp('1985-01-01 00:00:00')"
     ]
    }
   ],
   "source": [
    "# Arctic ice concentration\n",
    "\n",
    "m = Basemap(projection ='npstere',boundinglat=48,lon_0=0,resolution='l')\n",
    "x,y = m(*(lon_t[NLAT_half:,:],lat_t[NLAT_half:,:]))\n",
    "xobs,yobs = m(*(obs_lon_NH,obs_lat_NH))\n",
    "\n",
    "for yi, year in enumerate(years):\n",
    "    for mi, month in enumerate(months):\n",
    "        outname = 'NOSYNC/concentration_map_NH_'+str(year)+'_'+str(month).zfill(2)\n",
    "        if os.path.exists(os.path.join(figdir, outname+'.png')):\n",
    "            print('Skipping ' + outname + ' (file exists)')\n",
    "        else:\n",
    "            print('Doing ' + outname)\n",
    "            model = aice_m.sel(time=pd.to_datetime(str(year)+str(month).zfill(2), format='%Y%m'))\n",
    "            obs = CN_obs_NH[yi*len(months) + mi]\n",
    "            plt.figure(4,(12,7))\n",
    "\n",
    "            # plot model\n",
    "            plt.subplot(1,2,1)\n",
    "            m = Basemap(projection ='npstere',boundinglat=48,lon_0=0,resolution='l')\n",
    "            m.drawmapboundary(fill_color='gray') # background color - for non-ocean areas\n",
    "            ctr = m.contourf(x,y,model[NLAT_half:,:]**cmap_gamma,levels=levels,cmap=cm.cm.ice)\n",
    "            ctr.cmap.set_over(color='w', alpha=None)\n",
    "            plt.title(calendar.month_name[month]+' '+str(year)+', ' + exptdata.exptdict[ekey]['desc'], font)\n",
    "            cbar = m.colorbar(ctr, location = 'bottom', pad = \"6%\")\n",
    "            cbar.set_label('Ice concentration',size=tick_font)\n",
    "            cbar.set_ticks(cbar_ticks)\n",
    "            cbar.set_ticklabels([str(f**(1./cmap_gamma)) for f in cbar_ticks])\n",
    "            cbar_labels=plt.getp(cbar.ax.axes,'xticklabels')\n",
    "    # TODO: mark 0.3 on colorbar in green\n",
    "            plt.setp(cbar_labels,fontsize=tick_font)\n",
    "            m.contour(x,y,model[NLAT_half:,:],[0.3],colors='g',linewidth=0.5)\n",
    "            m.contour(xobs,yobs,obs,[0.3],colors='r',linewidth=0.5)\n",
    "\n",
    "            parallels = np.arange(-80.,81,10.)\n",
    "            # labels = [left,right,top,bottom]\n",
    "            m.drawparallels(parallels,color='white',linewidth=0.5)#,labels=[False,True,True,False],size=tick_font)\n",
    "            meridians = np.arange(0.,351.,30.)\n",
    "            m.drawmeridians(meridians,labels=[True,False,False,True],size=tick_font,color='white',linewidth=0.5)\n",
    "\n",
    "\n",
    "            # plot observations\n",
    "            plt.subplot(1,2,2)\n",
    "            m = Basemap(projection ='npstere',boundinglat=48,lon_0=0,resolution='l')\n",
    "            m.drawmapboundary(fill_color='gray') # background color - for non-ocean areas\n",
    "            ctr = m.contourf(xobs,yobs,obs**cmap_gamma,levels=levels,cmap=cm.cm.ice) #,norm=colors.PowerNorm(gamma=1))\n",
    "            ctr.cmap.set_over(color='w', alpha=None)\n",
    "            plt.title(calendar.month_name[month]+' '+str(year)+', observed', font) #, y=1.03)\n",
    "            cbar = m.colorbar(ctr, location = 'bottom', pad = \"6%\")\n",
    "            cbar.set_label('Ice concentration',size=tick_font)\n",
    "            cbar.set_ticks(cbar_ticks)\n",
    "            cbar.set_ticklabels([str(f**(1./cmap_gamma)) for f in cbar_ticks])\n",
    "            cbar_labels=plt.getp(cbar.ax.axes,'xticklabels')\n",
    "    # TODO: mark 0.3 on colorbar in red\n",
    "            plt.setp(cbar_labels,fontsize=tick_font)\n",
    "            m.contour(x,y,model[NLAT_half:,:],[0.3],colors='g',linewidth=0.5)\n",
    "            m.contour(xobs,yobs,obs,[0.3],colors='r',linewidth=0.5)\n",
    "            \n",
    "            parallels = np.arange(-80.,81,10.)\n",
    "            # labels = [left,right,top,bottom]\n",
    "            m.drawparallels(parallels,color='white',linewidth=0.5)#,labels=[False,True,True,False],size=tick_font)\n",
    "            meridians = np.arange(0.,351.,30.)\n",
    "            m.drawmeridians(meridians,labels=[False,True,False,True],size=tick_font,color='white',linewidth=0.5)\n",
    "\n",
    "            plt.tight_layout()\n",
    "\n",
    "#             savefigure(outname)\n",
    "            plt.savefig(outname+'.png',dpi=150, bbox_inches=\"tight\")\n",
    "\n",
    "            plt.close()\n",
    "\n",
    "        break\n",
    "#     if yi ==2:\n",
    "    break\n",
    "\n"
   ]
  },
  {
   "cell_type": "code",
   "execution_count": null,
   "metadata": {},
   "outputs": [],
   "source": [
    "# Antarctic ice concentration\n",
    "\n",
    "m = Basemap(projection='spstere',boundinglat=-54,lon_0=180,resolution='l') #,round='True')\n",
    "x,y = m(*(lon_t[:NLAT_half,:],lat_t[:NLAT_half,:]))\n",
    "xobs,yobs = m(*(obs_lon_SH,obs_lat_SH))\n",
    "\n",
    "for yi, year in enumerate(years):\n",
    "    for mi, month in enumerate(months):\n",
    "        outname = 'NOSYNC/concentration_map_SH_'+str(year)+'_'+str(month).zfill(2)\n",
    "        if os.path.exists(os.path.join(figdir, outname+'.png')):\n",
    "            print('Skipping ' + outname + ' (file exists)')\n",
    "        else:\n",
    "            print('Doing ' + outname)\n",
    "            model = aice_m.sel(time=pd.to_datetime(str(year)+str(month).zfill(2), format='%Y%m'))\n",
    "            obs = CN_obs_SH[yi*len(months) + mi]\n",
    "            plt.figure(4,(12,7))\n",
    "\n",
    "            # plot model\n",
    "            plt.subplot(1,2,1)\n",
    "            m = Basemap(projection='spstere',boundinglat=-54,lon_0=180,resolution='l') #,round='True')\n",
    "            m.drawmapboundary(fill_color='gray') # background color - for non-ocean areas\n",
    "            ctr = m.contourf(x,y,model[:NLAT_half,:]**cmap_gamma,levels=levels,cmap=cm.cm.ice)\n",
    "            ctr.cmap.set_over(color='w', alpha=None)\n",
    "            plt.title(calendar.month_name[month]+' '+str(year)+', ' + exptdata.exptdict[ekey]['desc'], font)\n",
    "            cbar = m.colorbar(ctr, location = 'bottom', pad = \"6%\")\n",
    "            cbar.set_label('Ice concentration',size=tick_font)\n",
    "            cbar.set_ticks(cbar_ticks)\n",
    "            cbar.set_ticklabels([str(f**(1./cmap_gamma)) for f in cbar_ticks])\n",
    "            cbar_labels=plt.getp(cbar.ax.axes,'xticklabels')\n",
    "    # TODO: mark 0.3 on colorbar in green\n",
    "            plt.setp(cbar_labels,fontsize=tick_font)\n",
    "            m.contour(x,y,model[:NLAT_half,:],[0.3],colors='g',linewidth=0.5)\n",
    "            m.contour(xobs,yobs,obs,[0.3],colors='r',linewidth=0.5)\n",
    "            \n",
    "            parallels = np.arange(-80.,81,10.)\n",
    "            # labels = [left,right,top,bottom]\n",
    "            m.drawparallels(parallels,color='white',linewidth=0.5)#,labels=[False,True,True,False],size=tick_font)\n",
    "            meridians = np.arange(0.,351.,30.)\n",
    "            m.drawmeridians(meridians,labels=[True,False,False,True],size=tick_font,color='white',linewidth=0.5)\n",
    "\n",
    "            # plot observations\n",
    "            plt.subplot(1,2,2)\n",
    "            m = Basemap(projection='spstere',boundinglat=-54,lon_0=180,resolution='l') #,round='True')\n",
    "            m.drawmapboundary(fill_color='gray') # background color - for non-ocean areas\n",
    "            ctr = m.contourf(xobs,yobs,obs**cmap_gamma,levels=levels,cmap=cm.cm.ice) #,norm=colors.PowerNorm(gamma=1))\n",
    "            ctr.cmap.set_over(color='w', alpha=None)\n",
    "            plt.title(calendar.month_name[month]+' '+str(year)+', observed', font) #, y=1.03)\n",
    "            cbar = m.colorbar(ctr, location = 'bottom', pad = \"6%\")\n",
    "            cbar.set_label('Ice concentration',size=tick_font)\n",
    "            cbar.set_ticks(cbar_ticks)\n",
    "            cbar.set_ticklabels([str(f**(1./cmap_gamma)) for f in cbar_ticks])\n",
    "            cbar_labels=plt.getp(cbar.ax.axes,'xticklabels')\n",
    "    # TODO: mark 0.3 on colorbar in red\n",
    "            plt.setp(cbar_labels,fontsize=tick_font)\n",
    "            m.contour(x,y,model[:NLAT_half,:],[0.3],colors='g',linewidth=0.5)\n",
    "            m.contour(xobs,yobs,obs,[0.3],colors='r',linewidth=0.5)\n",
    "            \n",
    "            parallels = np.arange(-80.,81,10.)\n",
    "            # labels = [left,right,top,bottom]\n",
    "            m.drawparallels(parallels,color='white',linewidth=0.5)#,labels=[False,True,True,False],size=tick_font)\n",
    "            meridians = np.arange(0.,351.,30.)\n",
    "            m.drawmeridians(meridians,labels=[True,False,False,True],size=tick_font,color='white',linewidth=0.5)\n",
    "\n",
    "            plt.tight_layout()\n",
    "\n",
    "#             savefigure(outname)\n",
    "            plt.savefig(outname+'.png',dpi=150, bbox_inches=\"tight\")\n",
    "\n",
    "            plt.close()\n",
    "\n",
    "\n",
    "#         break\n",
    "#     if yi ==2:\n",
    "#     break\n",
    "\n",
    "\n"
   ]
  },
  {
   "cell_type": "markdown",
   "metadata": {},
   "source": [
    "# Thickness maps"
   ]
  },
  {
   "cell_type": "code",
   "execution_count": null,
   "metadata": {},
   "outputs": [],
   "source": [
    "levels = np.arange(0,5.01,0.1)\n",
    "cmap_gamma = 1 # exponent for power-law stretch of colormap\n",
    "cbar_ticks = np.arange(0,5.01,1)\n",
    "cbar_ticks = [ f**cmap_gamma for f in np.arange(0,5.01,1) ]"
   ]
  },
  {
   "cell_type": "code",
   "execution_count": null,
   "metadata": {},
   "outputs": [],
   "source": [
    "# Arctic ice thickness\n",
    "\n",
    "m = Basemap(projection ='npstere',boundinglat=48,lon_0=0,resolution='l')\n",
    "x,y = m(*(lon_t[NLAT_half:,:],lat_t[NLAT_half:,:]))\n",
    "xobs,yobs = m(*(obs_lon_NH,obs_lat_NH))\n",
    "\n",
    "for yi, year in enumerate(years):\n",
    "    for mi, month in enumerate(months):\n",
    "        outname = 'NOSYNC/thickness_map_NH_'+str(year)+'_'+str(month).zfill(2)\n",
    "        if os.path.exists(os.path.join(figdir, outname+'.png')):\n",
    "            print('Skipping ' + outname + ' (file exists)')\n",
    "        else:\n",
    "            print('Doing ' + outname)\n",
    "            model = hi_m.sel(time=pd.to_datetime(str(year)+str(month).zfill(2), format='%Y%m'))\n",
    "            obs = CN_obs_NH[yi*len(months) + mi]\n",
    "            plt.figure(4,(12,7))\n",
    "\n",
    "            # plot model\n",
    "#             plt.subplot(1,2,1)\n",
    "            m = Basemap(projection ='npstere',boundinglat=48,lon_0=0,resolution='l')\n",
    "            m.drawmapboundary(fill_color='gray') # background color - for non-ocean areas\n",
    "            ctr = m.contourf(x,y,model[NLAT_half:,:]**cmap_gamma,levels=levels,cmap=cm.cm.ice, extend='max')\n",
    "            ctr.cmap.set_over(color='w', alpha=None)\n",
    "            plt.title(calendar.month_name[month]+' '+str(year)+', ' + exptdata.exptdict[ekey]['desc'], font)\n",
    "            cbar = m.colorbar(ctr, location = 'bottom', pad = \"6%\")\n",
    "            cbar.set_label('Ice thickness (m)',size=tick_font)\n",
    "            cbar.set_ticks(cbar_ticks)\n",
    "            cbar.set_ticklabels([str(f**(1./cmap_gamma)) for f in cbar_ticks])\n",
    "            cbar_labels=plt.getp(cbar.ax.axes,'xticklabels')\n",
    "            plt.setp(cbar_labels,fontsize=tick_font)\n",
    "            m.contour(x,y,model[NLAT_half:,:],[0.3],colors='g',linewidth=0.5)\n",
    "            m.contour(xobs,yobs,obs,[0.3],colors='r',linewidth=0.5)\n",
    "            \n",
    "            parallels = np.arange(-80.,81,10.)\n",
    "            # labels = [left,right,top,bottom]\n",
    "            m.drawparallels(parallels,color='white',linewidth=0.5)#,labels=[False,True,True,False],size=tick_font)\n",
    "            meridians = np.arange(0.,351.,30.)\n",
    "            m.drawmeridians(meridians,labels=[True,False,False,True],size=tick_font,color='white',linewidth=0.5)\n",
    "\n",
    "#             savefigure(outname)\n",
    "            plt.savefig(outname+'.png',dpi=150, bbox_inches=\"tight\")\n",
    "\n",
    "            plt.close()\n",
    "\n",
    "#         break\n",
    "#     break"
   ]
  },
  {
   "cell_type": "code",
   "execution_count": null,
   "metadata": {},
   "outputs": [],
   "source": [
    "# Antarctic ice thickness\n",
    "\n",
    "m = Basemap(projection='spstere',boundinglat=-54,lon_0=180,resolution='l') #,round='True')\n",
    "x,y = m(*(lon_t[:NLAT_half,:],lat_t[:NLAT_half,:]))\n",
    "xobs,yobs = m(*(obs_lon_SH,obs_lat_SH))\n",
    "\n",
    "for yi, year in enumerate(years):\n",
    "    for mi, month in enumerate(months):\n",
    "        outname = 'NOSYNC/thickness_map_SH_'+str(year)+'_'+str(month).zfill(2)\n",
    "        if (outname=='thickness_map_SH_1985_01') or os.path.exists(os.path.join(figdir, outname+'.png')):\n",
    "            print('Skipping ' + outname + ' (file exists)')\n",
    "        else:\n",
    "            print('Doing ' + outname)\n",
    "            model = hi_m.sel(time=pd.to_datetime(str(year)+str(month).zfill(2), format='%Y%m'))\n",
    "            obs = CN_obs_SH[yi*len(months) + mi]\n",
    "            plt.figure(4,(12,7))\n",
    "\n",
    "            m = Basemap(projection='spstere',boundinglat=-54,lon_0=180,resolution='l') #,round='True')\n",
    "            m.drawmapboundary(fill_color='gray') # background color - for non-ocean areas\n",
    "            ctr = m.contourf(x,y,model[:NLAT_half,:]**cmap_gamma,levels=levels,cmap=cm.cm.ice, extend='max')\n",
    "            ctr.cmap.set_over(color='w', alpha=None)\n",
    "            plt.title(calendar.month_name[month]+' '+str(year)+', ' + exptdata.exptdict[ekey]['desc'], font)\n",
    "            cbar = m.colorbar(ctr, location = 'bottom', pad = \"6%\")\n",
    "            cbar.set_label('Ice  thickness (m)',size=tick_font)\n",
    "            cbar.set_ticks(cbar_ticks)\n",
    "            cbar.set_ticklabels([str(f**(1./cmap_gamma)) for f in cbar_ticks])\n",
    "            cbar_labels=plt.getp(cbar.ax.axes,'xticklabels')\n",
    "            plt.setp(cbar_labels,fontsize=tick_font)\n",
    "            m.contour(x,y,model[:NLAT_half,:],[0.3],colors='g',linewidth=0.5)\n",
    "            m.contour(xobs,yobs,obs,[0.3],colors='r',linewidth=0.5)\n",
    "            \n",
    "            parallels = np.arange(-80.,81,10.)\n",
    "            # labels = [left,right,top,bottom]\n",
    "            m.drawparallels(parallels,color='white',linewidth=0.5)#,labels=[False,True,True,False],size=tick_font)\n",
    "            meridians = np.arange(0.,351.,30.)\n",
    "            m.drawmeridians(meridians,labels=[True,False,False,True],size=tick_font,color='white',linewidth=0.5)\n",
    "\n",
    "#             savefigure(outname)\n",
    "            plt.savefig(outname+'.png',dpi=150, bbox_inches=\"tight\")\n",
    "\n",
    "            plt.close()\n",
    "\n",
    "#         break\n",
    "#     break"
   ]
  },
  {
   "cell_type": "code",
   "execution_count": null,
   "metadata": {},
   "outputs": [],
   "source": [
    "STOPHERE\n",
    "# old stuff below. try to redo this above using approach in surface_current.ipynb"
   ]
  },
  {
   "cell_type": "raw",
   "metadata": {},
   "source": [
    "# model data paths:\n",
    "ekey = '01deg'\n",
    "model = exptdata.exptdict[ekey]['model']\n",
    "expt = exptdata.exptdict[ekey]['expt']\n",
    "exptdir = exptdata.exptdict[ekey]['exptdir']\n",
    "\n",
    "# model = 'access-om2-01'\n",
    "# DataDir = '/g/data3/hh5/tmp/cosima/' + model + '/'\n",
    "# expt = '01deg_jra55v13_ryf8485_spinup6'\n",
    "# expdir = os.path.join(DataDir, expt)\n",
    "\n",
    "# sea ice observation data paths:\n",
    "obsVersion = 3\n",
    "if obsVersion==3:\n",
    "    ObsDir = '/g/data1a/v45/aek156/data/NOAA/G02202_V3'  # from http://nsidc.org/data/G02202\n",
    "    ObsDirExt = '/g/data1a/v45/aek156/data/NOAA/G02135'  # from http://nsidc.org/data/g02135\n",
    "else:\n",
    "# v2\n",
    "    ObsDir = '/g/data/v45/akm157/data/NSIDC/NOAA_G02202_v2_conc_monthly/'\n",
    "    ObsDirExt = '/g/data/v45/akm157/data/NSIDC/NOAA_G02135_extent_monthly/' # v2.1\n",
    "\n",
    "# length of climatology (may be corrected below):\n",
    "if with_turning:\n",
    "    n_years = 5\n",
    "else:\n",
    "    n_years = 10\n",
    "\n",
    "# path to model sea ice data:\n",
    "dataFileList = glob(os.path.join(expdir, 'output*/ice/OUTPUT/iceh.????-??.nc'))  # monthly\n",
    "dataFileList.sort()\n",
    "if with_turning:\n",
    "    dataFileList = dataFileList[:113] # cosw=1.0, sinw=0.0, ie turning angle of 0, from start of Aug year 12 (run 113)\n",
    "\n",
    "dataFileListDaily = glob(os.path.join(expdir, 'output*/ice/OUTPUT/iceh.????-??-??.nc'))  # daily\n",
    "dataFileListDaily.sort()\n",
    "\n",
    "# update n_years to avoid exceeding available data\n",
    "if model=='mom025':\n",
    "    filesPerYear = 1\n",
    "elif model=='mom01v5':\n",
    "    filesPerYear = 4\n",
    "elif model=='access-om2-01':\n",
    "    filesPerYear = 12\n",
    "total_years = len(dataFileList)/filesPerYear  # NB: typically not an integer\n",
    "n_years = min(n_years, int(total_years) )\n",
    "n_files = n_years*filesPerYear\n",
    "firstfile = int(total_years-n_years)*filesPerYear  # start of calendar year\n",
    "\n",
    "# paths to obs data:\n",
    "if obsVersion==3:\n",
    "    obsNHFileList = glob(os.path.join(ObsDir, 'north/monthly/*.nc'))\n",
    "    obsSHFileList = glob(os.path.join(ObsDir, 'south/monthly/*.nc'))\n",
    "    obsExtNHFileList = glob(os.path.join(ObsDirExt, 'north/monthly/data/*.csv'))\n",
    "    obsExtSHFileList = glob(os.path.join(ObsDirExt, 'south/monthly/data/*.csv'))\n",
    "else:\n",
    "    obsNHFileList = glob(os.path.join(ObsDir, 'nh/*.nc'))\n",
    "    obsSHFileList = glob(os.path.join(ObsDir, 'sh/*.nc'))\n",
    "    obsExtNHFileList = glob(os.path.join(ObsDirExt, 'nh/*.csv'))\n",
    "    obsExtSHFileList = glob(os.path.join(ObsDirExt, 'sh/*.csv'))\n",
    "\n",
    "obsNHFileList.sort()\n",
    "obsSHFileList.sort()\n",
    "obsExtNHFileList.sort()\n",
    "obsExtSHFileList.sort()\n",
    "\n",
    "font = {'size':13}\n",
    "tick_font=13"
   ]
  },
  {
   "cell_type": "raw",
   "metadata": {},
   "source": [
    "# get model grid data:\n",
    "# TODO: get these from CICE output file instead\n",
    "gridFileList = glob(os.path.join(expdir, 'output*/ocean/ocean_grid.nc'))\n",
    "gridFileList.sort()\n",
    "ncFile = nc.Dataset(gridFileList[0],'r')\n",
    "xt_ocean = ncFile.variables['xt_ocean'][...]\n",
    "yt_ocean = ncFile.variables['yt_ocean'][...]\n",
    "lon_t = ncFile.variables['geolon_t'][...]\n",
    "lat_t = ncFile.variables['geolat_t'][...]\n",
    "area_t = ncFile.variables['area_t'][...]\n",
    "NLAT_half = int(np.shape(area_t)[0]/2)\n",
    "ht = ncFile.variables['ht'][...]\n",
    "land_mask = np.copy(ht)\n",
    "land_mask[np.where(ht>30)] = 0\n",
    "land_mask[np.where(ht<=30)] = 1\n",
    "ncFile.close()"
   ]
  },
  {
   "cell_type": "markdown",
   "metadata": {},
   "source": [
    "## Sea ice volume timeseries, broken down by category\n",
    "`vicen_m(time, nc, nj, ni)`\n",
    "\t\thas units = \"m\",\n",
    "so need to multiply by `area_t` to get volume.\n",
    "`nc` is number of ice categories."
   ]
  },
  {
   "cell_type": "markdown",
   "metadata": {},
   "source": [
    "## Seasonal cycle of sea ice extent"
   ]
  },
  {
   "cell_type": "code",
   "execution_count": null,
   "metadata": {},
   "outputs": [],
   "source": [
    "## obs extent:\n",
    "# just take years ext_firstyear - ext_lastyear where available:\n",
    "# ext_firstyear = 1979\n",
    "# ext_lastyear  = 1998\n",
    "ext_firstyear = 1984\n",
    "ext_lastyear  = 1985\n",
    "SH_extent_climatology_obs = np.zeros(12)\n",
    "import csv\n",
    "for month in tqdm_notebook(range(12), leave=False):\n",
    "    n_yrs = 0\n",
    "#     print('opening '+obsExtSHFileList[month])\n",
    "    with open(obsExtSHFileList[month]) as csvfile:\n",
    "        reader = csv.reader(csvfile)\n",
    "        rownum = 0\n",
    "        for row in reader:\n",
    "            if (rownum > 0 and float(row[-2])>0 and float(row[0])>=ext_firstyear \\\n",
    "                and float(row[0])<=ext_lastyear):\n",
    "                SH_extent_climatology_obs[month] += float(row[-2])\n",
    "                n_yrs = n_yrs + 1\n",
    "            rownum = rownum + 1\n",
    "    SH_extent_climatology_obs[month] = SH_extent_climatology_obs[month] / n_yrs\n",
    "\n",
    "NH_extent_climatology_obs = np.zeros(12)\n",
    "import csv\n",
    "for month in tqdm_notebook(range(12), leave=False):\n",
    "    n_yrs = 0\n",
    "#     print('opening '+obsExtNHFileList[month])\n",
    "    with open(obsExtNHFileList[month]) as csvfile:\n",
    "        reader = csv.reader(csvfile)\n",
    "        rownum = 0\n",
    "        for row in reader:\n",
    "            if (rownum > 0 and float(row[-2])>0 and float(row[0])>=ext_firstyear \\\n",
    "                and float(row[0])<=ext_lastyear):\n",
    "                NH_extent_climatology_obs[month] += float(row[-2])\n",
    "                n_yrs = n_yrs + 1\n",
    "            rownum = rownum + 1\n",
    "    NH_extent_climatology_obs[month] = NH_extent_climatology_obs[month] / n_yrs"
   ]
  },
  {
   "cell_type": "code",
   "execution_count": null,
   "metadata": {},
   "outputs": [],
   "source": [
    "# climatological seasonal cycle of annual sea ice area - take monthly averages of \n",
    "# concentration, then sum area where CN > 15%\n",
    "\n",
    "ice_area_south = []\n",
    "ice_area_north = []\n",
    "\n",
    "for IceFile in tqdm_notebook(dataFileList[-n_files:], leave=False):\n",
    "    ncFile = nc.Dataset(IceFile,'r')\n",
    "    CN = ncFile.variables['aice_m']\n",
    "    for month in range(CN.shape[0]):\n",
    "        area_field = np.ma.where(CN[month,...]>0.15,area_t,0)\n",
    "        ice_area_south = np.append(ice_area_south,np.sum(area_field[:NLAT_half,...]))\n",
    "        ice_area_north = np.append(ice_area_north,np.sum(area_field[NLAT_half:,...]))"
   ]
  },
  {
   "cell_type": "code",
   "execution_count": null,
   "metadata": {},
   "outputs": [],
   "source": [
    "# do annual averages:\n",
    "ice_area_south_climatology = np.zeros(12)\n",
    "ice_area_north_climatology = np.zeros(12)\n",
    "for month in range(12):\n",
    "    ice_area_south_climatology[month] = np.mean(ice_area_south[month::12])\n",
    "    ice_area_north_climatology[month] = np.mean(ice_area_north[month::12])\n",
    "# sort months from Jan -> Dec (for model we don't necessarily start with Jan data)\n",
    "time = ncFile.variables['time']\n",
    "time_convert = nc.num2date(time[-1],time.units,time.calendar)\n",
    "last_month = time_convert.month\n",
    "last_year = time_convert.year\n",
    "ice_area_south_climatology = np.roll(ice_area_south_climatology,last_month-1)\n",
    "ice_area_north_climatology = np.roll(ice_area_north_climatology,last_month-1)\n",
    "\n",
    "ncFile.close()"
   ]
  },
  {
   "cell_type": "code",
   "execution_count": null,
   "metadata": {},
   "outputs": [],
   "source": [
    "# Arctic seasonal cycle:\n",
    "plt.figure(2,(12,5))\n",
    "plt.clf()\n",
    "plt.subplot(1,2,1)\n",
    "plt.plot(np.arange(12)+1,ice_area_north_climatology/1e12,label = 'model')\n",
    "plt.plot(np.arange(12)+1,NH_extent_climatology_obs)\n",
    "plt.xlabel('Month',font)\n",
    "plt.ylabel(r'Sea ice extent (10$^{12}$m$^2$)',font)\n",
    "plt.xlim((1,12))\n",
    "plt.title('Arctic extent') #, yrs '+str(last_year-(n_years-1))+'-'+str(last_year),font)\n",
    "\n",
    "# Antarctic seasonal cycle:\n",
    "plt.subplot(1,2,2)\n",
    "plt.plot(np.arange(12)+1,ice_area_south_climatology/1e12,label = 'model')\n",
    "plt.plot(np.arange(12)+1,SH_extent_climatology_obs,label=\"obs \"+str(ext_firstyear)+\"-\"+str(ext_lastyear))\n",
    "plt.xlabel('Month',font)\n",
    "plt.ylabel(r'Sea ice extent (10$^{12}$m$^2$)',font)\n",
    "plt.xlim((1,12))\n",
    "plt.title('Antarctic extent') #, yrs '+str(last_year-(n_years-1))+'-'+str(last_year),font)\n",
    "plt.legend(prop=font,loc=2)\n",
    "plt.tight_layout()\n",
    "\n",
    "savefigure('ice_extent')"
   ]
  },
  {
   "cell_type": "markdown",
   "metadata": {},
   "source": [
    "# Stop here with deliberate error"
   ]
  },
  {
   "cell_type": "code",
   "execution_count": null,
   "metadata": {
    "scrolled": true
   },
   "outputs": [],
   "source": [
    "STOPHERE"
   ]
  },
  {
   "cell_type": "markdown",
   "metadata": {},
   "source": [
    "## Climatologies"
   ]
  },
  {
   "cell_type": "code",
   "execution_count": null,
   "metadata": {},
   "outputs": [],
   "source": [
    "############################################\n",
    "####### obs climatology:\n",
    "# for obs just use years 1988-1997, because concentration not available before then (*WRONG!*) and \n",
    "# climate change after then\n",
    "\n",
    "# conc_firstyear = 1988\n",
    "# conc_lastyear  = 1997\n",
    "\n",
    "conc_firstyear = tclimstart.year\n",
    "conc_lastyear = tclimend.year-1\n",
    "\n",
    "# NH All:\n",
    "# CN_obs_NH = [[] for _ in range(12)]  # list keeps months separate\n",
    "CN_obs_NH = [None]*12\n",
    "for mo in tqdm_notebook(range(12), leave=False, desc='month'):  # NB: mo counts from 0\n",
    "    # length of climatology:\n",
    "    obs_list = [IceFile for IceFile in obsNHFileList if (IceFile.find(str(mo+1).zfill(2)+'_v0')>0 and \n",
    "        IceFile.find('nh_f')>0 and float(IceFile[-16:-12])>=conc_firstyear and \\\n",
    "        float(IceFile[-16:-12])<=conc_lastyear)] \n",
    "#     obs_list = [IceFile for IceFile in obsNHFileList if (IceFile.find(str(mo+1).zfill(2)+'_v0')>0 and \n",
    "#         IceFile.find('nh_f')>0 and float(IceFile[-16:-12])>1983 and \\\n",
    "#         float(IceFile[-16:-12])<1986)] \n",
    "\n",
    "    n_yrs = len(obs_list)\n",
    "    for IceFile in tqdm_notebook(obs_list, leave=False, desc='year'):\n",
    "    #     print('opening '+IceFile)\n",
    "        ncFile = nc.Dataset(IceFile, 'r')\n",
    "        tmp = ncFile.variables['seaice_conc_monthly_cdr'][0,...]\n",
    "        if CN_obs_NH[mo] is None:\n",
    "            CN_obs_NH[mo] = tmp\n",
    "        else:\n",
    "            CN_obs_NH[mo] = CN_obs_NH[mo] + tmp\n",
    "    # divide by n_yrs and mask land / arctic pole hole:\n",
    "    CN_obs_NH[mo] = np.ma.masked_where(CN_obs_NH[mo]<0,CN_obs_NH[mo]) / n_yrs\n",
    "    CN_obs_NH[mo] = np.ma.masked_where(CN_obs_NH[mo]>2,CN_obs_NH[mo])\n",
    "obs_lat_NH = ncFile.variables['latitude'][...]\n",
    "obs_lon_NH = ncFile.variables['longitude'][...]\n",
    "ncFile.close()"
   ]
  },
  {
   "cell_type": "code",
   "execution_count": null,
   "metadata": {},
   "outputs": [],
   "source": [
    "obsNHFileList"
   ]
  },
  {
   "cell_type": "code",
   "execution_count": null,
   "metadata": {},
   "outputs": [],
   "source": [
    "# SH All:\n",
    "CN_obs_SH = [None]*12\n",
    "for mo in tqdm_notebook(range(12), leave=False, desc='month'):\n",
    "    # length of climatology:\n",
    "    obs_list = [IceFile for IceFile in obsSHFileList if (IceFile.find(str(mo+1).zfill(2)+'_v0')>0 and \n",
    "        IceFile.find('sh_f')>0 and float(IceFile[-16:-12])>=conc_firstyear and \\\n",
    "        float(IceFile[-16:-12])<=conc_lastyear)] \n",
    "    n_yrs = len(obs_list)\n",
    "    for IceFile in tqdm_notebook(obs_list, leave=False, desc='year'):\n",
    "    #     print('opening '+IceFile)\n",
    "        ncFile = nc.Dataset(IceFile,'r')\n",
    "        tmp = ncFile.variables['seaice_conc_monthly_cdr'][0,...]\n",
    "        if CN_obs_SH[mo] is None:\n",
    "            CN_obs_SH[mo] = tmp\n",
    "        else:\n",
    "            CN_obs_SH[mo] = CN_obs_SH[mo] + tmp\n",
    "    # divide by n_yrs and mask land / arctic pole hole:\n",
    "    CN_obs_SH[mo] = np.ma.masked_where(CN_obs_SH[mo]<0,CN_obs_SH[mo]) / n_yrs\n",
    "    CN_obs_SH[mo] = np.ma.masked_where(CN_obs_SH[mo]>2,CN_obs_SH[mo])\n",
    "obs_lat_SH = ncFile.variables['latitude'][...]\n",
    "obs_lon_SH = ncFile.variables['longitude'][...]\n",
    "ncFile.close()"
   ]
  },
  {
   "cell_type": "code",
   "execution_count": null,
   "metadata": {},
   "outputs": [],
   "source": [
    "# monthly ice concentration climatologies\n",
    "\n",
    "CN_Feb = 0\n",
    "CN_Mar = 0\n",
    "CN_Sep = 0\n",
    "\n",
    "CN_Sep_years = [[] for _ in range(n_years)]\n",
    "\n",
    "# Feb (Antarctic only)\n",
    "for IceFile in [f for f in dataFileList[firstfile:firstfile+n_files] if f.endswith('-02.nc')]:\n",
    "#     print('opening '+IceFile)\n",
    "    ncFile = nc.Dataset(IceFile,'r')\n",
    "    CN_Feb = CN_Feb + ncFile.variables['aice_m'][0,:NLAT_half,:]\n",
    "\n",
    "# March (Arctic only)\n",
    "for IceFile in [f for f in dataFileList[firstfile:firstfile+n_files] if f.endswith('-03.nc')]:\n",
    "#     print('opening '+IceFile)\n",
    "    ncFile = nc.Dataset(IceFile,'r')\n",
    "    CN_Mar = CN_Mar + ncFile.variables['aice_m'][0,NLAT_half:,:]\n",
    "\n",
    "# Sep (both)\n",
    "for n,IceFile in enumerate([f for f in dataFileList[firstfile:firstfile+n_files] if f.endswith('-09.nc')]):\n",
    "#     print('opening '+IceFile)\n",
    "    ncFile = nc.Dataset(IceFile,'r')\n",
    "#     CN_Sep_years[n] = np.append(CN_Sep_years, ncFile.variables['aice_m'][0,:,:])\n",
    "    CN_Sep_years[n] = ncFile.variables['aice_m'][0,:,:]\n",
    "    CN_Sep = CN_Sep + CN_Sep_years[n]\n",
    "    CN_Sep_years[n] = np.ma.masked_where(land_mask==1,CN_Sep_years[n])\n",
    "\n",
    "# divide by n_years and mask:\n",
    "CN_Feb = np.ma.masked_where(land_mask[:NLAT_half,:]==1,CN_Feb / n_years)\n",
    "CN_Mar = np.ma.masked_where(land_mask[NLAT_half:,:]==1,CN_Mar / n_years)\n",
    "CN_Sep = np.ma.masked_where(land_mask==1,CN_Sep / n_years)\n",
    "ncFile.close()"
   ]
  },
  {
   "cell_type": "code",
   "execution_count": null,
   "metadata": {},
   "outputs": [],
   "source": [
    "levels = np.arange(0,1.01,.01)\n",
    "font = {'size':13}\n",
    "tick_font=13"
   ]
  },
  {
   "cell_type": "markdown",
   "metadata": {},
   "source": [
    "### Arctic model concentration maps, Sept and March"
   ]
  },
  {
   "cell_type": "code",
   "execution_count": null,
   "metadata": {},
   "outputs": [],
   "source": [
    "plt.figure(4,(12,7))\n",
    "plt.clf()\n",
    "\n",
    "plt.subplot(1,2,1)\n",
    "m = Basemap(projection ='npstere',boundinglat=48,lon_0=0,resolution='l')\n",
    "m.drawmapboundary(fill_color='gray') # background color - for non-ocean areas\n",
    "x,y = m(*(lon_t[NLAT_half:,:],lat_t[NLAT_half:,:]))\n",
    "xobs,yobs = m(*(obs_lon_NH,obs_lat_NH))\n",
    "ctr = m.contourf(x,y,CN_Sep[NLAT_half:,:],levels=levels,cmap='viridis', extend='max')\n",
    "ctr.cmap.set_over(color='w', alpha=None)\n",
    "# plt.title('September min, yrs '+str(last_year-(n_years-1))+'-'+\n",
    "# \tstr(last_year),font,y=1.03)\n",
    "plt.title('September min',font,y=1.03)\n",
    "cbar = m.colorbar(ctr, location = 'bottom', pad = \"6%\")\n",
    "cbar.set_label('Ice concentration',size=tick_font)\n",
    "cbar.set_ticks([0,.2,.4,.6,.8,1])\n",
    "cbar_labels=plt.getp(cbar.ax.axes,'xticklabels')\n",
    "plt.setp(cbar_labels,fontsize=tick_font)\n",
    "#m.contour(x,y,land_mask[NLAT_half:,:],[0,1],colors='w')\n",
    "m.contour(x,y,CN_Sep[NLAT_half:,:],[0.3],colors='w')\n",
    "# obs:\n",
    "# m.contour(xobs,yobs,CN_obs_Sep_NH,[0.3],colors='r')\n",
    "m.contour(xobs,yobs,CN_obs_NH[9-1],[0.3],colors='r')\n",
    "\n",
    "\n",
    "plt.subplot(1,2,2)\n",
    "m = Basemap(projection ='npstere',boundinglat=48,lon_0=0,resolution='l')\n",
    "m.drawmapboundary(fill_color='gray') # background color - for non-ocean areas\n",
    "ctr = m.contourf(x,y,CN_Mar,levels=levels,cmap='viridis', extend='max')\n",
    "ctr.cmap.set_over(color='w', alpha=None)\n",
    "# plt.title('March max, yrs '+str(last_year-(n_years-1))+'-'+\n",
    "# \tstr(last_year),font,y=1.03)\n",
    "plt.title('March max',font,y=1.03)\n",
    "cbar = m.colorbar(ctr, location = 'bottom', pad = \"6%\")\n",
    "cbar.set_label('Ice concentration',size=tick_font)\n",
    "cbar.set_ticks([0,.2,.4,.6,.8,1])\n",
    "cbar_labels=plt.getp(cbar.ax.axes,'xticklabels')\n",
    "plt.setp(cbar_labels,fontsize=tick_font)\n",
    "#m.contour(x,y,land_mask[NLAT_half:,:],[0,1],colors='w')\n",
    "m.contour(x,y,CN_Mar,[0.3],colors='w')\n",
    "# obs:\n",
    "# m.contour(xobs,yobs,CN_obs_Mar_NH,[0.3],colors='r')\n",
    "m.contour(xobs,yobs,CN_obs_NH[3-1],[0.3],colors='r')\n",
    "\n",
    "\n",
    "plt.tight_layout()\n",
    "\n",
    "# savefigure('Arctic_concentration_map')"
   ]
  },
  {
   "cell_type": "markdown",
   "metadata": {},
   "source": [
    "### Arctic model and obs concentration maps, Sept"
   ]
  },
  {
   "cell_type": "code",
   "execution_count": null,
   "metadata": {},
   "outputs": [],
   "source": [
    "plt.figure(4,(12,7))\n",
    "plt.clf()\n",
    "\n",
    "plt.subplot(1,2,1)\n",
    "m = Basemap(projection ='npstere',boundinglat=48,lon_0=0,resolution='l')\n",
    "m.drawmapboundary(fill_color='gray') # background color - for non-ocean areas\n",
    "x,y = m(*(lon_t[NLAT_half:,:],lat_t[NLAT_half:,:]))\n",
    "xobs,yobs = m(*(obs_lon_NH,obs_lat_NH))\n",
    "ctr = m.contourf(x,y,CN_Sep[NLAT_half:,:],levels=levels,cmap='viridis', extend='max')\n",
    "ctr.cmap.set_over(color='w', alpha=None)\n",
    "# plt.title('September min, yrs '+str(last_year-(n_years-1))+'-'+\n",
    "# \tstr(last_year),font,y=1.03)\n",
    "plt.title('September min, model',font,y=1.03)\n",
    "cbar = m.colorbar(ctr, location = 'bottom', pad = \"6%\")\n",
    "cbar.set_label('Ice concentration',size=tick_font)\n",
    "cbar.set_ticks([0,.2,.4,.6,.8,1])\n",
    "cbar_labels=plt.getp(cbar.ax.axes,'xticklabels')\n",
    "plt.setp(cbar_labels,fontsize=tick_font)\n",
    "#m.contour(x,y,land_mask[NLAT_half:,:],[0,1],colors='w')\n",
    "m.contour(x,y,CN_Sep[NLAT_half:,:],[0.3],colors='w')\n",
    "# obs:\n",
    "# m.contour(xobs,yobs,CN_obs_Sep_NH,[0.3],colors='r')\n",
    "m.contour(xobs,yobs,CN_obs_NH[9-1],[0.3],colors='r')\n",
    "\n",
    "\n",
    "plt.subplot(1,2,2)\n",
    "m = Basemap(projection ='npstere',boundinglat=48,lon_0=0,resolution='l')\n",
    "m.drawmapboundary(fill_color='gray') # background color - for non-ocean areas\n",
    "ctr = m.contourf(xobs,yobs,CN_obs_NH[9-1],levels=levels,cmap='viridis', extend='max')\n",
    "ctr.cmap.set_over(color='w', alpha=None)\n",
    "# plt.title('March max, yrs '+str(last_year-(n_years-1))+'-'+\n",
    "# \tstr(last_year),font,y=1.03)\n",
    "plt.title('September min, obs',font,y=1.03)\n",
    "cbar = m.colorbar(ctr, location = 'bottom', pad = \"6%\")\n",
    "cbar.set_label('Ice concentration',size=tick_font)\n",
    "cbar.set_ticks([0,.2,.4,.6,.8,1])\n",
    "cbar_labels=plt.getp(cbar.ax.axes,'xticklabels')\n",
    "plt.setp(cbar_labels,fontsize=tick_font)\n",
    "#m.contour(x,y,land_mask[NLAT_half:,:],[0,1],colors='w')\n",
    "m.contour(x,y,CN_Sep[NLAT_half:,:],[0.3],colors='w')\n",
    "# obs:\n",
    "m.contour(xobs,yobs,CN_obs_NH[9-1],[0.3],colors='r')\n",
    "\n",
    "plt.tight_layout()\n",
    "\n",
    "# savefigure('Arctic_concentration_map_Sep')"
   ]
  },
  {
   "cell_type": "code",
   "execution_count": null,
   "metadata": {},
   "outputs": [],
   "source": [
    "plt.figure(4,(12,7*n_years))\n",
    "plt.clf()\n",
    "\n",
    "# TODO: check that the CN_Sep_years list elements are not identical\n",
    "\n",
    "for n in tqdm_notebook(range(n_years), leave=False):\n",
    "    year = int(int(total_years)-n_years+n+1)\n",
    "    plt.subplot(n_years,1,n+1)\n",
    "    m = Basemap(projection ='npstere',boundinglat=48,lon_0=0,resolution='l')\n",
    "    m.drawmapboundary(fill_color='gray') # background color - for non-ocean areas\n",
    "    x,y = m(*(lon_t[NLAT_half:,:],lat_t[NLAT_half:,:]))\n",
    "    xobs,yobs = m(*(obs_lon_NH,obs_lat_NH))\n",
    "    ctr = m.contourf(x,y,CN_Sep_years[n][NLAT_half:,:],levels=levels,cmap='viridis', extend='max')\n",
    "    ctr.cmap.set_over(color='w', alpha=None)\n",
    "    # plt.title('September min, yrs '+str(last_year-(n_years-1))+'-'+\n",
    "    # \tstr(last_year),font,y=1.03)\n",
    "    plt.title('September, year '+str(year),font,y=1.03)\n",
    "    cbar = m.colorbar(ctr, location = 'bottom', pad = \"6%\")\n",
    "    cbar.set_label('Ice concentration',size=tick_font)\n",
    "    cbar.set_ticks([0,.2,.4,.6,.8,1])\n",
    "    cbar_labels=plt.getp(cbar.ax.axes,'xticklabels')\n",
    "    plt.setp(cbar_labels,fontsize=tick_font)\n",
    "    #m.contour(x,y,land_mask[NLAT_half:,:],[0,1],colors='w')\n",
    "    m.contour(x,y,CN_Sep_years[n][NLAT_half:,:],[0.3],colors='w')\n",
    "    # obs:\n",
    "#     m.contour(xobs,yobs,CN_obs_Sep_NH,[0.3],colors='r')\n",
    "    m.contour(xobs,yobs,CN_obs_NH[9-1],[0.3],colors='r')"
   ]
  },
  {
   "cell_type": "markdown",
   "metadata": {},
   "source": [
    "### Arctic model and obs concentration maps, March"
   ]
  },
  {
   "cell_type": "code",
   "execution_count": null,
   "metadata": {},
   "outputs": [],
   "source": [
    "plt.figure(4,(12,7))\n",
    "plt.clf()\n",
    "\n",
    "plt.subplot(1,2,1)\n",
    "m = Basemap(projection ='npstere',boundinglat=48,lon_0=0,resolution='l')\n",
    "m.drawmapboundary(fill_color='gray') # background color - for non-ocean areas\n",
    "x,y = m(*(lon_t[NLAT_half:,:],lat_t[NLAT_half:,:]))\n",
    "xobs,yobs = m(*(obs_lon_NH,obs_lat_NH))\n",
    "ctr = m.contourf(x,y,CN_Mar,levels=levels,cmap='viridis', extend='max')\n",
    "ctr.cmap.set_over(color='w', alpha=None)\n",
    "# plt.title('September min, yrs '+str(last_year-(n_years-1))+'-'+\n",
    "# \tstr(last_year),font,y=1.03)\n",
    "plt.title('March max, model',font,y=1.03)\n",
    "cbar = m.colorbar(ctr, location = 'bottom', pad = \"6%\")\n",
    "cbar.set_label('Ice concentration',size=tick_font)\n",
    "cbar.set_ticks([0,.2,.4,.6,.8,1])\n",
    "cbar_labels=plt.getp(cbar.ax.axes,'xticklabels')\n",
    "plt.setp(cbar_labels,fontsize=tick_font)\n",
    "#m.contour(x,y,land_mask[NLAT_half:,:],[0,1],colors='w')\n",
    "m.contour(x,y,CN_Mar,[0.3],colors='w')\n",
    "# obs:\n",
    "m.contour(xobs,yobs,CN_obs_NH[3-1],[0.3],colors='r')\n",
    "\n",
    "plt.subplot(1,2,2)\n",
    "m = Basemap(projection ='npstere',boundinglat=48,lon_0=0,resolution='l')\n",
    "m.drawmapboundary(fill_color='gray') # background color - for non-ocean areas\n",
    "ctr = m.contourf(xobs,yobs,CN_obs_NH[3-1],levels=levels,cmap='viridis', extend='max')\n",
    "ctr.cmap.set_over(color='w', alpha=None)\n",
    "# plt.title('March max, yrs '+str(last_year-(n_years-1))+'-'+\n",
    "# \tstr(last_year),font,y=1.03)\n",
    "plt.title('March max, obs',font,y=1.03)\n",
    "cbar = m.colorbar(ctr, location = 'bottom', pad = \"6%\")\n",
    "cbar.set_label('Ice concentration',size=tick_font)\n",
    "cbar.set_ticks([0,.2,.4,.6,.8,1])\n",
    "cbar_labels=plt.getp(cbar.ax.axes,'xticklabels')\n",
    "plt.setp(cbar_labels,fontsize=tick_font)\n",
    "#m.contour(x,y,land_mask[NLAT_half:,:],[0,1],colors='w')\n",
    "m.contour(x,y,CN_Mar,[0.3],colors='w')\n",
    "# obs:\n",
    "m.contour(xobs,yobs,CN_obs_NH[3-1],[0.3],colors='r')\n",
    "\n",
    "plt.tight_layout()\n",
    "\n",
    "# savefigure('Arctic_concentration_map_Mar')"
   ]
  },
  {
   "cell_type": "markdown",
   "metadata": {},
   "source": [
    "### Antarctic model and obs concentration maps"
   ]
  },
  {
   "cell_type": "code",
   "execution_count": null,
   "metadata": {},
   "outputs": [],
   "source": [
    "plt.figure(3,(12,7))\n",
    "plt.clf()\n",
    "\n",
    "plt.subplot(1,2,1)\n",
    "m = Basemap(projection ='spstere',boundinglat=-50,lon_0=180,resolution='l',round='True')\n",
    "m.drawmapboundary(fill_color='gray') # background color - for non-ocean areas\n",
    "x,y = m(*(lon_t[:NLAT_half,:],lat_t[:NLAT_half,:]))\n",
    "xobs,yobs = m(*(obs_lon_SH,obs_lat_SH))\n",
    "ctr = m.contourf(x,y,CN_Feb,levels=levels,cmap='viridis', extend='max')\n",
    "ctr.cmap.set_over(color='w', alpha=None)\n",
    "# plt.title('February min, yrs '+str(last_year-(n_years-1))+'-'+\n",
    "# \tstr(last_year),font,y=1.03)\n",
    "plt.title('February min',font,y=1.03)\n",
    "cbar = m.colorbar(ctr, location = 'bottom', pad = \"6%\")\n",
    "cbar.set_label('Ice concentration',size=tick_font)\n",
    "cbar.set_ticks([0,.2,.4,.6,.8,1])\n",
    "cbar_labels=plt.getp(cbar.ax.axes,'xticklabels')\n",
    "plt.setp(cbar_labels,fontsize=tick_font)\n",
    "#m.contour(x,y,land_mask[:NLAT_half,:],[0,1],colors='w')\n",
    "m.contour(x,y,CN_Feb,[0.3],colors='w')\n",
    "# obs:\n",
    "m.contour(xobs,yobs,CN_obs_SH[2-1],[0.3],colors='r')\n",
    "\n",
    "plt.subplot(1,2,2)\n",
    "m = Basemap(projection ='spstere',boundinglat=-50,lon_0=180,resolution='l',round='True')\n",
    "m.drawmapboundary(fill_color='gray') # background color - for non-ocean areas\n",
    "ctr = m.contourf(x,y,CN_Sep[:NLAT_half,:],levels=levels,cmap='viridis', extend='max')\n",
    "ctr.cmap.set_over(color='w', alpha=None)\n",
    "# plt.title('September max, yrs '+str(last_year-(n_years-1))+'-'+\n",
    "# \tstr(last_year),font,y=1.03)\n",
    "plt.title('September max',font,y=1.03)\n",
    "cbar = m.colorbar(ctr, location = 'bottom', pad = \"6%\")\n",
    "cbar.set_label('Ice concentration',size=tick_font)\n",
    "cbar.set_ticks([0,.2,.4,.6,.8,1])\n",
    "cbar_labels=plt.getp(cbar.ax.axes,'xticklabels')\n",
    "plt.setp(cbar_labels,fontsize=tick_font)\n",
    "#m.contour(x,y,land_mask[:NLAT_half,:],[0,1],colors='w')\n",
    "m.contour(x,y,CN_Sep[:NLAT_half,:],[0.3],colors='w')\n",
    "# obs:\n",
    "m.contour(xobs,yobs,CN_obs_SH[9-1],[0.3],colors='r')\n",
    "\n",
    "plt.tight_layout()\n",
    "\n",
    "# savefigure('Antarctic_concentration_map')"
   ]
  },
  {
   "cell_type": "markdown",
   "metadata": {},
   "source": [
    "### Antarctic model and obs concentration maps, Feb"
   ]
  },
  {
   "cell_type": "code",
   "execution_count": null,
   "metadata": {},
   "outputs": [],
   "source": [
    "plt.figure(4,(12,7))\n",
    "plt.clf()\n",
    "\n",
    "plt.subplot(1,2,1)\n",
    "m = Basemap(projection ='spstere',boundinglat=-54,lon_0=180,resolution='l')\n",
    "m.drawmapboundary(fill_color='gray') # background color - for non-ocean areas\n",
    "x,y = m(*(lon_t[:NLAT_half,:],lat_t[:NLAT_half,:]))\n",
    "xobs,yobs = m(*(obs_lon_SH,obs_lat_SH))\n",
    "ctr = m.contourf(x,y,CN_Feb,levels=levels,cmap='viridis', extend='max')\n",
    "ctr.cmap.set_over(color='y', alpha=None)\n",
    "# plt.title('September min, yrs '+str(last_year-(n_years-1))+'-'+\n",
    "# \tstr(last_year),font,y=1.03)\n",
    "plt.title('February min, model',font,y=1.03)\n",
    "cbar = m.colorbar(ctr, location = 'bottom', pad = \"6%\")\n",
    "cbar.set_label('Ice concentration',size=tick_font)\n",
    "cbar.set_ticks([0,.2,.4,.6,.8,1])\n",
    "cbar_labels=plt.getp(cbar.ax.axes,'xticklabels')\n",
    "plt.setp(cbar_labels,fontsize=tick_font)\n",
    "#m.contour(x,y,land_mask[:NLAT_half,:],[0,1],colors='w')\n",
    "m.contour(x,y,CN_Feb,[0.3],colors='w')\n",
    "# obs:\n",
    "m.contour(xobs,yobs,CN_obs_SH[3-1],[0.3],colors='r')\n",
    "\n",
    "plt.subplot(1,2,2)\n",
    "m = Basemap(projection ='spstere',boundinglat=-54,lon_0=180,resolution='l')\n",
    "m.drawmapboundary(fill_color='gray') # background color - for non-ocean areas\n",
    "ctr = m.contourf(xobs,yobs,CN_obs_SH[3-1],levels=levels,cmap='viridis', extend='max')\n",
    "ctr.cmap.set_over(color='y', alpha=None)\n",
    "# plt.title('February min, yrs '+str(last_year-(n_years-1))+'-'+\n",
    "# \tstr(last_year),font,y=1.03)\n",
    "plt.title('February min, obs',font,y=1.03)\n",
    "cbar = m.colorbar(ctr, location = 'bottom', pad = \"6%\")\n",
    "cbar.set_label('Ice concentration',size=tick_font)\n",
    "cbar.set_ticks([0,.2,.4,.6,.8,1])\n",
    "cbar_labels=plt.getp(cbar.ax.axes,'xticklabels')\n",
    "plt.setp(cbar_labels,fontsize=tick_font)\n",
    "#m.contour(x,y,land_mask[:NLAT_half,:],[0,1],colors='w')\n",
    "m.contour(x,y,CN_Feb,[0.3],colors='w')\n",
    "# obs:\n",
    "m.contour(xobs,yobs,CN_obs_SH[3-1],[0.3],colors='r')\n",
    "\n",
    "plt.tight_layout()\n",
    "\n",
    "# savefigure('Antarctic_concentration_map_Feb')"
   ]
  },
  {
   "cell_type": "markdown",
   "metadata": {},
   "source": [
    "### Antarctic model and obs concentration maps, Sep"
   ]
  },
  {
   "cell_type": "code",
   "execution_count": null,
   "metadata": {},
   "outputs": [],
   "source": [
    "plt.figure(4,(12,7))\n",
    "plt.clf()\n",
    "\n",
    "plt.subplot(1,2,1)\n",
    "m = Basemap(projection ='spstere',boundinglat=-54,lon_0=180,resolution='l')\n",
    "m.drawmapboundary(fill_color='gray') # background color - for non-ocean areas\n",
    "x,y = m(*(lon_t[:NLAT_half,:],lat_t[:NLAT_half,:]))\n",
    "xobs,yobs = m(*(obs_lon_SH,obs_lat_SH))\n",
    "ctr = m.contourf(x,y,CN_Sep[:NLAT_half,:],levels=levels,cmap='viridis', extend='max')\n",
    "ctr.cmap.set_over(color='y', alpha=None)\n",
    "# plt.title('September min, yrs '+str(last_year-(n_years-1))+'-'+\n",
    "# \tstr(last_year),font,y=1.03)\n",
    "plt.title('September max, model',font,y=1.03)\n",
    "cbar = m.colorbar(ctr, location = 'bottom', pad = \"6%\")\n",
    "cbar.set_label('Ice concentration',size=tick_font)\n",
    "cbar.set_ticks([0,.2,.4,.6,.8,1])\n",
    "cbar_labels=plt.getp(cbar.ax.axes,'xticklabels')\n",
    "plt.setp(cbar_labels,fontsize=tick_font)\n",
    "#m.contour(x,y,land_mask[:NLAT_half,:],[0,1],colors='w')\n",
    "m.contour(x,y,CN_Sep[:NLAT_half,:],[0.3],colors='w')\n",
    "# obs:\n",
    "m.contour(xobs,yobs,CN_obs_SH[9-1],[0.3],colors='r')\n",
    "\n",
    "plt.subplot(1,2,2)\n",
    "m = Basemap(projection ='spstere',boundinglat=-54,lon_0=180,resolution='l')\n",
    "m.drawmapboundary(fill_color='gray') # background color - for non-ocean areas\n",
    "ctr = m.contourf(xobs,yobs,CN_obs_SH[9-1],levels=levels,cmap='viridis', extend='max')\n",
    "ctr.cmap.set_over(color='y', alpha=None)\n",
    "# plt.title('September max, yrs '+str(last_year-(n_years-1))+'-'+\n",
    "# \tstr(last_year),font,y=1.03)\n",
    "plt.title('September max, obs',font,y=1.03)\n",
    "cbar = m.colorbar(ctr, location = 'bottom', pad = \"6%\")\n",
    "cbar.set_label('Ice concentration',size=tick_font)\n",
    "cbar.set_ticks([0,.2,.4,.6,.8,1])\n",
    "cbar_labels=plt.getp(cbar.ax.axes,'xticklabels')\n",
    "plt.setp(cbar_labels,fontsize=tick_font)\n",
    "#m.contour(x,y,land_mask[:NLAT_half,:],[0,1],colors='w')\n",
    "m.contour(x,y,CN_Sep[:NLAT_half,:],[0.3],colors='w')\n",
    "# obs:\n",
    "m.contour(xobs,yobs,CN_obs_SH[9-1],[0.3],colors='r')\n",
    "\n",
    "plt.tight_layout()\n",
    "\n",
    "# savefigure('Antarctic_concentration_map_Sep')"
   ]
  },
  {
   "cell_type": "markdown",
   "metadata": {},
   "source": [
    "## Thickness maps"
   ]
  },
  {
   "cell_type": "raw",
   "metadata": {},
   "source": [
    "# Arctic\n",
    "months = [9, 12, 3, 6]  # which months to plot (Jan=1)\n",
    "one_plot = False  # True: one file with many panels; False: many one-panel files\n",
    "\n",
    "if one_plot:\n",
    "    plt.figure(4,(8*len(months),8*n_years))\n",
    "else:\n",
    "    plt.figure(4,(8,8))\n",
    "\n",
    "plt.clf()\n",
    "\n",
    "time = []\n",
    "mo = 0\n",
    "for month in tqdm_notebook(months, leave=False):\n",
    "    n = 0\n",
    "    for IceFile in tqdm_notebook([f for f in dataFileList[firstfile:firstfile+n_files] if f.endswith('-'+str(month).zfill(2)+'.nc')], leave=False):\n",
    "        year = int(int(total_years)-n_years+n+1)\n",
    "        ncFile = nc.Dataset(IceFile, 'r')\n",
    "        HI = ncFile.variables['hi_m'][0,...]\n",
    "        if one_plot:\n",
    "            plt.subplot(n_years,len(months),n*len(months)+mo+1)\n",
    "        m = Basemap(projection ='npstere',boundinglat=48,lon_0=0,resolution='l')\n",
    "        m.drawmapboundary(fill_color='gray') # background color - for non-ocean areas\n",
    "        x,y = m(*(lon_t[NLAT_half:,:],lat_t[NLAT_half:,:]))\n",
    "        xobs,yobs = m(*(obs_lon_NH,obs_lat_NH))\n",
    "        ctr = m.contourf(x,y,HI[NLAT_half:,:],levels=np.arange(0,7.1,.1),cmap='viridis', extend='max')\n",
    "        ctr.cmap.set_over(color='w', alpha=None)\n",
    "        plt.title(month_abbr[month]+' year '+str(year),font,y=1.03)\n",
    "        cbar = m.colorbar(ctr, location = 'bottom', pad = \"6%\")\n",
    "        cbar.set_label('Ice thickness (m)',size=tick_font)\n",
    "        cbar.set_ticks(range(8))\n",
    "        cbar_labels=plt.getp(cbar.ax.axes,'xticklabels')\n",
    "        plt.setp(cbar_labels,fontsize=tick_font)\n",
    "        # obs:\n",
    "        m.contour(xobs,yobs,CN_obs_NH[month-1],[0.3],colors='r')\n",
    "#         plt.tight_layout()\n",
    "        if not(one_plot):\n",
    "#             savefigure('Arctic_thickness_map_month_'+str(month).zfill(2)+'_year_'+str(year).zfill(4))\n",
    "            plt.close()\n",
    "            plt.figure(4,(8,8))\n",
    "        n = n + 1  # enumerate doesn't work with tqdm\n",
    "    mo = mo + 1  # enumerate doesn't work with tqdm\n",
    "ncFile.close()\n",
    "\n",
    "if one_plot:\n",
    "#     plt.tight_layout()\n",
    "#     savefigure('Arctic_thickness_maps')\n",
    "\n"
   ]
  },
  {
   "cell_type": "raw",
   "metadata": {},
   "source": [
    "# Antarctic\n",
    "months = [9, 12, 3, 6]  # which months to plot (Jan=1)\n",
    "one_plot = True  # True: one file with many panels; False: many one-panel files\n",
    "\n",
    "if one_plot:\n",
    "    plt.figure(4,(8*len(months),8*n_years))\n",
    "else:\n",
    "    plt.figure(4,(8,8))\n",
    "\n",
    "plt.clf()\n",
    "\n",
    "time = []\n",
    "mo = 0\n",
    "for month in tqdm_notebook(months, leave=False):\n",
    "    n = 0\n",
    "    for IceFile in tqdm_notebook([f for f in dataFileList[firstfile:firstfile+n_files] if f.endswith('-'+str(month).zfill(2)+'.nc')], leave=False):\n",
    "        year = int(int(total_years)-n_years+n+1)\n",
    "        ncFile = nc.Dataset(IceFile,'r')\n",
    "        HI = ncFile.variables['hi_m'][0,...]\n",
    "        if one_plot:\n",
    "            plt.subplot(n_years,len(months),n*len(months)+mo+1)\n",
    "#         m = Basemap(projection ='spstere',boundinglat=-55,lon_0=0,resolution='l')\n",
    "        m = Basemap(projection ='spstere',boundinglat=-50,lon_0=180,resolution='l',round='True')\n",
    "        m.drawmapboundary(fill_color='gray') # background color - for non-ocean areas\n",
    "        x,y = m(*(lon_t[:NLAT_half,:],lat_t[:NLAT_half,:]))\n",
    "        xobs,yobs = m(*(obs_lon_SH,obs_lat_SH))\n",
    "        ctr = m.contourf(x,y,HI[:NLAT_half,:],levels=np.arange(0,4.1,.1),cmap='viridis', extend='max')\n",
    "        ctr.cmap.set_over(color='w', alpha=None)\n",
    "        plt.title(month_abbr[month]+' year '+str(year),font,y=1.03)\n",
    "        cbar = m.colorbar(ctr, location = 'bottom', pad = \"6%\")\n",
    "        cbar.set_label('Ice thickness (m)',size=tick_font)\n",
    "        cbar.set_ticks(range(4))\n",
    "        cbar_labels=plt.getp(cbar.ax.axes,'xticklabels')\n",
    "        plt.setp(cbar_labels,fontsize=tick_font)\n",
    "        # obs:\n",
    "        m.contour(xobs,yobs,CN_obs_SH[month-1],[0.3],colors='r')\n",
    "#         plt.tight_layout()\n",
    "        if not(one_plot):\n",
    "#             savefigure('Antarctic_thickness_map_month_'+str(month).zfill(2)+'_year_'+str(year).zfill(4))\n",
    "            plt.close()\n",
    "            plt.figure(4,(8,8))\n",
    "        n = n + 1  # enumerate doesn't work with tqdm\n",
    "    mo = mo + 1  # enumerate doesn't work with tqdm\n",
    "ncFile.close()\n",
    "\n",
    "# if one_plot:\n",
    "# #     plt.tight_layout()\n",
    "#     savefigure('Antarctic_thickness_maps')\n",
    "\n"
   ]
  },
  {
   "cell_type": "markdown",
   "metadata": {},
   "source": [
    "# REDUNDANT - set to raw to disable execution"
   ]
  },
  {
   "cell_type": "raw",
   "metadata": {},
   "source": [
    "# Arctic March:\n",
    "CN_obs_Mar_NH = 0\n",
    "# length of climatology:\n",
    "obs_Mar_list = [IceFile for IceFile in obsNHFileList if (IceFile.find('03_v0')>0 and \n",
    "    IceFile.find('nh_f')>0 and float(IceFile[-16:-12])>1987 and \\\n",
    "    float(IceFile[-16:-12])<1998)] \n",
    "n_yrs = len(obs_Mar_list)\n",
    "for IceFile in obs_Mar_list:\n",
    "#     print('opening '+IceFile)\n",
    "    ncFile = nc.Dataset(IceFile)\n",
    "    CN_obs_Mar_NH = CN_obs_Mar_NH + ncFile.variables['seaice_conc_monthly_cdr'][0,...]\n",
    "obs_lat_NH = ncFile.variables['latitude'][...]\n",
    "obs_lon_NH = ncFile.variables['longitude'][...]\n",
    "# divide by n_yrs and mask land / arctic pole hole:\n",
    "CN_obs_Mar_NH = np.ma.masked_where(CN_obs_Mar_NH<0,CN_obs_Mar_NH) / n_yrs\n",
    "CN_obs_Mar_NH = np.ma.masked_where(CN_obs_Mar_NH>2,CN_obs_Mar_NH)\n",
    "\n",
    "# Arctic September:\n",
    "CN_obs_Sep_NH = 0\n",
    "# length of climatology:\n",
    "obs_Sep_list = [IceFile for IceFile in obsNHFileList if (IceFile.find('09_v0')>0 and \n",
    "    IceFile.find('nh_f')>0 and float(IceFile[-16:-12])>1987 and \\\n",
    "    float(IceFile[-16:-12])<1998)] \n",
    "n_yrs = len(obs_Sep_list)\n",
    "for IceFile in obs_Sep_list:\n",
    "#     print('opening '+IceFile)\n",
    "    ncFile = nc.Dataset(IceFile)\n",
    "    CN_obs_Sep_NH = CN_obs_Sep_NH + ncFile.variables['seaice_conc_monthly_cdr'][0,...]\n",
    "# divide by n_yrs and mask land / arctic pole hole:\n",
    "CN_obs_Sep_NH = np.ma.masked_where(CN_obs_Sep_NH<0,CN_obs_Sep_NH) / n_yrs\n",
    "CN_obs_Sep_NH = np.ma.masked_where(CN_obs_Sep_NH>2,CN_obs_Sep_NH)\n",
    "\n",
    "# Antarctic September:\n",
    "CN_obs_Sep_SH = 0\n",
    "# length of climatology:\n",
    "obs_Sep_list = [IceFile for IceFile in obsSHFileList if (IceFile.find('09_v0')>0 and \n",
    "    IceFile.find('sh_f')>0 and float(IceFile[-16:-12])>1987 and \\\n",
    "    float(IceFile[-16:-12])<1998)] \n",
    "n_yrs = len(obs_Sep_list)\n",
    "for IceFile in obs_Sep_list:\n",
    "#     print('opening '+IceFile)\n",
    "    ncFile = nc.Dataset(IceFile)\n",
    "    CN_obs_Sep_SH = CN_obs_Sep_SH + ncFile.variables['seaice_conc_monthly_cdr'][0,...]\n",
    "obs_lat_SH = ncFile.variables['latitude'][...]\n",
    "obs_lon_SH = ncFile.variables['longitude'][...]\n",
    "# divide by n_yrs and mask land / arctic pole hole:\n",
    "CN_obs_Sep_SH = np.ma.masked_where(CN_obs_Sep_SH<0,CN_obs_Sep_SH) / n_yrs\n",
    "CN_obs_Sep_SH = np.ma.masked_where(CN_obs_Sep_SH>2,CN_obs_Sep_SH)\n",
    "\n",
    "# Antarctic February:\n",
    "CN_obs_Feb_SH = 0\n",
    "# length of climatology:\n",
    "obs_Feb_list = [IceFile for IceFile in obsSHFileList if (IceFile.find('02_v0')>0 and \n",
    "    IceFile.find('sh_f')>0 and float(IceFile[-16:-12])>1987 and \\\n",
    "    float(IceFile[-16:-12])<1998)] \n",
    "n_yrs = len(obs_Feb_list)\n",
    "for IceFile in obs_Feb_list:\n",
    "#     print('opening '+IceFile)\n",
    "    ncFile = nc.Dataset(IceFile)\n",
    "    CN_obs_Feb_SH = CN_obs_Feb_SH + ncFile.variables['seaice_conc_monthly_cdr'][0,...]\n",
    "# divide by n_yrs and mask land / arctic pole hole:\n",
    "CN_obs_Feb_SH = np.ma.masked_where(CN_obs_Feb_SH<0,CN_obs_Feb_SH) / n_yrs\n",
    "CN_obs_Feb_SH = np.ma.masked_where(CN_obs_Feb_SH>2,CN_obs_Feb_SH)"
   ]
  },
  {
   "cell_type": "markdown",
   "metadata": {},
   "source": [
    "## Sea ice volume timeseries"
   ]
  },
  {
   "cell_type": "raw",
   "metadata": {},
   "source": [
    "NH_ice_volume = []\n",
    "SH_ice_volume = []\n",
    "time = []\n",
    "for IceFile in tqdm_notebook(dataFileList, leave=False):\n",
    "    ncFile = nc.Dataset(IceFile)\n",
    "    HI = ncFile.variables['hi_m'][...]\n",
    "    time_temp = ncFile.variables['time'][...]\n",
    "    volume_temp = np.sum(HI*area_t,axis=-1)\n",
    "    NH_ice_volume = np.append(NH_ice_volume,np.sum(volume_temp[:,NLAT_half:],axis=-1))\n",
    "    SH_ice_volume = np.append(SH_ice_volume,np.sum(volume_temp[:,:NLAT_half],axis=-1))\n",
    "    time = np.append(time,time_temp)\n",
    "\n",
    "# do annual averages:\n",
    "n_yrs = int(len(time)/12)\n",
    "NH_annual_volume = np.zeros(n_yrs)\n",
    "SH_annual_volume = np.zeros(n_yrs)\n",
    "time_annual = np.zeros(n_yrs)\n",
    "for year in range(n_yrs):\n",
    "    NH_annual_volume[year] = np.mean(NH_ice_volume[year*12:(year+1)*12])\n",
    "    SH_annual_volume[year] = np.mean(SH_ice_volume[year*12:(year+1)*12])\n",
    "    time_annual[year] = np.mean(time[year*12:(year+1)*12])\n",
    "\n",
    "plt.figure(1,(12,5))\n",
    "plt.clf()\n",
    "plt.subplot(1,2,1)\n",
    "plt.plot(time/365+1,NH_ice_volume/1e12, color=(0.5,0.5,0.5))\n",
    "plt.plot(time_annual/365+1,NH_annual_volume/1e12)\n",
    "plt.xlabel('Year',font)\n",
    "plt.ylabel(r'ice volume (10$^{12}$ m$^3$)',font)\n",
    "plt.title('Arctic ice volume',font)\n",
    "plt.subplot(1,2,2)\n",
    "plt.plot(time/365+1,SH_ice_volume/1e12, color=(0.5,0.5,0.5))\n",
    "plt.plot(time_annual/365+1,SH_annual_volume/1e12)\n",
    "plt.xlabel('Year',font)\n",
    "plt.ylabel(r'ice volume (10$^{12}$ m$^3$)',font)\n",
    "plt.title('Antarctic ice volume',font)\n",
    "savefigure('ice_volume')"
   ]
  }
 ],
 "metadata": {
  "kernelspec": {
   "display_name": "Python [default]",
   "language": "python",
   "name": "python3"
  },
  "language_info": {
   "codemirror_mode": {
    "name": "ipython",
    "version": 3
   },
   "file_extension": ".py",
   "mimetype": "text/x-python",
   "name": "python",
   "nbconvert_exporter": "python",
   "pygments_lexer": "ipython3",
   "version": "3.6.5"
  }
 },
 "nbformat": 4,
 "nbformat_minor": 2
}
